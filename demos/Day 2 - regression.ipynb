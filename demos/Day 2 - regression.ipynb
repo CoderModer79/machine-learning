{
 "cells": [
  {
   "cell_type": "code",
   "execution_count": 1,
   "metadata": {},
   "outputs": [],
   "source": [
    "import pandas as pd"
   ]
  },
  {
   "cell_type": "code",
   "execution_count": 2,
   "metadata": {},
   "outputs": [
    {
     "data": {
      "text/html": [
       "<div>\n",
       "<style scoped>\n",
       "    .dataframe tbody tr th:only-of-type {\n",
       "        vertical-align: middle;\n",
       "    }\n",
       "\n",
       "    .dataframe tbody tr th {\n",
       "        vertical-align: top;\n",
       "    }\n",
       "\n",
       "    .dataframe thead th {\n",
       "        text-align: right;\n",
       "    }\n",
       "</style>\n",
       "<table border=\"1\" class=\"dataframe\">\n",
       "  <thead>\n",
       "    <tr style=\"text-align: right;\">\n",
       "      <th></th>\n",
       "      <th>age</th>\n",
       "      <th>gender</th>\n",
       "      <th>bmi</th>\n",
       "      <th>children</th>\n",
       "      <th>smoker</th>\n",
       "      <th>region</th>\n",
       "      <th>charges</th>\n",
       "    </tr>\n",
       "  </thead>\n",
       "  <tbody>\n",
       "    <tr>\n",
       "      <th>0</th>\n",
       "      <td>19</td>\n",
       "      <td>female</td>\n",
       "      <td>27.900</td>\n",
       "      <td>0</td>\n",
       "      <td>yes</td>\n",
       "      <td>southwest</td>\n",
       "      <td>16884.92400</td>\n",
       "    </tr>\n",
       "    <tr>\n",
       "      <th>1</th>\n",
       "      <td>18</td>\n",
       "      <td>male</td>\n",
       "      <td>33.770</td>\n",
       "      <td>1</td>\n",
       "      <td>no</td>\n",
       "      <td>southeast</td>\n",
       "      <td>1725.55230</td>\n",
       "    </tr>\n",
       "    <tr>\n",
       "      <th>2</th>\n",
       "      <td>28</td>\n",
       "      <td>male</td>\n",
       "      <td>33.000</td>\n",
       "      <td>3</td>\n",
       "      <td>no</td>\n",
       "      <td>southeast</td>\n",
       "      <td>4449.46200</td>\n",
       "    </tr>\n",
       "    <tr>\n",
       "      <th>3</th>\n",
       "      <td>33</td>\n",
       "      <td>male</td>\n",
       "      <td>22.705</td>\n",
       "      <td>0</td>\n",
       "      <td>no</td>\n",
       "      <td>northwest</td>\n",
       "      <td>21984.47061</td>\n",
       "    </tr>\n",
       "    <tr>\n",
       "      <th>4</th>\n",
       "      <td>32</td>\n",
       "      <td>male</td>\n",
       "      <td>28.880</td>\n",
       "      <td>0</td>\n",
       "      <td>no</td>\n",
       "      <td>northwest</td>\n",
       "      <td>3866.85520</td>\n",
       "    </tr>\n",
       "  </tbody>\n",
       "</table>\n",
       "</div>"
      ],
      "text/plain": [
       "   age  gender     bmi  children smoker     region      charges\n",
       "0   19  female  27.900         0    yes  southwest  16884.92400\n",
       "1   18    male  33.770         1     no  southeast   1725.55230\n",
       "2   28    male  33.000         3     no  southeast   4449.46200\n",
       "3   33    male  22.705         0     no  northwest  21984.47061\n",
       "4   32    male  28.880         0     no  northwest   3866.85520"
      ]
     },
     "execution_count": 2,
     "metadata": {},
     "output_type": "execute_result"
    }
   ],
   "source": [
    "df = pd.read_csv(\"/data/insurance.csv\")\n",
    "df.head()"
   ]
  },
  {
   "cell_type": "code",
   "execution_count": 4,
   "metadata": {},
   "outputs": [
    {
     "data": {
      "text/plain": [
       "array(['southwest', 'southeast', 'northwest', 'northeast'], dtype=object)"
      ]
     },
     "execution_count": 4,
     "metadata": {},
     "output_type": "execute_result"
    }
   ],
   "source": [
    "df.region.unique()"
   ]
  },
  {
   "cell_type": "code",
   "execution_count": 24,
   "metadata": {},
   "outputs": [],
   "source": [
    "target = \"charges\"\n",
    "X = df.drop(columns=[target]) \n",
    "# Feature matrix, does not contain the target var\n",
    "\n",
    "y = df[target] \n",
    "# label - dependent variable"
   ]
  },
  {
   "cell_type": "code",
   "execution_count": 27,
   "metadata": {},
   "outputs": [
    {
     "data": {
      "text/html": [
       "<div>\n",
       "<style scoped>\n",
       "    .dataframe tbody tr th:only-of-type {\n",
       "        vertical-align: middle;\n",
       "    }\n",
       "\n",
       "    .dataframe tbody tr th {\n",
       "        vertical-align: top;\n",
       "    }\n",
       "\n",
       "    .dataframe thead th {\n",
       "        text-align: right;\n",
       "    }\n",
       "</style>\n",
       "<table border=\"1\" class=\"dataframe\">\n",
       "  <thead>\n",
       "    <tr style=\"text-align: right;\">\n",
       "      <th></th>\n",
       "      <th>age</th>\n",
       "      <th>bmi</th>\n",
       "      <th>children</th>\n",
       "      <th>gender_male</th>\n",
       "      <th>smoker_yes</th>\n",
       "      <th>region_northwest</th>\n",
       "      <th>region_southeast</th>\n",
       "      <th>region_southwest</th>\n",
       "    </tr>\n",
       "  </thead>\n",
       "  <tbody>\n",
       "    <tr>\n",
       "      <th>0</th>\n",
       "      <td>19</td>\n",
       "      <td>27.900</td>\n",
       "      <td>0</td>\n",
       "      <td>0</td>\n",
       "      <td>1</td>\n",
       "      <td>0</td>\n",
       "      <td>0</td>\n",
       "      <td>1</td>\n",
       "    </tr>\n",
       "    <tr>\n",
       "      <th>1</th>\n",
       "      <td>18</td>\n",
       "      <td>33.770</td>\n",
       "      <td>1</td>\n",
       "      <td>1</td>\n",
       "      <td>0</td>\n",
       "      <td>0</td>\n",
       "      <td>1</td>\n",
       "      <td>0</td>\n",
       "    </tr>\n",
       "    <tr>\n",
       "      <th>2</th>\n",
       "      <td>28</td>\n",
       "      <td>33.000</td>\n",
       "      <td>3</td>\n",
       "      <td>1</td>\n",
       "      <td>0</td>\n",
       "      <td>0</td>\n",
       "      <td>1</td>\n",
       "      <td>0</td>\n",
       "    </tr>\n",
       "    <tr>\n",
       "      <th>3</th>\n",
       "      <td>33</td>\n",
       "      <td>22.705</td>\n",
       "      <td>0</td>\n",
       "      <td>1</td>\n",
       "      <td>0</td>\n",
       "      <td>1</td>\n",
       "      <td>0</td>\n",
       "      <td>0</td>\n",
       "    </tr>\n",
       "    <tr>\n",
       "      <th>4</th>\n",
       "      <td>32</td>\n",
       "      <td>28.880</td>\n",
       "      <td>0</td>\n",
       "      <td>1</td>\n",
       "      <td>0</td>\n",
       "      <td>1</td>\n",
       "      <td>0</td>\n",
       "      <td>0</td>\n",
       "    </tr>\n",
       "  </tbody>\n",
       "</table>\n",
       "</div>"
      ],
      "text/plain": [
       "   age     bmi  children  gender_male  smoker_yes  region_northwest  \\\n",
       "0   19  27.900         0            0           1                 0   \n",
       "1   18  33.770         1            1           0                 0   \n",
       "2   28  33.000         3            1           0                 0   \n",
       "3   33  22.705         0            1           0                 1   \n",
       "4   32  28.880         0            1           0                 1   \n",
       "\n",
       "   region_southeast  region_southwest  \n",
       "0                 0                 1  \n",
       "1                 1                 0  \n",
       "2                 1                 0  \n",
       "3                 0                 0  \n",
       "4                 0                 0  "
      ]
     },
     "execution_count": 27,
     "metadata": {},
     "output_type": "execute_result"
    }
   ],
   "source": [
    "X_dummy = pd.get_dummies(X, drop_first=True) \n",
    "# One hot encoding for categorical variables\n",
    "X_dummy.head()"
   ]
  },
  {
   "cell_type": "markdown",
   "metadata": {},
   "source": [
    "z_score = (x - x.mean())/x.std(), for every column x independently\n",
    "\n",
    "Z_score gives 0 mean and 1 standard deviation for each column\n",
    "\n",
    "For some algorithm, z-scoring the features is mandatory (KMean, PCA)\n",
    "For some, it is recommended - gradient descent \n",
    "For some, it is not required (decision tree, random forest)\n",
    "\n",
    "Main motivation for z-scoring is to speed up the computation during training.\n"
   ]
  },
  {
   "cell_type": "code",
   "execution_count": 7,
   "metadata": {},
   "outputs": [],
   "source": [
    "import numpy as np"
   ]
  },
  {
   "cell_type": "code",
   "execution_count": 104,
   "metadata": {},
   "outputs": [
    {
     "data": {
      "text/plain": [
       "array([   1000,   10000,   20000, 1000000])"
      ]
     },
     "execution_count": 104,
     "metadata": {},
     "output_type": "execute_result"
    }
   ],
   "source": [
    "x = np.array([1000, 10000, 20000, 1000000])\n",
    "x"
   ]
  },
  {
   "cell_type": "code",
   "execution_count": 105,
   "metadata": {},
   "outputs": [
    {
     "data": {
      "text/plain": [
       "257750.0"
      ]
     },
     "execution_count": 105,
     "metadata": {},
     "output_type": "execute_result"
    }
   ],
   "source": [
    "np.mean(x)"
   ]
  },
  {
   "cell_type": "code",
   "execution_count": 11,
   "metadata": {},
   "outputs": [
    {
     "data": {
      "text/plain": [
       "array([-0.6, -2.6, -4.6,  3.4,  4.4])"
      ]
     },
     "execution_count": 11,
     "metadata": {},
     "output_type": "execute_result"
    }
   ],
   "source": [
    "x - 4.6"
   ]
  },
  {
   "cell_type": "code",
   "execution_count": 12,
   "metadata": {},
   "outputs": [
    {
     "data": {
      "text/plain": [
       "array([ 0.36,  6.76, 21.16, 11.56, 19.36])"
      ]
     },
     "execution_count": 12,
     "metadata": {},
     "output_type": "execute_result"
    }
   ],
   "source": [
    "(x - 4.6) ** 2"
   ]
  },
  {
   "cell_type": "code",
   "execution_count": 14,
   "metadata": {},
   "outputs": [
    {
     "data": {
      "text/plain": [
       "11.84"
      ]
     },
     "execution_count": 14,
     "metadata": {},
     "output_type": "execute_result"
    }
   ],
   "source": [
    "var = ((x - 4.6) ** 2).mean()\n",
    "var"
   ]
  },
  {
   "cell_type": "code",
   "execution_count": 16,
   "metadata": {},
   "outputs": [
    {
     "data": {
      "text/plain": [
       "3.4409301068170506"
      ]
     },
     "execution_count": 16,
     "metadata": {},
     "output_type": "execute_result"
    }
   ],
   "source": [
    "std = np.sqrt(var)\n",
    "std"
   ]
  },
  {
   "cell_type": "code",
   "execution_count": 17,
   "metadata": {},
   "outputs": [
    {
     "data": {
      "text/plain": [
       "3.4409301068170506"
      ]
     },
     "execution_count": 17,
     "metadata": {},
     "output_type": "execute_result"
    }
   ],
   "source": [
    "np.std(x)"
   ]
  },
  {
   "cell_type": "code",
   "execution_count": 106,
   "metadata": {},
   "outputs": [
    {
     "data": {
      "text/plain": [
       "array([-0.59905607, -0.57805703, -0.55472475,  1.73183785])"
      ]
     },
     "execution_count": 106,
     "metadata": {},
     "output_type": "execute_result"
    }
   ],
   "source": [
    "z = (x - x.mean())/np.std(x)\n",
    "z"
   ]
  },
  {
   "cell_type": "code",
   "execution_count": 107,
   "metadata": {},
   "outputs": [
    {
     "data": {
      "text/plain": [
       "-5.551115123125783e-17"
      ]
     },
     "execution_count": 107,
     "metadata": {},
     "output_type": "execute_result"
    }
   ],
   "source": [
    "np.mean(z)"
   ]
  },
  {
   "cell_type": "code",
   "execution_count": 108,
   "metadata": {},
   "outputs": [
    {
     "data": {
      "text/plain": [
       "0.9999999999999999"
      ]
     },
     "execution_count": 108,
     "metadata": {},
     "output_type": "execute_result"
    }
   ],
   "source": [
    "np.std(z)"
   ]
  },
  {
   "cell_type": "code",
   "execution_count": null,
   "metadata": {},
   "outputs": [],
   "source": [
    "sqrt(((x - x.mean()) ** 2).mean())"
   ]
  },
  {
   "cell_type": "code",
   "execution_count": 22,
   "metadata": {},
   "outputs": [],
   "source": [
    "from sklearn import preprocessing"
   ]
  },
  {
   "cell_type": "code",
   "execution_count": 33,
   "metadata": {},
   "outputs": [
    {
     "data": {
      "text/html": [
       "<div>\n",
       "<style scoped>\n",
       "    .dataframe tbody tr th:only-of-type {\n",
       "        vertical-align: middle;\n",
       "    }\n",
       "\n",
       "    .dataframe tbody tr th {\n",
       "        vertical-align: top;\n",
       "    }\n",
       "\n",
       "    .dataframe thead th {\n",
       "        text-align: right;\n",
       "    }\n",
       "</style>\n",
       "<table border=\"1\" class=\"dataframe\">\n",
       "  <thead>\n",
       "    <tr style=\"text-align: right;\">\n",
       "      <th></th>\n",
       "      <th>0</th>\n",
       "      <th>1</th>\n",
       "      <th>2</th>\n",
       "      <th>3</th>\n",
       "      <th>4</th>\n",
       "      <th>5</th>\n",
       "      <th>6</th>\n",
       "      <th>7</th>\n",
       "    </tr>\n",
       "  </thead>\n",
       "  <tbody>\n",
       "    <tr>\n",
       "      <th>count</th>\n",
       "      <td>1.338000e+03</td>\n",
       "      <td>1.338000e+03</td>\n",
       "      <td>1.338000e+03</td>\n",
       "      <td>1.338000e+03</td>\n",
       "      <td>1.338000e+03</td>\n",
       "      <td>1.338000e+03</td>\n",
       "      <td>1.338000e+03</td>\n",
       "      <td>1.338000e+03</td>\n",
       "    </tr>\n",
       "    <tr>\n",
       "      <th>mean</th>\n",
       "      <td>-1.853691e-16</td>\n",
       "      <td>-1.869041e-16</td>\n",
       "      <td>2.721623e-17</td>\n",
       "      <td>-7.567439e-17</td>\n",
       "      <td>2.142448e-16</td>\n",
       "      <td>-2.846087e-16</td>\n",
       "      <td>1.186561e-16</td>\n",
       "      <td>1.481127e-16</td>\n",
       "    </tr>\n",
       "    <tr>\n",
       "      <th>std</th>\n",
       "      <td>1.000374e+00</td>\n",
       "      <td>1.000374e+00</td>\n",
       "      <td>1.000374e+00</td>\n",
       "      <td>1.000374e+00</td>\n",
       "      <td>1.000374e+00</td>\n",
       "      <td>1.000374e+00</td>\n",
       "      <td>1.000374e+00</td>\n",
       "      <td>1.000374e+00</td>\n",
       "    </tr>\n",
       "    <tr>\n",
       "      <th>min</th>\n",
       "      <td>-1.509965e+00</td>\n",
       "      <td>-2.412011e+00</td>\n",
       "      <td>-9.086137e-01</td>\n",
       "      <td>-1.010519e+00</td>\n",
       "      <td>-5.074631e-01</td>\n",
       "      <td>-5.664179e-01</td>\n",
       "      <td>-6.113237e-01</td>\n",
       "      <td>-5.664179e-01</td>\n",
       "    </tr>\n",
       "    <tr>\n",
       "      <th>25%</th>\n",
       "      <td>-8.691547e-01</td>\n",
       "      <td>-7.164063e-01</td>\n",
       "      <td>-9.086137e-01</td>\n",
       "      <td>-1.010519e+00</td>\n",
       "      <td>-5.074631e-01</td>\n",
       "      <td>-5.664179e-01</td>\n",
       "      <td>-6.113237e-01</td>\n",
       "      <td>-5.664179e-01</td>\n",
       "    </tr>\n",
       "    <tr>\n",
       "      <th>50%</th>\n",
       "      <td>-1.474046e-02</td>\n",
       "      <td>-4.320880e-02</td>\n",
       "      <td>-7.876719e-02</td>\n",
       "      <td>9.895908e-01</td>\n",
       "      <td>-5.074631e-01</td>\n",
       "      <td>-5.664179e-01</td>\n",
       "      <td>-6.113237e-01</td>\n",
       "      <td>-5.664179e-01</td>\n",
       "    </tr>\n",
       "    <tr>\n",
       "      <th>75%</th>\n",
       "      <td>8.396738e-01</td>\n",
       "      <td>6.611572e-01</td>\n",
       "      <td>7.510793e-01</td>\n",
       "      <td>9.895908e-01</td>\n",
       "      <td>-5.074631e-01</td>\n",
       "      <td>-5.664179e-01</td>\n",
       "      <td>1.635795e+00</td>\n",
       "      <td>-5.664179e-01</td>\n",
       "    </tr>\n",
       "    <tr>\n",
       "      <th>max</th>\n",
       "      <td>1.765289e+00</td>\n",
       "      <td>3.685522e+00</td>\n",
       "      <td>3.240619e+00</td>\n",
       "      <td>9.895908e-01</td>\n",
       "      <td>1.970587e+00</td>\n",
       "      <td>1.765481e+00</td>\n",
       "      <td>1.635795e+00</td>\n",
       "      <td>1.765481e+00</td>\n",
       "    </tr>\n",
       "  </tbody>\n",
       "</table>\n",
       "</div>"
      ],
      "text/plain": [
       "                  0             1             2             3             4  \\\n",
       "count  1.338000e+03  1.338000e+03  1.338000e+03  1.338000e+03  1.338000e+03   \n",
       "mean  -1.853691e-16 -1.869041e-16  2.721623e-17 -7.567439e-17  2.142448e-16   \n",
       "std    1.000374e+00  1.000374e+00  1.000374e+00  1.000374e+00  1.000374e+00   \n",
       "min   -1.509965e+00 -2.412011e+00 -9.086137e-01 -1.010519e+00 -5.074631e-01   \n",
       "25%   -8.691547e-01 -7.164063e-01 -9.086137e-01 -1.010519e+00 -5.074631e-01   \n",
       "50%   -1.474046e-02 -4.320880e-02 -7.876719e-02  9.895908e-01 -5.074631e-01   \n",
       "75%    8.396738e-01  6.611572e-01  7.510793e-01  9.895908e-01 -5.074631e-01   \n",
       "max    1.765289e+00  3.685522e+00  3.240619e+00  9.895908e-01  1.970587e+00   \n",
       "\n",
       "                  5             6             7  \n",
       "count  1.338000e+03  1.338000e+03  1.338000e+03  \n",
       "mean  -2.846087e-16  1.186561e-16  1.481127e-16  \n",
       "std    1.000374e+00  1.000374e+00  1.000374e+00  \n",
       "min   -5.664179e-01 -6.113237e-01 -5.664179e-01  \n",
       "25%   -5.664179e-01 -6.113237e-01 -5.664179e-01  \n",
       "50%   -5.664179e-01 -6.113237e-01 -5.664179e-01  \n",
       "75%   -5.664179e-01  1.635795e+00 -5.664179e-01  \n",
       "max    1.765481e+00  1.635795e+00  1.765481e+00  "
      ]
     },
     "execution_count": 33,
     "metadata": {},
     "output_type": "execute_result"
    }
   ],
   "source": [
    "scaler = preprocessing.StandardScaler()\n",
    "scaler.fit(X_dummy)\n",
    "X_std = pd.DataFrame(scaler.transform(X_dummy))\n",
    "X_std.describe()"
   ]
  },
  {
   "cell_type": "code",
   "execution_count": 34,
   "metadata": {},
   "outputs": [],
   "source": [
    "from sklearn import model_selection"
   ]
  },
  {
   "cell_type": "code",
   "execution_count": 109,
   "metadata": {},
   "outputs": [],
   "source": [
    "# splitting the data into training and test sets. \n",
    "# training dataset - we build the model\n",
    "# testing dataset - we validate or test the model performance\n",
    "X_train, X_test, y_train, y_test = \\\n",
    "    model_selection.train_test_split(X_dummy, y\n",
    "                     , test_size = 0.3 # controls the size of test data ... it a number between 0 and 1\n",
    "                     , random_state = 1 # reproduce the the randomness\n",
    "                    )"
   ]
  },
  {
   "cell_type": "code",
   "execution_count": 71,
   "metadata": {},
   "outputs": [
    {
     "data": {
      "text/plain": [
       "(936, 8)"
      ]
     },
     "execution_count": 71,
     "metadata": {},
     "output_type": "execute_result"
    }
   ],
   "source": [
    "X_train.shape"
   ]
  },
  {
   "cell_type": "code",
   "execution_count": 72,
   "metadata": {},
   "outputs": [
    {
     "data": {
      "text/plain": [
       "(402, 8)"
      ]
     },
     "execution_count": 72,
     "metadata": {},
     "output_type": "execute_result"
    }
   ],
   "source": [
    "X_test.shape"
   ]
  },
  {
   "cell_type": "code",
   "execution_count": 74,
   "metadata": {},
   "outputs": [
    {
     "data": {
      "text/plain": [
       "0.6995515695067265"
      ]
     },
     "execution_count": 74,
     "metadata": {},
     "output_type": "execute_result"
    }
   ],
   "source": [
    "936/len(X)"
   ]
  },
  {
   "cell_type": "code",
   "execution_count": 70,
   "metadata": {},
   "outputs": [
    {
     "data": {
      "text/plain": [
       "array([4.17022005e-01, 7.20324493e-01, 1.14374817e-04, 3.02332573e-01,\n",
       "       1.46755891e-01])"
      ]
     },
     "execution_count": 70,
     "metadata": {},
     "output_type": "execute_result"
    }
   ],
   "source": [
    "np.random.seed(1)\n",
    "np.random.random(5)"
   ]
  },
  {
   "cell_type": "code",
   "execution_count": 75,
   "metadata": {},
   "outputs": [],
   "source": [
    "scaler = preprocessing.StandardScaler()\n",
    "scaler.fit(X_train) # calculates the mean and std for each column\n",
    "X_train_std = scaler.transform(X_train) # calculates the z -score based \n",
    "X_test_std = scaler.transform(X_test) # calculates the z-score by re-using the mean and std of the training dataset"
   ]
  },
  {
   "cell_type": "code",
   "execution_count": 77,
   "metadata": {},
   "outputs": [
    {
     "data": {
      "text/html": [
       "<div>\n",
       "<style scoped>\n",
       "    .dataframe tbody tr th:only-of-type {\n",
       "        vertical-align: middle;\n",
       "    }\n",
       "\n",
       "    .dataframe tbody tr th {\n",
       "        vertical-align: top;\n",
       "    }\n",
       "\n",
       "    .dataframe thead th {\n",
       "        text-align: right;\n",
       "    }\n",
       "</style>\n",
       "<table border=\"1\" class=\"dataframe\">\n",
       "  <thead>\n",
       "    <tr style=\"text-align: right;\">\n",
       "      <th></th>\n",
       "      <th>age</th>\n",
       "      <th>bmi</th>\n",
       "      <th>children</th>\n",
       "      <th>gender_male</th>\n",
       "      <th>smoker_yes</th>\n",
       "      <th>region_northwest</th>\n",
       "      <th>region_southeast</th>\n",
       "      <th>region_southwest</th>\n",
       "    </tr>\n",
       "  </thead>\n",
       "  <tbody>\n",
       "    <tr>\n",
       "      <th>0</th>\n",
       "      <td>0.797152</td>\n",
       "      <td>-0.702114</td>\n",
       "      <td>-0.904002</td>\n",
       "      <td>0.976766</td>\n",
       "      <td>-0.509664</td>\n",
       "      <td>1.788102</td>\n",
       "      <td>-0.600387</td>\n",
       "      <td>-0.587220</td>\n",
       "    </tr>\n",
       "    <tr>\n",
       "      <th>1</th>\n",
       "      <td>-1.271085</td>\n",
       "      <td>-0.703758</td>\n",
       "      <td>-0.085679</td>\n",
       "      <td>-1.023787</td>\n",
       "      <td>-0.509664</td>\n",
       "      <td>-0.559252</td>\n",
       "      <td>-0.600387</td>\n",
       "      <td>1.702939</td>\n",
       "    </tr>\n",
       "    <tr>\n",
       "      <th>2</th>\n",
       "      <td>-0.985811</td>\n",
       "      <td>-0.733340</td>\n",
       "      <td>-0.904002</td>\n",
       "      <td>0.976766</td>\n",
       "      <td>-0.509664</td>\n",
       "      <td>-0.559252</td>\n",
       "      <td>-0.600387</td>\n",
       "      <td>-0.587220</td>\n",
       "    </tr>\n",
       "    <tr>\n",
       "      <th>3</th>\n",
       "      <td>0.797152</td>\n",
       "      <td>-0.414510</td>\n",
       "      <td>1.550967</td>\n",
       "      <td>-1.023787</td>\n",
       "      <td>-0.509664</td>\n",
       "      <td>-0.559252</td>\n",
       "      <td>1.665591</td>\n",
       "      <td>-0.587220</td>\n",
       "    </tr>\n",
       "    <tr>\n",
       "      <th>4</th>\n",
       "      <td>0.868471</td>\n",
       "      <td>1.482037</td>\n",
       "      <td>-0.085679</td>\n",
       "      <td>0.976766</td>\n",
       "      <td>-0.509664</td>\n",
       "      <td>-0.559252</td>\n",
       "      <td>-0.600387</td>\n",
       "      <td>1.702939</td>\n",
       "    </tr>\n",
       "    <tr>\n",
       "      <th>5</th>\n",
       "      <td>-0.985811</td>\n",
       "      <td>1.749098</td>\n",
       "      <td>-0.904002</td>\n",
       "      <td>-1.023787</td>\n",
       "      <td>-0.509664</td>\n",
       "      <td>-0.559252</td>\n",
       "      <td>-0.600387</td>\n",
       "      <td>-0.587220</td>\n",
       "    </tr>\n",
       "    <tr>\n",
       "      <th>6</th>\n",
       "      <td>-0.843174</td>\n",
       "      <td>0.117970</td>\n",
       "      <td>-0.904002</td>\n",
       "      <td>-1.023787</td>\n",
       "      <td>1.962076</td>\n",
       "      <td>-0.559252</td>\n",
       "      <td>-0.600387</td>\n",
       "      <td>1.702939</td>\n",
       "    </tr>\n",
       "    <tr>\n",
       "      <th>7</th>\n",
       "      <td>1.724293</td>\n",
       "      <td>-0.608437</td>\n",
       "      <td>-0.904002</td>\n",
       "      <td>-1.023787</td>\n",
       "      <td>1.962076</td>\n",
       "      <td>1.788102</td>\n",
       "      <td>-0.600387</td>\n",
       "      <td>-0.587220</td>\n",
       "    </tr>\n",
       "    <tr>\n",
       "      <th>8</th>\n",
       "      <td>-1.485041</td>\n",
       "      <td>0.525546</td>\n",
       "      <td>-0.904002</td>\n",
       "      <td>-1.023787</td>\n",
       "      <td>-0.509664</td>\n",
       "      <td>-0.559252</td>\n",
       "      <td>1.665591</td>\n",
       "      <td>-0.587220</td>\n",
       "    </tr>\n",
       "    <tr>\n",
       "      <th>9</th>\n",
       "      <td>-1.485041</td>\n",
       "      <td>-1.248563</td>\n",
       "      <td>-0.904002</td>\n",
       "      <td>0.976766</td>\n",
       "      <td>-0.509664</td>\n",
       "      <td>-0.559252</td>\n",
       "      <td>-0.600387</td>\n",
       "      <td>-0.587220</td>\n",
       "    </tr>\n",
       "    <tr>\n",
       "      <th>10</th>\n",
       "      <td>1.367700</td>\n",
       "      <td>0.375170</td>\n",
       "      <td>-0.904002</td>\n",
       "      <td>-1.023787</td>\n",
       "      <td>-0.509664</td>\n",
       "      <td>-0.559252</td>\n",
       "      <td>-0.600387</td>\n",
       "      <td>-0.587220</td>\n",
       "    </tr>\n",
       "    <tr>\n",
       "      <th>11</th>\n",
       "      <td>-0.700537</td>\n",
       "      <td>-1.451529</td>\n",
       "      <td>-0.904002</td>\n",
       "      <td>-1.023787</td>\n",
       "      <td>1.962076</td>\n",
       "      <td>-0.559252</td>\n",
       "      <td>-0.600387</td>\n",
       "      <td>-0.587220</td>\n",
       "    </tr>\n",
       "    <tr>\n",
       "      <th>12</th>\n",
       "      <td>0.012648</td>\n",
       "      <td>1.827162</td>\n",
       "      <td>-0.904002</td>\n",
       "      <td>-1.023787</td>\n",
       "      <td>-0.509664</td>\n",
       "      <td>-0.559252</td>\n",
       "      <td>1.665591</td>\n",
       "      <td>-0.587220</td>\n",
       "    </tr>\n",
       "    <tr>\n",
       "      <th>13</th>\n",
       "      <td>1.153745</td>\n",
       "      <td>0.749878</td>\n",
       "      <td>-0.085679</td>\n",
       "      <td>0.976766</td>\n",
       "      <td>-0.509664</td>\n",
       "      <td>-0.559252</td>\n",
       "      <td>-0.600387</td>\n",
       "      <td>-0.587220</td>\n",
       "    </tr>\n",
       "    <tr>\n",
       "      <th>14</th>\n",
       "      <td>-0.343944</td>\n",
       "      <td>-0.522978</td>\n",
       "      <td>-0.085679</td>\n",
       "      <td>-1.023787</td>\n",
       "      <td>-0.509664</td>\n",
       "      <td>-0.559252</td>\n",
       "      <td>-0.600387</td>\n",
       "      <td>1.702939</td>\n",
       "    </tr>\n",
       "    <tr>\n",
       "      <th>15</th>\n",
       "      <td>-1.342404</td>\n",
       "      <td>-1.426878</td>\n",
       "      <td>-0.085679</td>\n",
       "      <td>0.976766</td>\n",
       "      <td>-0.509664</td>\n",
       "      <td>-0.559252</td>\n",
       "      <td>-0.600387</td>\n",
       "      <td>1.702939</td>\n",
       "    </tr>\n",
       "    <tr>\n",
       "      <th>16</th>\n",
       "      <td>1.581656</td>\n",
       "      <td>-1.576432</td>\n",
       "      <td>-0.904002</td>\n",
       "      <td>-1.023787</td>\n",
       "      <td>-0.509664</td>\n",
       "      <td>1.788102</td>\n",
       "      <td>-0.600387</td>\n",
       "      <td>-0.587220</td>\n",
       "    </tr>\n",
       "    <tr>\n",
       "      <th>17</th>\n",
       "      <td>-1.342404</td>\n",
       "      <td>-0.452309</td>\n",
       "      <td>-0.904002</td>\n",
       "      <td>0.976766</td>\n",
       "      <td>-0.509664</td>\n",
       "      <td>-0.559252</td>\n",
       "      <td>-0.600387</td>\n",
       "      <td>-0.587220</td>\n",
       "    </tr>\n",
       "    <tr>\n",
       "      <th>18</th>\n",
       "      <td>-0.629218</td>\n",
       "      <td>1.339056</td>\n",
       "      <td>-0.085679</td>\n",
       "      <td>0.976766</td>\n",
       "      <td>-0.509664</td>\n",
       "      <td>-0.559252</td>\n",
       "      <td>1.665591</td>\n",
       "      <td>-0.587220</td>\n",
       "    </tr>\n",
       "    <tr>\n",
       "      <th>19</th>\n",
       "      <td>0.725834</td>\n",
       "      <td>1.013652</td>\n",
       "      <td>-0.904002</td>\n",
       "      <td>0.976766</td>\n",
       "      <td>-0.509664</td>\n",
       "      <td>-0.559252</td>\n",
       "      <td>1.665591</td>\n",
       "      <td>-0.587220</td>\n",
       "    </tr>\n",
       "    <tr>\n",
       "      <th>20</th>\n",
       "      <td>-0.914493</td>\n",
       "      <td>-0.311794</td>\n",
       "      <td>-0.904002</td>\n",
       "      <td>-1.023787</td>\n",
       "      <td>-0.509664</td>\n",
       "      <td>-0.559252</td>\n",
       "      <td>-0.600387</td>\n",
       "      <td>-0.587220</td>\n",
       "    </tr>\n",
       "    <tr>\n",
       "      <th>21</th>\n",
       "      <td>-0.843174</td>\n",
       "      <td>0.676744</td>\n",
       "      <td>-0.085679</td>\n",
       "      <td>-1.023787</td>\n",
       "      <td>-0.509664</td>\n",
       "      <td>-0.559252</td>\n",
       "      <td>-0.600387</td>\n",
       "      <td>1.702939</td>\n",
       "    </tr>\n",
       "    <tr>\n",
       "      <th>22</th>\n",
       "      <td>-0.201307</td>\n",
       "      <td>-0.125262</td>\n",
       "      <td>-0.904002</td>\n",
       "      <td>-1.023787</td>\n",
       "      <td>-0.509664</td>\n",
       "      <td>-0.559252</td>\n",
       "      <td>1.665591</td>\n",
       "      <td>-0.587220</td>\n",
       "    </tr>\n",
       "    <tr>\n",
       "      <th>23</th>\n",
       "      <td>-1.342404</td>\n",
       "      <td>-1.029162</td>\n",
       "      <td>-0.904002</td>\n",
       "      <td>-1.023787</td>\n",
       "      <td>1.962076</td>\n",
       "      <td>-0.559252</td>\n",
       "      <td>1.665591</td>\n",
       "      <td>-0.587220</td>\n",
       "    </tr>\n",
       "    <tr>\n",
       "      <th>24</th>\n",
       "      <td>-1.413722</td>\n",
       "      <td>-1.788438</td>\n",
       "      <td>-0.904002</td>\n",
       "      <td>0.976766</td>\n",
       "      <td>-0.509664</td>\n",
       "      <td>-0.559252</td>\n",
       "      <td>-0.600387</td>\n",
       "      <td>1.702939</td>\n",
       "    </tr>\n",
       "    <tr>\n",
       "      <th>25</th>\n",
       "      <td>-1.485041</td>\n",
       "      <td>-0.858242</td>\n",
       "      <td>-0.904002</td>\n",
       "      <td>0.976766</td>\n",
       "      <td>-0.509664</td>\n",
       "      <td>-0.559252</td>\n",
       "      <td>-0.600387</td>\n",
       "      <td>-0.587220</td>\n",
       "    </tr>\n",
       "    <tr>\n",
       "      <th>26</th>\n",
       "      <td>1.082426</td>\n",
       "      <td>0.843555</td>\n",
       "      <td>1.550967</td>\n",
       "      <td>-1.023787</td>\n",
       "      <td>-0.509664</td>\n",
       "      <td>1.788102</td>\n",
       "      <td>-0.600387</td>\n",
       "      <td>-0.587220</td>\n",
       "    </tr>\n",
       "    <tr>\n",
       "      <th>27</th>\n",
       "      <td>-1.413722</td>\n",
       "      <td>0.297106</td>\n",
       "      <td>-0.904002</td>\n",
       "      <td>-1.023787</td>\n",
       "      <td>1.962076</td>\n",
       "      <td>1.788102</td>\n",
       "      <td>-0.600387</td>\n",
       "      <td>-0.587220</td>\n",
       "    </tr>\n",
       "    <tr>\n",
       "      <th>28</th>\n",
       "      <td>0.297922</td>\n",
       "      <td>-1.734204</td>\n",
       "      <td>0.732644</td>\n",
       "      <td>0.976766</td>\n",
       "      <td>1.962076</td>\n",
       "      <td>-0.559252</td>\n",
       "      <td>1.665591</td>\n",
       "      <td>-0.587220</td>\n",
       "    </tr>\n",
       "    <tr>\n",
       "      <th>29</th>\n",
       "      <td>-1.199767</td>\n",
       "      <td>0.507468</td>\n",
       "      <td>-0.904002</td>\n",
       "      <td>0.976766</td>\n",
       "      <td>-0.509664</td>\n",
       "      <td>-0.559252</td>\n",
       "      <td>1.665591</td>\n",
       "      <td>-0.587220</td>\n",
       "    </tr>\n",
       "    <tr>\n",
       "      <th>...</th>\n",
       "      <td>...</td>\n",
       "      <td>...</td>\n",
       "      <td>...</td>\n",
       "      <td>...</td>\n",
       "      <td>...</td>\n",
       "      <td>...</td>\n",
       "      <td>...</td>\n",
       "      <td>...</td>\n",
       "    </tr>\n",
       "    <tr>\n",
       "      <th>906</th>\n",
       "      <td>1.153745</td>\n",
       "      <td>0.742482</td>\n",
       "      <td>-0.904002</td>\n",
       "      <td>-1.023787</td>\n",
       "      <td>1.962076</td>\n",
       "      <td>-0.559252</td>\n",
       "      <td>1.665591</td>\n",
       "      <td>-0.587220</td>\n",
       "    </tr>\n",
       "    <tr>\n",
       "      <th>907</th>\n",
       "      <td>-0.914493</td>\n",
       "      <td>0.297106</td>\n",
       "      <td>-0.085679</td>\n",
       "      <td>0.976766</td>\n",
       "      <td>-0.509664</td>\n",
       "      <td>-0.559252</td>\n",
       "      <td>-0.600387</td>\n",
       "      <td>-0.587220</td>\n",
       "    </tr>\n",
       "    <tr>\n",
       "      <th>908</th>\n",
       "      <td>1.082426</td>\n",
       "      <td>0.265881</td>\n",
       "      <td>-0.085679</td>\n",
       "      <td>-1.023787</td>\n",
       "      <td>-0.509664</td>\n",
       "      <td>-0.559252</td>\n",
       "      <td>-0.600387</td>\n",
       "      <td>-0.587220</td>\n",
       "    </tr>\n",
       "    <tr>\n",
       "      <th>909</th>\n",
       "      <td>1.367700</td>\n",
       "      <td>-1.300332</td>\n",
       "      <td>-0.904002</td>\n",
       "      <td>-1.023787</td>\n",
       "      <td>-0.509664</td>\n",
       "      <td>-0.559252</td>\n",
       "      <td>1.665591</td>\n",
       "      <td>-0.587220</td>\n",
       "    </tr>\n",
       "    <tr>\n",
       "      <th>910</th>\n",
       "      <td>-1.057130</td>\n",
       "      <td>0.331619</td>\n",
       "      <td>-0.904002</td>\n",
       "      <td>0.976766</td>\n",
       "      <td>1.962076</td>\n",
       "      <td>-0.559252</td>\n",
       "      <td>-0.600387</td>\n",
       "      <td>1.702939</td>\n",
       "    </tr>\n",
       "    <tr>\n",
       "      <th>911</th>\n",
       "      <td>-0.985811</td>\n",
       "      <td>1.881396</td>\n",
       "      <td>-0.085679</td>\n",
       "      <td>-1.023787</td>\n",
       "      <td>-0.509664</td>\n",
       "      <td>-0.559252</td>\n",
       "      <td>1.665591</td>\n",
       "      <td>-0.587220</td>\n",
       "    </tr>\n",
       "    <tr>\n",
       "      <th>912</th>\n",
       "      <td>1.439019</td>\n",
       "      <td>-0.858242</td>\n",
       "      <td>-0.085679</td>\n",
       "      <td>0.976766</td>\n",
       "      <td>-0.509664</td>\n",
       "      <td>-0.559252</td>\n",
       "      <td>-0.600387</td>\n",
       "      <td>-0.587220</td>\n",
       "    </tr>\n",
       "    <tr>\n",
       "      <th>913</th>\n",
       "      <td>-0.843174</td>\n",
       "      <td>-0.029941</td>\n",
       "      <td>-0.904002</td>\n",
       "      <td>0.976766</td>\n",
       "      <td>-0.509664</td>\n",
       "      <td>-0.559252</td>\n",
       "      <td>-0.600387</td>\n",
       "      <td>1.702939</td>\n",
       "    </tr>\n",
       "    <tr>\n",
       "      <th>914</th>\n",
       "      <td>1.795612</td>\n",
       "      <td>-0.835234</td>\n",
       "      <td>0.732644</td>\n",
       "      <td>0.976766</td>\n",
       "      <td>-0.509664</td>\n",
       "      <td>-0.559252</td>\n",
       "      <td>-0.600387</td>\n",
       "      <td>1.702939</td>\n",
       "    </tr>\n",
       "    <tr>\n",
       "      <th>915</th>\n",
       "      <td>1.652975</td>\n",
       "      <td>0.219042</td>\n",
       "      <td>-0.904002</td>\n",
       "      <td>0.976766</td>\n",
       "      <td>1.962076</td>\n",
       "      <td>-0.559252</td>\n",
       "      <td>-0.600387</td>\n",
       "      <td>-0.587220</td>\n",
       "    </tr>\n",
       "    <tr>\n",
       "      <th>916</th>\n",
       "      <td>1.082426</td>\n",
       "      <td>0.579780</td>\n",
       "      <td>0.732644</td>\n",
       "      <td>0.976766</td>\n",
       "      <td>1.962076</td>\n",
       "      <td>-0.559252</td>\n",
       "      <td>1.665591</td>\n",
       "      <td>-0.587220</td>\n",
       "    </tr>\n",
       "    <tr>\n",
       "      <th>917</th>\n",
       "      <td>0.369241</td>\n",
       "      <td>0.272454</td>\n",
       "      <td>-0.085679</td>\n",
       "      <td>-1.023787</td>\n",
       "      <td>-0.509664</td>\n",
       "      <td>-0.559252</td>\n",
       "      <td>1.665591</td>\n",
       "      <td>-0.587220</td>\n",
       "    </tr>\n",
       "    <tr>\n",
       "      <th>918</th>\n",
       "      <td>-0.771855</td>\n",
       "      <td>-1.045596</td>\n",
       "      <td>-0.085679</td>\n",
       "      <td>-1.023787</td>\n",
       "      <td>-0.509664</td>\n",
       "      <td>-0.559252</td>\n",
       "      <td>-0.600387</td>\n",
       "      <td>-0.587220</td>\n",
       "    </tr>\n",
       "    <tr>\n",
       "      <th>919</th>\n",
       "      <td>-0.415263</td>\n",
       "      <td>-0.998758</td>\n",
       "      <td>0.732644</td>\n",
       "      <td>0.976766</td>\n",
       "      <td>-0.509664</td>\n",
       "      <td>1.788102</td>\n",
       "      <td>-0.600387</td>\n",
       "      <td>-0.587220</td>\n",
       "    </tr>\n",
       "    <tr>\n",
       "      <th>920</th>\n",
       "      <td>0.583197</td>\n",
       "      <td>-0.140053</td>\n",
       "      <td>1.550967</td>\n",
       "      <td>0.976766</td>\n",
       "      <td>-0.509664</td>\n",
       "      <td>1.788102</td>\n",
       "      <td>-0.600387</td>\n",
       "      <td>-0.587220</td>\n",
       "    </tr>\n",
       "    <tr>\n",
       "      <th>921</th>\n",
       "      <td>0.012648</td>\n",
       "      <td>-0.124440</td>\n",
       "      <td>-0.085679</td>\n",
       "      <td>0.976766</td>\n",
       "      <td>1.962076</td>\n",
       "      <td>-0.559252</td>\n",
       "      <td>-0.600387</td>\n",
       "      <td>-0.587220</td>\n",
       "    </tr>\n",
       "    <tr>\n",
       "      <th>922</th>\n",
       "      <td>0.440560</td>\n",
       "      <td>-0.052950</td>\n",
       "      <td>-0.904002</td>\n",
       "      <td>0.976766</td>\n",
       "      <td>1.962076</td>\n",
       "      <td>-0.559252</td>\n",
       "      <td>1.665591</td>\n",
       "      <td>-0.587220</td>\n",
       "    </tr>\n",
       "    <tr>\n",
       "      <th>923</th>\n",
       "      <td>-1.199767</td>\n",
       "      <td>0.234655</td>\n",
       "      <td>-0.904002</td>\n",
       "      <td>0.976766</td>\n",
       "      <td>-0.509664</td>\n",
       "      <td>1.788102</td>\n",
       "      <td>-0.600387</td>\n",
       "      <td>-0.587220</td>\n",
       "    </tr>\n",
       "    <tr>\n",
       "      <th>924</th>\n",
       "      <td>-1.057130</td>\n",
       "      <td>-0.486822</td>\n",
       "      <td>-0.904002</td>\n",
       "      <td>-1.023787</td>\n",
       "      <td>-0.509664</td>\n",
       "      <td>-0.559252</td>\n",
       "      <td>1.665591</td>\n",
       "      <td>-0.587220</td>\n",
       "    </tr>\n",
       "    <tr>\n",
       "      <th>925</th>\n",
       "      <td>-1.057130</td>\n",
       "      <td>-0.889468</td>\n",
       "      <td>-0.904002</td>\n",
       "      <td>-1.023787</td>\n",
       "      <td>-0.509664</td>\n",
       "      <td>-0.559252</td>\n",
       "      <td>-0.600387</td>\n",
       "      <td>-0.587220</td>\n",
       "    </tr>\n",
       "    <tr>\n",
       "      <th>926</th>\n",
       "      <td>-0.771855</td>\n",
       "      <td>0.031688</td>\n",
       "      <td>-0.904002</td>\n",
       "      <td>0.976766</td>\n",
       "      <td>-0.509664</td>\n",
       "      <td>1.788102</td>\n",
       "      <td>-0.600387</td>\n",
       "      <td>-0.587220</td>\n",
       "    </tr>\n",
       "    <tr>\n",
       "      <th>927</th>\n",
       "      <td>-0.058670</td>\n",
       "      <td>0.660310</td>\n",
       "      <td>0.732644</td>\n",
       "      <td>0.976766</td>\n",
       "      <td>-0.509664</td>\n",
       "      <td>-0.559252</td>\n",
       "      <td>-0.600387</td>\n",
       "      <td>1.702939</td>\n",
       "    </tr>\n",
       "    <tr>\n",
       "      <th>928</th>\n",
       "      <td>-0.629218</td>\n",
       "      <td>-0.327407</td>\n",
       "      <td>1.550967</td>\n",
       "      <td>0.976766</td>\n",
       "      <td>1.962076</td>\n",
       "      <td>1.788102</td>\n",
       "      <td>-0.600387</td>\n",
       "      <td>-0.587220</td>\n",
       "    </tr>\n",
       "    <tr>\n",
       "      <th>929</th>\n",
       "      <td>-1.413722</td>\n",
       "      <td>1.468068</td>\n",
       "      <td>-0.085679</td>\n",
       "      <td>-1.023787</td>\n",
       "      <td>-0.509664</td>\n",
       "      <td>1.788102</td>\n",
       "      <td>-0.600387</td>\n",
       "      <td>-0.587220</td>\n",
       "    </tr>\n",
       "    <tr>\n",
       "      <th>930</th>\n",
       "      <td>-1.128448</td>\n",
       "      <td>3.237246</td>\n",
       "      <td>-0.085679</td>\n",
       "      <td>0.976766</td>\n",
       "      <td>-0.509664</td>\n",
       "      <td>-0.559252</td>\n",
       "      <td>1.665591</td>\n",
       "      <td>-0.587220</td>\n",
       "    </tr>\n",
       "    <tr>\n",
       "      <th>931</th>\n",
       "      <td>1.510338</td>\n",
       "      <td>-0.292894</td>\n",
       "      <td>-0.904002</td>\n",
       "      <td>0.976766</td>\n",
       "      <td>-0.509664</td>\n",
       "      <td>-0.559252</td>\n",
       "      <td>-0.600387</td>\n",
       "      <td>1.702939</td>\n",
       "    </tr>\n",
       "    <tr>\n",
       "      <th>932</th>\n",
       "      <td>-0.914493</td>\n",
       "      <td>-0.218117</td>\n",
       "      <td>0.732644</td>\n",
       "      <td>-1.023787</td>\n",
       "      <td>-0.509664</td>\n",
       "      <td>-0.559252</td>\n",
       "      <td>-0.600387</td>\n",
       "      <td>-0.587220</td>\n",
       "    </tr>\n",
       "    <tr>\n",
       "      <th>933</th>\n",
       "      <td>0.868471</td>\n",
       "      <td>0.703039</td>\n",
       "      <td>0.732644</td>\n",
       "      <td>-1.023787</td>\n",
       "      <td>1.962076</td>\n",
       "      <td>-0.559252</td>\n",
       "      <td>-0.600387</td>\n",
       "      <td>-0.587220</td>\n",
       "    </tr>\n",
       "    <tr>\n",
       "      <th>934</th>\n",
       "      <td>0.083967</td>\n",
       "      <td>-1.390722</td>\n",
       "      <td>0.732644</td>\n",
       "      <td>-1.023787</td>\n",
       "      <td>1.962076</td>\n",
       "      <td>-0.559252</td>\n",
       "      <td>1.665591</td>\n",
       "      <td>-0.587220</td>\n",
       "    </tr>\n",
       "    <tr>\n",
       "      <th>935</th>\n",
       "      <td>1.296382</td>\n",
       "      <td>-0.450666</td>\n",
       "      <td>-0.085679</td>\n",
       "      <td>0.976766</td>\n",
       "      <td>-0.509664</td>\n",
       "      <td>-0.559252</td>\n",
       "      <td>1.665591</td>\n",
       "      <td>-0.587220</td>\n",
       "    </tr>\n",
       "  </tbody>\n",
       "</table>\n",
       "<p>936 rows × 8 columns</p>\n",
       "</div>"
      ],
      "text/plain": [
       "          age       bmi  children  gender_male  smoker_yes  region_northwest  \\\n",
       "0    0.797152 -0.702114 -0.904002     0.976766   -0.509664          1.788102   \n",
       "1   -1.271085 -0.703758 -0.085679    -1.023787   -0.509664         -0.559252   \n",
       "2   -0.985811 -0.733340 -0.904002     0.976766   -0.509664         -0.559252   \n",
       "3    0.797152 -0.414510  1.550967    -1.023787   -0.509664         -0.559252   \n",
       "4    0.868471  1.482037 -0.085679     0.976766   -0.509664         -0.559252   \n",
       "5   -0.985811  1.749098 -0.904002    -1.023787   -0.509664         -0.559252   \n",
       "6   -0.843174  0.117970 -0.904002    -1.023787    1.962076         -0.559252   \n",
       "7    1.724293 -0.608437 -0.904002    -1.023787    1.962076          1.788102   \n",
       "8   -1.485041  0.525546 -0.904002    -1.023787   -0.509664         -0.559252   \n",
       "9   -1.485041 -1.248563 -0.904002     0.976766   -0.509664         -0.559252   \n",
       "10   1.367700  0.375170 -0.904002    -1.023787   -0.509664         -0.559252   \n",
       "11  -0.700537 -1.451529 -0.904002    -1.023787    1.962076         -0.559252   \n",
       "12   0.012648  1.827162 -0.904002    -1.023787   -0.509664         -0.559252   \n",
       "13   1.153745  0.749878 -0.085679     0.976766   -0.509664         -0.559252   \n",
       "14  -0.343944 -0.522978 -0.085679    -1.023787   -0.509664         -0.559252   \n",
       "15  -1.342404 -1.426878 -0.085679     0.976766   -0.509664         -0.559252   \n",
       "16   1.581656 -1.576432 -0.904002    -1.023787   -0.509664          1.788102   \n",
       "17  -1.342404 -0.452309 -0.904002     0.976766   -0.509664         -0.559252   \n",
       "18  -0.629218  1.339056 -0.085679     0.976766   -0.509664         -0.559252   \n",
       "19   0.725834  1.013652 -0.904002     0.976766   -0.509664         -0.559252   \n",
       "20  -0.914493 -0.311794 -0.904002    -1.023787   -0.509664         -0.559252   \n",
       "21  -0.843174  0.676744 -0.085679    -1.023787   -0.509664         -0.559252   \n",
       "22  -0.201307 -0.125262 -0.904002    -1.023787   -0.509664         -0.559252   \n",
       "23  -1.342404 -1.029162 -0.904002    -1.023787    1.962076         -0.559252   \n",
       "24  -1.413722 -1.788438 -0.904002     0.976766   -0.509664         -0.559252   \n",
       "25  -1.485041 -0.858242 -0.904002     0.976766   -0.509664         -0.559252   \n",
       "26   1.082426  0.843555  1.550967    -1.023787   -0.509664          1.788102   \n",
       "27  -1.413722  0.297106 -0.904002    -1.023787    1.962076          1.788102   \n",
       "28   0.297922 -1.734204  0.732644     0.976766    1.962076         -0.559252   \n",
       "29  -1.199767  0.507468 -0.904002     0.976766   -0.509664         -0.559252   \n",
       "..        ...       ...       ...          ...         ...               ...   \n",
       "906  1.153745  0.742482 -0.904002    -1.023787    1.962076         -0.559252   \n",
       "907 -0.914493  0.297106 -0.085679     0.976766   -0.509664         -0.559252   \n",
       "908  1.082426  0.265881 -0.085679    -1.023787   -0.509664         -0.559252   \n",
       "909  1.367700 -1.300332 -0.904002    -1.023787   -0.509664         -0.559252   \n",
       "910 -1.057130  0.331619 -0.904002     0.976766    1.962076         -0.559252   \n",
       "911 -0.985811  1.881396 -0.085679    -1.023787   -0.509664         -0.559252   \n",
       "912  1.439019 -0.858242 -0.085679     0.976766   -0.509664         -0.559252   \n",
       "913 -0.843174 -0.029941 -0.904002     0.976766   -0.509664         -0.559252   \n",
       "914  1.795612 -0.835234  0.732644     0.976766   -0.509664         -0.559252   \n",
       "915  1.652975  0.219042 -0.904002     0.976766    1.962076         -0.559252   \n",
       "916  1.082426  0.579780  0.732644     0.976766    1.962076         -0.559252   \n",
       "917  0.369241  0.272454 -0.085679    -1.023787   -0.509664         -0.559252   \n",
       "918 -0.771855 -1.045596 -0.085679    -1.023787   -0.509664         -0.559252   \n",
       "919 -0.415263 -0.998758  0.732644     0.976766   -0.509664          1.788102   \n",
       "920  0.583197 -0.140053  1.550967     0.976766   -0.509664          1.788102   \n",
       "921  0.012648 -0.124440 -0.085679     0.976766    1.962076         -0.559252   \n",
       "922  0.440560 -0.052950 -0.904002     0.976766    1.962076         -0.559252   \n",
       "923 -1.199767  0.234655 -0.904002     0.976766   -0.509664          1.788102   \n",
       "924 -1.057130 -0.486822 -0.904002    -1.023787   -0.509664         -0.559252   \n",
       "925 -1.057130 -0.889468 -0.904002    -1.023787   -0.509664         -0.559252   \n",
       "926 -0.771855  0.031688 -0.904002     0.976766   -0.509664          1.788102   \n",
       "927 -0.058670  0.660310  0.732644     0.976766   -0.509664         -0.559252   \n",
       "928 -0.629218 -0.327407  1.550967     0.976766    1.962076          1.788102   \n",
       "929 -1.413722  1.468068 -0.085679    -1.023787   -0.509664          1.788102   \n",
       "930 -1.128448  3.237246 -0.085679     0.976766   -0.509664         -0.559252   \n",
       "931  1.510338 -0.292894 -0.904002     0.976766   -0.509664         -0.559252   \n",
       "932 -0.914493 -0.218117  0.732644    -1.023787   -0.509664         -0.559252   \n",
       "933  0.868471  0.703039  0.732644    -1.023787    1.962076         -0.559252   \n",
       "934  0.083967 -1.390722  0.732644    -1.023787    1.962076         -0.559252   \n",
       "935  1.296382 -0.450666 -0.085679     0.976766   -0.509664         -0.559252   \n",
       "\n",
       "     region_southeast  region_southwest  \n",
       "0           -0.600387         -0.587220  \n",
       "1           -0.600387          1.702939  \n",
       "2           -0.600387         -0.587220  \n",
       "3            1.665591         -0.587220  \n",
       "4           -0.600387          1.702939  \n",
       "5           -0.600387         -0.587220  \n",
       "6           -0.600387          1.702939  \n",
       "7           -0.600387         -0.587220  \n",
       "8            1.665591         -0.587220  \n",
       "9           -0.600387         -0.587220  \n",
       "10          -0.600387         -0.587220  \n",
       "11          -0.600387         -0.587220  \n",
       "12           1.665591         -0.587220  \n",
       "13          -0.600387         -0.587220  \n",
       "14          -0.600387          1.702939  \n",
       "15          -0.600387          1.702939  \n",
       "16          -0.600387         -0.587220  \n",
       "17          -0.600387         -0.587220  \n",
       "18           1.665591         -0.587220  \n",
       "19           1.665591         -0.587220  \n",
       "20          -0.600387         -0.587220  \n",
       "21          -0.600387          1.702939  \n",
       "22           1.665591         -0.587220  \n",
       "23           1.665591         -0.587220  \n",
       "24          -0.600387          1.702939  \n",
       "25          -0.600387         -0.587220  \n",
       "26          -0.600387         -0.587220  \n",
       "27          -0.600387         -0.587220  \n",
       "28           1.665591         -0.587220  \n",
       "29           1.665591         -0.587220  \n",
       "..                ...               ...  \n",
       "906          1.665591         -0.587220  \n",
       "907         -0.600387         -0.587220  \n",
       "908         -0.600387         -0.587220  \n",
       "909          1.665591         -0.587220  \n",
       "910         -0.600387          1.702939  \n",
       "911          1.665591         -0.587220  \n",
       "912         -0.600387         -0.587220  \n",
       "913         -0.600387          1.702939  \n",
       "914         -0.600387          1.702939  \n",
       "915         -0.600387         -0.587220  \n",
       "916          1.665591         -0.587220  \n",
       "917          1.665591         -0.587220  \n",
       "918         -0.600387         -0.587220  \n",
       "919         -0.600387         -0.587220  \n",
       "920         -0.600387         -0.587220  \n",
       "921         -0.600387         -0.587220  \n",
       "922          1.665591         -0.587220  \n",
       "923         -0.600387         -0.587220  \n",
       "924          1.665591         -0.587220  \n",
       "925         -0.600387         -0.587220  \n",
       "926         -0.600387         -0.587220  \n",
       "927         -0.600387          1.702939  \n",
       "928         -0.600387         -0.587220  \n",
       "929         -0.600387         -0.587220  \n",
       "930          1.665591         -0.587220  \n",
       "931         -0.600387          1.702939  \n",
       "932         -0.600387         -0.587220  \n",
       "933         -0.600387         -0.587220  \n",
       "934          1.665591         -0.587220  \n",
       "935          1.665591         -0.587220  \n",
       "\n",
       "[936 rows x 8 columns]"
      ]
     },
     "execution_count": 77,
     "metadata": {},
     "output_type": "execute_result"
    }
   ],
   "source": [
    "pd.DataFrame(X_train_std, columns=X_dummy.columns)"
   ]
  },
  {
   "cell_type": "code",
   "execution_count": 78,
   "metadata": {},
   "outputs": [],
   "source": [
    "from sklearn import linear_model"
   ]
  },
  {
   "cell_type": "code",
   "execution_count": 80,
   "metadata": {},
   "outputs": [
    {
     "data": {
      "text/plain": [
       "LinearRegression(copy_X=True, fit_intercept=True, n_jobs=1, normalize=False)"
      ]
     },
     "execution_count": 80,
     "metadata": {},
     "output_type": "execute_result"
    }
   ],
   "source": [
    "lr = linear_model.LinearRegression() # helps find the theta values \n",
    "lr.fit(X_train_std, y_train) # Number of theta depends on the features in X"
   ]
  },
  {
   "cell_type": "code",
   "execution_count": 81,
   "metadata": {},
   "outputs": [
    {
     "data": {
      "text/plain": [
       "(array([3528.98273114, 1961.65520818,  421.55016415, -141.35911014,\n",
       "        9733.78688309, -129.54588605, -414.54148288, -379.09534369]),\n",
       " 13276.698553898505)"
      ]
     },
     "execution_count": 81,
     "metadata": {},
     "output_type": "execute_result"
    }
   ],
   "source": [
    "lr.coef_, lr.intercept_"
   ]
  },
  {
   "cell_type": "code",
   "execution_count": 82,
   "metadata": {},
   "outputs": [
    {
     "data": {
      "text/html": [
       "<div>\n",
       "<style scoped>\n",
       "    .dataframe tbody tr th:only-of-type {\n",
       "        vertical-align: middle;\n",
       "    }\n",
       "\n",
       "    .dataframe tbody tr th {\n",
       "        vertical-align: top;\n",
       "    }\n",
       "\n",
       "    .dataframe thead th {\n",
       "        text-align: right;\n",
       "    }\n",
       "</style>\n",
       "<table border=\"1\" class=\"dataframe\">\n",
       "  <thead>\n",
       "    <tr style=\"text-align: right;\">\n",
       "      <th></th>\n",
       "      <th>feature</th>\n",
       "      <th>coeffficient</th>\n",
       "    </tr>\n",
       "  </thead>\n",
       "  <tbody>\n",
       "    <tr>\n",
       "      <th>0</th>\n",
       "      <td>age</td>\n",
       "      <td>3528.982731</td>\n",
       "    </tr>\n",
       "    <tr>\n",
       "      <th>1</th>\n",
       "      <td>bmi</td>\n",
       "      <td>1961.655208</td>\n",
       "    </tr>\n",
       "    <tr>\n",
       "      <th>2</th>\n",
       "      <td>children</td>\n",
       "      <td>421.550164</td>\n",
       "    </tr>\n",
       "    <tr>\n",
       "      <th>3</th>\n",
       "      <td>gender_male</td>\n",
       "      <td>-141.359110</td>\n",
       "    </tr>\n",
       "    <tr>\n",
       "      <th>4</th>\n",
       "      <td>smoker_yes</td>\n",
       "      <td>9733.786883</td>\n",
       "    </tr>\n",
       "    <tr>\n",
       "      <th>5</th>\n",
       "      <td>region_northwest</td>\n",
       "      <td>-129.545886</td>\n",
       "    </tr>\n",
       "    <tr>\n",
       "      <th>6</th>\n",
       "      <td>region_southeast</td>\n",
       "      <td>-414.541483</td>\n",
       "    </tr>\n",
       "    <tr>\n",
       "      <th>7</th>\n",
       "      <td>region_southwest</td>\n",
       "      <td>-379.095344</td>\n",
       "    </tr>\n",
       "  </tbody>\n",
       "</table>\n",
       "</div>"
      ],
      "text/plain": [
       "            feature  coeffficient\n",
       "0               age   3528.982731\n",
       "1               bmi   1961.655208\n",
       "2          children    421.550164\n",
       "3       gender_male   -141.359110\n",
       "4        smoker_yes   9733.786883\n",
       "5  region_northwest   -129.545886\n",
       "6  region_southeast   -414.541483\n",
       "7  region_southwest   -379.095344"
      ]
     },
     "execution_count": 82,
     "metadata": {},
     "output_type": "execute_result"
    }
   ],
   "source": [
    "pd.DataFrame({\"feature\": X_dummy.columns\n",
    "            , \"coeffficient\": lr.coef_})"
   ]
  },
  {
   "cell_type": "code",
   "execution_count": 94,
   "metadata": {},
   "outputs": [
    {
     "data": {
      "text/plain": [
       "'y_hat = 13276.698553898505 + 3528.982731 age + 1961.655208 bmi + 421.550164 children + -141.359110 gender_male + 9733.786883 smoker_yes + -129.545886 region_northwest + -414.541483 region_southeast + -379.095344 region_southwest'"
      ]
     },
     "execution_count": 94,
     "metadata": {},
     "output_type": "execute_result"
    }
   ],
   "source": [
    "\"y_hat = \" + str(lr.intercept_) + \" + \" + \" + \".join([\"%f %s\" % (theta, feature) \n",
    "          for feature, theta  in zip(X_dummy.columns, lr.coef_)])"
   ]
  },
  {
   "cell_type": "code",
   "execution_count": 95,
   "metadata": {},
   "outputs": [
    {
     "data": {
      "text/plain": [
       "LinearRegression(copy_X=True, fit_intercept=True, n_jobs=1, normalize=False)"
      ]
     },
     "execution_count": 95,
     "metadata": {},
     "output_type": "execute_result"
    }
   ],
   "source": [
    "lr"
   ]
  },
  {
   "cell_type": "code",
   "execution_count": 97,
   "metadata": {},
   "outputs": [],
   "source": [
    "y_train_pred = lr.predict(X_train_std)\n",
    "y_test_pred = lr.predict(X_test_std)"
   ]
  },
  {
   "cell_type": "code",
   "execution_count": 100,
   "metadata": {},
   "outputs": [
    {
     "data": {
      "text/html": [
       "<div>\n",
       "<style scoped>\n",
       "    .dataframe tbody tr th:only-of-type {\n",
       "        vertical-align: middle;\n",
       "    }\n",
       "\n",
       "    .dataframe tbody tr th {\n",
       "        vertical-align: top;\n",
       "    }\n",
       "\n",
       "    .dataframe thead th {\n",
       "        text-align: right;\n",
       "    }\n",
       "</style>\n",
       "<table border=\"1\" class=\"dataframe\">\n",
       "  <thead>\n",
       "    <tr style=\"text-align: right;\">\n",
       "      <th></th>\n",
       "      <th>actual</th>\n",
       "      <th>prediction</th>\n",
       "      <th>error</th>\n",
       "    </tr>\n",
       "  </thead>\n",
       "  <tbody>\n",
       "    <tr>\n",
       "      <th>559</th>\n",
       "      <td>1646.4297</td>\n",
       "      <td>4610.315541</td>\n",
       "      <td>-2963.885841</td>\n",
       "    </tr>\n",
       "    <tr>\n",
       "      <th>1087</th>\n",
       "      <td>11353.2276</td>\n",
       "      <td>12887.893880</td>\n",
       "      <td>-1534.666280</td>\n",
       "    </tr>\n",
       "    <tr>\n",
       "      <th>1020</th>\n",
       "      <td>8798.5930</td>\n",
       "      <td>12573.948752</td>\n",
       "      <td>-3775.355752</td>\n",
       "    </tr>\n",
       "    <tr>\n",
       "      <th>460</th>\n",
       "      <td>10381.4787</td>\n",
       "      <td>13197.836626</td>\n",
       "      <td>-2816.357926</td>\n",
       "    </tr>\n",
       "    <tr>\n",
       "      <th>802</th>\n",
       "      <td>2103.0800</td>\n",
       "      <td>629.337182</td>\n",
       "      <td>1473.742818</td>\n",
       "    </tr>\n",
       "  </tbody>\n",
       "</table>\n",
       "</div>"
      ],
      "text/plain": [
       "          actual    prediction        error\n",
       "559    1646.4297   4610.315541 -2963.885841\n",
       "1087  11353.2276  12887.893880 -1534.666280\n",
       "1020   8798.5930  12573.948752 -3775.355752\n",
       "460   10381.4787  13197.836626 -2816.357926\n",
       "802    2103.0800    629.337182  1473.742818"
      ]
     },
     "execution_count": 100,
     "metadata": {},
     "output_type": "execute_result"
    }
   ],
   "source": [
    "result = pd.DataFrame({\"actual\": y_test, \"prediction\": y_test_pred})\n",
    "result[\"error\"] = result.actual - result.prediction\n",
    "result.head()"
   ]
  },
  {
   "cell_type": "code",
   "execution_count": 101,
   "metadata": {},
   "outputs": [
    {
     "data": {
      "text/plain": [
       "14778105453.509336"
      ]
     },
     "execution_count": 101,
     "metadata": {},
     "output_type": "execute_result"
    }
   ],
   "source": [
    "SSE = (result.error ** 2).sum() # Squared sum of errors\n",
    "SSE"
   ]
  },
  {
   "cell_type": "code",
   "execution_count": 102,
   "metadata": {},
   "outputs": [
    {
     "data": {
      "text/plain": [
       "36761456.352013275"
      ]
     },
     "execution_count": 102,
     "metadata": {},
     "output_type": "execute_result"
    }
   ],
   "source": [
    "MSE = SSE / len(result)\n",
    "MSE"
   ]
  },
  {
   "cell_type": "code",
   "execution_count": 103,
   "metadata": {},
   "outputs": [
    {
     "data": {
      "text/plain": [
       "6063.122656850452"
      ]
     },
     "execution_count": 103,
     "metadata": {},
     "output_type": "execute_result"
    }
   ],
   "source": [
    "RMSE = np.sqrt(MSE)\n",
    "RMSE"
   ]
  },
  {
   "cell_type": "code",
   "execution_count": 110,
   "metadata": {},
   "outputs": [],
   "source": [
    "SST = ((y_test - y_train.mean()) ** 2).sum()"
   ]
  },
  {
   "cell_type": "code",
   "execution_count": 113,
   "metadata": {},
   "outputs": [
    {
     "name": "stdout",
     "output_type": "stream",
     "text": [
      "0.2594002695488974\n"
     ]
    }
   ],
   "source": [
    "print(SSE/SST)\n",
    "\n",
    "\"\"\"\n",
    "What is expected?\n",
    "A. Positive\n",
    "B. < 1 \n",
    "\"\"\";"
   ]
  },
  {
   "cell_type": "code",
   "execution_count": 114,
   "metadata": {},
   "outputs": [
    {
     "data": {
      "text/plain": [
       "0.7405997304511026"
      ]
     },
     "execution_count": 114,
     "metadata": {},
     "output_type": "execute_result"
    }
   ],
   "source": [
    "r2 = 1 - SSE/SST # Expected value range between 0 to 1. 1 is the best value.\n",
    "r2 # Goodness of the model"
   ]
  },
  {
   "cell_type": "code",
   "execution_count": 115,
   "metadata": {},
   "outputs": [],
   "source": [
    "from sklearn import metrics"
   ]
  },
  {
   "cell_type": "code",
   "execution_count": 123,
   "metadata": {},
   "outputs": [
    {
     "name": "stdout",
     "output_type": "stream",
     "text": [
      "Training rmse:  6039.6018713245385\n",
      "Test rmse:  6063.122656850452\n",
      "Training r2:  0.7545557492633161\n",
      "Test r2:  0.7405989316927211\n"
     ]
    }
   ],
   "source": [
    "training_rmse = np.sqrt(metrics.mean_squared_error(y_train, y_train_pred))\n",
    "test_rmse = np.sqrt(metrics.mean_squared_error(y_test, y_test_pred))\n",
    "training_r2 = metrics.r2_score(y_train, y_train_pred)\n",
    "test_r2 = metrics.r2_score(y_test, y_test_pred)\n",
    "\n",
    "print(\"Training rmse: \", training_rmse)\n",
    "print(\"Test rmse: \", test_rmse)\n",
    "print(\"Training r2: \", training_r2)\n",
    "print(\"Test r2: \", test_r2)"
   ]
  },
  {
   "cell_type": "code",
   "execution_count": 124,
   "metadata": {},
   "outputs": [
    {
     "name": "stdout",
     "output_type": "stream",
     "text": [
      "Training rmse:  6039.6018713245385\n",
      "Test rmse:  6063.122656850452\n",
      "Training r2:  0.7545557492633161\n",
      "Test r2:  0.7405989316927211\n"
     ]
    }
   ],
   "source": [
    "target = \"charges\"\n",
    "# Feature matrix, does not contain the target var\n",
    "X = df.drop(columns=[target]) \n",
    "\n",
    "# label - dependent variable\n",
    "y = df[target] \n",
    "\n",
    "# One hot encoding for categorical variables\n",
    "X_dummy = pd.get_dummies(X, drop_first=True) \n",
    "\n",
    "# splitting the data into training and test sets. \n",
    "# training dataset - we build the model\n",
    "# testing dataset - we validate or test the model performance\n",
    "X_train, X_test, y_train, y_test = \\\n",
    "    model_selection.train_test_split(X_dummy, y\n",
    "                     , test_size = 0.3 # controls the size of test data ... it a number between 0 and 1\n",
    "                     , random_state = 1 # reproduce the the randomness\n",
    "                    )\n",
    "                    \n",
    "scaler = preprocessing.StandardScaler()\n",
    "scaler.fit(X_train) # calculates the mean and std for each column\n",
    "X_train_std = scaler.transform(X_train) # calculates the z -score based \n",
    "X_test_std = scaler.transform(X_test) # calculates the z-score by re-using the mean and std of the training dataset\n",
    "\n",
    "\n",
    "lr = linear_model.LinearRegression() # helps find the theta values \n",
    "lr.fit(X_train_std, y_train) # Number of theta depends on the features in X\n",
    "\n",
    "# Calculate the prediction\n",
    "y_train_pred = lr.predict(X_train_std)\n",
    "y_test_pred = lr.predict(X_test_std)\n",
    "\n",
    "training_rmse = np.sqrt(metrics.mean_squared_error(y_train, y_train_pred))\n",
    "test_rmse = np.sqrt(metrics.mean_squared_error(y_test, y_test_pred))\n",
    "training_r2 = metrics.r2_score(y_train, y_train_pred)\n",
    "test_r2 = metrics.r2_score(y_test, y_test_pred)\n",
    "\n",
    "print(\"Training rmse: \", training_rmse)\n",
    "print(\"Test rmse: \", test_rmse)\n",
    "print(\"Training r2: \", training_r2)\n",
    "print(\"Test r2: \", test_r2)\n",
    "\n",
    "\n"
   ]
  },
  {
   "cell_type": "code",
   "execution_count": null,
   "metadata": {},
   "outputs": [],
   "source": []
  }
 ],
 "metadata": {
  "kernelspec": {
   "display_name": "Python 3",
   "language": "python",
   "name": "python3"
  },
  "language_info": {
   "codemirror_mode": {
    "name": "ipython",
    "version": 3
   },
   "file_extension": ".py",
   "mimetype": "text/x-python",
   "name": "python",
   "nbconvert_exporter": "python",
   "pygments_lexer": "ipython3",
   "version": "3.6.6"
  }
 },
 "nbformat": 4,
 "nbformat_minor": 2
}
