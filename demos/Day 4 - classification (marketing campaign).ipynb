{
 "cells": [
  {
   "cell_type": "code",
   "execution_count": 11,
   "metadata": {},
   "outputs": [],
   "source": [
    "import pandas as pd\n",
    "pd.options.display.max_columns = 1000\n",
    "pd.options.display.max_rows = 10\n",
    "\n",
    "from sklearn import *\n",
    "import seaborn as sns\n",
    "\n",
    "from mlxtend.plotting import plot_confusion_matrix\n",
    "\n",
    "import numpy as np\n",
    "%matplotlib inline"
   ]
  },
  {
   "cell_type": "code",
   "execution_count": 4,
   "metadata": {},
   "outputs": [
    {
     "data": {
      "text/html": [
       "<div>\n",
       "<style scoped>\n",
       "    .dataframe tbody tr th:only-of-type {\n",
       "        vertical-align: middle;\n",
       "    }\n",
       "\n",
       "    .dataframe tbody tr th {\n",
       "        vertical-align: top;\n",
       "    }\n",
       "\n",
       "    .dataframe thead th {\n",
       "        text-align: right;\n",
       "    }\n",
       "</style>\n",
       "<table border=\"1\" class=\"dataframe\">\n",
       "  <thead>\n",
       "    <tr style=\"text-align: right;\">\n",
       "      <th></th>\n",
       "      <th>age</th>\n",
       "      <th>job</th>\n",
       "      <th>marital</th>\n",
       "      <th>education</th>\n",
       "      <th>default</th>\n",
       "      <th>balance</th>\n",
       "      <th>housing</th>\n",
       "      <th>loan</th>\n",
       "      <th>contact</th>\n",
       "      <th>day</th>\n",
       "      <th>month</th>\n",
       "      <th>duration</th>\n",
       "      <th>campaign</th>\n",
       "      <th>pdays</th>\n",
       "      <th>previous</th>\n",
       "      <th>poutcome</th>\n",
       "      <th>y</th>\n",
       "    </tr>\n",
       "  </thead>\n",
       "  <tbody>\n",
       "    <tr>\n",
       "      <th>0</th>\n",
       "      <td>58</td>\n",
       "      <td>management</td>\n",
       "      <td>married</td>\n",
       "      <td>tertiary</td>\n",
       "      <td>no</td>\n",
       "      <td>2143</td>\n",
       "      <td>yes</td>\n",
       "      <td>no</td>\n",
       "      <td>unknown</td>\n",
       "      <td>5</td>\n",
       "      <td>may</td>\n",
       "      <td>261</td>\n",
       "      <td>1</td>\n",
       "      <td>-1</td>\n",
       "      <td>0</td>\n",
       "      <td>unknown</td>\n",
       "      <td>no</td>\n",
       "    </tr>\n",
       "    <tr>\n",
       "      <th>1</th>\n",
       "      <td>44</td>\n",
       "      <td>technician</td>\n",
       "      <td>single</td>\n",
       "      <td>secondary</td>\n",
       "      <td>no</td>\n",
       "      <td>29</td>\n",
       "      <td>yes</td>\n",
       "      <td>no</td>\n",
       "      <td>unknown</td>\n",
       "      <td>5</td>\n",
       "      <td>may</td>\n",
       "      <td>151</td>\n",
       "      <td>1</td>\n",
       "      <td>-1</td>\n",
       "      <td>0</td>\n",
       "      <td>unknown</td>\n",
       "      <td>no</td>\n",
       "    </tr>\n",
       "    <tr>\n",
       "      <th>2</th>\n",
       "      <td>33</td>\n",
       "      <td>entrepreneur</td>\n",
       "      <td>married</td>\n",
       "      <td>secondary</td>\n",
       "      <td>no</td>\n",
       "      <td>2</td>\n",
       "      <td>yes</td>\n",
       "      <td>yes</td>\n",
       "      <td>unknown</td>\n",
       "      <td>5</td>\n",
       "      <td>may</td>\n",
       "      <td>76</td>\n",
       "      <td>1</td>\n",
       "      <td>-1</td>\n",
       "      <td>0</td>\n",
       "      <td>unknown</td>\n",
       "      <td>no</td>\n",
       "    </tr>\n",
       "    <tr>\n",
       "      <th>3</th>\n",
       "      <td>47</td>\n",
       "      <td>blue-collar</td>\n",
       "      <td>married</td>\n",
       "      <td>unknown</td>\n",
       "      <td>no</td>\n",
       "      <td>1506</td>\n",
       "      <td>yes</td>\n",
       "      <td>no</td>\n",
       "      <td>unknown</td>\n",
       "      <td>5</td>\n",
       "      <td>may</td>\n",
       "      <td>92</td>\n",
       "      <td>1</td>\n",
       "      <td>-1</td>\n",
       "      <td>0</td>\n",
       "      <td>unknown</td>\n",
       "      <td>no</td>\n",
       "    </tr>\n",
       "    <tr>\n",
       "      <th>4</th>\n",
       "      <td>33</td>\n",
       "      <td>unknown</td>\n",
       "      <td>single</td>\n",
       "      <td>unknown</td>\n",
       "      <td>no</td>\n",
       "      <td>1</td>\n",
       "      <td>no</td>\n",
       "      <td>no</td>\n",
       "      <td>unknown</td>\n",
       "      <td>5</td>\n",
       "      <td>may</td>\n",
       "      <td>198</td>\n",
       "      <td>1</td>\n",
       "      <td>-1</td>\n",
       "      <td>0</td>\n",
       "      <td>unknown</td>\n",
       "      <td>no</td>\n",
       "    </tr>\n",
       "  </tbody>\n",
       "</table>\n",
       "</div>"
      ],
      "text/plain": [
       "   age           job  marital  education default  balance housing loan  \\\n",
       "0   58    management  married   tertiary      no     2143     yes   no   \n",
       "1   44    technician   single  secondary      no       29     yes   no   \n",
       "2   33  entrepreneur  married  secondary      no        2     yes  yes   \n",
       "3   47   blue-collar  married    unknown      no     1506     yes   no   \n",
       "4   33       unknown   single    unknown      no        1      no   no   \n",
       "\n",
       "   contact  day month  duration  campaign  pdays  previous poutcome   y  \n",
       "0  unknown    5   may       261         1     -1         0  unknown  no  \n",
       "1  unknown    5   may       151         1     -1         0  unknown  no  \n",
       "2  unknown    5   may        76         1     -1         0  unknown  no  \n",
       "3  unknown    5   may        92         1     -1         0  unknown  no  \n",
       "4  unknown    5   may       198         1     -1         0  unknown  no  "
      ]
     },
     "execution_count": 4,
     "metadata": {},
     "output_type": "execute_result"
    }
   ],
   "source": [
    "df = pd.read_csv(\"/data/bank-full.csv\", sep = \";\")\n",
    "df.head()"
   ]
  },
  {
   "cell_type": "code",
   "execution_count": 25,
   "metadata": {},
   "outputs": [
    {
     "data": {
      "text/plain": [
       "<matplotlib.axes._subplots.AxesSubplot at 0x1a21038ac8>"
      ]
     },
     "execution_count": 25,
     "metadata": {},
     "output_type": "execute_result"
    },
    {
     "data": {
      "image/png": "[encoded data removed]",
      "text/plain": [
       "<Figure size 432x288 with 1 Axes>"
      ]
     },
     "metadata": {},
     "output_type": "display_data"
    }
   ],
   "source": [
    "sns.boxplot(\"age\", \"y\", orient=\"h\", data=df)"
   ]
  },
  {
   "cell_type": "code",
   "execution_count": 7,
   "metadata": {},
   "outputs": [
    {
     "data": {
      "text/plain": [
       "no     39922\n",
       "yes     5289\n",
       "Name: y, dtype: int64"
      ]
     },
     "execution_count": 7,
     "metadata": {},
     "output_type": "execute_result"
    }
   ],
   "source": [
    "df.y.value_counts()"
   ]
  },
  {
   "cell_type": "code",
   "execution_count": 9,
   "metadata": {},
   "outputs": [
    {
     "data": {
      "text/plain": [
       "no     0.883015\n",
       "yes    0.116985\n",
       "Name: y, dtype: float64"
      ]
     },
     "execution_count": 9,
     "metadata": {},
     "output_type": "execute_result"
    }
   ],
   "source": [
    "df.y.value_counts()/len(df)"
   ]
  },
  {
   "cell_type": "code",
   "execution_count": 17,
   "metadata": {},
   "outputs": [
    {
     "name": "stdout",
     "output_type": "stream",
     "text": [
      "train accuracy: 0.902960786172465\n",
      "test accuracy: 0.9006930109112357\n",
      "train precision: 0.6648541769649036\n",
      "test precision: 0.6208530805687204\n",
      "train recall: 0.35981808453718567\n",
      "test recall: 0.33784655061250807\n"
     ]
    },
    {
     "data": {
      "image/png": "[encoded data removed]",
      "text/plain": [
       "<Figure size 180x180 with 1 Axes>"
      ]
     },
     "metadata": {},
     "output_type": "display_data"
    }
   ],
   "source": [
    "target = \"y\"\n",
    "# Feature matrix, does not contain the target var\n",
    "X = df.drop(columns=[target]) \n",
    "\n",
    "\n",
    "# label - dependent variable\n",
    "y = preprocessing.LabelEncoder().fit_transform(df[target])\n",
    "\n",
    "# One hot encoding for categorical variables\n",
    "X_dummy = pd.get_dummies(X, drop_first=True) \n",
    "\n",
    "# splitting the data into training and test sets. \n",
    "# training dataset - we build the model\n",
    "# testing dataset - we validate or test the model performance\n",
    "X_train, X_test, y_train, y_test = \\\n",
    "    model_selection.train_test_split(X_dummy, y\n",
    "                     , test_size = 0.3 # controls the size of test data ... it a number between 0 and 1\n",
    "                     , random_state = 1 # reproduce the the randomness\n",
    "                    )\n",
    "                    \n",
    "# Pipeline encapsulates multiple operations \n",
    "# Idea is that when you feed data into the pipeline steps \n",
    "# are executed in chained fashion\n",
    "pipe = pipeline.Pipeline([\n",
    "    # Degree 2, at most power terms of an feature will be 2\n",
    "    #(\"poly\", preprocessing.PolynomialFeatures(degree=1, include_bias=False)),\n",
    "    (\"scaler\", preprocessing.StandardScaler()),\n",
    "    # alpha: regularization parameter, alpha > 0\n",
    "    (\"est\", linear_model.LogisticRegression())\n",
    "])\n",
    "\n",
    "# Using fit on pipe will fit invidual steps \n",
    "pipe.fit(X_train, y_train)\n",
    "\n",
    "# Calculate the prediction\n",
    "y_train_pred = pipe.predict(X_train)\n",
    "y_test_pred = pipe.predict(X_test)\n",
    "\n",
    "plot_confusion_matrix(metrics.confusion_matrix(y_test, y_test_pred))\n",
    "\n",
    "print(\"train accuracy:\", metrics.accuracy_score(y_train, y_train_pred))\n",
    "print(\"test accuracy:\", metrics.accuracy_score(y_test, y_test_pred))\n",
    "\n",
    "print(\"train precision:\", metrics.precision_score(y_train, y_train_pred))\n",
    "print(\"test precision:\", metrics.precision_score(y_test, y_test_pred))\n",
    "\n",
    "print(\"train recall:\", metrics.recall_score(y_train, y_train_pred))\n",
    "print(\"test recall:\", metrics.recall_score(y_test, y_test_pred))"
   ]
  },
  {
   "cell_type": "code",
   "execution_count": 27,
   "metadata": {},
   "outputs": [
    {
     "name": "stdout",
     "output_type": "stream",
     "text": [
      "train accuracy: 0.9286188264290454\n",
      "test accuracy: 0.8973754054851076\n",
      "train precision: 0.7917159763313609\n",
      "test precision: 0.5743685687558466\n",
      "train recall: 0.5369181380417335\n",
      "test recall: 0.39587362991618313\n"
     ]
    },
    {
     "data": {
      "image/png": "[encoded data removed]",
      "text/plain": [
       "<Figure size 180x180 with 1 Axes>"
      ]
     },
     "metadata": {},
     "output_type": "display_data"
    }
   ],
   "source": [
    "target = \"y\"\n",
    "# Feature matrix, does not contain the target var\n",
    "X = df.drop(columns=[target]) \n",
    "\n",
    "\n",
    "# label - dependent variable\n",
    "y = preprocessing.LabelEncoder().fit_transform(df[target])\n",
    "\n",
    "# One hot encoding for categorical variables\n",
    "X_dummy = pd.get_dummies(X, drop_first=True) \n",
    "\n",
    "# splitting the data into training and test sets. \n",
    "# training dataset - we build the model\n",
    "# testing dataset - we validate or test the model performance\n",
    "X_train, X_test, y_train, y_test = \\\n",
    "    model_selection.train_test_split(X_dummy, y\n",
    "                     , test_size = 0.3 # controls the size of test data ... it a number between 0 and 1\n",
    "                     , random_state = 1 # reproduce the the randomness\n",
    "                    )\n",
    "                    \n",
    "# Pipeline encapsulates multiple operations \n",
    "# Idea is that when you feed data into the pipeline steps \n",
    "# are executed in chained fashion\n",
    "pipe = pipeline.Pipeline([\n",
    "    # Degree 2, at most power terms of an feature will be 2\n",
    "    #(\"poly\", preprocessing.PolynomialFeatures(degree=1, include_bias=False)),\n",
    "    (\"scaler\", preprocessing.StandardScaler()),\n",
    "    # alpha: regularization parameter, alpha > 0\n",
    "    (\"est\", tree.DecisionTreeClassifier(max_depth=10))\n",
    "])\n",
    "\n",
    "# Using fit on pipe will fit invidual steps \n",
    "pipe.fit(X_train, y_train)\n",
    "\n",
    "# Calculate the prediction\n",
    "y_train_pred = pipe.predict(X_train)\n",
    "y_test_pred = pipe.predict(X_test)\n",
    "\n",
    "plot_confusion_matrix(metrics.confusion_matrix(y_test, y_test_pred))\n",
    "\n",
    "print(\"train accuracy:\", metrics.accuracy_score(y_train, y_train_pred))\n",
    "print(\"test accuracy:\", metrics.accuracy_score(y_test, y_test_pred))\n",
    "\n",
    "print(\"train precision:\", metrics.precision_score(y_train, y_train_pred))\n",
    "print(\"test precision:\", metrics.precision_score(y_test, y_test_pred))\n",
    "\n",
    "print(\"train recall:\", metrics.recall_score(y_train, y_train_pred))\n",
    "print(\"test recall:\", metrics.recall_score(y_test, y_test_pred))"
   ]
  },
  {
   "cell_type": "code",
   "execution_count": 38,
   "metadata": {},
   "outputs": [
    {
     "name": "stdout",
     "output_type": "stream",
     "text": [
      "train accuracy: 0.9339589850538755\n",
      "test accuracy: 0.9075493954585668\n",
      "train precision: 0.8441938178780284\n",
      "test precision: 0.6519959058341863\n",
      "train recall: 0.5406634563937934\n",
      "test recall: 0.41070277240490005\n"
     ]
    },
    {
     "data": {
      "image/png": "[encoded data removed]",
      "text/plain": [
       "<Figure size 180x180 with 1 Axes>"
      ]
     },
     "metadata": {},
     "output_type": "display_data"
    }
   ],
   "source": [
    "target = \"y\"\n",
    "# Feature matrix, does not contain the target var\n",
    "X = df.drop(columns=[target]) \n",
    "\n",
    "\n",
    "# label - dependent variable\n",
    "# Label encoder convert the categorical value \n",
    "# in the target variable with index\n",
    "y = preprocessing.LabelEncoder().fit_transform(df[target])\n",
    "\n",
    "# One hot encoding for categorical variables\n",
    "X_dummy = pd.get_dummies(X, drop_first=True) \n",
    "\n",
    "# splitting the data into training and test sets. \n",
    "# training dataset - we build the model\n",
    "# testing dataset - we validate or test the model performance\n",
    "X_train, X_test, y_train, y_test = \\\n",
    "    model_selection.train_test_split(X_dummy, y\n",
    "                     , test_size = 0.3 # controls the size of test data ... it a number between 0 and 1\n",
    "                     , random_state = 1 # reproduce the the randomness\n",
    "                    )\n",
    "                    \n",
    "# Pipeline encapsulates multiple operations \n",
    "# Idea is that when you feed data into the pipeline steps \n",
    "# are executed in chained fashion\n",
    "pipe = pipeline.Pipeline([\n",
    "    # Degree 2, at most power terms of an feature will be 2\n",
    "    #(\"poly\", preprocessing.PolynomialFeatures(degree=1, include_bias=False)),\n",
    "    #(\"scaler\", preprocessing.StandardScaler()),\n",
    "    # alpha: regularization parameter, alpha > 0\n",
    "    (\"est\", ensemble.RandomForestClassifier(n_estimators=20\n",
    "                                            , random_state=1\n",
    "                                            , max_features=0.5\n",
    "                                            , max_depth=10))\n",
    "])\n",
    "\n",
    "# Using fit on pipe will fit invidual steps \n",
    "pipe.fit(X_train, y_train)\n",
    "\n",
    "# Calculate the prediction\n",
    "y_train_pred = pipe.predict(X_train)\n",
    "y_test_pred = pipe.predict(X_test)\n",
    "\n",
    "plot_confusion_matrix(metrics.confusion_matrix(y_test, y_test_pred))\n",
    "\n",
    "print(\"train accuracy:\", metrics.accuracy_score(y_train, y_train_pred))\n",
    "print(\"test accuracy:\", metrics.accuracy_score(y_test, y_test_pred))\n",
    "\n",
    "print(\"train precision:\", metrics.precision_score(y_train, y_train_pred))\n",
    "print(\"test precision:\", metrics.precision_score(y_test, y_test_pred))\n",
    "\n",
    "print(\"train recall:\", metrics.recall_score(y_train, y_train_pred))\n",
    "print(\"test recall:\", metrics.recall_score(y_test, y_test_pred))\n"
   ]
  },
  {
   "cell_type": "code",
   "execution_count": null,
   "metadata": {},
   "outputs": [],
   "source": []
  }
 ],
 "metadata": {
  "kernelspec": {
   "display_name": "Python 3",
   "language": "python",
   "name": "python3"
  },
  "language_info": {
   "codemirror_mode": {
    "name": "ipython",
    "version": 3
   },
   "file_extension": ".py",
   "mimetype": "text/x-python",
   "name": "python",
   "nbconvert_exporter": "python",
   "pygments_lexer": "ipython3",
   "version": "3.6.6"
  }
 },
 "nbformat": 4,
 "nbformat_minor": 2
}
