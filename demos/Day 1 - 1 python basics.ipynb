{
 "cells": [
  {
   "cell_type": "code",
   "execution_count": 1,
   "metadata": {},
   "outputs": [
    {
     "name": "stdout",
     "output_type": "stream",
     "text": [
      "welcome\n"
     ]
    }
   ],
   "source": [
    "print(\"welcome\")"
   ]
  },
  {
   "cell_type": "code",
   "execution_count": 2,
   "metadata": {},
   "outputs": [],
   "source": [
    "x = 1"
   ]
  },
  {
   "cell_type": "code",
   "execution_count": 3,
   "metadata": {},
   "outputs": [
    {
     "data": {
      "text/plain": [
       "int"
      ]
     },
     "execution_count": 3,
     "metadata": {},
     "output_type": "execute_result"
    }
   ],
   "source": [
    "type(x)"
   ]
  },
  {
   "cell_type": "code",
   "execution_count": 4,
   "metadata": {},
   "outputs": [],
   "source": [
    "x = 1.0"
   ]
  },
  {
   "cell_type": "code",
   "execution_count": 5,
   "metadata": {},
   "outputs": [
    {
     "data": {
      "text/plain": [
       "float"
      ]
     },
     "execution_count": 5,
     "metadata": {},
     "output_type": "execute_result"
    }
   ],
   "source": [
    "type(x)"
   ]
  },
  {
   "cell_type": "code",
   "execution_count": 22,
   "metadata": {},
   "outputs": [],
   "source": [
    "flag = True"
   ]
  },
  {
   "cell_type": "code",
   "execution_count": 7,
   "metadata": {},
   "outputs": [],
   "source": [
    "is_test = True"
   ]
  },
  {
   "cell_type": "code",
   "execution_count": 21,
   "metadata": {},
   "outputs": [
    {
     "data": {
      "text/plain": [
       "bool"
      ]
     },
     "execution_count": 21,
     "metadata": {},
     "output_type": "execute_result"
    }
   ],
   "source": [
    "type(is_test)"
   ]
  },
  {
   "cell_type": "code",
   "execution_count": 27,
   "metadata": {},
   "outputs": [
    {
     "name": "stdout",
     "output_type": "stream",
     "text": [
      "value of x :  10\n",
      "x is even number\n"
     ]
    }
   ],
   "source": [
    "x = 10\n",
    "if x % 2 == 0:\n",
    "    print(\"value of x : \", x)\n",
    "    print(\"x is even number\")\n",
    "else:\n",
    "    print(\"x is odd\")"
   ]
  },
  {
   "cell_type": "code",
   "execution_count": 30,
   "metadata": {},
   "outputs": [
    {
     "name": "stdout",
     "output_type": "stream",
     "text": [
      "x is odd\n"
     ]
    }
   ],
   "source": [
    "x = 11\n",
    "print(\"x is even\") if x % 2 == 0 else print(\"x is odd\")"
   ]
  },
  {
   "cell_type": "code",
   "execution_count": 33,
   "metadata": {},
   "outputs": [
    {
     "name": "stdout",
     "output_type": "stream",
     "text": [
      "x is odd\n"
     ]
    }
   ],
   "source": [
    "x = 11\n",
    "result = \"even\" if x % 2 == 0 else \"odd\"\n",
    "print(\"x is\", result)"
   ]
  },
  {
   "cell_type": "code",
   "execution_count": 34,
   "metadata": {},
   "outputs": [
    {
     "data": {
      "text/plain": [
       "False"
      ]
     },
     "execution_count": 34,
     "metadata": {},
     "output_type": "execute_result"
    }
   ],
   "source": [
    "def is_even(x):\n",
    "    result = True if x % 2 == 0 else False\n",
    "    return result\n",
    "is_even(11)"
   ]
  },
  {
   "cell_type": "code",
   "execution_count": 35,
   "metadata": {},
   "outputs": [
    {
     "data": {
      "text/plain": [
       "True"
      ]
     },
     "execution_count": 35,
     "metadata": {},
     "output_type": "execute_result"
    }
   ],
   "source": [
    "is_even(14)"
   ]
  },
  {
   "cell_type": "code",
   "execution_count": 36,
   "metadata": {},
   "outputs": [
    {
     "data": {
      "text/plain": [
       "(False, True)"
      ]
     },
     "execution_count": 36,
     "metadata": {},
     "output_type": "execute_result"
    }
   ],
   "source": [
    "def is_even(x):\n",
    "    return x % 2 == 0 \n",
    "is_even(11), is_even(14)"
   ]
  },
  {
   "cell_type": "code",
   "execution_count": 37,
   "metadata": {},
   "outputs": [
    {
     "data": {
      "text/plain": [
       "7"
      ]
     },
     "execution_count": 37,
     "metadata": {},
     "output_type": "execute_result"
    }
   ],
   "source": [
    "# Add two numbers\n",
    "def add(x1, x2):\n",
    "    return x1 + x2\n",
    "\n",
    "add(3, 4)"
   ]
  },
  {
   "cell_type": "code",
   "execution_count": 39,
   "metadata": {},
   "outputs": [
    {
     "data": {
      "text/plain": [
       "9.0"
      ]
     },
     "execution_count": 39,
     "metadata": {},
     "output_type": "execute_result"
    }
   ],
   "source": [
    "add(3.4, 5.6)"
   ]
  },
  {
   "cell_type": "code",
   "execution_count": 66,
   "metadata": {},
   "outputs": [
    {
     "data": {
      "text/plain": [
       "'helloworld'"
      ]
     },
     "execution_count": 66,
     "metadata": {},
     "output_type": "execute_result"
    }
   ],
   "source": [
    "add(\"hello\", \"world\")"
   ]
  },
  {
   "cell_type": "code",
   "execution_count": 40,
   "metadata": {},
   "outputs": [
    {
     "data": {
      "text/plain": [
       "list"
      ]
     },
     "execution_count": 40,
     "metadata": {},
     "output_type": "execute_result"
    }
   ],
   "source": [
    "x = [3, 5, 7, 8]\n",
    "type(x)"
   ]
  },
  {
   "cell_type": "code",
   "execution_count": 41,
   "metadata": {},
   "outputs": [
    {
     "data": {
      "text/plain": [
       "4"
      ]
     },
     "execution_count": 41,
     "metadata": {},
     "output_type": "execute_result"
    }
   ],
   "source": [
    "len(x)"
   ]
  },
  {
   "cell_type": "code",
   "execution_count": 42,
   "metadata": {},
   "outputs": [
    {
     "data": {
      "text/plain": [
       "list"
      ]
     },
     "execution_count": 42,
     "metadata": {},
     "output_type": "execute_result"
    }
   ],
   "source": [
    "x = [3, 5, 7, \"eight\"]\n",
    "type(x)"
   ]
  },
  {
   "cell_type": "code",
   "execution_count": 43,
   "metadata": {},
   "outputs": [
    {
     "data": {
      "text/plain": [
       "3"
      ]
     },
     "execution_count": 43,
     "metadata": {},
     "output_type": "execute_result"
    }
   ],
   "source": [
    "x[0]"
   ]
  },
  {
   "cell_type": "code",
   "execution_count": 44,
   "metadata": {},
   "outputs": [
    {
     "data": {
      "text/plain": [
       "7"
      ]
     },
     "execution_count": 44,
     "metadata": {},
     "output_type": "execute_result"
    }
   ],
   "source": [
    "x[2]"
   ]
  },
  {
   "cell_type": "code",
   "execution_count": 46,
   "metadata": {},
   "outputs": [
    {
     "data": {
      "text/plain": [
       "['b', 'c', 'd']"
      ]
     },
     "execution_count": 46,
     "metadata": {},
     "output_type": "execute_result"
    }
   ],
   "source": [
    "x = [\"a\", \"b\", \"c\", \"d\", \"e\", \"f\", \"g\", \"h\"]\n",
    "x[1:4] # Slicing "
   ]
  },
  {
   "cell_type": "code",
   "execution_count": 47,
   "metadata": {},
   "outputs": [
    {
     "data": {
      "text/plain": [
       "['a', 'b', 'c']"
      ]
     },
     "execution_count": 47,
     "metadata": {},
     "output_type": "execute_result"
    }
   ],
   "source": [
    "x[:3]"
   ]
  },
  {
   "cell_type": "code",
   "execution_count": 48,
   "metadata": {},
   "outputs": [
    {
     "data": {
      "text/plain": [
       "'h'"
      ]
     },
     "execution_count": 48,
     "metadata": {},
     "output_type": "execute_result"
    }
   ],
   "source": [
    "x[-1]"
   ]
  },
  {
   "cell_type": "code",
   "execution_count": 49,
   "metadata": {},
   "outputs": [
    {
     "data": {
      "text/plain": [
       "['f', 'g', 'h']"
      ]
     },
     "execution_count": 49,
     "metadata": {},
     "output_type": "execute_result"
    }
   ],
   "source": [
    "x[-3:]"
   ]
  },
  {
   "cell_type": "code",
   "execution_count": 50,
   "metadata": {},
   "outputs": [],
   "source": [
    "email = \"abulbasar@gmail.com\""
   ]
  },
  {
   "cell_type": "code",
   "execution_count": 51,
   "metadata": {},
   "outputs": [
    {
     "data": {
      "text/plain": [
       "str"
      ]
     },
     "execution_count": 51,
     "metadata": {},
     "output_type": "execute_result"
    }
   ],
   "source": [
    "type(email)"
   ]
  },
  {
   "cell_type": "code",
   "execution_count": 52,
   "metadata": {},
   "outputs": [
    {
     "data": {
      "text/plain": [
       "19"
      ]
     },
     "execution_count": 52,
     "metadata": {},
     "output_type": "execute_result"
    }
   ],
   "source": [
    "len(email)"
   ]
  },
  {
   "cell_type": "code",
   "execution_count": 53,
   "metadata": {},
   "outputs": [
    {
     "data": {
      "text/plain": [
       "'.com'"
      ]
     },
     "execution_count": 53,
     "metadata": {},
     "output_type": "execute_result"
    }
   ],
   "source": [
    "email[-4:]"
   ]
  },
  {
   "cell_type": "code",
   "execution_count": 54,
   "metadata": {},
   "outputs": [
    {
     "data": {
      "text/plain": [
       "[4, 9, -1, 1, 3]"
      ]
     },
     "execution_count": 54,
     "metadata": {},
     "output_type": "execute_result"
    }
   ],
   "source": [
    "x = [4, 9, -1,1, 3]\n",
    "x"
   ]
  },
  {
   "cell_type": "code",
   "execution_count": 58,
   "metadata": {},
   "outputs": [
    {
     "data": {
      "text/plain": [
       "[-1, 1, 3, 4, 9]"
      ]
     },
     "execution_count": 58,
     "metadata": {},
     "output_type": "execute_result"
    }
   ],
   "source": [
    "sorted(x)"
   ]
  },
  {
   "cell_type": "code",
   "execution_count": 57,
   "metadata": {},
   "outputs": [
    {
     "data": {
      "text/plain": [
       "[9, 4, 3, 1, -1]"
      ]
     },
     "execution_count": 57,
     "metadata": {},
     "output_type": "execute_result"
    }
   ],
   "source": [
    "sorted(x, reverse=True)"
   ]
  },
  {
   "cell_type": "code",
   "execution_count": 60,
   "metadata": {},
   "outputs": [
    {
     "data": {
      "text/plain": [
       "[0, 1, -1, -3, 4, 9]"
      ]
     },
     "execution_count": 60,
     "metadata": {},
     "output_type": "execute_result"
    }
   ],
   "source": [
    "def to_abs(v):\n",
    "    return v if v>=0 else -v\n",
    "    \n",
    "x = [9, 4, 1, -3, -1, 0, ]\n",
    "sorted(x, key=to_abs)"
   ]
  },
  {
   "cell_type": "code",
   "execution_count": 61,
   "metadata": {},
   "outputs": [
    {
     "data": {
      "text/plain": [
       "[0, 1, -1, -3, 4, 9]"
      ]
     },
     "execution_count": 61,
     "metadata": {},
     "output_type": "execute_result"
    }
   ],
   "source": [
    "x = [9, 4, 1, -3, -1, 0, ]\n",
    "sorted(x, key=lambda v: v if v>0 else -v)"
   ]
  },
  {
   "cell_type": "code",
   "execution_count": 62,
   "metadata": {},
   "outputs": [],
   "source": [
    "import math"
   ]
  },
  {
   "cell_type": "code",
   "execution_count": 68,
   "metadata": {},
   "outputs": [
    {
     "data": {
      "text/plain": [
       "[0, 1, -1, -3, 4, 9]"
      ]
     },
     "execution_count": 68,
     "metadata": {},
     "output_type": "execute_result"
    }
   ],
   "source": [
    "x = [9, 4, 1, -3, -1, 0, ]\n",
    "y = sorted(x, key=math.fabs) # Duck typing \n",
    "y "
   ]
  },
  {
   "cell_type": "code",
   "execution_count": 69,
   "metadata": {},
   "outputs": [
    {
     "data": {
      "text/plain": [
       "int"
      ]
     },
     "execution_count": 69,
     "metadata": {},
     "output_type": "execute_result"
    }
   ],
   "source": [
    "type(y[0])"
   ]
  },
  {
   "cell_type": "code",
   "execution_count": 70,
   "metadata": {},
   "outputs": [
    {
     "name": "stdout",
     "output_type": "stream",
     "text": [
      "10 is not present\n"
     ]
    }
   ],
   "source": [
    "x = [9, 4, 1, -3, -1, 0, ]\n",
    "if 10 in x:\n",
    "    print(\"10 is present in list x\")\n",
    "else:\n",
    "    print(\"10 is not present\")"
   ]
  },
  {
   "cell_type": "code",
   "execution_count": 72,
   "metadata": {},
   "outputs": [
    {
     "name": "stdout",
     "output_type": "stream",
     "text": [
      "9 is present in list x\n"
     ]
    }
   ],
   "source": [
    "x = [9, 4, 1, -3, -1, 0, 1]\n",
    "if 9 in x:\n",
    "    print(\"9 is present in list x\")\n",
    "else:\n",
    "    print(\"9 is not present\")"
   ]
  },
  {
   "cell_type": "code",
   "execution_count": 74,
   "metadata": {},
   "outputs": [
    {
     "data": {
      "text/plain": [
       "True"
      ]
     },
     "execution_count": 74,
     "metadata": {},
     "output_type": "execute_result"
    }
   ],
   "source": [
    "9 in x # membership test"
   ]
  },
  {
   "cell_type": "code",
   "execution_count": 77,
   "metadata": {},
   "outputs": [
    {
     "data": {
      "text/plain": [
       "2"
      ]
     },
     "execution_count": 77,
     "metadata": {},
     "output_type": "execute_result"
    }
   ],
   "source": [
    "x = [9, 4, 1, -3, -1, 0, 1]\n",
    "x.index(1)"
   ]
  },
  {
   "cell_type": "code",
   "execution_count": 79,
   "metadata": {},
   "outputs": [
    {
     "data": {
      "text/plain": [
       "[1, 0, -1, -3, 1, 4, 9]"
      ]
     },
     "execution_count": 79,
     "metadata": {},
     "output_type": "execute_result"
    }
   ],
   "source": [
    "x[::-1]"
   ]
  },
  {
   "cell_type": "code",
   "execution_count": 82,
   "metadata": {},
   "outputs": [
    {
     "data": {
      "text/plain": [
       "[9, 4, 1, -3, -1, 0, 1, 20]"
      ]
     },
     "execution_count": 82,
     "metadata": {},
     "output_type": "execute_result"
    }
   ],
   "source": [
    "x = [9, 4, 1, -3, -1, 0, 1]\n",
    "x.append(20)\n",
    "x"
   ]
  },
  {
   "cell_type": "code",
   "execution_count": 83,
   "metadata": {},
   "outputs": [
    {
     "data": {
      "text/plain": [
       "[9, 20, 4, 1, -3, -1, 0, 1]"
      ]
     },
     "execution_count": 83,
     "metadata": {},
     "output_type": "execute_result"
    }
   ],
   "source": [
    "x = [9, 4, 1, -3, -1, 0, 1]\n",
    "x.insert(1, 20)\n",
    "x"
   ]
  },
  {
   "cell_type": "code",
   "execution_count": 85,
   "metadata": {},
   "outputs": [
    {
     "data": {
      "text/plain": [
       "[4, 1, -3, -1, 0, 1]"
      ]
     },
     "execution_count": 85,
     "metadata": {},
     "output_type": "execute_result"
    }
   ],
   "source": [
    "x = [9, 4, 1, -3, -1, 0, 1]\n",
    "x.remove(9)\n",
    "x"
   ]
  },
  {
   "cell_type": "code",
   "execution_count": 86,
   "metadata": {},
   "outputs": [
    {
     "data": {
      "text/plain": [
       "[9, 4, -3, -1, 0, 1]"
      ]
     },
     "execution_count": 86,
     "metadata": {},
     "output_type": "execute_result"
    }
   ],
   "source": [
    "x = [9, 4, 1, -3, -1, 0, 1]\n",
    "x.remove(1)\n",
    "x"
   ]
  },
  {
   "cell_type": "code",
   "execution_count": 90,
   "metadata": {},
   "outputs": [
    {
     "name": "stdout",
     "output_type": "stream",
     "text": [
      "10 is not present in [9, 4, 1, -3, -1, 0, 1]\n"
     ]
    }
   ],
   "source": [
    "x = [9, 4, 1, -3, -1, 0, 1]\n",
    "v = 10 \n",
    "if v in x:\n",
    "    x.remove(v)\n",
    "    print(x)\n",
    "else:\n",
    "    print(\"%d is not present in %s\" % (v, x))"
   ]
  },
  {
   "cell_type": "code",
   "execution_count": 91,
   "metadata": {},
   "outputs": [
    {
     "data": {
      "text/plain": [
       "'[9, 4, 1, -3, -1, 0, 1]'"
      ]
     },
     "execution_count": 91,
     "metadata": {},
     "output_type": "execute_result"
    }
   ],
   "source": [
    "str(x)"
   ]
  },
  {
   "cell_type": "code",
   "execution_count": 92,
   "metadata": {},
   "outputs": [
    {
     "data": {
      "text/plain": [
       "[9, 1, -3, -1, 0, 1]"
      ]
     },
     "execution_count": 92,
     "metadata": {},
     "output_type": "execute_result"
    }
   ],
   "source": [
    "x = [9, 4, 1, -3, -1, 0, 1]\n",
    "del x[1]\n",
    "x"
   ]
  },
  {
   "cell_type": "code",
   "execution_count": 101,
   "metadata": {},
   "outputs": [
    {
     "data": {
      "text/plain": [
       "[9, 5, 1, -3, -1, 0, 1]"
      ]
     },
     "execution_count": 101,
     "metadata": {},
     "output_type": "execute_result"
    }
   ],
   "source": [
    "x = [9, 4, 1, -3, -1, 0, 1]\n",
    "x[1] = 5\n",
    "x"
   ]
  },
  {
   "cell_type": "code",
   "execution_count": 94,
   "metadata": {},
   "outputs": [
    {
     "data": {
      "text/plain": [
       "tuple"
      ]
     },
     "execution_count": 94,
     "metadata": {},
     "output_type": "execute_result"
    }
   ],
   "source": [
    "x = (3, 4, 5, 5, 1, -1) # tuple is immutable\n",
    "type(x)"
   ]
  },
  {
   "cell_type": "code",
   "execution_count": 95,
   "metadata": {},
   "outputs": [
    {
     "data": {
      "text/plain": [
       "(3, 4, 5)"
      ]
     },
     "execution_count": 95,
     "metadata": {},
     "output_type": "execute_result"
    }
   ],
   "source": [
    "x[:3]"
   ]
  },
  {
   "cell_type": "code",
   "execution_count": 96,
   "metadata": {},
   "outputs": [
    {
     "ename": "AttributeError",
     "evalue": "'tuple' object has no attribute 'append'",
     "output_type": "error",
     "traceback": [
      "\u001b[0;31m---------------------------------------------------------------------------\u001b[0m",
      "\u001b[0;31mAttributeError\u001b[0m                            Traceback (most recent call last)",
      "\u001b[0;32m<ipython-input-96-c90c8611637b>\u001b[0m in \u001b[0;36m<module>\u001b[0;34m()\u001b[0m\n\u001b[0;32m----> 1\u001b[0;31m \u001b[0mx\u001b[0m\u001b[0;34m.\u001b[0m\u001b[0mappend\u001b[0m\u001b[0;34m(\u001b[0m\u001b[0;36m10\u001b[0m\u001b[0;34m)\u001b[0m\u001b[0;34m\u001b[0m\u001b[0m\n\u001b[0m",
      "\u001b[0;31mAttributeError\u001b[0m: 'tuple' object has no attribute 'append'"
     ]
    }
   ],
   "source": [
    "x.append(10)"
   ]
  },
  {
   "cell_type": "code",
   "execution_count": 100,
   "metadata": {},
   "outputs": [
    {
     "data": {
      "text/plain": [
       "tuple"
      ]
     },
     "execution_count": 100,
     "metadata": {},
     "output_type": "execute_result"
    }
   ],
   "source": [
    "x = tuple([3, 4, 5, 5])\n",
    "type(x)"
   ]
  },
  {
   "cell_type": "code",
   "execution_count": 1,
   "metadata": {
    "scrolled": false
   },
   "outputs": [
    {
     "data": {
      "text/plain": [
       "100"
      ]
     },
     "execution_count": 1,
     "metadata": {},
     "output_type": "execute_result"
    }
   ],
   "source": [
    "x = tuple(list(range(10 ** 2)))\n",
    "len(x)"
   ]
  },
  {
   "cell_type": "code",
   "execution_count": 2,
   "metadata": {},
   "outputs": [
    {
     "name": "stdout",
     "output_type": "stream",
     "text": [
      "3\n",
      "4\n",
      "5\n",
      "5\n"
     ]
    }
   ],
   "source": [
    "x = [3, 4, 5, 5]\n",
    "for v in x:\n",
    "    print(v)"
   ]
  },
  {
   "cell_type": "code",
   "execution_count": 3,
   "metadata": {},
   "outputs": [
    {
     "name": "stdout",
     "output_type": "stream",
     "text": [
      "0 3\n",
      "1 4\n",
      "2 5\n",
      "3 5\n"
     ]
    }
   ],
   "source": [
    "x = [3, 4, 5, 5]\n",
    "for i, v in enumerate(x):\n",
    "    print(i, v)"
   ]
  },
  {
   "cell_type": "code",
   "execution_count": 5,
   "metadata": {},
   "outputs": [
    {
     "data": {
      "text/plain": [
       "[13, 14, 15, 15]"
      ]
     },
     "execution_count": 5,
     "metadata": {},
     "output_type": "execute_result"
    }
   ],
   "source": [
    "y = []\n",
    "x = [3, 4, 5, 5]\n",
    "for v in x:\n",
    "    y.append(v + 10)\n",
    "y"
   ]
  },
  {
   "cell_type": "code",
   "execution_count": 6,
   "metadata": {},
   "outputs": [
    {
     "data": {
      "text/plain": [
       "[13, 14, 15, 15]"
      ]
     },
     "execution_count": 6,
     "metadata": {},
     "output_type": "execute_result"
    }
   ],
   "source": [
    "x = [3, 4, 5, 5]\n",
    "y = [v + 10 for v in x]\n",
    "y"
   ]
  },
  {
   "cell_type": "markdown",
   "metadata": {},
   "source": [
    "# Dict "
   ]
  },
  {
   "cell_type": "code",
   "execution_count": 7,
   "metadata": {},
   "outputs": [
    {
     "data": {
      "text/plain": [
       "'Sunday'"
      ]
     },
     "execution_count": 7,
     "metadata": {},
     "output_type": "execute_result"
    }
   ],
   "source": [
    "weekdays = {\"Sun\": \"Sunday\", \"Mon\": \"Monday\", \"Tue\": \"Tuesday\"}\n",
    "weekdays[\"Sun\"]"
   ]
  },
  {
   "cell_type": "code",
   "execution_count": 8,
   "metadata": {},
   "outputs": [
    {
     "ename": "KeyError",
     "evalue": "'Thu'",
     "output_type": "error",
     "traceback": [
      "\u001b[0;31m---------------------------------------------------------------------------\u001b[0m",
      "\u001b[0;31mKeyError\u001b[0m                                  Traceback (most recent call last)",
      "\u001b[0;32m<ipython-input-8-02fed8120551>\u001b[0m in \u001b[0;36m<module>\u001b[0;34m()\u001b[0m\n\u001b[0;32m----> 1\u001b[0;31m \u001b[0mweekdays\u001b[0m\u001b[0;34m[\u001b[0m\u001b[0;34m\"Thu\"\u001b[0m\u001b[0;34m]\u001b[0m\u001b[0;34m\u001b[0m\u001b[0m\n\u001b[0m",
      "\u001b[0;31mKeyError\u001b[0m: 'Thu'"
     ]
    }
   ],
   "source": [
    "weekdays[\"Thu\"]"
   ]
  },
  {
   "cell_type": "code",
   "execution_count": 9,
   "metadata": {},
   "outputs": [
    {
     "data": {
      "text/plain": [
       "False"
      ]
     },
     "execution_count": 9,
     "metadata": {},
     "output_type": "execute_result"
    }
   ],
   "source": [
    "\"Thu\" in weekdays"
   ]
  },
  {
   "cell_type": "code",
   "execution_count": 17,
   "metadata": {},
   "outputs": [
    {
     "data": {
      "text/plain": [
       "'Key is not present'"
      ]
     },
     "execution_count": 17,
     "metadata": {},
     "output_type": "execute_result"
    }
   ],
   "source": [
    "weekdays = {\"Sun\": \"Sunday\", \"Mon\": \"Monday\", \"Tue\": \"Tuesday\"}\n",
    "weekdays.get(\"Thu\", \"Key is not present\")"
   ]
  },
  {
   "cell_type": "code",
   "execution_count": 19,
   "metadata": {},
   "outputs": [
    {
     "data": {
      "text/plain": [
       "({'Sun': 'Sunday', 'Mon': 'Monday', 'Tue': 'Tuesday', 'Thu': 'Thursday'},\n",
       " 'Thursday')"
      ]
     },
     "execution_count": 19,
     "metadata": {},
     "output_type": "execute_result"
    }
   ],
   "source": [
    "weekdays = {\"Sun\": \"Sunday\", \"Mon\": \"Monday\", \"Tue\": \"Tuesday\"}\n",
    "weekdays[\"Thu\"] = \"Thursday\"\n",
    "weekdays, weekdays.get(\"Thu\", \"Key is not present\")"
   ]
  },
  {
   "cell_type": "markdown",
   "metadata": {},
   "source": [
    "# Set "
   ]
  },
  {
   "cell_type": "code",
   "execution_count": 20,
   "metadata": {},
   "outputs": [
    {
     "data": {
      "text/plain": [
       "set"
      ]
     },
     "execution_count": 20,
     "metadata": {},
     "output_type": "execute_result"
    }
   ],
   "source": [
    "weekdays = {\"Sun\", \"Mon\", \"Tue\"}\n",
    "type(weekdays)"
   ]
  },
  {
   "cell_type": "code",
   "execution_count": 21,
   "metadata": {},
   "outputs": [
    {
     "data": {
      "text/plain": [
       "{4, 5, 6, 9}"
      ]
     },
     "execution_count": 21,
     "metadata": {},
     "output_type": "execute_result"
    }
   ],
   "source": [
    "x = [4, 5, 6, 5, 5, 9]\n",
    "set(x)"
   ]
  },
  {
   "cell_type": "code",
   "execution_count": 22,
   "metadata": {},
   "outputs": [
    {
     "data": {
      "text/plain": [
       "4"
      ]
     },
     "execution_count": 22,
     "metadata": {},
     "output_type": "execute_result"
    }
   ],
   "source": [
    "len(set(x))"
   ]
  },
  {
   "cell_type": "code",
   "execution_count": 23,
   "metadata": {},
   "outputs": [],
   "source": [
    "from collections import Counter"
   ]
  },
  {
   "cell_type": "code",
   "execution_count": 26,
   "metadata": {},
   "outputs": [
    {
     "data": {
      "text/plain": [
       "Counter({4: 1, 5: 3, 6: 1, 9: 1})"
      ]
     },
     "execution_count": 26,
     "metadata": {},
     "output_type": "execute_result"
    }
   ],
   "source": [
    "x = [4, 5, 6, 5, 5, 9]\n",
    "Counter(x)"
   ]
  },
  {
   "cell_type": "markdown",
   "metadata": {},
   "source": [
    "# User defined class"
   ]
  },
  {
   "cell_type": "code",
   "execution_count": 28,
   "metadata": {},
   "outputs": [
    {
     "data": {
      "text/plain": [
       "__main__.Robot"
      ]
     },
     "execution_count": 28,
     "metadata": {},
     "output_type": "execute_result"
    }
   ],
   "source": [
    "class Robot:\n",
    "    pass # placeholder for code. Use it when you do not want to implement the code\n",
    "\n",
    "r = Robot()\n",
    "type(r)"
   ]
  },
  {
   "cell_type": "code",
   "execution_count": 29,
   "metadata": {},
   "outputs": [
    {
     "data": {
      "text/plain": [
       "'__main__'"
      ]
     },
     "execution_count": 29,
     "metadata": {},
     "output_type": "execute_result"
    }
   ],
   "source": [
    "__name__"
   ]
  },
  {
   "cell_type": "code",
   "execution_count": 33,
   "metadata": {},
   "outputs": [
    {
     "name": "stdout",
     "output_type": "stream",
     "text": [
      "terminator\n"
     ]
    }
   ],
   "source": [
    "class Robot:\n",
    "    pass\n",
    "\n",
    "r = Robot()\n",
    "r.name = \"terminator\" # Property\n",
    "print(r.name)"
   ]
  },
  {
   "cell_type": "code",
   "execution_count": 43,
   "metadata": {},
   "outputs": [
    {
     "name": "stdout",
     "output_type": "stream",
     "text": [
      "terminator 1.4\n"
     ]
    }
   ],
   "source": [
    "class Robot:\n",
    "    \n",
    "    name = None\n",
    "    version = None\n",
    "\n",
    "    def greet(self1):\n",
    "        print(\"Hello, my name is %s\" % self1.name)\n",
    "    \n",
    "    def __init__(self, name, version = 1):\n",
    "        self.name = name # self is like a java this operator in java\n",
    "        self.version = version\n",
    "\n",
    "r = Robot(\"terminator\", \"1.4\")\n",
    "print(r.name, r.version)"
   ]
  },
  {
   "cell_type": "code",
   "execution_count": 44,
   "metadata": {},
   "outputs": [
    {
     "name": "stdout",
     "output_type": "stream",
     "text": [
      "Hello, my name is terminator\n"
     ]
    }
   ],
   "source": [
    "r.greet()"
   ]
  },
  {
   "cell_type": "code",
   "execution_count": 46,
   "metadata": {},
   "outputs": [],
   "source": [
    "r1 = Robot(\"terminator\", \"1.4\")\n",
    "r2 = Robot(\"Gene\", \"1.6\")"
   ]
  },
  {
   "cell_type": "code",
   "execution_count": 48,
   "metadata": {},
   "outputs": [
    {
     "name": "stdout",
     "output_type": "stream",
     "text": [
      "Hello, my name is terminator\n",
      "Hello, my name is Gene\n"
     ]
    },
    {
     "data": {
      "text/plain": [
       "(None, None)"
      ]
     },
     "execution_count": 48,
     "metadata": {},
     "output_type": "execute_result"
    }
   ],
   "source": [
    "r1.greet(), r2.greet()"
   ]
  },
  {
   "cell_type": "code",
   "execution_count": 49,
   "metadata": {},
   "outputs": [
    {
     "data": {
      "text/plain": [
       "False"
      ]
     },
     "execution_count": 49,
     "metadata": {},
     "output_type": "execute_result"
    }
   ],
   "source": [
    "r1 == r2"
   ]
  },
  {
   "cell_type": "code",
   "execution_count": 52,
   "metadata": {},
   "outputs": [
    {
     "data": {
      "text/plain": [
       "False"
      ]
     },
     "execution_count": 52,
     "metadata": {},
     "output_type": "execute_result"
    }
   ],
   "source": [
    "class Robot:\n",
    "    \n",
    "    def __init__(self, name, version = 1):\n",
    "        self.name = name # self is like a java this operator in java\n",
    "        self.version = version\n",
    "\n",
    "        \n",
    "r1 = Robot(\"terminator\", \"1.4\")\n",
    "r2 = Robot(\"terminator\", \"1.6\")\n",
    "r1 == r2"
   ]
  },
  {
   "cell_type": "code",
   "execution_count": 53,
   "metadata": {},
   "outputs": [
    {
     "data": {
      "text/plain": [
       "True"
      ]
     },
     "execution_count": 53,
     "metadata": {},
     "output_type": "execute_result"
    }
   ],
   "source": [
    "class Robot:\n",
    "    \n",
    "    def __init__(self, name, version = 1):\n",
    "        self.name = name # self is like a java this operator in java\n",
    "        self.version = version\n",
    "\n",
    "    def __eq__(self, other):\n",
    "        return self.name == other.name\n",
    "        \n",
    "r1 = Robot(\"terminator\", \"1.4\")\n",
    "r2 = Robot(\"terminator\", \"1.6\")\n",
    "r1 == r2"
   ]
  },
  {
   "cell_type": "code",
   "execution_count": 54,
   "metadata": {},
   "outputs": [
    {
     "data": {
      "text/plain": [
       "<__main__.Robot at 0x10b09d518>"
      ]
     },
     "execution_count": 54,
     "metadata": {},
     "output_type": "execute_result"
    }
   ],
   "source": [
    "r1"
   ]
  },
  {
   "cell_type": "code",
   "execution_count": 57,
   "metadata": {},
   "outputs": [
    {
     "data": {
      "text/plain": [
       "(terminator- [1.4], terminator- [1.6])"
      ]
     },
     "execution_count": 57,
     "metadata": {},
     "output_type": "execute_result"
    }
   ],
   "source": [
    "class Robot:\n",
    "    \n",
    "    def __init__(self, name, version = 1):\n",
    "        self.name = name # self is like a java this operator in java\n",
    "        self.version = version\n",
    "\n",
    "    def __eq__(self, other):\n",
    "        return self.name == other.name\n",
    "    \n",
    "    def __repr__(self):\n",
    "        return \"%s- [%s]\" % (self.name, self.version)\n",
    "        \n",
    "r1 = Robot(\"terminator\", \"1.4\")\n",
    "r2 = Robot(\"terminator\", \"1.6\")\n",
    "r1, r2"
   ]
  },
  {
   "cell_type": "code",
   "execution_count": 66,
   "metadata": {},
   "outputs": [
    {
     "name": "stdout",
     "output_type": "stream",
     "text": [
      "Calling Terminator.__init__\n",
      "Calling Robot.__init__\n"
     ]
    },
    {
     "data": {
      "text/plain": [
       "Terminator- [G1]"
      ]
     },
     "execution_count": 66,
     "metadata": {},
     "output_type": "execute_result"
    }
   ],
   "source": [
    "class Robot:\n",
    "    \n",
    "    def __init__(self, name, version = 1):\n",
    "        print(\"Calling Robot.__init__\")\n",
    "        self.name = name # self is like a java this operator in java\n",
    "        self.version = version\n",
    "\n",
    "    def __eq__(self, other):\n",
    "        return self.name == other.name\n",
    "    \n",
    "    def __repr__(self):\n",
    "        return \"%s- [%s]\" % (self.name, self.version)\n",
    "\n",
    "\n",
    "\n",
    "class Terminator(Robot):\n",
    "    \n",
    "    def __init__(self, generation):\n",
    "        print(\"Calling Terminator.__init__\")\n",
    "        super().__init__(\"Terminator\")\n",
    "        self.generation = generation\n",
    "        \n",
    "    def __repr__(self):\n",
    "        return \"%s- [%s]\" % (self.name, self.generation)\n",
    "        \n",
    "r1 = Terminator(\"G1\")\n",
    "r1"
   ]
  },
  {
   "cell_type": "markdown",
   "metadata": {},
   "source": [
    "# String"
   ]
  },
  {
   "cell_type": "code",
   "execution_count": 67,
   "metadata": {},
   "outputs": [],
   "source": [
    "s = \"Hello world\""
   ]
  },
  {
   "cell_type": "code",
   "execution_count": 68,
   "metadata": {},
   "outputs": [
    {
     "data": {
      "text/plain": [
       "11"
      ]
     },
     "execution_count": 68,
     "metadata": {},
     "output_type": "execute_result"
    }
   ],
   "source": [
    "len(s)"
   ]
  },
  {
   "cell_type": "code",
   "execution_count": 69,
   "metadata": {},
   "outputs": [
    {
     "data": {
      "text/plain": [
       "'Hell'"
      ]
     },
     "execution_count": 69,
     "metadata": {},
     "output_type": "execute_result"
    }
   ],
   "source": [
    "s[:4]"
   ]
  },
  {
   "cell_type": "code",
   "execution_count": 70,
   "metadata": {},
   "outputs": [
    {
     "data": {
      "text/plain": [
       "'orld'"
      ]
     },
     "execution_count": 70,
     "metadata": {},
     "output_type": "execute_result"
    }
   ],
   "source": [
    "s[-4: ]"
   ]
  },
  {
   "cell_type": "code",
   "execution_count": 71,
   "metadata": {},
   "outputs": [
    {
     "data": {
      "text/plain": [
       "'Hello world'"
      ]
     },
     "execution_count": 71,
     "metadata": {},
     "output_type": "execute_result"
    }
   ],
   "source": [
    "s[:100]"
   ]
  },
  {
   "cell_type": "code",
   "execution_count": 72,
   "metadata": {},
   "outputs": [
    {
     "data": {
      "text/plain": [
       "'Hello worldHello worldHello worldHello world'"
      ]
     },
     "execution_count": 72,
     "metadata": {},
     "output_type": "execute_result"
    }
   ],
   "source": [
    "s * 4"
   ]
  },
  {
   "cell_type": "code",
   "execution_count": 73,
   "metadata": {},
   "outputs": [
    {
     "data": {
      "text/plain": [
       "'**********'"
      ]
     },
     "execution_count": 73,
     "metadata": {},
     "output_type": "execute_result"
    }
   ],
   "source": [
    "\"*\" * 10"
   ]
  },
  {
   "cell_type": "code",
   "execution_count": 74,
   "metadata": {},
   "outputs": [
    {
     "data": {
      "text/plain": [
       "'HELLO WORLD'"
      ]
     },
     "execution_count": 74,
     "metadata": {},
     "output_type": "execute_result"
    }
   ],
   "source": [
    "s.upper()"
   ]
  },
  {
   "cell_type": "code",
   "execution_count": 75,
   "metadata": {},
   "outputs": [
    {
     "data": {
      "text/plain": [
       "'hello world'"
      ]
     },
     "execution_count": 75,
     "metadata": {},
     "output_type": "execute_result"
    }
   ],
   "source": [
    "s = \"Hello World\"\n",
    "s.lower()"
   ]
  },
  {
   "cell_type": "code",
   "execution_count": 82,
   "metadata": {},
   "outputs": [
    {
     "data": {
      "text/plain": [
       "'Hello World'"
      ]
     },
     "execution_count": 82,
     "metadata": {},
     "output_type": "execute_result"
    }
   ],
   "source": [
    "s = \"hello world\"\n",
    "\" \".join([v.capitalize() for v in s.split(r\" \")])"
   ]
  },
  {
   "cell_type": "code",
   "execution_count": 83,
   "metadata": {},
   "outputs": [
    {
     "data": {
      "text/plain": [
       "True"
      ]
     },
     "execution_count": 83,
     "metadata": {},
     "output_type": "execute_result"
    }
   ],
   "source": [
    "\"hello\" in \"hello world\""
   ]
  },
  {
   "cell_type": "code",
   "execution_count": 84,
   "metadata": {},
   "outputs": [
    {
     "data": {
      "text/plain": [
       "False"
      ]
     },
     "execution_count": 84,
     "metadata": {},
     "output_type": "execute_result"
    }
   ],
   "source": [
    "\"Hello\" in \"hello world\""
   ]
  },
  {
   "cell_type": "code",
   "execution_count": 85,
   "metadata": {},
   "outputs": [
    {
     "data": {
      "text/plain": [
       "True"
      ]
     },
     "execution_count": 85,
     "metadata": {},
     "output_type": "execute_result"
    }
   ],
   "source": [
    "\"Hello\".lower() in \"hello world\".lower()"
   ]
  },
  {
   "cell_type": "code",
   "execution_count": 87,
   "metadata": {},
   "outputs": [
    {
     "data": {
      "text/plain": [
       "True"
      ]
     },
     "execution_count": 87,
     "metadata": {},
     "output_type": "execute_result"
    }
   ],
   "source": [
    "s = \"hello world\"\n",
    "s.startswith(\"hello\")"
   ]
  },
  {
   "cell_type": "code",
   "execution_count": 89,
   "metadata": {},
   "outputs": [
    {
     "data": {
      "text/plain": [
       "(False, True)"
      ]
     },
     "execution_count": 89,
     "metadata": {},
     "output_type": "execute_result"
    }
   ],
   "source": [
    "s = \"hello world\"\n",
    "s.endswith(\"hello\"), s.endswith(\"world\") "
   ]
  },
  {
   "cell_type": "code",
   "execution_count": 100,
   "metadata": {},
   "outputs": [],
   "source": [
    "with open(\"/data/stocks.small.csv\", \"r\") as f:\n",
    "    lines = f.readlines()"
   ]
  },
  {
   "cell_type": "code",
   "execution_count": 101,
   "metadata": {
    "scrolled": false
   },
   "outputs": [
    {
     "data": {
      "text/plain": [
       "1847"
      ]
     },
     "execution_count": 101,
     "metadata": {},
     "output_type": "execute_result"
    }
   ],
   "source": [
    "len(lines)"
   ]
  },
  {
   "cell_type": "code",
   "execution_count": 97,
   "metadata": {},
   "outputs": [
    {
     "data": {
      "text/plain": [
       "['date,open,high,low,close,volume,adjclose,symbol\\n',\n",
       " '2000-07-18,144.8125,144.828125,141.4375,143.0,5.06836E7,50.155473,INTC\\n',\n",
       " '2000-07-20,32.93751,34.25001,32.8125,33.75,3288300.0,8.789734,BEN\\n',\n",
       " '2000-07-24,64.25,67.312477,64.187523,64.75,948800.0,7.689567,APH\\n',\n",
       " '2000-07-26,21.875,22.125,20.9375,20.9375,1464300.0,15.61832,SHW\\n',\n",
       " '2000-07-26,42.0,42.312481,41.625,41.875,1397600.0,9.402721,STJ\\n',\n",
       " '2000-07-31,33.937519,33.999986,33.75,33.875011,273400.0,5.063753,GGP\\n',\n",
       " '2000-08-07,41.375038,43.0,40.812481,42.812481,2.43376E7,4.869542,SBUX\\n',\n",
       " '2000-08-09,55.562481,55.625,54.5,55.0,387600.0,10.495977,EQT\\n',\n",
       " '2000-08-10,49.0,52.625,48.75,52.125,1511600.0,22.539051,BCR\\n']"
      ]
     },
     "execution_count": 97,
     "metadata": {},
     "output_type": "execute_result"
    }
   ],
   "source": [
    "s[:10]"
   ]
  },
  {
   "cell_type": "markdown",
   "metadata": {},
   "source": [
    "# Exercise: \n",
    "\n",
    "\n",
    "Datafile https://raw.githubusercontent.com/abulbasar/data/master/stocks.small.csv\n",
    "\n",
    "\n",
    "1. Find number of lines in the file\n",
    "2. How many unique stocks symbols are there?\n",
    "3. How many records are there per stock symbol?\n",
    "4. Average volume per stock in 2016?"
   ]
  },
  {
   "cell_type": "code",
   "execution_count": 102,
   "metadata": {},
   "outputs": [],
   "source": [
    "path = r\"/data/stocks.small.csv\""
   ]
  },
  {
   "cell_type": "code",
   "execution_count": 104,
   "metadata": {},
   "outputs": [
    {
     "data": {
      "text/plain": [
       "['date,open,high,low,close,volume,adjclose,symbol\\n',\n",
       " '2000-07-18,144.8125,144.828125,141.4375,143.0,5.06836E7,50.155473,INTC\\n',\n",
       " '2000-07-20,32.93751,34.25001,32.8125,33.75,3288300.0,8.789734,BEN\\n',\n",
       " '2000-07-24,64.25,67.312477,64.187523,64.75,948800.0,7.689567,APH\\n',\n",
       " '2000-07-26,21.875,22.125,20.9375,20.9375,1464300.0,15.61832,SHW\\n']"
      ]
     },
     "execution_count": 104,
     "metadata": {},
     "output_type": "execute_result"
    }
   ],
   "source": [
    "with open(path) as f:\n",
    "    lines = f.readlines()\n",
    "lines[:5]"
   ]
  },
  {
   "cell_type": "code",
   "execution_count": 116,
   "metadata": {},
   "outputs": [
    {
     "data": {
      "text/plain": [
       "1847"
      ]
     },
     "execution_count": 116,
     "metadata": {},
     "output_type": "execute_result"
    }
   ],
   "source": [
    "\"\"\" *** Example of multiline comments with triple quotes ***\n",
    "Find number of lines in the file\n",
    "\"\"\" \n",
    "len(lines)"
   ]
  },
  {
   "cell_type": "code",
   "execution_count": 108,
   "metadata": {},
   "outputs": [
    {
     "data": {
      "text/plain": [
       "['INTC', 'BEN', 'APH']"
      ]
     },
     "execution_count": 108,
     "metadata": {},
     "output_type": "execute_result"
    }
   ],
   "source": [
    "symbols = [line.split(\",\")[-1] for line in lines[1:]]\n",
    "symbols = [symbol.replace(\"\\n\", \"\") for symbol in symbols]\n",
    "symbols[:3]"
   ]
  },
  {
   "cell_type": "code",
   "execution_count": 117,
   "metadata": {},
   "outputs": [
    {
     "data": {
      "text/plain": [
       "471"
      ]
     },
     "execution_count": 117,
     "metadata": {},
     "output_type": "execute_result"
    }
   ],
   "source": [
    "# How many unique stocks symbols are there?\n",
    "len(set(symbols))"
   ]
  },
  {
   "cell_type": "code",
   "execution_count": 110,
   "metadata": {},
   "outputs": [
    {
     "data": {
      "text/plain": [
       "50683600.0"
      ]
     },
     "execution_count": 110,
     "metadata": {},
     "output_type": "execute_result"
    }
   ],
   "source": [
    "float(\"5.06836E7\")"
   ]
  },
  {
   "cell_type": "code",
   "execution_count": 128,
   "metadata": {
    "scrolled": false
   },
   "outputs": [
    {
     "data": {
      "text/plain": [
       "\"Counter({'UPS': 11, 'ZBH': 11, 'K': 10, 'FLIR': 9, 'KR': 9, 'COF': 9, 'PHM': 9, 'D': 9, 'NKE': 8, 'N\""
      ]
     },
     "execution_count": 128,
     "metadata": {},
     "output_type": "execute_result"
    }
   ],
   "source": [
    "# How many records are there per stock symbol?\n",
    "count_by_stock = Counter(symbols)\n",
    "str(count_by_stock)[:100]"
   ]
  },
  {
   "cell_type": "code",
   "execution_count": 125,
   "metadata": {
    "scrolled": false
   },
   "outputs": [
    {
     "data": {
      "text/plain": [
       "[('UPS', 11),\n",
       " ('ZBH', 11),\n",
       " ('K', 10),\n",
       " ('FLIR', 9),\n",
       " ('KR', 9),\n",
       " ('COF', 9),\n",
       " ('PHM', 9),\n",
       " ('D', 9),\n",
       " ('NKE', 8),\n",
       " ('NUE', 8),\n",
       " ('ETN', 8),\n",
       " ('WMT', 8),\n",
       " ('FMC', 8),\n",
       " ('IFF', 8),\n",
       " ('KMB', 8),\n",
       " ('JNJ', 8),\n",
       " ('PPG', 8),\n",
       " ('SIG', 8),\n",
       " ('EXR', 8),\n",
       " ('CMI', 8),\n",
       " ('EQT', 7),\n",
       " ('BIIB', 7),\n",
       " ('ALK', 7),\n",
       " ('CINF', 7),\n",
       " ('IP', 7),\n",
       " ('CMS', 7),\n",
       " ('ED', 7),\n",
       " ('GE', 7),\n",
       " ('LLY', 7),\n",
       " ('HUM', 7),\n",
       " ('MRK', 7),\n",
       " ('AMZN', 7),\n",
       " ('MTB', 7),\n",
       " ('MU', 7),\n",
       " ('NEM', 7),\n",
       " ('LNC', 7),\n",
       " ('NFX', 7),\n",
       " ('BBBY', 7),\n",
       " ('BMY', 7),\n",
       " ('WAT', 7),\n",
       " ('VZ', 7),\n",
       " ('SCHW', 7),\n",
       " ('APC', 7),\n",
       " ('AES', 7),\n",
       " ('HAR', 7),\n",
       " ('WDC', 7),\n",
       " ('SYY', 7),\n",
       " ('RL', 7),\n",
       " ('DVA', 7),\n",
       " ('PX', 7),\n",
       " ('FOXA', 7),\n",
       " ('WFC', 7),\n",
       " ('BEN', 6),\n",
       " ('SBUX', 6),\n",
       " ('BCR', 6),\n",
       " ('COG', 6),\n",
       " ('FDX', 6),\n",
       " ('RHT', 6),\n",
       " ('XLNX', 6),\n",
       " ('R', 6),\n",
       " ('LEG', 6),\n",
       " ('MOS', 6),\n",
       " ('MLM', 6),\n",
       " ('MMC', 6),\n",
       " ('DE', 6),\n",
       " ('YUM', 6),\n",
       " ('SLG', 6),\n",
       " ('MKC', 6),\n",
       " ('CCL', 6),\n",
       " ('M', 6),\n",
       " ('CA', 6),\n",
       " ('EXPD', 6),\n",
       " ('PEG', 6),\n",
       " ('MDT', 6),\n",
       " ('PVH', 6),\n",
       " ('PFG', 6),\n",
       " ('VRSN', 6),\n",
       " ('HPQ', 6),\n",
       " ('ADM', 6),\n",
       " ('ADI', 6),\n",
       " ('JPM', 6),\n",
       " ('AME', 6),\n",
       " ('ABT', 6),\n",
       " ('WM', 6),\n",
       " ('EOG', 6),\n",
       " ('FTR', 6),\n",
       " ('ROK', 6),\n",
       " ('VTR', 6),\n",
       " ('WYNN', 6),\n",
       " ('CHD', 6),\n",
       " ('DLR', 6),\n",
       " ('PSA', 6),\n",
       " ('URBN', 6),\n",
       " ('EIX', 6),\n",
       " ('TGNA', 6),\n",
       " ('SHW', 5),\n",
       " ('GGP', 5),\n",
       " ('IPG', 5),\n",
       " ('BXP', 5),\n",
       " ('DO', 5),\n",
       " ('ENDP', 5),\n",
       " ('STI', 5),\n",
       " ('O', 5),\n",
       " ('RAI', 5),\n",
       " ('MET', 5),\n",
       " ('AGN', 5),\n",
       " ('KSS', 5),\n",
       " ('TROW', 5),\n",
       " ('PNC', 5),\n",
       " ('MCO', 5),\n",
       " ('REGN', 5),\n",
       " ('ISRG', 5),\n",
       " ('MYL', 5),\n",
       " ('OKE', 5),\n",
       " ('LRCX', 5),\n",
       " ('SCG', 5),\n",
       " ('GLW', 5),\n",
       " ('SJM', 5),\n",
       " ('PGR', 5),\n",
       " ('YHOO', 5),\n",
       " ('NTRS', 5),\n",
       " ('AIG', 5),\n",
       " ('SWK', 5),\n",
       " ('HCP', 5),\n",
       " ('DGX', 5),\n",
       " ('HOLX', 5),\n",
       " ('CAT', 5),\n",
       " ('XRAY', 5),\n",
       " ('SWN', 5),\n",
       " ('EQR', 5),\n",
       " ('ALB', 5),\n",
       " ('GPN', 5),\n",
       " ('WHR', 5),\n",
       " ('WMB', 5),\n",
       " ('AYI', 5),\n",
       " ('AON', 5),\n",
       " ('CVX', 5),\n",
       " ('GRMN', 5),\n",
       " ('CHK', 5),\n",
       " ('NBL', 5),\n",
       " ('ROP', 5),\n",
       " ('KSU', 5),\n",
       " ('DHI', 5),\n",
       " ('BK', 5),\n",
       " ('MSFT', 5),\n",
       " ('ILMN', 5),\n",
       " ('BLK', 5),\n",
       " ('SWKS', 5),\n",
       " ('UNP', 5),\n",
       " ('MAS', 5),\n",
       " ('LUK', 5),\n",
       " ('AA', 5),\n",
       " ('AET', 5),\n",
       " ('PG', 5),\n",
       " ('ETR', 5),\n",
       " ('LOW', 5),\n",
       " ('SO', 5),\n",
       " ('TMO', 5),\n",
       " ('CAH', 5),\n",
       " ('GD', 5),\n",
       " ('AAP', 5),\n",
       " ('MS', 5),\n",
       " ('WYN', 5),\n",
       " ('TGT', 5),\n",
       " ('PBCT', 5),\n",
       " ('PRGO', 5),\n",
       " ('FSLR', 5),\n",
       " ('LB', 5),\n",
       " ('INTC', 4),\n",
       " ('EXC', 4),\n",
       " ('BSX', 4),\n",
       " ('WBA', 4),\n",
       " ('PXD', 4),\n",
       " ('BWA', 4),\n",
       " ('FCX', 4),\n",
       " ('FOX', 4),\n",
       " ('CTAS', 4),\n",
       " ('LLL', 4),\n",
       " ('VMC', 4),\n",
       " ('SYK', 4),\n",
       " ('HST', 4),\n",
       " ('GILD', 4),\n",
       " ('CTXS', 4),\n",
       " ('EMN', 4),\n",
       " ('COH', 4),\n",
       " ('OXY', 4),\n",
       " ('DTE', 4),\n",
       " ('ETFC', 4),\n",
       " ('LMT', 4),\n",
       " ('PBI', 4),\n",
       " ('UNH', 4),\n",
       " ('DVN', 4),\n",
       " ('DOV', 4),\n",
       " ('HRS', 4),\n",
       " ('STT', 4),\n",
       " ('AEE', 4),\n",
       " ('ESS', 4),\n",
       " ('PPL', 4),\n",
       " ('RRC', 4),\n",
       " ('PDCO', 4),\n",
       " ('AMGN', 4),\n",
       " ('TSN', 4),\n",
       " ('TXT', 4),\n",
       " ('PNW', 4),\n",
       " ('MAR', 4),\n",
       " ('HP', 4),\n",
       " ('DOW', 4),\n",
       " ('DRI', 4),\n",
       " ('CSX', 4),\n",
       " ('EL', 4),\n",
       " ('MNST', 4),\n",
       " ('MON', 4),\n",
       " ('BBY', 4),\n",
       " ('QCOM', 4),\n",
       " ('BAX', 4),\n",
       " ('FFIV', 4),\n",
       " ('AMT', 4),\n",
       " ('AKAM', 4),\n",
       " ('IVZ', 4),\n",
       " ('GT', 4),\n",
       " ('LKQ', 4),\n",
       " ('ES', 4),\n",
       " ('CI', 4),\n",
       " ('PLD', 4),\n",
       " ('AIZ', 4),\n",
       " ('C', 4),\n",
       " ('GWW', 4),\n",
       " ('APA', 4),\n",
       " ('EQIX', 4),\n",
       " ('PCG', 4),\n",
       " ('ADSK', 4),\n",
       " ('KLAC', 4),\n",
       " ('AVB', 4),\n",
       " ('VIAB', 4),\n",
       " ('APD', 4),\n",
       " ('HOG', 4),\n",
       " ('BA', 4),\n",
       " ('FLS', 4),\n",
       " ('UTX', 4),\n",
       " ('NSC', 4),\n",
       " ('ITW', 4),\n",
       " ('STZ', 4),\n",
       " ('SPLS', 4),\n",
       " ('MAC', 4),\n",
       " ('NI', 4),\n",
       " ('COP', 4),\n",
       " ('SNA', 4),\n",
       " ('NOV', 4),\n",
       " ('FL', 4),\n",
       " ('NWL', 4),\n",
       " ('FRT', 4),\n",
       " ('AWK', 4),\n",
       " ('RTN', 4),\n",
       " ('APH', 3),\n",
       " ('STJ', 3),\n",
       " ('LLTC', 3),\n",
       " ('EMC', 3),\n",
       " ('RHI', 3),\n",
       " ('FISV', 3),\n",
       " ('EBAY', 3),\n",
       " ('HES', 3),\n",
       " ('HON', 3),\n",
       " ('FLR', 3),\n",
       " ('MSI', 3),\n",
       " ('HD', 3),\n",
       " ('SRE', 3),\n",
       " ('SLB', 3),\n",
       " ('BLL', 3),\n",
       " ('CERN', 3),\n",
       " ('ECL', 3),\n",
       " ('XL', 3),\n",
       " ('AIV', 3),\n",
       " ('F', 3),\n",
       " ('ATVI', 3),\n",
       " ('CNP', 3),\n",
       " ('EA', 3),\n",
       " ('CCI', 3),\n",
       " ('CNC', 3),\n",
       " ('CELG', 3),\n",
       " ('CL', 3),\n",
       " ('AZO', 3),\n",
       " ('PCAR', 3),\n",
       " ('CHRW', 3),\n",
       " ('WY', 3),\n",
       " ('AXP', 3),\n",
       " ('AEP', 3),\n",
       " ('LNT', 3),\n",
       " ('MHK', 3),\n",
       " ('CLX', 3),\n",
       " ('CTL', 3),\n",
       " ('RSG', 3),\n",
       " ('TIF', 3),\n",
       " ('MCK', 3),\n",
       " ('EFX', 3),\n",
       " ('HIG', 3),\n",
       " ('AMAT', 3),\n",
       " ('TSO', 3),\n",
       " ('XOM', 3),\n",
       " ('MDLZ', 3),\n",
       " ('LUV', 3),\n",
       " ('JWN', 3),\n",
       " ('JBHT', 3),\n",
       " ('BBT', 3),\n",
       " ('ALL', 3),\n",
       " ('TRV', 3),\n",
       " ('DLTR', 3),\n",
       " ('TAP', 3),\n",
       " ('IR', 3),\n",
       " ('SYMC', 3),\n",
       " ('WFM', 3),\n",
       " ('MRO', 3),\n",
       " ('CRM', 3),\n",
       " ('CB', 3),\n",
       " ('DUK', 3),\n",
       " ('DNB', 3),\n",
       " ('AFL', 3),\n",
       " ('UHS', 3),\n",
       " ('HOT', 3),\n",
       " ('HAL', 3),\n",
       " ('CBS', 3),\n",
       " ('GPS', 3),\n",
       " ('PFE', 3),\n",
       " ('KMX', 3),\n",
       " ('AAPL', 3),\n",
       " ('IBM', 3),\n",
       " ('TDG', 3),\n",
       " ('UDR', 3),\n",
       " ('XEC', 3),\n",
       " ('GPC', 3),\n",
       " ('DIS', 3),\n",
       " ('HRL', 3),\n",
       " ('VNO', 3),\n",
       " ('IRM', 3),\n",
       " ('VAR', 3),\n",
       " ('PEP', 3),\n",
       " ('SE', 3),\n",
       " ('DFS', 3),\n",
       " ('GOOG', 3),\n",
       " ('HAS', 3),\n",
       " ('NOC', 3),\n",
       " ('AVGO', 3),\n",
       " ('TJX', 3),\n",
       " ('LYB', 3),\n",
       " ('DG', 3),\n",
       " ('GIS', 3),\n",
       " ('CPB', 3),\n",
       " ('CXO', 3),\n",
       " ('ADS', 3),\n",
       " ('SNI', 3),\n",
       " ('FBHS', 3),\n",
       " ('KIM', 3),\n",
       " ('PKI', 3),\n",
       " ('JEC', 3),\n",
       " ('USB', 2),\n",
       " ('ADBE', 2),\n",
       " ('COL', 2),\n",
       " ('GS', 2),\n",
       " ('CTSH', 2),\n",
       " ('HSIC', 2),\n",
       " ('LH', 2),\n",
       " ('HBAN', 2),\n",
       " ('TYC', 2),\n",
       " ('PRU', 2),\n",
       " ('PCLN', 2),\n",
       " ('HRB', 2),\n",
       " ('ACN', 2),\n",
       " ('MCD', 2),\n",
       " ('STX', 2),\n",
       " ('URI', 2),\n",
       " ('VLO', 2),\n",
       " ('EW', 2),\n",
       " ('FE', 2),\n",
       " ('WEC', 2),\n",
       " ('MMM', 2),\n",
       " ('TSS', 2),\n",
       " ('ESRX', 2),\n",
       " ('MO', 2),\n",
       " ('EMR', 2),\n",
       " ('NRG', 2),\n",
       " ('VRTX', 2),\n",
       " ('NFLX', 2),\n",
       " ('ANTM', 2),\n",
       " ('XEL', 2),\n",
       " ('JNPR', 2),\n",
       " ('VFC', 2),\n",
       " ('MAT', 2),\n",
       " ('A', 2),\n",
       " ('RF', 2),\n",
       " ('JCI', 2),\n",
       " ('WU', 2),\n",
       " ('FTI', 2),\n",
       " ('LM', 2),\n",
       " ('BDX', 2),\n",
       " ('CVS', 2),\n",
       " ('HCN', 2),\n",
       " ('CF', 2),\n",
       " ('MJN', 2),\n",
       " ('ICE', 2),\n",
       " ('FIS', 2),\n",
       " ('CAG', 2),\n",
       " ('DAL', 2),\n",
       " ('ABC', 2),\n",
       " ('BAC', 2),\n",
       " ('TEL', 2),\n",
       " ('EXPE', 2),\n",
       " ('ZION', 2),\n",
       " ('UNM', 2),\n",
       " ('ORLY', 2),\n",
       " ('MA', 2),\n",
       " ('UAL', 2),\n",
       " ('V', 2),\n",
       " ('HSY', 2),\n",
       " ('XYL', 2),\n",
       " ('CSCO', 2),\n",
       " ('AMP', 2),\n",
       " ('PSX', 2),\n",
       " ('GM', 2),\n",
       " ('HCA', 2),\n",
       " ('LEN', 2),\n",
       " ('NWS', 2),\n",
       " ('AMG', 2),\n",
       " ('DD', 1),\n",
       " ('KEY', 1),\n",
       " ('RCL', 1),\n",
       " ('SRCL', 1),\n",
       " ('ROST', 1),\n",
       " ('XRX', 1),\n",
       " ('ORCL', 1),\n",
       " ('NTAP', 1),\n",
       " ('OI', 1),\n",
       " ('CMCSA', 1),\n",
       " ('GOOGL', 1),\n",
       " ('AAL', 1),\n",
       " ('TXN', 1),\n",
       " ('INTU', 1),\n",
       " ('HBI', 1),\n",
       " ('DHR', 1),\n",
       " ('FAST', 1),\n",
       " ('NVDA', 1),\n",
       " ('OMC', 1),\n",
       " ('COST', 1),\n",
       " ('TDC', 1),\n",
       " ('ULTA', 1),\n",
       " ('ALXN', 1),\n",
       " ('CMG', 1),\n",
       " ('DISCK', 1),\n",
       " ('L', 1),\n",
       " ('UA', 1),\n",
       " ('PNR', 1),\n",
       " ('TWX', 1),\n",
       " ('MUR', 1),\n",
       " ('T', 1),\n",
       " ('KORS', 1),\n",
       " ('PM', 1),\n",
       " ('TSCO', 1),\n",
       " ('SEE', 1),\n",
       " ('FB', 1),\n",
       " ('CME', 1),\n",
       " ('ADP', 1),\n",
       " ('TRIP', 1),\n",
       " ('MPC', 1),\n",
       " ('VRSK', 1),\n",
       " ('LVLT', 1),\n",
       " ('CBG', 1),\n",
       " ('RIG', 1),\n",
       " ('SPGI', 1),\n",
       " ('CMA', 1),\n",
       " ('PWR', 1),\n",
       " ('WRK', 1),\n",
       " ('ALLE', 1),\n",
       " ('MNK', 1)]"
      ]
     },
     "execution_count": 125,
     "metadata": {},
     "output_type": "execute_result"
    }
   ],
   "source": [
    "count_by_symbol = dict()\n",
    "for v in symbols:\n",
    "    if v in count_by_symbol:\n",
    "        count_by_symbol[v] = count_by_symbol[v] + 1\n",
    "    else:\n",
    "        count_by_symbol[v] = 1\n",
    "\n",
    "count_by_symbol = [(symbol, count_by_symbol[symbol]) \n",
    "                        for symbol in count_by_symbol]\n",
    "\n",
    "sorted(count_by_symbol, key= lambda v: v[1], reverse=True)"
   ]
  },
  {
   "cell_type": "code",
   "execution_count": 133,
   "metadata": {},
   "outputs": [
    {
     "data": {
      "text/plain": [
       "[('ISRG', 584100.0),\n",
       " ('HP', 3008400.0),\n",
       " ('AMG', 728000.0),\n",
       " ('K', 2239600.0),\n",
       " ('MSFT', 36775200.0),\n",
       " ('RSG', 1736100.0),\n",
       " ('ETFC', 4772700.0),\n",
       " ('ROK', 1135700.0),\n",
       " ('MMM', 2140600.0),\n",
       " ('MKC', 1180900.0),\n",
       " ('NWS', 965100.0),\n",
       " ('CAH', 1801000.0),\n",
       " ('EIX', 2109600.0),\n",
       " ('TROW', 1260600.0),\n",
       " ('LYB', 3358200.0),\n",
       " ('IPG', 6881100.0),\n",
       " ('ALK', 1364700.0),\n",
       " ('ED', 2054900.0),\n",
       " ('EXR', 1149900.0),\n",
       " ('WRK', 2397300.0),\n",
       " ('JEC', 709300.0),\n",
       " ('YUM', 2622200.0),\n",
       " ('MOS', 4412500.0),\n",
       " ('BMY', 8666400.0),\n",
       " ('AVGO', 3490600.0),\n",
       " ('MCK', 3452500.0),\n",
       " ('RAI', 16149100.0),\n",
       " ('GPS', 6690900.0),\n",
       " ('CAT', 7036100.0),\n",
       " ('ALLE', 471100.0),\n",
       " ('WYNN', 12644100.0),\n",
       " ('FLIR', 646600.0),\n",
       " ('BXP', 538600.0),\n",
       " ('PKI', 358200.0),\n",
       " ('APD', 718800.0),\n",
       " ('COP', 10715400.0),\n",
       " ('GT', 12536400.0),\n",
       " ('KR', 4874000.0),\n",
       " ('SNA', 390900.0),\n",
       " ('ABT', 18241600.0),\n",
       " ('ISRG', 360500.0),\n",
       " ('STT', 1560500.0),\n",
       " ('AYI', 373400.0),\n",
       " ('MNK', 1596400.0),\n",
       " ('AAPL', 42062400.0),\n",
       " ('MS', 11487100.0),\n",
       " ('PG', 6526800.0),\n",
       " ('ABT', 7807600.0),\n",
       " ('DLR', 1641600.0),\n",
       " ('MNST', 795500.0),\n",
       " ('TSN', 3277100.0),\n",
       " ('FBHS', 760000.0),\n",
       " ('ALL', 1625700.0),\n",
       " ('DUK', 1672300.0),\n",
       " ('MS', 15812900.0),\n",
       " ('NOC', 542900.0),\n",
       " ('XRAY', 1815500.0),\n",
       " ('VNO', 572100.0),\n",
       " ('NSC', 1488700.0),\n",
       " ('FOXA', 9266200.0),\n",
       " ('MDT', 6024200.0),\n",
       " ('SO', 6238600.0),\n",
       " ('CVS', 3783900.0),\n",
       " ('ATVI', 6272900.0),\n",
       " ('APA', 2023500.0),\n",
       " ('VTR', 2793400.0),\n",
       " ('HST', 9559600.0),\n",
       " ('GD', 830000.0),\n",
       " ('CAG', 2424000.0),\n",
       " ('AFL', 1534400.0),\n",
       " ('LUV', 6339300.0),\n",
       " ('AET', 2520700.0),\n",
       " ('UHS', 1576600.0),\n",
       " ('BSX', 7115500.0),\n",
       " ('ADI', 2740500.0),\n",
       " ('CSX', 3899900.0)]"
      ]
     },
     "execution_count": 133,
     "metadata": {},
     "output_type": "execute_result"
    }
   ],
   "source": [
    "# Average volume per stock in 2016?\n",
    "lines2016 = [v for v in lines if v.startswith(\"2016\")]\n",
    "lines2016 = [v.split(\",\") for v in lines2016]\n",
    "lines2016 = [(tokens[7].replace(\"\\n\", \"\"), float(tokens[5]))\n",
    "                     for tokens in lines2016]\n",
    "lines2016"
   ]
  },
  {
   "cell_type": "code",
   "execution_count": 136,
   "metadata": {},
   "outputs": [
    {
     "data": {
      "text/plain": [
       "{'ISRG': 472300.0,\n",
       " 'HP': 3008400.0,\n",
       " 'AMG': 728000.0,\n",
       " 'K': 2239600.0,\n",
       " 'MSFT': 36775200.0,\n",
       " 'RSG': 1736100.0,\n",
       " 'ETFC': 4772700.0,\n",
       " 'ROK': 1135700.0,\n",
       " 'MMM': 2140600.0,\n",
       " 'MKC': 1180900.0,\n",
       " 'NWS': 965100.0,\n",
       " 'CAH': 1801000.0,\n",
       " 'EIX': 2109600.0,\n",
       " 'TROW': 1260600.0,\n",
       " 'LYB': 3358200.0,\n",
       " 'IPG': 6881100.0,\n",
       " 'ALK': 1364700.0,\n",
       " 'ED': 2054900.0,\n",
       " 'EXR': 1149900.0,\n",
       " 'WRK': 2397300.0,\n",
       " 'JEC': 709300.0,\n",
       " 'YUM': 2622200.0,\n",
       " 'MOS': 4412500.0,\n",
       " 'BMY': 8666400.0,\n",
       " 'AVGO': 3490600.0,\n",
       " 'MCK': 3452500.0,\n",
       " 'RAI': 16149100.0,\n",
       " 'GPS': 6690900.0,\n",
       " 'CAT': 7036100.0,\n",
       " 'ALLE': 471100.0,\n",
       " 'WYNN': 12644100.0,\n",
       " 'FLIR': 646600.0,\n",
       " 'BXP': 538600.0,\n",
       " 'PKI': 358200.0,\n",
       " 'APD': 718800.0,\n",
       " 'COP': 10715400.0,\n",
       " 'GT': 12536400.0,\n",
       " 'KR': 4874000.0,\n",
       " 'SNA': 390900.0,\n",
       " 'ABT': 13024600.0,\n",
       " 'STT': 1560500.0,\n",
       " 'AYI': 373400.0,\n",
       " 'MNK': 1596400.0,\n",
       " 'AAPL': 42062400.0,\n",
       " 'MS': 13650000.0,\n",
       " 'PG': 6526800.0,\n",
       " 'DLR': 1641600.0,\n",
       " 'MNST': 795500.0,\n",
       " 'TSN': 3277100.0,\n",
       " 'FBHS': 760000.0,\n",
       " 'ALL': 1625700.0,\n",
       " 'DUK': 1672300.0,\n",
       " 'NOC': 542900.0,\n",
       " 'XRAY': 1815500.0,\n",
       " 'VNO': 572100.0,\n",
       " 'NSC': 1488700.0,\n",
       " 'FOXA': 9266200.0,\n",
       " 'MDT': 6024200.0,\n",
       " 'SO': 6238600.0,\n",
       " 'CVS': 3783900.0,\n",
       " 'ATVI': 6272900.0,\n",
       " 'APA': 2023500.0,\n",
       " 'VTR': 2793400.0,\n",
       " 'HST': 9559600.0,\n",
       " 'GD': 830000.0,\n",
       " 'CAG': 2424000.0,\n",
       " 'AFL': 1534400.0,\n",
       " 'LUV': 6339300.0,\n",
       " 'AET': 2520700.0,\n",
       " 'UHS': 1576600.0,\n",
       " 'BSX': 7115500.0,\n",
       " 'ADI': 2740500.0,\n",
       " 'CSX': 3899900.0}"
      ]
     },
     "execution_count": 136,
     "metadata": {},
     "output_type": "execute_result"
    }
   ],
   "source": [
    "volumes_by_stock = dict()\n",
    "for symbol, volume in lines2016:\n",
    "    if symbol not in volumes_by_stock:\n",
    "        volumes_by_stock[symbol] = []\n",
    "    volumes_by_stock[symbol].append(volume)\n",
    "\n",
    "avg_volume_by_stock = dict()\n",
    "for symbol in volumes_by_stock:\n",
    "    volumes = volumes_by_stock[symbol]\n",
    "    avg_volume_by_stock[symbol] = sum(volumes)/len(volumes)\n",
    "\n",
    "avg_volume_by_stock"
   ]
  },
  {
   "cell_type": "code",
   "execution_count": 137,
   "metadata": {},
   "outputs": [],
   "source": [
    "from datetime import datetime"
   ]
  },
  {
   "cell_type": "code",
   "execution_count": 148,
   "metadata": {},
   "outputs": [
    {
     "data": {
      "text/plain": [
       "'Fri'"
      ]
     },
     "execution_count": 148,
     "metadata": {},
     "output_type": "execute_result"
    }
   ],
   "source": [
    "weekdays = [\"Mon\", \"Tue\", \"Wed\", \"Thu\", \"Fri\", \"Sat\", \"Sun\"]\n",
    "d = datetime.strptime(\"2001-06-08\", \"%Y-%m-%d\")\n",
    "weekdays[d.weekday()]"
   ]
  },
  {
   "cell_type": "code",
   "execution_count": 150,
   "metadata": {
    "scrolled": false
   },
   "outputs": [
    {
     "data": {
      "text/plain": [
       "['2000-09-22,42.75,43.0,42.5625,42.875,155100.0,20.370235,BXP\\n',\n",
       " '2000-11-03,6.51562,7.0625,6.5,7.0625,16800.0,7.0625,ENDP\\n',\n",
       " '2000-11-10,43.0,43.4375,42.5625,42.875,1813800.0,34.890409,WBA\\n',\n",
       " '2000-11-17,48.5,49.0,47.125,47.5,1038100.0,32.515943,STI\\n',\n",
       " '2000-12-01,39.0,39.0,38.25,39.0,4000800.0,1.958053,RAI\\n',\n",
       " '2000-12-22,44.8125,48.8125,44.3125,48.375,9779200.0,37.182639,XLNX\\n',\n",
       " '2000-12-22,31.749997,31.749997,30.875005,31.249992,2018100.0,12.446755,FOX\\n',\n",
       " '2001-01-19,66.375,66.375,64.375,65.9375,1960400.0,56.329221,KSS\\n',\n",
       " '2001-02-09,37.593761,38.0,36.9375,37.75,1572200.0,13.510969,TROW\\n',\n",
       " '2001-02-16,36.200001,36.490002,35.799999,36.099998,585700.0,17.109717,ED\\n']"
      ]
     },
     "execution_count": 150,
     "metadata": {},
     "output_type": "execute_result"
    }
   ],
   "source": [
    "def is_friday(line):\n",
    "    d = line.split(\",\")[0]\n",
    "    weekdays = [\"Mon\", \"Tue\", \"Wed\", \"Thu\", \"Fri\", \"Sat\", \"Sun\"]\n",
    "    d = datetime.strptime(d, \"%Y-%m-%d\")\n",
    "    day = weekdays[d.weekday()]\n",
    "    return day == \"Fri\"\n",
    "    \n",
    "lines_fri = [line for line in lines[1:] if is_friday(line)]\n",
    "lines_fri[:10]"
   ]
  },
  {
   "cell_type": "code",
   "execution_count": 156,
   "metadata": {},
   "outputs": [
    {
     "data": {
      "text/plain": [
       "['2000-09-22,42.75,43.0,42.5625,42.875,155100.0,20.370235,BXP\\n',\n",
       " '2000-11-03,6.51562,7.0625,6.5,7.0625,16800.0,7.0625,ENDP\\n',\n",
       " '2000-11-10,43.0,43.4375,42.5625,42.875,1813800.0,34.890409,WBA\\n',\n",
       " '2000-11-17,48.5,49.0,47.125,47.5,1038100.0,32.515943,STI\\n',\n",
       " '2000-12-01,39.0,39.0,38.25,39.0,4000800.0,1.958053,RAI\\n',\n",
       " '2000-12-22,44.8125,48.8125,44.3125,48.375,9779200.0,37.182639,XLNX\\n',\n",
       " '2000-12-22,31.749997,31.749997,30.875005,31.249992,2018100.0,12.446755,FOX\\n',\n",
       " '2001-01-19,66.375,66.375,64.375,65.9375,1960400.0,56.329221,KSS\\n',\n",
       " '2001-02-09,37.593761,38.0,36.9375,37.75,1572200.0,13.510969,TROW\\n',\n",
       " '2001-02-16,36.200001,36.490002,35.799999,36.099998,585700.0,17.109717,ED\\n']"
      ]
     },
     "execution_count": 156,
     "metadata": {},
     "output_type": "execute_result"
    }
   ],
   "source": [
    "def is_friday(line):\n",
    "    try:\n",
    "        d = line.split(\",\")[0]\n",
    "        weekdays = [\"Mon\", \"Tue\", \"Wed\", \"Thu\", \"Fri\", \"Sat\", \"Sun\"]\n",
    "        d = datetime.strptime(d, \"%Y-%m-%d\")\n",
    "        day = weekdays[d.weekday()]\n",
    "        return day == \"Fri\"\n",
    "    except:\n",
    "        return False\n",
    "\n",
    "list(filter(is_friday, lines))[:10]"
   ]
  },
  {
   "cell_type": "markdown",
   "metadata": {},
   "source": [
    "# Exercise\n",
    "\n",
    "Find top 10 stocks which have given highest daily return? Display the stock symbol, date and pct return. Use open and and close to calcute the pct change using the following formula\n",
    "```\n",
    "pct_change = (close - open)*100/open\n",
    "```"
   ]
  },
  {
   "cell_type": "markdown",
   "metadata": {},
   "source": [
    "Consier this is your input\n",
    "```\n",
    "'2001-02-16,36.200001,36.490002,35.799999,36.099998,585700.0,17.109717,ED\\n'\n",
    "```\n",
    "\n",
    "Create a function to return a tuple of  \n",
    "(symbol, date, pct change)\n"
   ]
  },
  {
   "cell_type": "code",
   "execution_count": 157,
   "metadata": {},
   "outputs": [
    {
     "data": {
      "text/plain": [
       "'date,open,high,low,close,volume,adjclose,symbol\\n'"
      ]
     },
     "execution_count": 157,
     "metadata": {},
     "output_type": "execute_result"
    }
   ],
   "source": [
    "lines[0]"
   ]
  },
  {
   "cell_type": "code",
   "execution_count": 164,
   "metadata": {},
   "outputs": [
    {
     "data": {
      "text/plain": [
       "('ED', '2001-02-16', -0.2762513735842188)"
      ]
     },
     "execution_count": 164,
     "metadata": {},
     "output_type": "execute_result"
    }
   ],
   "source": [
    "def pct_change(line): # line is string\n",
    "    \n",
    "    tokens = line.split(\",\")\n",
    "    date = tokens[0]\n",
    "    symbol = tokens[-1].replace(\"\\n\", \"\")\n",
    "    open_price = float(tokens[1])\n",
    "    close_price = float(tokens[4])\n",
    "    pct_change = (close_price - open_price) * 100 / open_price\n",
    "    \n",
    "    return (symbol, date, pct_change)\n",
    "\n",
    "pct_change('2001-02-16,36.200001,36.490002,35.799999,36.099998,585700.0,17.109717,ED\\n')"
   ]
  },
  {
   "cell_type": "code",
   "execution_count": 166,
   "metadata": {},
   "outputs": [
    {
     "data": {
      "text/plain": [
       "-0.2762513735842188"
      ]
     },
     "execution_count": 166,
     "metadata": {},
     "output_type": "execute_result"
    }
   ],
   "source": [
    "100 * (36.099998 - 36.200001 ) / 36.200001"
   ]
  },
  {
   "cell_type": "code",
   "execution_count": 169,
   "metadata": {},
   "outputs": [
    {
     "data": {
      "text/plain": [
       "[('ALK', '2008-10-13', 11.61616725334179),\n",
       " ('CCL', '2008-07-16', 10.515807338296428),\n",
       " ('ETFC', '2001-12-05', 9.999999999999996),\n",
       " ('FLIR', '2000-12-11', 9.090274383858127),\n",
       " ('ENDP', '2000-11-03', 8.39336855126603),\n",
       " ('HUM', '2001-09-27', 8.181818181818185),\n",
       " ('KLAC', '2007-07-17', 8.120406162415216),\n",
       " ('XLNX', '2000-12-22', 7.949790794979079),\n",
       " ('FMC', '2004-07-28', 7.777782716049384),\n",
       " ('MDT', '2008-10-13', 7.478684713244451)]"
      ]
     },
     "execution_count": 169,
     "metadata": {},
     "output_type": "execute_result"
    }
   ],
   "source": [
    "lines_pct_change = [pct_change(v) for v in lines[1:]]\n",
    "lines_pct_change = sorted(lines_pct_change, key=lambda v: - v[2])\n",
    "lines_pct_change[:10]"
   ]
  },
  {
   "cell_type": "code",
   "execution_count": 170,
   "metadata": {},
   "outputs": [
    {
     "data": {
      "text/plain": [
       "[('ALK', '2008-10-13', 11.61616725334179),\n",
       " ('CCL', '2008-07-16', 10.515807338296428),\n",
       " ('ETFC', '2001-12-05', 9.999999999999996),\n",
       " ('FLIR', '2000-12-11', 9.090274383858127),\n",
       " ('ENDP', '2000-11-03', 8.39336855126603),\n",
       " ('HUM', '2001-09-27', 8.181818181818185),\n",
       " ('KLAC', '2007-07-17', 8.120406162415216),\n",
       " ('XLNX', '2000-12-22', 7.949790794979079),\n",
       " ('FMC', '2004-07-28', 7.777782716049384),\n",
       " ('MDT', '2008-10-13', 7.478684713244451)]"
      ]
     },
     "execution_count": 170,
     "metadata": {},
     "output_type": "execute_result"
    }
   ],
   "source": [
    "lines_pct_change = map(pct_change, lines[1:])\n",
    "lines_pct_change = sorted(lines_pct_change, key=lambda v: - v[2])\n",
    "lines_pct_change[:10]"
   ]
  },
  {
   "cell_type": "code",
   "execution_count": null,
   "metadata": {},
   "outputs": [],
   "source": []
  }
 ],
 "metadata": {
  "kernelspec": {
   "display_name": "Python 3",
   "language": "python",
   "name": "python3"
  },
  "language_info": {
   "codemirror_mode": {
    "name": "ipython",
    "version": 3
   },
   "file_extension": ".py",
   "mimetype": "text/x-python",
   "name": "python",
   "nbconvert_exporter": "python",
   "pygments_lexer": "ipython3",
   "version": "3.6.6"
  }
 },
 "nbformat": 4,
 "nbformat_minor": 2
}
