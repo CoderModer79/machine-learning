{
 "cells": [
  {
   "cell_type": "code",
   "execution_count": 3,
   "metadata": {},
   "outputs": [
    {
     "data": {
      "text/plain": [
       "(<__main__.Vehicle at 0x10974e1d0>, __main__.Vehicle)"
      ]
     },
     "execution_count": 3,
     "metadata": {},
     "output_type": "execute_result"
    }
   ],
   "source": [
    "class Vehicle:\n",
    "    pass\n",
    "\n",
    "v = Vehicle()\n",
    "v, type(v)"
   ]
  },
  {
   "cell_type": "code",
   "execution_count": 4,
   "metadata": {},
   "outputs": [
    {
     "data": {
      "text/plain": [
       "'__main__'"
      ]
     },
     "execution_count": 4,
     "metadata": {},
     "output_type": "execute_result"
    }
   ],
   "source": [
    "__name__"
   ]
  },
  {
   "cell_type": "code",
   "execution_count": 8,
   "metadata": {},
   "outputs": [
    {
     "data": {
      "text/plain": [
       "('Honda City', <__main__.Vehicle at 0x10974e470>)"
      ]
     },
     "execution_count": 8,
     "metadata": {},
     "output_type": "execute_result"
    }
   ],
   "source": [
    "class Vehicle:\n",
    "    pass\n",
    "\n",
    "v = Vehicle()\n",
    "v.name = \"Honda City\"\n",
    "v.name, v"
   ]
  },
  {
   "cell_type": "code",
   "execution_count": 11,
   "metadata": {},
   "outputs": [
    {
     "data": {
      "text/plain": [
       "('Honda City', <__main__.Vehicle at 0x10974ec88>)"
      ]
     },
     "execution_count": 11,
     "metadata": {},
     "output_type": "execute_result"
    }
   ],
   "source": [
    "class Vehicle:\n",
    "    \n",
    "    def __init__(self, name): # magic function for constructor\n",
    "        # self represent an instance of the class, it is this object in java\n",
    "        self.name = name\n",
    "\n",
    "    def greet(self, guest):\n",
    "        print(\"Hello {0}, I am {1}\".format(guest, self.name))\n",
    "        \n",
    "        \n",
    "        \n",
    "v = Vehicle(name = \"Honda City\")\n",
    "v.name, v"
   ]
  },
  {
   "cell_type": "code",
   "execution_count": 12,
   "metadata": {},
   "outputs": [
    {
     "name": "stdout",
     "output_type": "stream",
     "text": [
      "Hello Mr. Puli, I am Honda City\n"
     ]
    }
   ],
   "source": [
    "v.greet(\"Mr. Puli\")"
   ]
  },
  {
   "cell_type": "code",
   "execution_count": 13,
   "metadata": {},
   "outputs": [
    {
     "data": {
      "text/plain": [
       "<__main__.Vehicle at 0x10974ec88>"
      ]
     },
     "execution_count": 13,
     "metadata": {},
     "output_type": "execute_result"
    }
   ],
   "source": [
    "v"
   ]
  },
  {
   "cell_type": "code",
   "execution_count": 16,
   "metadata": {},
   "outputs": [
    {
     "data": {
      "text/plain": [
       "[Vehicle] Honda City"
      ]
     },
     "execution_count": 16,
     "metadata": {},
     "output_type": "execute_result"
    }
   ],
   "source": [
    "class Vehicle:\n",
    "    \n",
    "    def __init__(self, name): # magic function for constructor\n",
    "        # self represent an instance of the class, it is this object in java\n",
    "        self.name = name\n",
    "\n",
    "    def greet(self, guest):\n",
    "        print(\"Hello {0}, I am {1}\".format(guest, self.name))\n",
    "    \n",
    "    def __repr__(self): # Magic function to add friend string representation\n",
    "        return \"[Vehicle] {0}\".format(self.name)\n",
    "        \n",
    "        \n",
    "        \n",
    "v = Vehicle(name = \"Honda City\")\n",
    "v"
   ]
  },
  {
   "cell_type": "code",
   "execution_count": 21,
   "metadata": {},
   "outputs": [
    {
     "data": {
      "text/plain": [
       "[Vehicle] name: Honda City, color: White"
      ]
     },
     "execution_count": 21,
     "metadata": {},
     "output_type": "execute_result"
    }
   ],
   "source": [
    "class Vehicle:\n",
    "    \n",
    "    # static members\n",
    "    colors = [\"White\", \"Silver\", \"Black\"]\n",
    "    \n",
    "    def __init__(self, name, color): # magic function for constructor\n",
    "        # self represent an instance of the class, it is this object in java\n",
    "        self.name = name\n",
    "        self.color = color\n",
    "\n",
    "    def greet(self, guest):\n",
    "        print(\"Hello {0}, I am {1}\".format(guest, self.name))\n",
    "    \n",
    "    def __repr__(self): # Magic function to add friend string representation\n",
    "        return \"[Vehicle] name: {0}, color: {1}\".format(self.name, self.color)\n",
    "        \n",
    "v = Vehicle(\"Honda City\", Vehicle.colors[0])\n",
    "v"
   ]
  },
  {
   "cell_type": "code",
   "execution_count": 23,
   "metadata": {},
   "outputs": [
    {
     "name": "stdout",
     "output_type": "stream",
     "text": [
      "This is vehicle class\n"
     ]
    },
    {
     "data": {
      "text/plain": [
       "([Vehicle] name: Honda City, color: White, None)"
      ]
     },
     "execution_count": 23,
     "metadata": {},
     "output_type": "execute_result"
    }
   ],
   "source": [
    "class Vehicle:\n",
    "    \n",
    "    # static members\n",
    "    colors = [\"White\", \"Silver\", \"Black\"]\n",
    "    \n",
    "    def __init__(self, name, color): # magic function for constructor\n",
    "        # self represent an instance of the class, it is this object in java\n",
    "        self.name = name\n",
    "        self.color = color\n",
    "\n",
    "    def greet(self, guest):\n",
    "        print(\"Hello {0}, I am {1}\".format(guest, self.name))\n",
    "    \n",
    "    def __repr__(self): # Magic function to add friend string representation\n",
    "        return \"[Vehicle] name: {0}, color: {1}\".format(self.name, self.color)\n",
    "    \n",
    "    @staticmethod\n",
    "    def describe():\n",
    "        print(\"This is vehicle class\")\n",
    "        \n",
    "v = Vehicle(\"Honda City\", Vehicle.colors[0])\n",
    "Vehicle.describe()"
   ]
  },
  {
   "cell_type": "code",
   "execution_count": 28,
   "metadata": {},
   "outputs": [
    {
     "data": {
      "text/plain": [
       "{\"name\": \"Honda City\", \"color\": \"red\", \"doors\": 4, \"category\": \"Sedan\"}"
      ]
     },
     "execution_count": 28,
     "metadata": {},
     "output_type": "execute_result"
    }
   ],
   "source": [
    "import json \n",
    "\n",
    "class Car(Vehicle):\n",
    "    \n",
    "    def __init__(self, name, color, doors, category):\n",
    "        super().__init__(name, color)\n",
    "        self.doors = doors\n",
    "        self.category = category\n",
    "    \n",
    "    def __repr__(self):\n",
    "        return json.dumps(self.__dict__)\n",
    "    \n",
    "car = Car(\"Honda City\", \"red\", 4, \"Sedan\")\n",
    "car"
   ]
  },
  {
   "cell_type": "code",
   "execution_count": null,
   "metadata": {},
   "outputs": [],
   "source": []
  }
 ],
 "metadata": {
  "kernelspec": {
   "display_name": "Python 3",
   "language": "python",
   "name": "python3"
  },
  "language_info": {
   "codemirror_mode": {
    "name": "ipython",
    "version": 3
   },
   "file_extension": ".py",
   "mimetype": "text/x-python",
   "name": "python",
   "nbconvert_exporter": "python",
   "pygments_lexer": "ipython3",
   "version": "3.6.6"
  }
 },
 "nbformat": 4,
 "nbformat_minor": 2
}
