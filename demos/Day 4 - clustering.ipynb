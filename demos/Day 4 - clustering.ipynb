{
 "cells": [
  {
   "cell_type": "code",
   "execution_count": 10,
   "metadata": {},
   "outputs": [],
   "source": [
    "import pandas as pd\n",
    "pd.options.display.max_columns = 1000\n",
    "pd.options.display.max_rows = 10\n",
    "\n",
    "from sklearn import *\n",
    "import seaborn as sns\n",
    "\n",
    "from mlxtend.plotting import plot_confusion_matrix\n",
    "import matplotlib.pyplot as plt\n",
    "\n",
    "import numpy as np\n",
    "%matplotlib inline"
   ]
  },
  {
   "cell_type": "code",
   "execution_count": 3,
   "metadata": {},
   "outputs": [
    {
     "data": {
      "text/html": [
       "<div>\n",
       "<style scoped>\n",
       "    .dataframe tbody tr th:only-of-type {\n",
       "        vertical-align: middle;\n",
       "    }\n",
       "\n",
       "    .dataframe tbody tr th {\n",
       "        vertical-align: top;\n",
       "    }\n",
       "\n",
       "    .dataframe thead th {\n",
       "        text-align: right;\n",
       "    }\n",
       "</style>\n",
       "<table border=\"1\" class=\"dataframe\">\n",
       "  <thead>\n",
       "    <tr style=\"text-align: right;\">\n",
       "      <th></th>\n",
       "      <th>Id</th>\n",
       "      <th>SepalLengthCm</th>\n",
       "      <th>SepalWidthCm</th>\n",
       "      <th>PetalLengthCm</th>\n",
       "      <th>PetalWidthCm</th>\n",
       "      <th>Species</th>\n",
       "    </tr>\n",
       "  </thead>\n",
       "  <tbody>\n",
       "    <tr>\n",
       "      <th>0</th>\n",
       "      <td>1</td>\n",
       "      <td>5.1</td>\n",
       "      <td>3.5</td>\n",
       "      <td>1.4</td>\n",
       "      <td>0.2</td>\n",
       "      <td>Iris-setosa</td>\n",
       "    </tr>\n",
       "    <tr>\n",
       "      <th>1</th>\n",
       "      <td>2</td>\n",
       "      <td>4.9</td>\n",
       "      <td>3.0</td>\n",
       "      <td>1.4</td>\n",
       "      <td>0.2</td>\n",
       "      <td>Iris-setosa</td>\n",
       "    </tr>\n",
       "    <tr>\n",
       "      <th>2</th>\n",
       "      <td>3</td>\n",
       "      <td>4.7</td>\n",
       "      <td>3.2</td>\n",
       "      <td>1.3</td>\n",
       "      <td>0.2</td>\n",
       "      <td>Iris-setosa</td>\n",
       "    </tr>\n",
       "    <tr>\n",
       "      <th>3</th>\n",
       "      <td>4</td>\n",
       "      <td>4.6</td>\n",
       "      <td>3.1</td>\n",
       "      <td>1.5</td>\n",
       "      <td>0.2</td>\n",
       "      <td>Iris-setosa</td>\n",
       "    </tr>\n",
       "    <tr>\n",
       "      <th>4</th>\n",
       "      <td>5</td>\n",
       "      <td>5.0</td>\n",
       "      <td>3.6</td>\n",
       "      <td>1.4</td>\n",
       "      <td>0.2</td>\n",
       "      <td>Iris-setosa</td>\n",
       "    </tr>\n",
       "  </tbody>\n",
       "</table>\n",
       "</div>"
      ],
      "text/plain": [
       "   Id  SepalLengthCm  SepalWidthCm  PetalLengthCm  PetalWidthCm      Species\n",
       "0   1            5.1           3.5            1.4           0.2  Iris-setosa\n",
       "1   2            4.9           3.0            1.4           0.2  Iris-setosa\n",
       "2   3            4.7           3.2            1.3           0.2  Iris-setosa\n",
       "3   4            4.6           3.1            1.5           0.2  Iris-setosa\n",
       "4   5            5.0           3.6            1.4           0.2  Iris-setosa"
      ]
     },
     "execution_count": 3,
     "metadata": {},
     "output_type": "execute_result"
    }
   ],
   "source": [
    "df = pd.read_csv(\"/data/iris.csv\")\n",
    "df.head()"
   ]
  },
  {
   "cell_type": "code",
   "execution_count": 4,
   "metadata": {},
   "outputs": [],
   "source": [
    "features = [\"SepalLengthCm\", \"PetalLengthCm\"]"
   ]
  },
  {
   "cell_type": "code",
   "execution_count": 6,
   "metadata": {},
   "outputs": [
    {
     "data": {
      "text/plain": [
       "Iris-virginica     50\n",
       "Iris-versicolor    50\n",
       "Iris-setosa        50\n",
       "Name: Species, dtype: int64"
      ]
     },
     "execution_count": 6,
     "metadata": {},
     "output_type": "execute_result"
    }
   ],
   "source": [
    "df.Species.value_counts()"
   ]
  },
  {
   "cell_type": "code",
   "execution_count": 25,
   "metadata": {},
   "outputs": [
    {
     "data": {
      "image/png": "[encoded data removed]",
      "text/plain": [
       "<Figure size 432x288 with 1 Axes>"
      ]
     },
     "metadata": {},
     "output_type": "display_data"
    }
   ],
   "source": [
    "fig, ax = plt.subplots()\n",
    "colors = [\"red\", \"green\", \"blue\"]\n",
    "for i, v in enumerate(df.Species.unique()):\n",
    "    df[df.Species == v][features].plot\\\n",
    "    .scatter(0, 1, color = colors[i], ax = ax, label = v)\n",
    "#plt.legend()"
   ]
  },
  {
   "cell_type": "code",
   "execution_count": 47,
   "metadata": {},
   "outputs": [
    {
     "data": {
      "text/html": [
       "<div>\n",
       "<style scoped>\n",
       "    .dataframe tbody tr th:only-of-type {\n",
       "        vertical-align: middle;\n",
       "    }\n",
       "\n",
       "    .dataframe tbody tr th {\n",
       "        vertical-align: top;\n",
       "    }\n",
       "\n",
       "    .dataframe thead th {\n",
       "        text-align: right;\n",
       "    }\n",
       "</style>\n",
       "<table border=\"1\" class=\"dataframe\">\n",
       "  <thead>\n",
       "    <tr style=\"text-align: right;\">\n",
       "      <th></th>\n",
       "      <th>0</th>\n",
       "      <th>1</th>\n",
       "    </tr>\n",
       "  </thead>\n",
       "  <tbody>\n",
       "    <tr>\n",
       "      <th>0</th>\n",
       "      <td>-0.900681</td>\n",
       "      <td>-1.341272</td>\n",
       "    </tr>\n",
       "    <tr>\n",
       "      <th>1</th>\n",
       "      <td>-1.143017</td>\n",
       "      <td>-1.341272</td>\n",
       "    </tr>\n",
       "    <tr>\n",
       "      <th>2</th>\n",
       "      <td>-1.385353</td>\n",
       "      <td>-1.398138</td>\n",
       "    </tr>\n",
       "    <tr>\n",
       "      <th>3</th>\n",
       "      <td>-1.506521</td>\n",
       "      <td>-1.284407</td>\n",
       "    </tr>\n",
       "    <tr>\n",
       "      <th>4</th>\n",
       "      <td>-1.021849</td>\n",
       "      <td>-1.341272</td>\n",
       "    </tr>\n",
       "    <tr>\n",
       "      <th>...</th>\n",
       "      <td>...</td>\n",
       "      <td>...</td>\n",
       "    </tr>\n",
       "    <tr>\n",
       "      <th>145</th>\n",
       "      <td>1.038005</td>\n",
       "      <td>0.819624</td>\n",
       "    </tr>\n",
       "    <tr>\n",
       "      <th>146</th>\n",
       "      <td>0.553333</td>\n",
       "      <td>0.705893</td>\n",
       "    </tr>\n",
       "    <tr>\n",
       "      <th>147</th>\n",
       "      <td>0.795669</td>\n",
       "      <td>0.819624</td>\n",
       "    </tr>\n",
       "    <tr>\n",
       "      <th>148</th>\n",
       "      <td>0.432165</td>\n",
       "      <td>0.933356</td>\n",
       "    </tr>\n",
       "    <tr>\n",
       "      <th>149</th>\n",
       "      <td>0.068662</td>\n",
       "      <td>0.762759</td>\n",
       "    </tr>\n",
       "  </tbody>\n",
       "</table>\n",
       "<p>150 rows × 2 columns</p>\n",
       "</div>"
      ],
      "text/plain": [
       "            0         1\n",
       "0   -0.900681 -1.341272\n",
       "1   -1.143017 -1.341272\n",
       "2   -1.385353 -1.398138\n",
       "3   -1.506521 -1.284407\n",
       "4   -1.021849 -1.341272\n",
       "..        ...       ...\n",
       "145  1.038005  0.819624\n",
       "146  0.553333  0.705893\n",
       "147  0.795669  0.819624\n",
       "148  0.432165  0.933356\n",
       "149  0.068662  0.762759\n",
       "\n",
       "[150 rows x 2 columns]"
      ]
     },
     "execution_count": 47,
     "metadata": {},
     "output_type": "execute_result"
    }
   ],
   "source": [
    "scaler = preprocessing.StandardScaler()\n",
    "X = scaler.fit_transform(df[features].values)\n",
    "pd.DataFrame(X)"
   ]
  },
  {
   "cell_type": "code",
   "execution_count": 61,
   "metadata": {},
   "outputs": [],
   "source": [
    "k = 3\n",
    "kmeans = cluster.KMeans(n_clusters=k)\n",
    "kmeans.fit(X)\n",
    "y_pred = kmeans.predict(X)"
   ]
  },
  {
   "cell_type": "code",
   "execution_count": 62,
   "metadata": {
    "scrolled": false
   },
   "outputs": [
    {
     "data": {
      "text/plain": [
       "array([1, 1, 1, 1, 1, 1, 1, 1, 1, 1, 1, 1, 1, 1, 1, 1, 1, 1, 1, 1, 1, 1,\n",
       "       1, 1, 1, 1, 1, 1, 1, 1, 1, 1, 1, 1, 1, 1, 1, 1, 1, 1, 1, 1, 1, 1,\n",
       "       1, 1, 1, 1, 1, 1, 2, 0, 2, 0, 2, 0, 0, 1, 2, 0, 1, 0, 0, 0, 0, 2,\n",
       "       0, 0, 0, 0, 0, 0, 0, 0, 0, 2, 2, 2, 0, 0, 0, 0, 0, 0, 0, 0, 2, 0,\n",
       "       0, 0, 0, 0, 0, 1, 0, 0, 0, 0, 1, 0, 2, 0, 2, 2, 2, 2, 0, 2, 2, 2,\n",
       "       2, 2, 2, 0, 0, 2, 2, 2, 2, 0, 2, 0, 2, 0, 2, 2, 0, 0, 2, 2, 2, 2,\n",
       "       2, 0, 0, 2, 2, 2, 0, 2, 2, 2, 0, 2, 2, 2, 0, 2, 0, 0], dtype=int32)"
      ]
     },
     "execution_count": 62,
     "metadata": {},
     "output_type": "execute_result"
    }
   ],
   "source": [
    "y_pred"
   ]
  },
  {
   "cell_type": "code",
   "execution_count": 63,
   "metadata": {},
   "outputs": [
    {
     "data": {
      "text/plain": [
       "<matplotlib.axes._subplots.AxesSubplot at 0x1a2580aba8>"
      ]
     },
     "execution_count": 63,
     "metadata": {},
     "output_type": "execute_result"
    },
    {
     "data": {
      "image/png": "[encoded data removed]",
      "text/plain": [
       "<Figure size 432x288 with 1 Axes>"
      ]
     },
     "metadata": {},
     "output_type": "display_data"
    }
   ],
   "source": [
    "fig, ax = plt.subplots()\n",
    "colors = [\"red\", \"green\", \"blue\", \"orange\", \"yellow\"]\n",
    "for i in range(k):\n",
    "    df[y_pred == i][features].plot\\\n",
    "    .scatter(0, 1, ax = ax, color = colors[i], label = i, alpha = 0.4)\n",
    "\n",
    "centroids = pd.DataFrame(scaler.inverse_transform(kmeans.cluster_centers_))\n",
    "centroids.plot.scatter(0, 1, ax = ax, s = 150, marker = \"*\", color = \"black\")"
   ]
  },
  {
   "cell_type": "code",
   "execution_count": 64,
   "metadata": {},
   "outputs": [
    {
     "data": {
      "text/plain": [
       "43.038870666761774"
      ]
     },
     "execution_count": 64,
     "metadata": {},
     "output_type": "execute_result"
    }
   ],
   "source": [
    "# Sum of squared distance\n",
    "kmeans.inertia_ \n",
    "# 3: 43.038870666761774 # 22.401089283315386"
   ]
  },
  {
   "cell_type": "code",
   "execution_count": 65,
   "metadata": {},
   "outputs": [
    {
     "data": {
      "text/plain": [
       "0.5826296711195839"
      ]
     },
     "execution_count": 65,
     "metadata": {},
     "output_type": "execute_result"
    }
   ],
   "source": [
    "metrics.homogeneity_score(df.Species, y_pred)"
   ]
  },
  {
   "cell_type": "code",
   "execution_count": 32,
   "metadata": {},
   "outputs": [
    {
     "data": {
      "text/plain": [
       "4.317124741065786e-05"
      ]
     },
     "execution_count": 32,
     "metadata": {},
     "output_type": "execute_result"
    }
   ],
   "source": [
    ".99 ** 1000"
   ]
  },
  {
   "cell_type": "code",
   "execution_count": 73,
   "metadata": {},
   "outputs": [],
   "source": [
    "distances = np.zeros([len(X)])\n",
    "for i in range(3):\n",
    "    X_cluster = X[y_pred == i]\n",
    "    centroid = kmeans.cluster_centers_[i]\n",
    "    distances[y_pred == i] = np.sqrt(np.sum((X_cluster - centroid) ** 2, axis= 1))"
   ]
  },
  {
   "cell_type": "code",
   "execution_count": 74,
   "metadata": {},
   "outputs": [
    {
     "data": {
      "text/plain": [
       "array([0.6378604 , 0.53228383, 0.21037292, 0.52998652, 0.88296901,\n",
       "       0.1693573 , 0.31919118, 0.29865229, 0.60617332, 0.33152478,\n",
       "       0.24032281, 0.3955335 , 0.47264526, 0.17779352, 0.39202591,\n",
       "       0.56627416, 0.29865229, 0.64716652, 0.15323459, 0.60228442,\n",
       "       0.59996572, 0.63873029, 0.34850109, 0.37791928, 0.57384879,\n",
       "       0.15323459, 0.519346  , 0.3996193 , 0.53228383, 0.4557077 ,\n",
       "       0.28107643, 0.29388828, 0.37087429, 0.26813395, 0.26813395,\n",
       "       0.41037224, 0.3066654 , 0.35680568, 1.1796799 , 0.35712744,\n",
       "       0.35680568, 0.32674773, 0.40447552, 0.56627416, 0.43245167,\n",
       "       0.35912937, 0.62154389, 0.68697163, 0.23248341, 0.35680568,\n",
       "       0.59182591, 0.65020773, 0.34696539])"
      ]
     },
     "execution_count": 74,
     "metadata": {},
     "output_type": "execute_result"
    }
   ],
   "source": [
    "distances[y_pred == 0]"
   ]
  },
  {
   "cell_type": "code",
   "execution_count": 85,
   "metadata": {
    "scrolled": false
   },
   "outputs": [],
   "source": [
    "distances = np.zeros([len(X)])\n",
    "for i in range(3):\n",
    "    distances[y_pred == i] = metrics.pairwise_distances(X[y_pred == i]\n",
    "                , kmeans.cluster_centers_[i].reshape((1, -1))).flatten()\n",
    "    "
   ]
  },
  {
   "cell_type": "code",
   "execution_count": 86,
   "metadata": {},
   "outputs": [
    {
     "data": {
      "text/plain": [
       "array([0.16059913, 0.1704543 , 0.40720911, 0.49456242, 0.11287924,\n",
       "       0.48143656, 0.50415607, 0.05621711, 0.74234021, 0.13954681,\n",
       "       0.48118773, 0.24906952, 0.27336957, 0.90061665, 0.98887922,\n",
       "       0.84329253, 0.50712105, 0.16059913, 0.84343454, 0.12732133,\n",
       "       0.48143656, 0.12732133, 0.59763948, 0.12825855, 0.30248686,\n",
       "       0.00681342, 0.00681342, 0.24212473, 0.26116229, 0.37023666,\n",
       "       0.24906952, 0.48118773, 0.24212473, 0.60961182, 0.13954681,\n",
       "       0.2265098 , 0.6226358 , 0.13954681, 0.75307222, 0.12732133,\n",
       "       0.16967762, 0.63560073, 0.75307222, 0.00681342, 0.20629943,\n",
       "       0.27336957, 0.11444117, 0.50415607, 0.36111128, 0.11287924,\n",
       "       0.52236774, 0.6378604 , 0.38291965, 0.53228383, 0.70069219,\n",
       "       0.21037292, 0.52998652, 0.97618497, 0.63284247, 0.88296901,\n",
       "       1.08152239, 0.1693573 , 0.31919118, 0.29865229, 0.60617332,\n",
       "       0.69097379, 0.33152478, 0.24032281, 0.3955335 , 0.47264526,\n",
       "       0.17779352, 0.39202591, 0.56627416, 0.29865229, 0.64716652,\n",
       "       0.73386744, 0.44206046, 0.37528429, 0.15323459, 0.60228442,\n",
       "       0.59996572, 0.63873029, 0.34850109, 0.37791928, 0.57384879,\n",
       "       0.15323459, 0.52918632, 0.519346  , 0.3996193 , 0.53228383,\n",
       "       0.4557077 , 0.28107643, 0.29388828, 0.96779345, 0.37087429,\n",
       "       0.26813395, 0.26813395, 0.41037224, 0.80534486, 0.3066654 ,\n",
       "       0.71962995, 0.35680568, 0.3487774 , 0.67653917, 0.45365361,\n",
       "       1.07367839, 1.1796799 , 0.6783655 , 0.23281967, 0.51312399,\n",
       "       0.50889074, 0.57557367, 0.08020924, 0.35712744, 0.35680568,\n",
       "       0.57557367, 0.43564144, 1.20636447, 1.270726  , 0.32674773,\n",
       "       0.09085607, 0.40447552, 1.20636447, 0.56627416, 0.20590824,\n",
       "       0.48175428, 0.43245167, 0.35912937, 0.55542658, 0.43482335,\n",
       "       0.72303936, 1.34825798, 0.55542658, 0.62154389, 0.68697163,\n",
       "       1.06407012, 0.67653917, 0.55644112, 0.23248341, 0.10788392,\n",
       "       0.19250669, 0.27061006, 0.35680568, 0.20180652, 0.20590824,\n",
       "       0.28350569, 0.59182591, 0.4816348 , 0.65020773, 0.34696539])"
      ]
     },
     "execution_count": 86,
     "metadata": {},
     "output_type": "execute_result"
    }
   ],
   "source": [
    "distances"
   ]
  },
  {
   "cell_type": "code",
   "execution_count": 90,
   "metadata": {},
   "outputs": [
    {
     "data": {
      "text/html": [
       "<div>\n",
       "<style scoped>\n",
       "    .dataframe tbody tr th:only-of-type {\n",
       "        vertical-align: middle;\n",
       "    }\n",
       "\n",
       "    .dataframe tbody tr th {\n",
       "        vertical-align: top;\n",
       "    }\n",
       "\n",
       "    .dataframe thead th {\n",
       "        text-align: right;\n",
       "    }\n",
       "</style>\n",
       "<table border=\"1\" class=\"dataframe\">\n",
       "  <thead>\n",
       "    <tr style=\"text-align: right;\">\n",
       "      <th></th>\n",
       "      <th>SepalLengthCm</th>\n",
       "      <th>PetalLengthCm</th>\n",
       "      <th>cluster</th>\n",
       "      <th>distance</th>\n",
       "      <th>actual</th>\n",
       "    </tr>\n",
       "  </thead>\n",
       "  <tbody>\n",
       "    <tr>\n",
       "      <th>0</th>\n",
       "      <td>-0.900681</td>\n",
       "      <td>-1.341272</td>\n",
       "      <td>1</td>\n",
       "      <td>0.160599</td>\n",
       "      <td>Iris-setosa</td>\n",
       "    </tr>\n",
       "    <tr>\n",
       "      <th>1</th>\n",
       "      <td>-1.143017</td>\n",
       "      <td>-1.341272</td>\n",
       "      <td>1</td>\n",
       "      <td>0.170454</td>\n",
       "      <td>Iris-setosa</td>\n",
       "    </tr>\n",
       "    <tr>\n",
       "      <th>2</th>\n",
       "      <td>-1.385353</td>\n",
       "      <td>-1.398138</td>\n",
       "      <td>1</td>\n",
       "      <td>0.407209</td>\n",
       "      <td>Iris-setosa</td>\n",
       "    </tr>\n",
       "    <tr>\n",
       "      <th>3</th>\n",
       "      <td>-1.506521</td>\n",
       "      <td>-1.284407</td>\n",
       "      <td>1</td>\n",
       "      <td>0.494562</td>\n",
       "      <td>Iris-setosa</td>\n",
       "    </tr>\n",
       "    <tr>\n",
       "      <th>4</th>\n",
       "      <td>-1.021849</td>\n",
       "      <td>-1.341272</td>\n",
       "      <td>1</td>\n",
       "      <td>0.112879</td>\n",
       "      <td>Iris-setosa</td>\n",
       "    </tr>\n",
       "  </tbody>\n",
       "</table>\n",
       "</div>"
      ],
      "text/plain": [
       "   SepalLengthCm  PetalLengthCm  cluster  distance       actual\n",
       "0      -0.900681      -1.341272        1  0.160599  Iris-setosa\n",
       "1      -1.143017      -1.341272        1  0.170454  Iris-setosa\n",
       "2      -1.385353      -1.398138        1  0.407209  Iris-setosa\n",
       "3      -1.506521      -1.284407        1  0.494562  Iris-setosa\n",
       "4      -1.021849      -1.341272        1  0.112879  Iris-setosa"
      ]
     },
     "execution_count": 90,
     "metadata": {},
     "output_type": "execute_result"
    }
   ],
   "source": [
    "points = pd.DataFrame(X, columns = features)\n",
    "points[\"cluster\"] = y_pred\n",
    "points[\"distance\"] = distances\n",
    "points[\"actual\"] = df.Species\n",
    "points.head()"
   ]
  },
  {
   "cell_type": "code",
   "execution_count": 91,
   "metadata": {},
   "outputs": [
    {
     "data": {
      "text/plain": [
       "1    54\n",
       "0    53\n",
       "2    43\n",
       "Name: cluster, dtype: int64"
      ]
     },
     "execution_count": 91,
     "metadata": {},
     "output_type": "execute_result"
    }
   ],
   "source": [
    "points.cluster.value_counts()"
   ]
  },
  {
   "cell_type": "code",
   "execution_count": 92,
   "metadata": {},
   "outputs": [
    {
     "data": {
      "text/plain": [
       "cluster\n",
       "0    0.435640\n",
       "1    0.402361\n",
       "2    0.558198\n",
       "Name: distance, dtype: float64"
      ]
     },
     "execution_count": 92,
     "metadata": {},
     "output_type": "execute_result"
    }
   ],
   "source": [
    "points.groupby(\"cluster\").distance.mean()"
   ]
  },
  {
   "cell_type": "code",
   "execution_count": 95,
   "metadata": {},
   "outputs": [
    {
     "data": {
      "text/plain": [
       "3"
      ]
     },
     "execution_count": 95,
     "metadata": {},
     "output_type": "execute_result"
    }
   ],
   "source": [
    "k"
   ]
  },
  {
   "cell_type": "code",
   "execution_count": 121,
   "metadata": {},
   "outputs": [
    {
     "data": {
      "text/plain": [
       "[0.6385563113500915, 0.8433919366435791, 1.071756735594634]"
      ]
     },
     "execution_count": 121,
     "metadata": {},
     "output_type": "execute_result"
    }
   ],
   "source": [
    "distanace_threshold = [0.0] * k\n",
    "for i in range(k):\n",
    "    points_k = points[points.cluster == i]\n",
    "    distanace_threshold[i] = np.percentile(points_k.distance, 90)\n",
    "distanace_threshold"
   ]
  },
  {
   "cell_type": "code",
   "execution_count": 122,
   "metadata": {},
   "outputs": [
    {
     "data": {
      "text/html": [
       "<div>\n",
       "<style scoped>\n",
       "    .dataframe tbody tr th:only-of-type {\n",
       "        vertical-align: middle;\n",
       "    }\n",
       "\n",
       "    .dataframe tbody tr th {\n",
       "        vertical-align: top;\n",
       "    }\n",
       "\n",
       "    .dataframe thead th {\n",
       "        text-align: right;\n",
       "    }\n",
       "</style>\n",
       "<table border=\"1\" class=\"dataframe\">\n",
       "  <thead>\n",
       "    <tr style=\"text-align: right;\">\n",
       "      <th></th>\n",
       "      <th>SepalLengthCm</th>\n",
       "      <th>PetalLengthCm</th>\n",
       "      <th>cluster</th>\n",
       "      <th>distance</th>\n",
       "      <th>actual</th>\n",
       "      <th>outlier</th>\n",
       "      <th>anomaly</th>\n",
       "    </tr>\n",
       "  </thead>\n",
       "  <tbody>\n",
       "    <tr>\n",
       "      <th>0</th>\n",
       "      <td>-0.900681</td>\n",
       "      <td>-1.341272</td>\n",
       "      <td>1</td>\n",
       "      <td>0.160599</td>\n",
       "      <td>Iris-setosa</td>\n",
       "      <td>False</td>\n",
       "      <td>False</td>\n",
       "    </tr>\n",
       "    <tr>\n",
       "      <th>1</th>\n",
       "      <td>-1.143017</td>\n",
       "      <td>-1.341272</td>\n",
       "      <td>1</td>\n",
       "      <td>0.170454</td>\n",
       "      <td>Iris-setosa</td>\n",
       "      <td>False</td>\n",
       "      <td>False</td>\n",
       "    </tr>\n",
       "    <tr>\n",
       "      <th>2</th>\n",
       "      <td>-1.385353</td>\n",
       "      <td>-1.398138</td>\n",
       "      <td>1</td>\n",
       "      <td>0.407209</td>\n",
       "      <td>Iris-setosa</td>\n",
       "      <td>False</td>\n",
       "      <td>False</td>\n",
       "    </tr>\n",
       "    <tr>\n",
       "      <th>3</th>\n",
       "      <td>-1.506521</td>\n",
       "      <td>-1.284407</td>\n",
       "      <td>1</td>\n",
       "      <td>0.494562</td>\n",
       "      <td>Iris-setosa</td>\n",
       "      <td>False</td>\n",
       "      <td>False</td>\n",
       "    </tr>\n",
       "    <tr>\n",
       "      <th>4</th>\n",
       "      <td>-1.021849</td>\n",
       "      <td>-1.341272</td>\n",
       "      <td>1</td>\n",
       "      <td>0.112879</td>\n",
       "      <td>Iris-setosa</td>\n",
       "      <td>False</td>\n",
       "      <td>False</td>\n",
       "    </tr>\n",
       "  </tbody>\n",
       "</table>\n",
       "</div>"
      ],
      "text/plain": [
       "   SepalLengthCm  PetalLengthCm  cluster  distance       actual  outlier  \\\n",
       "0      -0.900681      -1.341272        1  0.160599  Iris-setosa    False   \n",
       "1      -1.143017      -1.341272        1  0.170454  Iris-setosa    False   \n",
       "2      -1.385353      -1.398138        1  0.407209  Iris-setosa    False   \n",
       "3      -1.506521      -1.284407        1  0.494562  Iris-setosa    False   \n",
       "4      -1.021849      -1.341272        1  0.112879  Iris-setosa    False   \n",
       "\n",
       "   anomaly  \n",
       "0    False  \n",
       "1    False  \n",
       "2    False  \n",
       "3    False  \n",
       "4    False  "
      ]
     },
     "execution_count": 122,
     "metadata": {},
     "output_type": "execute_result"
    }
   ],
   "source": [
    "points[\"anomaly\"] = points.apply(lambda row: row.distance \n",
    "            > distanace_threshold[row.cluster], axis = 1)\n",
    "\n",
    "points.head()"
   ]
  },
  {
   "cell_type": "code",
   "execution_count": 123,
   "metadata": {},
   "outputs": [
    {
     "data": {
      "text/plain": [
       "False    133\n",
       "True      17\n",
       "Name: anomaly, dtype: int64"
      ]
     },
     "execution_count": 123,
     "metadata": {},
     "output_type": "execute_result"
    }
   ],
   "source": [
    "points.anomaly.value_counts()"
   ]
  },
  {
   "cell_type": "code",
   "execution_count": 124,
   "metadata": {},
   "outputs": [
    {
     "data": {
      "text/html": [
       "<div>\n",
       "<style scoped>\n",
       "    .dataframe tbody tr th:only-of-type {\n",
       "        vertical-align: middle;\n",
       "    }\n",
       "\n",
       "    .dataframe tbody tr th {\n",
       "        vertical-align: top;\n",
       "    }\n",
       "\n",
       "    .dataframe thead th {\n",
       "        text-align: right;\n",
       "    }\n",
       "</style>\n",
       "<table border=\"1\" class=\"dataframe\">\n",
       "  <thead>\n",
       "    <tr style=\"text-align: right;\">\n",
       "      <th></th>\n",
       "      <th>SepalLengthCm</th>\n",
       "      <th>PetalLengthCm</th>\n",
       "      <th>cluster</th>\n",
       "      <th>distance</th>\n",
       "      <th>actual</th>\n",
       "      <th>outlier</th>\n",
       "      <th>anomaly</th>\n",
       "    </tr>\n",
       "  </thead>\n",
       "  <tbody>\n",
       "    <tr>\n",
       "      <th>13</th>\n",
       "      <td>-1.870024</td>\n",
       "      <td>-1.511870</td>\n",
       "      <td>1</td>\n",
       "      <td>0.900617</td>\n",
       "      <td>Iris-setosa</td>\n",
       "      <td>False</td>\n",
       "      <td>True</td>\n",
       "    </tr>\n",
       "    <tr>\n",
       "      <th>14</th>\n",
       "      <td>-0.052506</td>\n",
       "      <td>-1.455004</td>\n",
       "      <td>1</td>\n",
       "      <td>0.988879</td>\n",
       "      <td>Iris-setosa</td>\n",
       "      <td>False</td>\n",
       "      <td>True</td>\n",
       "    </tr>\n",
       "    <tr>\n",
       "      <th>18</th>\n",
       "      <td>-0.173674</td>\n",
       "      <td>-1.170675</td>\n",
       "      <td>1</td>\n",
       "      <td>0.843435</td>\n",
       "      <td>Iris-setosa</td>\n",
       "      <td>False</td>\n",
       "      <td>True</td>\n",
       "    </tr>\n",
       "    <tr>\n",
       "      <th>57</th>\n",
       "      <td>-1.143017</td>\n",
       "      <td>-0.260824</td>\n",
       "      <td>1</td>\n",
       "      <td>0.976185</td>\n",
       "      <td>Iris-versicolor</td>\n",
       "      <td>False</td>\n",
       "      <td>True</td>\n",
       "    </tr>\n",
       "    <tr>\n",
       "      <th>59</th>\n",
       "      <td>-0.779513</td>\n",
       "      <td>0.080370</td>\n",
       "      <td>0</td>\n",
       "      <td>0.882969</td>\n",
       "      <td>Iris-versicolor</td>\n",
       "      <td>False</td>\n",
       "      <td>True</td>\n",
       "    </tr>\n",
       "    <tr>\n",
       "      <th>...</th>\n",
       "      <td>...</td>\n",
       "      <td>...</td>\n",
       "      <td>...</td>\n",
       "      <td>...</td>\n",
       "      <td>...</td>\n",
       "      <td>...</td>\n",
       "      <td>...</td>\n",
       "    </tr>\n",
       "    <tr>\n",
       "      <th>118</th>\n",
       "      <td>2.249683</td>\n",
       "      <td>1.786341</td>\n",
       "      <td>2</td>\n",
       "      <td>1.270726</td>\n",
       "      <td>Iris-virginica</td>\n",
       "      <td>False</td>\n",
       "      <td>True</td>\n",
       "    </tr>\n",
       "    <tr>\n",
       "      <th>122</th>\n",
       "      <td>2.249683</td>\n",
       "      <td>1.672610</td>\n",
       "      <td>2</td>\n",
       "      <td>1.206364</td>\n",
       "      <td>Iris-virginica</td>\n",
       "      <td>False</td>\n",
       "      <td>True</td>\n",
       "    </tr>\n",
       "    <tr>\n",
       "      <th>131</th>\n",
       "      <td>2.492019</td>\n",
       "      <td>1.502013</td>\n",
       "      <td>2</td>\n",
       "      <td>1.348258</td>\n",
       "      <td>Iris-virginica</td>\n",
       "      <td>False</td>\n",
       "      <td>True</td>\n",
       "    </tr>\n",
       "    <tr>\n",
       "      <th>134</th>\n",
       "      <td>0.310998</td>\n",
       "      <td>1.047087</td>\n",
       "      <td>0</td>\n",
       "      <td>0.686972</td>\n",
       "      <td>Iris-virginica</td>\n",
       "      <td>False</td>\n",
       "      <td>True</td>\n",
       "    </tr>\n",
       "    <tr>\n",
       "      <th>148</th>\n",
       "      <td>0.432165</td>\n",
       "      <td>0.933356</td>\n",
       "      <td>0</td>\n",
       "      <td>0.650208</td>\n",
       "      <td>Iris-virginica</td>\n",
       "      <td>False</td>\n",
       "      <td>True</td>\n",
       "    </tr>\n",
       "  </tbody>\n",
       "</table>\n",
       "<p>17 rows × 7 columns</p>\n",
       "</div>"
      ],
      "text/plain": [
       "     SepalLengthCm  PetalLengthCm  cluster  distance           actual  \\\n",
       "13       -1.870024      -1.511870        1  0.900617      Iris-setosa   \n",
       "14       -0.052506      -1.455004        1  0.988879      Iris-setosa   \n",
       "18       -0.173674      -1.170675        1  0.843435      Iris-setosa   \n",
       "57       -1.143017      -0.260824        1  0.976185  Iris-versicolor   \n",
       "59       -0.779513       0.080370        0  0.882969  Iris-versicolor   \n",
       "..             ...            ...      ...       ...              ...   \n",
       "118       2.249683       1.786341        2  1.270726   Iris-virginica   \n",
       "122       2.249683       1.672610        2  1.206364   Iris-virginica   \n",
       "131       2.492019       1.502013        2  1.348258   Iris-virginica   \n",
       "134       0.310998       1.047087        0  0.686972   Iris-virginica   \n",
       "148       0.432165       0.933356        0  0.650208   Iris-virginica   \n",
       "\n",
       "     outlier  anomaly  \n",
       "13     False     True  \n",
       "14     False     True  \n",
       "18     False     True  \n",
       "57     False     True  \n",
       "59     False     True  \n",
       "..       ...      ...  \n",
       "118    False     True  \n",
       "122    False     True  \n",
       "131    False     True  \n",
       "134    False     True  \n",
       "148    False     True  \n",
       "\n",
       "[17 rows x 7 columns]"
      ]
     },
     "execution_count": 124,
     "metadata": {},
     "output_type": "execute_result"
    }
   ],
   "source": [
    "points[points.anomaly]"
   ]
  },
  {
   "cell_type": "code",
   "execution_count": 125,
   "metadata": {},
   "outputs": [
    {
     "data": {
      "text/plain": [
       "array([[4.3, 1.1],\n",
       "       [5.8, 1.2],\n",
       "       [5.7, 1.7],\n",
       "       [4.9, 3.3],\n",
       "       [5.2, 3.9],\n",
       "       [5. , 3.5],\n",
       "       [6.4, 4.3],\n",
       "       [5.5, 3.7],\n",
       "       [5. , 3.3],\n",
       "       [7.6, 6.6],\n",
       "       [4.9, 4.5],\n",
       "       [7.7, 6.7],\n",
       "       [7.7, 6.9],\n",
       "       [7.7, 6.7],\n",
       "       [7.9, 6.4],\n",
       "       [6.1, 5.6],\n",
       "       [6.2, 5.4]])"
      ]
     },
     "execution_count": 125,
     "metadata": {},
     "output_type": "execute_result"
    }
   ],
   "source": [
    "points_anomalies = scaler.inverse_transform(points[points.anomaly].iloc[:, :2])\n",
    "points_anomalies"
   ]
  },
  {
   "cell_type": "code",
   "execution_count": 126,
   "metadata": {},
   "outputs": [
    {
     "data": {
      "text/plain": [
       "<matplotlib.axes._subplots.AxesSubplot at 0x1a26fb4d30>"
      ]
     },
     "execution_count": 126,
     "metadata": {},
     "output_type": "execute_result"
    },
    {
     "data": {
      "image/png": "[encoded data removed]",
      "text/plain": [
       "<Figure size 432x288 with 1 Axes>"
      ]
     },
     "metadata": {},
     "output_type": "display_data"
    }
   ],
   "source": [
    "fig, ax = plt.subplots()\n",
    "colors = [\"red\", \"green\", \"blue\", \"orange\", \"yellow\"]\n",
    "for i in range(k):\n",
    "    df[y_pred == i][features].plot\\\n",
    "    .scatter(0, 1, ax = ax, color = colors[i], label = i, alpha = 0.1)\n",
    "\n",
    "centroids = pd.DataFrame(scaler.inverse_transform(kmeans.cluster_centers_))\n",
    "centroids.plot.scatter(0, 1, ax = ax, s = 150\n",
    "                , marker = \"*\", color = \"black\")\n",
    "\n",
    "pd.DataFrame(points_anomalies).plot.scatter(0, 1, color = \"red\", ax = ax)"
   ]
  },
  {
   "cell_type": "code",
   "execution_count": 84,
   "metadata": {},
   "outputs": [
    {
     "data": {
      "text/plain": [
       "(43, 1)"
      ]
     },
     "execution_count": 84,
     "metadata": {},
     "output_type": "execute_result"
    }
   ],
   "source": [
    "metrics.pairwise_distances(X[y_pred == i]\n",
    "                , kmeans.cluster_centers_[i].reshape((1, -1))).shape"
   ]
  },
  {
   "cell_type": "code",
   "execution_count": null,
   "metadata": {},
   "outputs": [],
   "source": []
  }
 ],
 "metadata": {
  "kernelspec": {
   "display_name": "Python 3",
   "language": "python",
   "name": "python3"
  },
  "language_info": {
   "codemirror_mode": {
    "name": "ipython",
    "version": 3
   },
   "file_extension": ".py",
   "mimetype": "text/x-python",
   "name": "python",
   "nbconvert_exporter": "python",
   "pygments_lexer": "ipython3",
   "version": "3.6.6"
  }
 },
 "nbformat": 4,
 "nbformat_minor": 2
}
