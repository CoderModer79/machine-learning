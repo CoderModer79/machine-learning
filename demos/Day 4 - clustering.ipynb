{
 "cells": [
  {
   "cell_type": "code",
   "execution_count": 47,
   "metadata": {},
   "outputs": [],
   "source": [
    "import pandas as pd\n",
    "import matplotlib.pyplot as plt\n",
    "from sklearn import *\n",
    "import numpy as np\n",
    "\n",
    "%matplotlib inline"
   ]
  },
  {
   "cell_type": "code",
   "execution_count": 2,
   "metadata": {},
   "outputs": [],
   "source": [
    "df = pd.read_csv(\"/data/iris.csv\")"
   ]
  },
  {
   "cell_type": "code",
   "execution_count": 3,
   "metadata": {},
   "outputs": [
    {
     "data": {
      "text/html": [
       "<div>\n",
       "<style scoped>\n",
       "    .dataframe tbody tr th:only-of-type {\n",
       "        vertical-align: middle;\n",
       "    }\n",
       "\n",
       "    .dataframe tbody tr th {\n",
       "        vertical-align: top;\n",
       "    }\n",
       "\n",
       "    .dataframe thead th {\n",
       "        text-align: right;\n",
       "    }\n",
       "</style>\n",
       "<table border=\"1\" class=\"dataframe\">\n",
       "  <thead>\n",
       "    <tr style=\"text-align: right;\">\n",
       "      <th></th>\n",
       "      <th>Id</th>\n",
       "      <th>SepalLengthCm</th>\n",
       "      <th>SepalWidthCm</th>\n",
       "      <th>PetalLengthCm</th>\n",
       "      <th>PetalWidthCm</th>\n",
       "      <th>Species</th>\n",
       "    </tr>\n",
       "  </thead>\n",
       "  <tbody>\n",
       "    <tr>\n",
       "      <th>0</th>\n",
       "      <td>1</td>\n",
       "      <td>5.1</td>\n",
       "      <td>3.5</td>\n",
       "      <td>1.4</td>\n",
       "      <td>0.2</td>\n",
       "      <td>Iris-setosa</td>\n",
       "    </tr>\n",
       "    <tr>\n",
       "      <th>1</th>\n",
       "      <td>2</td>\n",
       "      <td>4.9</td>\n",
       "      <td>3.0</td>\n",
       "      <td>1.4</td>\n",
       "      <td>0.2</td>\n",
       "      <td>Iris-setosa</td>\n",
       "    </tr>\n",
       "    <tr>\n",
       "      <th>2</th>\n",
       "      <td>3</td>\n",
       "      <td>4.7</td>\n",
       "      <td>3.2</td>\n",
       "      <td>1.3</td>\n",
       "      <td>0.2</td>\n",
       "      <td>Iris-setosa</td>\n",
       "    </tr>\n",
       "    <tr>\n",
       "      <th>3</th>\n",
       "      <td>4</td>\n",
       "      <td>4.6</td>\n",
       "      <td>3.1</td>\n",
       "      <td>1.5</td>\n",
       "      <td>0.2</td>\n",
       "      <td>Iris-setosa</td>\n",
       "    </tr>\n",
       "    <tr>\n",
       "      <th>4</th>\n",
       "      <td>5</td>\n",
       "      <td>5.0</td>\n",
       "      <td>3.6</td>\n",
       "      <td>1.4</td>\n",
       "      <td>0.2</td>\n",
       "      <td>Iris-setosa</td>\n",
       "    </tr>\n",
       "  </tbody>\n",
       "</table>\n",
       "</div>"
      ],
      "text/plain": [
       "   Id  SepalLengthCm  SepalWidthCm  PetalLengthCm  PetalWidthCm      Species\n",
       "0   1            5.1           3.5            1.4           0.2  Iris-setosa\n",
       "1   2            4.9           3.0            1.4           0.2  Iris-setosa\n",
       "2   3            4.7           3.2            1.3           0.2  Iris-setosa\n",
       "3   4            4.6           3.1            1.5           0.2  Iris-setosa\n",
       "4   5            5.0           3.6            1.4           0.2  Iris-setosa"
      ]
     },
     "execution_count": 3,
     "metadata": {},
     "output_type": "execute_result"
    }
   ],
   "source": [
    "df.head()"
   ]
  },
  {
   "cell_type": "code",
   "execution_count": 4,
   "metadata": {},
   "outputs": [],
   "source": [
    "features = [\"SepalLengthCm\", \"PetalLengthCm\"]"
   ]
  },
  {
   "cell_type": "code",
   "execution_count": 8,
   "metadata": {},
   "outputs": [
    {
     "data": {
      "text/plain": [
       "<matplotlib.axes._subplots.AxesSubplot at 0x11bf9e668>"
      ]
     },
     "execution_count": 8,
     "metadata": {},
     "output_type": "execute_result"
    },
    {
     "data": {
      "image/png": "[encoded data removed]",
      "text/plain": [
       "<matplotlib.figure.Figure at 0x11bfcbfd0>"
      ]
     },
     "metadata": {},
     "output_type": "display_data"
    }
   ],
   "source": [
    "df[features].plot.scatter(0, 1)"
   ]
  },
  {
   "cell_type": "code",
   "execution_count": 16,
   "metadata": {},
   "outputs": [],
   "source": [
    "X = df[features]\n",
    "scaler = preprocessing.StandardScaler()\n",
    "X = scaler.fit_transform(X)"
   ]
  },
  {
   "cell_type": "code",
   "execution_count": 23,
   "metadata": {
    "scrolled": false
   },
   "outputs": [
    {
     "data": {
      "text/plain": [
       "KMeans(algorithm='auto', copy_x=True, init='k-means++', max_iter=300,\n",
       "    n_clusters=3, n_init=10, n_jobs=1, precompute_distances='auto',\n",
       "    random_state=None, tol=0.0001, verbose=0)"
      ]
     },
     "execution_count": 23,
     "metadata": {},
     "output_type": "execute_result"
    }
   ],
   "source": [
    "k = 3\n",
    "kmeans = cluster.KMeans(n_clusters=k) # k is the number of clusters\n",
    "kmeans.fit(X)"
   ]
  },
  {
   "cell_type": "code",
   "execution_count": 25,
   "metadata": {},
   "outputs": [],
   "source": [
    "y_cluster_pred = kmeans.predict(X)"
   ]
  },
  {
   "cell_type": "code",
   "execution_count": 26,
   "metadata": {},
   "outputs": [
    {
     "data": {
      "text/plain": [
       "array([1, 1, 1, 1, 1, 1, 1, 1, 1, 1, 1, 1, 1, 1, 1, 1, 1, 1, 1, 1, 1, 1,\n",
       "       1, 1, 1, 1, 1, 1, 1, 1, 1, 1, 1, 1, 1, 1, 1, 1, 1, 1, 1, 1, 1, 1,\n",
       "       1, 1, 1, 1, 1, 1, 2, 0, 2, 0, 2, 0, 0, 1, 2, 0, 1, 0, 0, 0, 0, 2,\n",
       "       0, 0, 0, 0, 0, 0, 0, 0, 0, 2, 2, 2, 0, 0, 0, 0, 0, 0, 0, 0, 2, 0,\n",
       "       0, 0, 0, 0, 0, 1, 0, 0, 0, 0, 1, 0, 2, 0, 2, 2, 2, 2, 0, 2, 2, 2,\n",
       "       2, 2, 2, 0, 0, 2, 2, 2, 2, 0, 2, 0, 2, 0, 2, 2, 0, 0, 2, 2, 2, 2,\n",
       "       2, 0, 0, 2, 2, 2, 0, 2, 2, 2, 0, 2, 2, 2, 0, 2, 0, 0], dtype=int32)"
      ]
     },
     "execution_count": 26,
     "metadata": {},
     "output_type": "execute_result"
    }
   ],
   "source": [
    "y_cluster_pred"
   ]
  },
  {
   "cell_type": "code",
   "execution_count": 58,
   "metadata": {},
   "outputs": [],
   "source": [
    "points = pd.DataFrame(X, columns=features)"
   ]
  },
  {
   "cell_type": "code",
   "execution_count": 59,
   "metadata": {},
   "outputs": [
    {
     "data": {
      "text/html": [
       "<div>\n",
       "<style scoped>\n",
       "    .dataframe tbody tr th:only-of-type {\n",
       "        vertical-align: middle;\n",
       "    }\n",
       "\n",
       "    .dataframe tbody tr th {\n",
       "        vertical-align: top;\n",
       "    }\n",
       "\n",
       "    .dataframe thead th {\n",
       "        text-align: right;\n",
       "    }\n",
       "</style>\n",
       "<table border=\"1\" class=\"dataframe\">\n",
       "  <thead>\n",
       "    <tr style=\"text-align: right;\">\n",
       "      <th></th>\n",
       "      <th>SepalLengthCm</th>\n",
       "      <th>PetalLengthCm</th>\n",
       "    </tr>\n",
       "  </thead>\n",
       "  <tbody>\n",
       "    <tr>\n",
       "      <th>0</th>\n",
       "      <td>-0.900681</td>\n",
       "      <td>-1.341272</td>\n",
       "    </tr>\n",
       "    <tr>\n",
       "      <th>1</th>\n",
       "      <td>-1.143017</td>\n",
       "      <td>-1.341272</td>\n",
       "    </tr>\n",
       "    <tr>\n",
       "      <th>2</th>\n",
       "      <td>-1.385353</td>\n",
       "      <td>-1.398138</td>\n",
       "    </tr>\n",
       "    <tr>\n",
       "      <th>3</th>\n",
       "      <td>-1.506521</td>\n",
       "      <td>-1.284407</td>\n",
       "    </tr>\n",
       "    <tr>\n",
       "      <th>4</th>\n",
       "      <td>-1.021849</td>\n",
       "      <td>-1.341272</td>\n",
       "    </tr>\n",
       "  </tbody>\n",
       "</table>\n",
       "</div>"
      ],
      "text/plain": [
       "   SepalLengthCm  PetalLengthCm\n",
       "0      -0.900681      -1.341272\n",
       "1      -1.143017      -1.341272\n",
       "2      -1.385353      -1.398138\n",
       "3      -1.506521      -1.284407\n",
       "4      -1.021849      -1.341272"
      ]
     },
     "execution_count": 59,
     "metadata": {},
     "output_type": "execute_result"
    }
   ],
   "source": [
    "points.head()"
   ]
  },
  {
   "cell_type": "code",
   "execution_count": 60,
   "metadata": {},
   "outputs": [],
   "source": [
    "points[\"cluster\"] = y_cluster_pred"
   ]
  },
  {
   "cell_type": "code",
   "execution_count": 61,
   "metadata": {},
   "outputs": [
    {
     "data": {
      "text/html": [
       "<div>\n",
       "<style scoped>\n",
       "    .dataframe tbody tr th:only-of-type {\n",
       "        vertical-align: middle;\n",
       "    }\n",
       "\n",
       "    .dataframe tbody tr th {\n",
       "        vertical-align: top;\n",
       "    }\n",
       "\n",
       "    .dataframe thead th {\n",
       "        text-align: right;\n",
       "    }\n",
       "</style>\n",
       "<table border=\"1\" class=\"dataframe\">\n",
       "  <thead>\n",
       "    <tr style=\"text-align: right;\">\n",
       "      <th></th>\n",
       "      <th>SepalLengthCm</th>\n",
       "      <th>PetalLengthCm</th>\n",
       "      <th>cluster</th>\n",
       "    </tr>\n",
       "  </thead>\n",
       "  <tbody>\n",
       "    <tr>\n",
       "      <th>0</th>\n",
       "      <td>-0.900681</td>\n",
       "      <td>-1.341272</td>\n",
       "      <td>1</td>\n",
       "    </tr>\n",
       "    <tr>\n",
       "      <th>1</th>\n",
       "      <td>-1.143017</td>\n",
       "      <td>-1.341272</td>\n",
       "      <td>1</td>\n",
       "    </tr>\n",
       "    <tr>\n",
       "      <th>2</th>\n",
       "      <td>-1.385353</td>\n",
       "      <td>-1.398138</td>\n",
       "      <td>1</td>\n",
       "    </tr>\n",
       "    <tr>\n",
       "      <th>3</th>\n",
       "      <td>-1.506521</td>\n",
       "      <td>-1.284407</td>\n",
       "      <td>1</td>\n",
       "    </tr>\n",
       "    <tr>\n",
       "      <th>4</th>\n",
       "      <td>-1.021849</td>\n",
       "      <td>-1.341272</td>\n",
       "      <td>1</td>\n",
       "    </tr>\n",
       "  </tbody>\n",
       "</table>\n",
       "</div>"
      ],
      "text/plain": [
       "   SepalLengthCm  PetalLengthCm  cluster\n",
       "0      -0.900681      -1.341272        1\n",
       "1      -1.143017      -1.341272        1\n",
       "2      -1.385353      -1.398138        1\n",
       "3      -1.506521      -1.284407        1\n",
       "4      -1.021849      -1.341272        1"
      ]
     },
     "execution_count": 61,
     "metadata": {},
     "output_type": "execute_result"
    }
   ],
   "source": [
    "points.head()"
   ]
  },
  {
   "cell_type": "code",
   "execution_count": 62,
   "metadata": {},
   "outputs": [],
   "source": [
    "colors = [\"red\", \"blue\", \"green\"]\n",
    "points[\"colors\"] = points.cluster.apply(lambda c: colors[c])"
   ]
  },
  {
   "cell_type": "code",
   "execution_count": 63,
   "metadata": {},
   "outputs": [
    {
     "data": {
      "text/plain": [
       "<matplotlib.axes._subplots.AxesSubplot at 0x1a1f4bc4a8>"
      ]
     },
     "execution_count": 63,
     "metadata": {},
     "output_type": "execute_result"
    },
    {
     "data": {
      "image/png": "[encoded data removed]",
      "text/plain": [
       "<matplotlib.figure.Figure at 0x1a1f0860f0>"
      ]
     },
     "metadata": {},
     "output_type": "display_data"
    }
   ],
   "source": [
    "points.plot.scatter(0, 1, color = points.colors)"
   ]
  },
  {
   "cell_type": "code",
   "execution_count": 64,
   "metadata": {},
   "outputs": [
    {
     "data": {
      "text/plain": [
       "array([[ 0.03665519,  0.41727267],\n",
       "       [-1.01511749, -1.22859407],\n",
       "       [ 1.22961906,  1.02857275]])"
      ]
     },
     "execution_count": 64,
     "metadata": {},
     "output_type": "execute_result"
    }
   ],
   "source": [
    "kmeans.cluster_centers_"
   ]
  },
  {
   "cell_type": "code",
   "execution_count": 65,
   "metadata": {
    "scrolled": false
   },
   "outputs": [
    {
     "data": {
      "text/plain": [
       "<matplotlib.axes._subplots.AxesSubplot at 0x1a1f1983c8>"
      ]
     },
     "execution_count": 65,
     "metadata": {},
     "output_type": "execute_result"
    },
    {
     "data": {
      "image/png": "[encoded data removed]",
      "text/plain": [
       "<matplotlib.figure.Figure at 0x1a1f1074e0>"
      ]
     },
     "metadata": {},
     "output_type": "display_data"
    }
   ],
   "source": [
    "fig, ax = plt.subplots()\n",
    "points.plot.scatter(0, 1, color = points.colors, ax = ax, alpha = 0.1)\n",
    "pd.DataFrame(kmeans.cluster_centers_).plot.scatter(0,1,\n",
    "                    color = \"black\" , ax = ax, marker = \"*\", s = 100)"
   ]
  },
  {
   "cell_type": "code",
   "execution_count": 71,
   "metadata": {},
   "outputs": [
    {
     "data": {
      "text/html": [
       "<div>\n",
       "<style scoped>\n",
       "    .dataframe tbody tr th:only-of-type {\n",
       "        vertical-align: middle;\n",
       "    }\n",
       "\n",
       "    .dataframe tbody tr th {\n",
       "        vertical-align: top;\n",
       "    }\n",
       "\n",
       "    .dataframe thead th {\n",
       "        text-align: right;\n",
       "    }\n",
       "</style>\n",
       "<table border=\"1\" class=\"dataframe\">\n",
       "  <thead>\n",
       "    <tr style=\"text-align: right;\">\n",
       "      <th></th>\n",
       "      <th>SepalLengthCm</th>\n",
       "      <th>PetalLengthCm</th>\n",
       "      <th>cluster</th>\n",
       "      <th>colors</th>\n",
       "      <th>distance</th>\n",
       "    </tr>\n",
       "  </thead>\n",
       "  <tbody>\n",
       "    <tr>\n",
       "      <th>0</th>\n",
       "      <td>-0.900681</td>\n",
       "      <td>-1.341272</td>\n",
       "      <td>1</td>\n",
       "      <td>blue</td>\n",
       "      <td>0.160599</td>\n",
       "    </tr>\n",
       "    <tr>\n",
       "      <th>1</th>\n",
       "      <td>-1.143017</td>\n",
       "      <td>-1.341272</td>\n",
       "      <td>1</td>\n",
       "      <td>blue</td>\n",
       "      <td>0.170454</td>\n",
       "    </tr>\n",
       "    <tr>\n",
       "      <th>2</th>\n",
       "      <td>-1.385353</td>\n",
       "      <td>-1.398138</td>\n",
       "      <td>1</td>\n",
       "      <td>blue</td>\n",
       "      <td>0.407209</td>\n",
       "    </tr>\n",
       "    <tr>\n",
       "      <th>3</th>\n",
       "      <td>-1.506521</td>\n",
       "      <td>-1.284407</td>\n",
       "      <td>1</td>\n",
       "      <td>blue</td>\n",
       "      <td>0.494562</td>\n",
       "    </tr>\n",
       "    <tr>\n",
       "      <th>4</th>\n",
       "      <td>-1.021849</td>\n",
       "      <td>-1.341272</td>\n",
       "      <td>1</td>\n",
       "      <td>blue</td>\n",
       "      <td>0.112879</td>\n",
       "    </tr>\n",
       "  </tbody>\n",
       "</table>\n",
       "</div>"
      ],
      "text/plain": [
       "   SepalLengthCm  PetalLengthCm  cluster colors  distance\n",
       "0      -0.900681      -1.341272        1   blue  0.160599\n",
       "1      -1.143017      -1.341272        1   blue  0.170454\n",
       "2      -1.385353      -1.398138        1   blue  0.407209\n",
       "3      -1.506521      -1.284407        1   blue  0.494562\n",
       "4      -1.021849      -1.341272        1   blue  0.112879"
      ]
     },
     "execution_count": 71,
     "metadata": {},
     "output_type": "execute_result"
    }
   ],
   "source": [
    "distances = np.zeros(len(points))\n",
    "for i in range(k):\n",
    "    cluster_points = points[points.cluster == i]\n",
    "    cluster_center = kmeans.cluster_centers_[i]\n",
    "    distances[points.cluster == i] = np.sum((cluster_points.values[:, :2] - cluster_center) ** 2, axis = 1)\n",
    "points[\"distance\"] = np.sqrt(distances)\n",
    "points.head()"
   ]
  },
  {
   "cell_type": "code",
   "execution_count": 73,
   "metadata": {},
   "outputs": [
    {
     "data": {
      "text/plain": [
       "<matplotlib.axes._subplots.AxesSubplot at 0x1a1f0467b8>"
      ]
     },
     "execution_count": 73,
     "metadata": {},
     "output_type": "execute_result"
    },
    {
     "data": {
      "image/png": "[encoded data removed]",
      "text/plain": [
       "<matplotlib.figure.Figure at 0x1a1f6b02e8>"
      ]
     },
     "metadata": {},
     "output_type": "display_data"
    }
   ],
   "source": [
    "points.distance.plot.hist(bins = 30)"
   ]
  },
  {
   "cell_type": "code",
   "execution_count": 75,
   "metadata": {},
   "outputs": [
    {
     "data": {
      "text/plain": [
       "<matplotlib.axes._subplots.AxesSubplot at 0x1a1f909550>"
      ]
     },
     "execution_count": 75,
     "metadata": {},
     "output_type": "execute_result"
    },
    {
     "data": {
      "image/png": "[encoded data removed]",
      "text/plain": [
       "<matplotlib.figure.Figure at 0x1a1f8fea20>"
      ]
     },
     "metadata": {},
     "output_type": "display_data"
    }
   ],
   "source": [
    "points[points.cluster==0].distance.plot.box()"
   ]
  },
  {
   "cell_type": "code",
   "execution_count": 76,
   "metadata": {},
   "outputs": [
    {
     "data": {
      "text/plain": [
       "<matplotlib.axes._subplots.AxesSubplot at 0x1a1f8d3438>"
      ]
     },
     "execution_count": 76,
     "metadata": {},
     "output_type": "execute_result"
    },
    {
     "data": {
      "image/png": "[encoded data removed]",
      "text/plain": [
       "<matplotlib.figure.Figure at 0x1a1f92d0f0>"
      ]
     },
     "metadata": {},
     "output_type": "display_data"
    }
   ],
   "source": [
    "points[points.cluster==1].distance.plot.box()"
   ]
  },
  {
   "cell_type": "code",
   "execution_count": 77,
   "metadata": {},
   "outputs": [
    {
     "data": {
      "text/plain": [
       "<matplotlib.axes._subplots.AxesSubplot at 0x1a1f69fe48>"
      ]
     },
     "execution_count": 77,
     "metadata": {},
     "output_type": "execute_result"
    },
    {
     "data": {
      "image/png": "[encoded data removed]",
      "text/plain": [
       "<matplotlib.figure.Figure at 0x1a1fb77278>"
      ]
     },
     "metadata": {},
     "output_type": "display_data"
    }
   ],
   "source": [
    "points[points.cluster==2].distance.plot.box()"
   ]
  },
  {
   "cell_type": "code",
   "execution_count": 79,
   "metadata": {},
   "outputs": [
    {
     "data": {
      "text/html": [
       "<div>\n",
       "<style scoped>\n",
       "    .dataframe tbody tr th:only-of-type {\n",
       "        vertical-align: middle;\n",
       "    }\n",
       "\n",
       "    .dataframe tbody tr th {\n",
       "        vertical-align: top;\n",
       "    }\n",
       "\n",
       "    .dataframe thead th {\n",
       "        text-align: right;\n",
       "    }\n",
       "</style>\n",
       "<table border=\"1\" class=\"dataframe\">\n",
       "  <thead>\n",
       "    <tr style=\"text-align: right;\">\n",
       "      <th></th>\n",
       "      <th>SepalLengthCm</th>\n",
       "      <th>PetalLengthCm</th>\n",
       "      <th>cluster</th>\n",
       "      <th>colors</th>\n",
       "      <th>distance</th>\n",
       "      <th>outlier</th>\n",
       "    </tr>\n",
       "  </thead>\n",
       "  <tbody>\n",
       "    <tr>\n",
       "      <th>0</th>\n",
       "      <td>-0.900681</td>\n",
       "      <td>-1.341272</td>\n",
       "      <td>1</td>\n",
       "      <td>blue</td>\n",
       "      <td>0.160599</td>\n",
       "      <td>False</td>\n",
       "    </tr>\n",
       "    <tr>\n",
       "      <th>1</th>\n",
       "      <td>-1.143017</td>\n",
       "      <td>-1.341272</td>\n",
       "      <td>1</td>\n",
       "      <td>blue</td>\n",
       "      <td>0.170454</td>\n",
       "      <td>False</td>\n",
       "    </tr>\n",
       "    <tr>\n",
       "      <th>2</th>\n",
       "      <td>-1.385353</td>\n",
       "      <td>-1.398138</td>\n",
       "      <td>1</td>\n",
       "      <td>blue</td>\n",
       "      <td>0.407209</td>\n",
       "      <td>False</td>\n",
       "    </tr>\n",
       "    <tr>\n",
       "      <th>3</th>\n",
       "      <td>-1.506521</td>\n",
       "      <td>-1.284407</td>\n",
       "      <td>1</td>\n",
       "      <td>blue</td>\n",
       "      <td>0.494562</td>\n",
       "      <td>False</td>\n",
       "    </tr>\n",
       "    <tr>\n",
       "      <th>4</th>\n",
       "      <td>-1.021849</td>\n",
       "      <td>-1.341272</td>\n",
       "      <td>1</td>\n",
       "      <td>blue</td>\n",
       "      <td>0.112879</td>\n",
       "      <td>False</td>\n",
       "    </tr>\n",
       "  </tbody>\n",
       "</table>\n",
       "</div>"
      ],
      "text/plain": [
       "   SepalLengthCm  PetalLengthCm  cluster colors  distance  outlier\n",
       "0      -0.900681      -1.341272        1   blue  0.160599    False\n",
       "1      -1.143017      -1.341272        1   blue  0.170454    False\n",
       "2      -1.385353      -1.398138        1   blue  0.407209    False\n",
       "3      -1.506521      -1.284407        1   blue  0.494562    False\n",
       "4      -1.021849      -1.341272        1   blue  0.112879    False"
      ]
     },
     "execution_count": 79,
     "metadata": {},
     "output_type": "execute_result"
    }
   ],
   "source": [
    "points[\"outlier\"] = False\n",
    "points.head()"
   ]
  },
  {
   "cell_type": "code",
   "execution_count": 90,
   "metadata": {
    "scrolled": false
   },
   "outputs": [
    {
     "data": {
      "text/html": [
       "<div>\n",
       "<style scoped>\n",
       "    .dataframe tbody tr th:only-of-type {\n",
       "        vertical-align: middle;\n",
       "    }\n",
       "\n",
       "    .dataframe tbody tr th {\n",
       "        vertical-align: top;\n",
       "    }\n",
       "\n",
       "    .dataframe thead th {\n",
       "        text-align: right;\n",
       "    }\n",
       "</style>\n",
       "<table border=\"1\" class=\"dataframe\">\n",
       "  <thead>\n",
       "    <tr style=\"text-align: right;\">\n",
       "      <th></th>\n",
       "      <th>SepalLengthCm</th>\n",
       "      <th>PetalLengthCm</th>\n",
       "      <th>cluster</th>\n",
       "      <th>colors</th>\n",
       "      <th>distance</th>\n",
       "      <th>outlier</th>\n",
       "    </tr>\n",
       "  </thead>\n",
       "  <tbody>\n",
       "    <tr>\n",
       "      <th>0</th>\n",
       "      <td>-0.900681</td>\n",
       "      <td>-1.341272</td>\n",
       "      <td>1</td>\n",
       "      <td>blue</td>\n",
       "      <td>0.160599</td>\n",
       "      <td>False</td>\n",
       "    </tr>\n",
       "    <tr>\n",
       "      <th>1</th>\n",
       "      <td>-1.143017</td>\n",
       "      <td>-1.341272</td>\n",
       "      <td>1</td>\n",
       "      <td>blue</td>\n",
       "      <td>0.170454</td>\n",
       "      <td>False</td>\n",
       "    </tr>\n",
       "    <tr>\n",
       "      <th>2</th>\n",
       "      <td>-1.385353</td>\n",
       "      <td>-1.398138</td>\n",
       "      <td>1</td>\n",
       "      <td>blue</td>\n",
       "      <td>0.407209</td>\n",
       "      <td>False</td>\n",
       "    </tr>\n",
       "    <tr>\n",
       "      <th>3</th>\n",
       "      <td>-1.506521</td>\n",
       "      <td>-1.284407</td>\n",
       "      <td>1</td>\n",
       "      <td>blue</td>\n",
       "      <td>0.494562</td>\n",
       "      <td>False</td>\n",
       "    </tr>\n",
       "    <tr>\n",
       "      <th>4</th>\n",
       "      <td>-1.021849</td>\n",
       "      <td>-1.341272</td>\n",
       "      <td>1</td>\n",
       "      <td>blue</td>\n",
       "      <td>0.112879</td>\n",
       "      <td>False</td>\n",
       "    </tr>\n",
       "    <tr>\n",
       "      <th>5</th>\n",
       "      <td>-0.537178</td>\n",
       "      <td>-1.170675</td>\n",
       "      <td>1</td>\n",
       "      <td>blue</td>\n",
       "      <td>0.481437</td>\n",
       "      <td>False</td>\n",
       "    </tr>\n",
       "    <tr>\n",
       "      <th>6</th>\n",
       "      <td>-1.506521</td>\n",
       "      <td>-1.341272</td>\n",
       "      <td>1</td>\n",
       "      <td>blue</td>\n",
       "      <td>0.504156</td>\n",
       "      <td>False</td>\n",
       "    </tr>\n",
       "    <tr>\n",
       "      <th>7</th>\n",
       "      <td>-1.021849</td>\n",
       "      <td>-1.284407</td>\n",
       "      <td>1</td>\n",
       "      <td>blue</td>\n",
       "      <td>0.056217</td>\n",
       "      <td>False</td>\n",
       "    </tr>\n",
       "    <tr>\n",
       "      <th>8</th>\n",
       "      <td>-1.748856</td>\n",
       "      <td>-1.341272</td>\n",
       "      <td>1</td>\n",
       "      <td>blue</td>\n",
       "      <td>0.742340</td>\n",
       "      <td>False</td>\n",
       "    </tr>\n",
       "    <tr>\n",
       "      <th>9</th>\n",
       "      <td>-1.143017</td>\n",
       "      <td>-1.284407</td>\n",
       "      <td>1</td>\n",
       "      <td>blue</td>\n",
       "      <td>0.139547</td>\n",
       "      <td>False</td>\n",
       "    </tr>\n",
       "    <tr>\n",
       "      <th>10</th>\n",
       "      <td>-0.537178</td>\n",
       "      <td>-1.284407</td>\n",
       "      <td>1</td>\n",
       "      <td>blue</td>\n",
       "      <td>0.481188</td>\n",
       "      <td>False</td>\n",
       "    </tr>\n",
       "    <tr>\n",
       "      <th>11</th>\n",
       "      <td>-1.264185</td>\n",
       "      <td>-1.227541</td>\n",
       "      <td>1</td>\n",
       "      <td>blue</td>\n",
       "      <td>0.249070</td>\n",
       "      <td>False</td>\n",
       "    </tr>\n",
       "    <tr>\n",
       "      <th>12</th>\n",
       "      <td>-1.264185</td>\n",
       "      <td>-1.341272</td>\n",
       "      <td>1</td>\n",
       "      <td>blue</td>\n",
       "      <td>0.273370</td>\n",
       "      <td>False</td>\n",
       "    </tr>\n",
       "    <tr>\n",
       "      <th>13</th>\n",
       "      <td>-1.870024</td>\n",
       "      <td>-1.511870</td>\n",
       "      <td>1</td>\n",
       "      <td>blue</td>\n",
       "      <td>0.900617</td>\n",
       "      <td>True</td>\n",
       "    </tr>\n",
       "    <tr>\n",
       "      <th>14</th>\n",
       "      <td>-0.052506</td>\n",
       "      <td>-1.455004</td>\n",
       "      <td>1</td>\n",
       "      <td>blue</td>\n",
       "      <td>0.988879</td>\n",
       "      <td>True</td>\n",
       "    </tr>\n",
       "    <tr>\n",
       "      <th>15</th>\n",
       "      <td>-0.173674</td>\n",
       "      <td>-1.284407</td>\n",
       "      <td>1</td>\n",
       "      <td>blue</td>\n",
       "      <td>0.843293</td>\n",
       "      <td>False</td>\n",
       "    </tr>\n",
       "    <tr>\n",
       "      <th>16</th>\n",
       "      <td>-0.537178</td>\n",
       "      <td>-1.398138</td>\n",
       "      <td>1</td>\n",
       "      <td>blue</td>\n",
       "      <td>0.507121</td>\n",
       "      <td>False</td>\n",
       "    </tr>\n",
       "    <tr>\n",
       "      <th>17</th>\n",
       "      <td>-0.900681</td>\n",
       "      <td>-1.341272</td>\n",
       "      <td>1</td>\n",
       "      <td>blue</td>\n",
       "      <td>0.160599</td>\n",
       "      <td>False</td>\n",
       "    </tr>\n",
       "    <tr>\n",
       "      <th>18</th>\n",
       "      <td>-0.173674</td>\n",
       "      <td>-1.170675</td>\n",
       "      <td>1</td>\n",
       "      <td>blue</td>\n",
       "      <td>0.843435</td>\n",
       "      <td>False</td>\n",
       "    </tr>\n",
       "    <tr>\n",
       "      <th>19</th>\n",
       "      <td>-0.900681</td>\n",
       "      <td>-1.284407</td>\n",
       "      <td>1</td>\n",
       "      <td>blue</td>\n",
       "      <td>0.127321</td>\n",
       "      <td>False</td>\n",
       "    </tr>\n",
       "    <tr>\n",
       "      <th>20</th>\n",
       "      <td>-0.537178</td>\n",
       "      <td>-1.170675</td>\n",
       "      <td>1</td>\n",
       "      <td>blue</td>\n",
       "      <td>0.481437</td>\n",
       "      <td>False</td>\n",
       "    </tr>\n",
       "    <tr>\n",
       "      <th>21</th>\n",
       "      <td>-0.900681</td>\n",
       "      <td>-1.284407</td>\n",
       "      <td>1</td>\n",
       "      <td>blue</td>\n",
       "      <td>0.127321</td>\n",
       "      <td>False</td>\n",
       "    </tr>\n",
       "    <tr>\n",
       "      <th>22</th>\n",
       "      <td>-1.506521</td>\n",
       "      <td>-1.568735</td>\n",
       "      <td>1</td>\n",
       "      <td>blue</td>\n",
       "      <td>0.597639</td>\n",
       "      <td>False</td>\n",
       "    </tr>\n",
       "    <tr>\n",
       "      <th>23</th>\n",
       "      <td>-0.900681</td>\n",
       "      <td>-1.170675</td>\n",
       "      <td>1</td>\n",
       "      <td>blue</td>\n",
       "      <td>0.128259</td>\n",
       "      <td>False</td>\n",
       "    </tr>\n",
       "    <tr>\n",
       "      <th>24</th>\n",
       "      <td>-1.264185</td>\n",
       "      <td>-1.056944</td>\n",
       "      <td>1</td>\n",
       "      <td>blue</td>\n",
       "      <td>0.302487</td>\n",
       "      <td>False</td>\n",
       "    </tr>\n",
       "    <tr>\n",
       "      <th>25</th>\n",
       "      <td>-1.021849</td>\n",
       "      <td>-1.227541</td>\n",
       "      <td>1</td>\n",
       "      <td>blue</td>\n",
       "      <td>0.006813</td>\n",
       "      <td>False</td>\n",
       "    </tr>\n",
       "    <tr>\n",
       "      <th>26</th>\n",
       "      <td>-1.021849</td>\n",
       "      <td>-1.227541</td>\n",
       "      <td>1</td>\n",
       "      <td>blue</td>\n",
       "      <td>0.006813</td>\n",
       "      <td>False</td>\n",
       "    </tr>\n",
       "    <tr>\n",
       "      <th>27</th>\n",
       "      <td>-0.779513</td>\n",
       "      <td>-1.284407</td>\n",
       "      <td>1</td>\n",
       "      <td>blue</td>\n",
       "      <td>0.242125</td>\n",
       "      <td>False</td>\n",
       "    </tr>\n",
       "    <tr>\n",
       "      <th>28</th>\n",
       "      <td>-0.779513</td>\n",
       "      <td>-1.341272</td>\n",
       "      <td>1</td>\n",
       "      <td>blue</td>\n",
       "      <td>0.261162</td>\n",
       "      <td>False</td>\n",
       "    </tr>\n",
       "    <tr>\n",
       "      <th>29</th>\n",
       "      <td>-1.385353</td>\n",
       "      <td>-1.227541</td>\n",
       "      <td>1</td>\n",
       "      <td>blue</td>\n",
       "      <td>0.370237</td>\n",
       "      <td>False</td>\n",
       "    </tr>\n",
       "    <tr>\n",
       "      <th>...</th>\n",
       "      <td>...</td>\n",
       "      <td>...</td>\n",
       "      <td>...</td>\n",
       "      <td>...</td>\n",
       "      <td>...</td>\n",
       "      <td>...</td>\n",
       "    </tr>\n",
       "    <tr>\n",
       "      <th>120</th>\n",
       "      <td>1.280340</td>\n",
       "      <td>1.103953</td>\n",
       "      <td>2</td>\n",
       "      <td>green</td>\n",
       "      <td>0.090856</td>\n",
       "      <td>False</td>\n",
       "    </tr>\n",
       "    <tr>\n",
       "      <th>121</th>\n",
       "      <td>-0.294842</td>\n",
       "      <td>0.649027</td>\n",
       "      <td>0</td>\n",
       "      <td>red</td>\n",
       "      <td>0.404476</td>\n",
       "      <td>False</td>\n",
       "    </tr>\n",
       "    <tr>\n",
       "      <th>122</th>\n",
       "      <td>2.249683</td>\n",
       "      <td>1.672610</td>\n",
       "      <td>2</td>\n",
       "      <td>green</td>\n",
       "      <td>1.206364</td>\n",
       "      <td>True</td>\n",
       "    </tr>\n",
       "    <tr>\n",
       "      <th>123</th>\n",
       "      <td>0.553333</td>\n",
       "      <td>0.649027</td>\n",
       "      <td>0</td>\n",
       "      <td>red</td>\n",
       "      <td>0.566274</td>\n",
       "      <td>False</td>\n",
       "    </tr>\n",
       "    <tr>\n",
       "      <th>124</th>\n",
       "      <td>1.038005</td>\n",
       "      <td>1.103953</td>\n",
       "      <td>2</td>\n",
       "      <td>green</td>\n",
       "      <td>0.205908</td>\n",
       "      <td>False</td>\n",
       "    </tr>\n",
       "    <tr>\n",
       "      <th>125</th>\n",
       "      <td>1.643844</td>\n",
       "      <td>1.274550</td>\n",
       "      <td>2</td>\n",
       "      <td>green</td>\n",
       "      <td>0.481754</td>\n",
       "      <td>False</td>\n",
       "    </tr>\n",
       "    <tr>\n",
       "      <th>126</th>\n",
       "      <td>0.432165</td>\n",
       "      <td>0.592162</td>\n",
       "      <td>0</td>\n",
       "      <td>red</td>\n",
       "      <td>0.432452</td>\n",
       "      <td>False</td>\n",
       "    </tr>\n",
       "    <tr>\n",
       "      <th>127</th>\n",
       "      <td>0.310998</td>\n",
       "      <td>0.649027</td>\n",
       "      <td>0</td>\n",
       "      <td>red</td>\n",
       "      <td>0.359129</td>\n",
       "      <td>False</td>\n",
       "    </tr>\n",
       "    <tr>\n",
       "      <th>128</th>\n",
       "      <td>0.674501</td>\n",
       "      <td>1.047087</td>\n",
       "      <td>2</td>\n",
       "      <td>green</td>\n",
       "      <td>0.555427</td>\n",
       "      <td>False</td>\n",
       "    </tr>\n",
       "    <tr>\n",
       "      <th>129</th>\n",
       "      <td>1.643844</td>\n",
       "      <td>1.160819</td>\n",
       "      <td>2</td>\n",
       "      <td>green</td>\n",
       "      <td>0.434823</td>\n",
       "      <td>False</td>\n",
       "    </tr>\n",
       "    <tr>\n",
       "      <th>130</th>\n",
       "      <td>1.886180</td>\n",
       "      <td>1.331416</td>\n",
       "      <td>2</td>\n",
       "      <td>green</td>\n",
       "      <td>0.723039</td>\n",
       "      <td>False</td>\n",
       "    </tr>\n",
       "    <tr>\n",
       "      <th>131</th>\n",
       "      <td>2.492019</td>\n",
       "      <td>1.502013</td>\n",
       "      <td>2</td>\n",
       "      <td>green</td>\n",
       "      <td>1.348258</td>\n",
       "      <td>True</td>\n",
       "    </tr>\n",
       "    <tr>\n",
       "      <th>132</th>\n",
       "      <td>0.674501</td>\n",
       "      <td>1.047087</td>\n",
       "      <td>2</td>\n",
       "      <td>green</td>\n",
       "      <td>0.555427</td>\n",
       "      <td>False</td>\n",
       "    </tr>\n",
       "    <tr>\n",
       "      <th>133</th>\n",
       "      <td>0.553333</td>\n",
       "      <td>0.762759</td>\n",
       "      <td>0</td>\n",
       "      <td>red</td>\n",
       "      <td>0.621544</td>\n",
       "      <td>False</td>\n",
       "    </tr>\n",
       "    <tr>\n",
       "      <th>134</th>\n",
       "      <td>0.310998</td>\n",
       "      <td>1.047087</td>\n",
       "      <td>0</td>\n",
       "      <td>red</td>\n",
       "      <td>0.686972</td>\n",
       "      <td>False</td>\n",
       "    </tr>\n",
       "    <tr>\n",
       "      <th>135</th>\n",
       "      <td>2.249683</td>\n",
       "      <td>1.331416</td>\n",
       "      <td>2</td>\n",
       "      <td>green</td>\n",
       "      <td>1.064070</td>\n",
       "      <td>True</td>\n",
       "    </tr>\n",
       "    <tr>\n",
       "      <th>136</th>\n",
       "      <td>0.553333</td>\n",
       "      <td>1.047087</td>\n",
       "      <td>2</td>\n",
       "      <td>green</td>\n",
       "      <td>0.676539</td>\n",
       "      <td>False</td>\n",
       "    </tr>\n",
       "    <tr>\n",
       "      <th>137</th>\n",
       "      <td>0.674501</td>\n",
       "      <td>0.990221</td>\n",
       "      <td>2</td>\n",
       "      <td>green</td>\n",
       "      <td>0.556441</td>\n",
       "      <td>False</td>\n",
       "    </tr>\n",
       "    <tr>\n",
       "      <th>138</th>\n",
       "      <td>0.189830</td>\n",
       "      <td>0.592162</td>\n",
       "      <td>0</td>\n",
       "      <td>red</td>\n",
       "      <td>0.232483</td>\n",
       "      <td>False</td>\n",
       "    </tr>\n",
       "    <tr>\n",
       "      <th>139</th>\n",
       "      <td>1.280340</td>\n",
       "      <td>0.933356</td>\n",
       "      <td>2</td>\n",
       "      <td>green</td>\n",
       "      <td>0.107884</td>\n",
       "      <td>False</td>\n",
       "    </tr>\n",
       "    <tr>\n",
       "      <th>140</th>\n",
       "      <td>1.038005</td>\n",
       "      <td>1.047087</td>\n",
       "      <td>2</td>\n",
       "      <td>green</td>\n",
       "      <td>0.192507</td>\n",
       "      <td>False</td>\n",
       "    </tr>\n",
       "    <tr>\n",
       "      <th>141</th>\n",
       "      <td>1.280340</td>\n",
       "      <td>0.762759</td>\n",
       "      <td>2</td>\n",
       "      <td>green</td>\n",
       "      <td>0.270610</td>\n",
       "      <td>False</td>\n",
       "    </tr>\n",
       "    <tr>\n",
       "      <th>142</th>\n",
       "      <td>-0.052506</td>\n",
       "      <td>0.762759</td>\n",
       "      <td>0</td>\n",
       "      <td>red</td>\n",
       "      <td>0.356806</td>\n",
       "      <td>False</td>\n",
       "    </tr>\n",
       "    <tr>\n",
       "      <th>143</th>\n",
       "      <td>1.159173</td>\n",
       "      <td>1.217684</td>\n",
       "      <td>2</td>\n",
       "      <td>green</td>\n",
       "      <td>0.201807</td>\n",
       "      <td>False</td>\n",
       "    </tr>\n",
       "    <tr>\n",
       "      <th>144</th>\n",
       "      <td>1.038005</td>\n",
       "      <td>1.103953</td>\n",
       "      <td>2</td>\n",
       "      <td>green</td>\n",
       "      <td>0.205908</td>\n",
       "      <td>False</td>\n",
       "    </tr>\n",
       "    <tr>\n",
       "      <th>145</th>\n",
       "      <td>1.038005</td>\n",
       "      <td>0.819624</td>\n",
       "      <td>2</td>\n",
       "      <td>green</td>\n",
       "      <td>0.283506</td>\n",
       "      <td>False</td>\n",
       "    </tr>\n",
       "    <tr>\n",
       "      <th>146</th>\n",
       "      <td>0.553333</td>\n",
       "      <td>0.705893</td>\n",
       "      <td>0</td>\n",
       "      <td>red</td>\n",
       "      <td>0.591826</td>\n",
       "      <td>False</td>\n",
       "    </tr>\n",
       "    <tr>\n",
       "      <th>147</th>\n",
       "      <td>0.795669</td>\n",
       "      <td>0.819624</td>\n",
       "      <td>2</td>\n",
       "      <td>green</td>\n",
       "      <td>0.481635</td>\n",
       "      <td>False</td>\n",
       "    </tr>\n",
       "    <tr>\n",
       "      <th>148</th>\n",
       "      <td>0.432165</td>\n",
       "      <td>0.933356</td>\n",
       "      <td>0</td>\n",
       "      <td>red</td>\n",
       "      <td>0.650208</td>\n",
       "      <td>False</td>\n",
       "    </tr>\n",
       "    <tr>\n",
       "      <th>149</th>\n",
       "      <td>0.068662</td>\n",
       "      <td>0.762759</td>\n",
       "      <td>0</td>\n",
       "      <td>red</td>\n",
       "      <td>0.346965</td>\n",
       "      <td>False</td>\n",
       "    </tr>\n",
       "  </tbody>\n",
       "</table>\n",
       "<p>150 rows × 6 columns</p>\n",
       "</div>"
      ],
      "text/plain": [
       "     SepalLengthCm  PetalLengthCm  cluster colors  distance  outlier\n",
       "0        -0.900681      -1.341272        1   blue  0.160599    False\n",
       "1        -1.143017      -1.341272        1   blue  0.170454    False\n",
       "2        -1.385353      -1.398138        1   blue  0.407209    False\n",
       "3        -1.506521      -1.284407        1   blue  0.494562    False\n",
       "4        -1.021849      -1.341272        1   blue  0.112879    False\n",
       "5        -0.537178      -1.170675        1   blue  0.481437    False\n",
       "6        -1.506521      -1.341272        1   blue  0.504156    False\n",
       "7        -1.021849      -1.284407        1   blue  0.056217    False\n",
       "8        -1.748856      -1.341272        1   blue  0.742340    False\n",
       "9        -1.143017      -1.284407        1   blue  0.139547    False\n",
       "10       -0.537178      -1.284407        1   blue  0.481188    False\n",
       "11       -1.264185      -1.227541        1   blue  0.249070    False\n",
       "12       -1.264185      -1.341272        1   blue  0.273370    False\n",
       "13       -1.870024      -1.511870        1   blue  0.900617     True\n",
       "14       -0.052506      -1.455004        1   blue  0.988879     True\n",
       "15       -0.173674      -1.284407        1   blue  0.843293    False\n",
       "16       -0.537178      -1.398138        1   blue  0.507121    False\n",
       "17       -0.900681      -1.341272        1   blue  0.160599    False\n",
       "18       -0.173674      -1.170675        1   blue  0.843435    False\n",
       "19       -0.900681      -1.284407        1   blue  0.127321    False\n",
       "20       -0.537178      -1.170675        1   blue  0.481437    False\n",
       "21       -0.900681      -1.284407        1   blue  0.127321    False\n",
       "22       -1.506521      -1.568735        1   blue  0.597639    False\n",
       "23       -0.900681      -1.170675        1   blue  0.128259    False\n",
       "24       -1.264185      -1.056944        1   blue  0.302487    False\n",
       "25       -1.021849      -1.227541        1   blue  0.006813    False\n",
       "26       -1.021849      -1.227541        1   blue  0.006813    False\n",
       "27       -0.779513      -1.284407        1   blue  0.242125    False\n",
       "28       -0.779513      -1.341272        1   blue  0.261162    False\n",
       "29       -1.385353      -1.227541        1   blue  0.370237    False\n",
       "..             ...            ...      ...    ...       ...      ...\n",
       "120       1.280340       1.103953        2  green  0.090856    False\n",
       "121      -0.294842       0.649027        0    red  0.404476    False\n",
       "122       2.249683       1.672610        2  green  1.206364     True\n",
       "123       0.553333       0.649027        0    red  0.566274    False\n",
       "124       1.038005       1.103953        2  green  0.205908    False\n",
       "125       1.643844       1.274550        2  green  0.481754    False\n",
       "126       0.432165       0.592162        0    red  0.432452    False\n",
       "127       0.310998       0.649027        0    red  0.359129    False\n",
       "128       0.674501       1.047087        2  green  0.555427    False\n",
       "129       1.643844       1.160819        2  green  0.434823    False\n",
       "130       1.886180       1.331416        2  green  0.723039    False\n",
       "131       2.492019       1.502013        2  green  1.348258     True\n",
       "132       0.674501       1.047087        2  green  0.555427    False\n",
       "133       0.553333       0.762759        0    red  0.621544    False\n",
       "134       0.310998       1.047087        0    red  0.686972    False\n",
       "135       2.249683       1.331416        2  green  1.064070     True\n",
       "136       0.553333       1.047087        2  green  0.676539    False\n",
       "137       0.674501       0.990221        2  green  0.556441    False\n",
       "138       0.189830       0.592162        0    red  0.232483    False\n",
       "139       1.280340       0.933356        2  green  0.107884    False\n",
       "140       1.038005       1.047087        2  green  0.192507    False\n",
       "141       1.280340       0.762759        2  green  0.270610    False\n",
       "142      -0.052506       0.762759        0    red  0.356806    False\n",
       "143       1.159173       1.217684        2  green  0.201807    False\n",
       "144       1.038005       1.103953        2  green  0.205908    False\n",
       "145       1.038005       0.819624        2  green  0.283506    False\n",
       "146       0.553333       0.705893        0    red  0.591826    False\n",
       "147       0.795669       0.819624        2  green  0.481635    False\n",
       "148       0.432165       0.933356        0    red  0.650208    False\n",
       "149       0.068662       0.762759        0    red  0.346965    False\n",
       "\n",
       "[150 rows x 6 columns]"
      ]
     },
     "execution_count": 90,
     "metadata": {},
     "output_type": "execute_result"
    }
   ],
   "source": [
    "points[\"outlier\"] = False\n",
    "points.loc[points.distance>0.9, \"outlier\"] = True\n",
    "points"
   ]
  },
  {
   "cell_type": "code",
   "execution_count": 93,
   "metadata": {},
   "outputs": [
    {
     "data": {
      "text/plain": [
       "<matplotlib.axes._subplots.AxesSubplot at 0x1a1fc0efd0>"
      ]
     },
     "execution_count": 93,
     "metadata": {},
     "output_type": "execute_result"
    },
    {
     "data": {
      "image/png": "[encoded data removed]",
      "text/plain": [
       "<matplotlib.figure.Figure at 0x1a1fe8e278>"
      ]
     },
     "metadata": {},
     "output_type": "display_data"
    }
   ],
   "source": [
    "fig, ax = plt.subplots()\n",
    "points.plot.scatter(0, 1, color = points.colors, ax = ax, alpha = 0.1)\n",
    "pd.DataFrame(kmeans.cluster_centers_).plot.scatter(0,1,\n",
    "                    color = \"black\" , ax = ax, marker = \"*\", s = 100)\n",
    "points[points.outlier].plot.scatter(0, 1, color = \"red\", ax = ax)"
   ]
  },
  {
   "cell_type": "markdown",
   "metadata": {},
   "source": [
    "# Elbow method to find the number of clusters"
   ]
  },
  {
   "cell_type": "code",
   "execution_count": 96,
   "metadata": {},
   "outputs": [],
   "source": [
    "scores = []\n",
    "for k in range(2, 10):\n",
    "    kmeans = cluster.KMeans(n_clusters=k) # k is the number of clusters\n",
    "    kmeans.fit(X)\n",
    "    scores.append(kmeans.inertia_)"
   ]
  },
  {
   "cell_type": "code",
   "execution_count": 99,
   "metadata": {},
   "outputs": [
    {
     "data": {
      "text/plain": [
       "Text(0,0.5,'Initia scores')"
      ]
     },
     "execution_count": 99,
     "metadata": {},
     "output_type": "execute_result"
    },
    {
     "data": {
      "image/png": "[encoded data removed]",
      "text/plain": [
       "<matplotlib.figure.Figure at 0x1a1f4ad470>"
      ]
     },
     "metadata": {},
     "output_type": "display_data"
    }
   ],
   "source": [
    "plt.plot(range(2, 10), scores)\n",
    "plt.xlabel(\"Number of cluster\")\n",
    "plt.ylabel(\"Initia scores\")"
   ]
  },
  {
   "cell_type": "code",
   "execution_count": 100,
   "metadata": {},
   "outputs": [
    {
     "data": {
      "text/plain": [
       "0.5826296711195839"
      ]
     },
     "execution_count": 100,
     "metadata": {},
     "output_type": "execute_result"
    }
   ],
   "source": [
    "metrics.homogeneity_score(df.Species, y_cluster_pred)"
   ]
  },
  {
   "cell_type": "code",
   "execution_count": null,
   "metadata": {},
   "outputs": [],
   "source": []
  }
 ],
 "metadata": {
  "kernelspec": {
   "display_name": "Python 3",
   "language": "python",
   "name": "python3"
  },
  "language_info": {
   "codemirror_mode": {
    "name": "ipython",
    "version": 3
   },
   "file_extension": ".py",
   "mimetype": "text/x-python",
   "name": "python",
   "nbconvert_exporter": "python",
   "pygments_lexer": "ipython3",
   "version": "3.6.6"
  }
 },
 "nbformat": 4,
 "nbformat_minor": 2
}
