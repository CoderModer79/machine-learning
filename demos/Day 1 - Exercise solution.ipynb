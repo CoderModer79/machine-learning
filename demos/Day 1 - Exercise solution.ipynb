{
 "cells": [
  {
   "cell_type": "markdown",
   "metadata": {},
   "source": [
    "# Exercise\n",
    "\n",
    "Use stocks.small.csv as dataset for this exercise. This file is a csv file, using comma as field separator. Columns are date,open,high,low,close,volume,adjclose and symbol. Try not to use basic python feature, no libraries.\n",
    "- Find the number of records [Hint: Use open function to read file]\n",
    "- First line contains the header, create a new list by removing the header. How many records are there excluding header. [Hint: list slice]\n",
    "- Find the number unique stocks are there [Hint: use set]\n",
    "- Find the number of record for each stocks [Hint: use dict to count]\n",
    "- Find the average volume for each stock [Hint: dict of symbol and volumes list]\n",
    "- What frequency of trade by week day - M, T, W, T, F? [Hint: parse the date]\n"
   ]
  },
  {
   "cell_type": "code",
   "execution_count": 1,
   "metadata": {},
   "outputs": [],
   "source": [
    "with open(\"/data/stocks.small.csv\") as f:\n",
    "    lines = f.readlines()"
   ]
  },
  {
   "cell_type": "markdown",
   "metadata": {},
   "source": [
    "Find the number of records [Hint: Use open function to read file]"
   ]
  },
  {
   "cell_type": "code",
   "execution_count": 3,
   "metadata": {},
   "outputs": [
    {
     "data": {
      "text/plain": [
       "1847"
      ]
     },
     "execution_count": 3,
     "metadata": {},
     "output_type": "execute_result"
    }
   ],
   "source": [
    "len(lines)"
   ]
  },
  {
   "cell_type": "markdown",
   "metadata": {},
   "source": [
    "First line contains the header, create a new list by removing the header. How many records are there excluding header. "
   ]
  },
  {
   "cell_type": "code",
   "execution_count": 4,
   "metadata": {},
   "outputs": [
    {
     "data": {
      "text/plain": [
       "'date,open,high,low,close,volume,adjclose,symbol\\n'"
      ]
     },
     "execution_count": 4,
     "metadata": {},
     "output_type": "execute_result"
    }
   ],
   "source": [
    "lines[0]"
   ]
  },
  {
   "cell_type": "code",
   "execution_count": 6,
   "metadata": {},
   "outputs": [
    {
     "data": {
      "text/plain": [
       "1846"
      ]
     },
     "execution_count": 6,
     "metadata": {},
     "output_type": "execute_result"
    }
   ],
   "source": [
    "len(lines[1:])"
   ]
  },
  {
   "cell_type": "markdown",
   "metadata": {},
   "source": [
    "Find the number unique stocks are there [Hint: use set]"
   ]
  },
  {
   "cell_type": "code",
   "execution_count": 11,
   "metadata": {},
   "outputs": [
    {
     "data": {
      "text/plain": [
       "472"
      ]
     },
     "execution_count": 11,
     "metadata": {},
     "output_type": "execute_result"
    }
   ],
   "source": [
    "symbols = [line.split(\",\")[-1] for line in lines]\n",
    "symbols = [s.replace(\"\\n\", \"\") for s in symbols]\n",
    "len(set(symbols))"
   ]
  },
  {
   "cell_type": "markdown",
   "metadata": {},
   "source": [
    "Find the top 10 mode traded stocks by count. "
   ]
  },
  {
   "cell_type": "code",
   "execution_count": 18,
   "metadata": {
    "scrolled": false
   },
   "outputs": [
    {
     "data": {
      "text/plain": [
       "[('UPS', 11),\n",
       " ('ZBH', 11),\n",
       " ('K', 10),\n",
       " ('FLIR', 9),\n",
       " ('KR', 9),\n",
       " ('COF', 9),\n",
       " ('PHM', 9),\n",
       " ('D', 9),\n",
       " ('NKE', 8),\n",
       " ('NUE', 8)]"
      ]
     },
     "execution_count": 18,
     "metadata": {},
     "output_type": "execute_result"
    }
   ],
   "source": [
    "count_stock = dict()\n",
    "\n",
    "for s in symbols:\n",
    "    if s in count_stock:\n",
    "        count_stock[s] = count_stock[s] + 1\n",
    "    else:\n",
    "        count_stock[s] = 1\n",
    "        \n",
    "sorted(count_stock.items(), key = lambda p: p[1], reverse=True)[:10]"
   ]
  },
  {
   "cell_type": "markdown",
   "metadata": {},
   "source": [
    "Find the average volume for each stock"
   ]
  },
  {
   "cell_type": "code",
   "execution_count": 24,
   "metadata": {},
   "outputs": [
    {
     "data": {
      "text/plain": [
       "[('INTC', 50683600.0),\n",
       " ('BEN', 3288300.0),\n",
       " ('APH', 948800.0),\n",
       " ('SHW', 1464300.0),\n",
       " ('STJ', 1397600.0)]"
      ]
     },
     "execution_count": 24,
     "metadata": {},
     "output_type": "execute_result"
    }
   ],
   "source": [
    "vol_symbol = [line.split(\",\") for line in lines[1:]]\n",
    "vol_symbol = [(tokens[7].replace(\"\\n\", \"\"), float(tokens[5])) for tokens in vol_symbol]\n",
    "vol_symbol[:5]"
   ]
  },
  {
   "cell_type": "code",
   "execution_count": 33,
   "metadata": {
    "scrolled": false
   },
   "outputs": [
    {
     "data": {
      "text/plain": [
       "\"{'INTC': 74368550.0, 'BEN': 3317050.0, 'APH': 1573366.6666666667, 'SHW': 1028760.0, 'STJ': 1341333.3333333333, 'GGP': 961020.0, 'SBUX': 21040233.333333332, 'EQT': 988628.5714285715, 'BCR': 1557300.0, 'NKE': 13730375.0, 'IPG': 3774960.0, 'EXC': 4272625.0, 'BXP': 561860.0, 'BIIB': 2678871.4285714286, 'DD': 6005600.0, 'NUE': 2655587.5, 'ALK': 2896700.0, 'COG': 4203033.333333333, 'ETN': 2120087.5, 'DO ...\""
      ]
     },
     "execution_count": 33,
     "metadata": {},
     "output_type": "execute_result"
    }
   ],
   "source": [
    "vols_by_symbol = {}\n",
    "for symbol, volume in vol_symbol:\n",
    "    if symbol not in vols_by_symbol:\n",
    "        vols_by_symbol[symbol] = []\n",
    "    vols_by_symbol[symbol].append(volume)\n",
    "\n",
    "def mean(values):\n",
    "    return sum(values)/len(values)\n",
    "\n",
    "avg_vol_by_symbol = dict([(key, mean(vols_by_symbol[key])) \n",
    "                          for key in vols_by_symbol.keys()])\n",
    "str(avg_vol_by_symbol)[:400] + \" ...\""
   ]
  },
  {
   "cell_type": "markdown",
   "metadata": {},
   "source": [
    "What frequency of trade by week day - M, T, W, T, F?"
   ]
  },
  {
   "cell_type": "code",
   "execution_count": 45,
   "metadata": {},
   "outputs": [
    {
     "data": {
      "text/plain": [
       "Counter({1: 348, 3: 374, 0: 361, 2: 393, 4: 370})"
      ]
     },
     "execution_count": 45,
     "metadata": {},
     "output_type": "execute_result"
    }
   ],
   "source": [
    "from datetime import datetime\n",
    "from collections import Counter\n",
    "\n",
    "dates = [line.split(\",\")[0] for line in lines[1:]]\n",
    "dates = [datetime.strptime(s, \"%Y-%m-%d\") for s in dates]\n",
    "dates = [d.weekday() for d in dates]\n",
    "Counter(dates)"
   ]
  },
  {
   "cell_type": "code",
   "execution_count": null,
   "metadata": {},
   "outputs": [],
   "source": []
  }
 ],
 "metadata": {
  "kernelspec": {
   "display_name": "Python 3",
   "language": "python",
   "name": "python3"
  },
  "language_info": {
   "codemirror_mode": {
    "name": "ipython",
    "version": 3
   },
   "file_extension": ".py",
   "mimetype": "text/x-python",
   "name": "python",
   "nbconvert_exporter": "python",
   "pygments_lexer": "ipython3",
   "version": "3.6.6"
  }
 },
 "nbformat": 4,
 "nbformat_minor": 2
}
