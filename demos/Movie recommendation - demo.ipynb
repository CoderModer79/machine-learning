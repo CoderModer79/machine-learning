{
 "cells": [
  {
   "cell_type": "code",
   "execution_count": 1,
   "metadata": {},
   "outputs": [],
   "source": [
    "import pandas as pd"
   ]
  },
  {
   "cell_type": "code",
   "execution_count": 2,
   "metadata": {},
   "outputs": [],
   "source": [
    "movies = pd.read_csv(\"/data/movielens/movies.csv\")"
   ]
  },
  {
   "cell_type": "code",
   "execution_count": 3,
   "metadata": {},
   "outputs": [
    {
     "data": {
      "text/html": [
       "<div>\n",
       "<style scoped>\n",
       "    .dataframe tbody tr th:only-of-type {\n",
       "        vertical-align: middle;\n",
       "    }\n",
       "\n",
       "    .dataframe tbody tr th {\n",
       "        vertical-align: top;\n",
       "    }\n",
       "\n",
       "    .dataframe thead th {\n",
       "        text-align: right;\n",
       "    }\n",
       "</style>\n",
       "<table border=\"1\" class=\"dataframe\">\n",
       "  <thead>\n",
       "    <tr style=\"text-align: right;\">\n",
       "      <th></th>\n",
       "      <th>movieId</th>\n",
       "      <th>title</th>\n",
       "      <th>genres</th>\n",
       "    </tr>\n",
       "  </thead>\n",
       "  <tbody>\n",
       "    <tr>\n",
       "      <th>0</th>\n",
       "      <td>1</td>\n",
       "      <td>Toy Story (1995)</td>\n",
       "      <td>Adventure|Animation|Children|Comedy|Fantasy</td>\n",
       "    </tr>\n",
       "    <tr>\n",
       "      <th>1</th>\n",
       "      <td>2</td>\n",
       "      <td>Jumanji (1995)</td>\n",
       "      <td>Adventure|Children|Fantasy</td>\n",
       "    </tr>\n",
       "    <tr>\n",
       "      <th>2</th>\n",
       "      <td>3</td>\n",
       "      <td>Grumpier Old Men (1995)</td>\n",
       "      <td>Comedy|Romance</td>\n",
       "    </tr>\n",
       "    <tr>\n",
       "      <th>3</th>\n",
       "      <td>4</td>\n",
       "      <td>Waiting to Exhale (1995)</td>\n",
       "      <td>Comedy|Drama|Romance</td>\n",
       "    </tr>\n",
       "    <tr>\n",
       "      <th>4</th>\n",
       "      <td>5</td>\n",
       "      <td>Father of the Bride Part II (1995)</td>\n",
       "      <td>Comedy</td>\n",
       "    </tr>\n",
       "  </tbody>\n",
       "</table>\n",
       "</div>"
      ],
      "text/plain": [
       "   movieId                               title  \\\n",
       "0        1                    Toy Story (1995)   \n",
       "1        2                      Jumanji (1995)   \n",
       "2        3             Grumpier Old Men (1995)   \n",
       "3        4            Waiting to Exhale (1995)   \n",
       "4        5  Father of the Bride Part II (1995)   \n",
       "\n",
       "                                        genres  \n",
       "0  Adventure|Animation|Children|Comedy|Fantasy  \n",
       "1                   Adventure|Children|Fantasy  \n",
       "2                               Comedy|Romance  \n",
       "3                         Comedy|Drama|Romance  \n",
       "4                                       Comedy  "
      ]
     },
     "execution_count": 3,
     "metadata": {},
     "output_type": "execute_result"
    }
   ],
   "source": [
    "movies.head()"
   ]
  },
  {
   "cell_type": "code",
   "execution_count": 4,
   "metadata": {},
   "outputs": [
    {
     "data": {
      "text/html": [
       "<div>\n",
       "<style scoped>\n",
       "    .dataframe tbody tr th:only-of-type {\n",
       "        vertical-align: middle;\n",
       "    }\n",
       "\n",
       "    .dataframe tbody tr th {\n",
       "        vertical-align: top;\n",
       "    }\n",
       "\n",
       "    .dataframe thead th {\n",
       "        text-align: right;\n",
       "    }\n",
       "</style>\n",
       "<table border=\"1\" class=\"dataframe\">\n",
       "  <thead>\n",
       "    <tr style=\"text-align: right;\">\n",
       "      <th></th>\n",
       "      <th>userId</th>\n",
       "      <th>movieId</th>\n",
       "      <th>rating</th>\n",
       "      <th>timestamp</th>\n",
       "    </tr>\n",
       "  </thead>\n",
       "  <tbody>\n",
       "    <tr>\n",
       "      <th>0</th>\n",
       "      <td>1</td>\n",
       "      <td>31</td>\n",
       "      <td>2.5</td>\n",
       "      <td>1260759144</td>\n",
       "    </tr>\n",
       "    <tr>\n",
       "      <th>1</th>\n",
       "      <td>1</td>\n",
       "      <td>1029</td>\n",
       "      <td>3.0</td>\n",
       "      <td>1260759179</td>\n",
       "    </tr>\n",
       "    <tr>\n",
       "      <th>2</th>\n",
       "      <td>1</td>\n",
       "      <td>1061</td>\n",
       "      <td>3.0</td>\n",
       "      <td>1260759182</td>\n",
       "    </tr>\n",
       "    <tr>\n",
       "      <th>3</th>\n",
       "      <td>1</td>\n",
       "      <td>1129</td>\n",
       "      <td>2.0</td>\n",
       "      <td>1260759185</td>\n",
       "    </tr>\n",
       "    <tr>\n",
       "      <th>4</th>\n",
       "      <td>1</td>\n",
       "      <td>1172</td>\n",
       "      <td>4.0</td>\n",
       "      <td>1260759205</td>\n",
       "    </tr>\n",
       "  </tbody>\n",
       "</table>\n",
       "</div>"
      ],
      "text/plain": [
       "   userId  movieId  rating   timestamp\n",
       "0       1       31     2.5  1260759144\n",
       "1       1     1029     3.0  1260759179\n",
       "2       1     1061     3.0  1260759182\n",
       "3       1     1129     2.0  1260759185\n",
       "4       1     1172     4.0  1260759205"
      ]
     },
     "execution_count": 4,
     "metadata": {},
     "output_type": "execute_result"
    }
   ],
   "source": [
    "ratings = pd.read_csv(\"/data/movielens/ratings.csv\")\n",
    "ratings.head()"
   ]
  },
  {
   "cell_type": "code",
   "execution_count": 14,
   "metadata": {},
   "outputs": [],
   "source": [
    "import numpy as np\n",
    "pd.options.display.max_rows = 10\n",
    "pd.options.display.max_columns = 1000"
   ]
  },
  {
   "cell_type": "code",
   "execution_count": 16,
   "metadata": {
    "scrolled": false
   },
   "outputs": [
    {
     "data": {
      "text/html": [
       "<div>\n",
       "<style scoped>\n",
       "    .dataframe tbody tr th:only-of-type {\n",
       "        vertical-align: middle;\n",
       "    }\n",
       "\n",
       "    .dataframe tbody tr th {\n",
       "        vertical-align: top;\n",
       "    }\n",
       "\n",
       "    .dataframe thead th {\n",
       "        text-align: right;\n",
       "    }\n",
       "</style>\n",
       "<table border=\"1\" class=\"dataframe\">\n",
       "  <thead>\n",
       "    <tr style=\"text-align: right;\">\n",
       "      <th></th>\n",
       "      <th>title</th>\n",
       "      <th>movieId</th>\n",
       "      <th>mean</th>\n",
       "    </tr>\n",
       "  </thead>\n",
       "  <tbody>\n",
       "    <tr>\n",
       "      <th>695</th>\n",
       "      <td>Godfather, The (1972)</td>\n",
       "      <td>858</td>\n",
       "      <td>4.487500</td>\n",
       "    </tr>\n",
       "    <tr>\n",
       "      <th>284</th>\n",
       "      <td>Shawshank Redemption, The (1994)</td>\n",
       "      <td>318</td>\n",
       "      <td>4.487138</td>\n",
       "    </tr>\n",
       "    <tr>\n",
       "      <th>977</th>\n",
       "      <td>Godfather: Part II, The (1974)</td>\n",
       "      <td>1221</td>\n",
       "      <td>4.385185</td>\n",
       "    </tr>\n",
       "    <tr>\n",
       "      <th>48</th>\n",
       "      <td>Usual Suspects, The (1995)</td>\n",
       "      <td>50</td>\n",
       "      <td>4.370647</td>\n",
       "    </tr>\n",
       "    <tr>\n",
       "      <th>472</th>\n",
       "      <td>Schindler's List (1993)</td>\n",
       "      <td>527</td>\n",
       "      <td>4.303279</td>\n",
       "    </tr>\n",
       "    <tr>\n",
       "      <th>951</th>\n",
       "      <td>One Flew Over the Cuckoo's Nest (1975)</td>\n",
       "      <td>1193</td>\n",
       "      <td>4.256944</td>\n",
       "    </tr>\n",
       "    <tr>\n",
       "      <th>535</th>\n",
       "      <td>Fargo (1996)</td>\n",
       "      <td>608</td>\n",
       "      <td>4.256696</td>\n",
       "    </tr>\n",
       "    <tr>\n",
       "      <th>266</th>\n",
       "      <td>Pulp Fiction (1994)</td>\n",
       "      <td>296</td>\n",
       "      <td>4.256173</td>\n",
       "    </tr>\n",
       "    <tr>\n",
       "      <th>2288</th>\n",
       "      <td>American Beauty (1999)</td>\n",
       "      <td>2858</td>\n",
       "      <td>4.236364</td>\n",
       "    </tr>\n",
       "    <tr>\n",
       "      <th>6916</th>\n",
       "      <td>Dark Knight, The (2008)</td>\n",
       "      <td>58559</td>\n",
       "      <td>4.235537</td>\n",
       "    </tr>\n",
       "  </tbody>\n",
       "</table>\n",
       "</div>"
      ],
      "text/plain": [
       "                                       title  movieId      mean\n",
       "695                    Godfather, The (1972)      858  4.487500\n",
       "284         Shawshank Redemption, The (1994)      318  4.487138\n",
       "977           Godfather: Part II, The (1974)     1221  4.385185\n",
       "48                Usual Suspects, The (1995)       50  4.370647\n",
       "472                  Schindler's List (1993)      527  4.303279\n",
       "951   One Flew Over the Cuckoo's Nest (1975)     1193  4.256944\n",
       "535                             Fargo (1996)      608  4.256696\n",
       "266                      Pulp Fiction (1994)      296  4.256173\n",
       "2288                  American Beauty (1999)     2858  4.236364\n",
       "6916                 Dark Knight, The (2008)    58559  4.235537"
      ]
     },
     "execution_count": 16,
     "metadata": {},
     "output_type": "execute_result"
    }
   ],
   "source": [
    "(ratings\n",
    ".groupby(\"movieId\")\n",
    ".rating\n",
    ".agg([np.mean, len])\n",
    ".query(\"len>100\")\n",
    " .sort_values(\"mean\", ascending = False)\n",
    " .merge(movies, left_index = True, right_on = \"movieId\")\n",
    " [[\"title\", \"movieId\", \"mean\"]]\n",
    " .iloc[:10, :]\n",
    ")"
   ]
  },
  {
   "cell_type": "code",
   "execution_count": 19,
   "metadata": {},
   "outputs": [
    {
     "data": {
      "text/html": [
       "<div>\n",
       "<style scoped>\n",
       "    .dataframe tbody tr th:only-of-type {\n",
       "        vertical-align: middle;\n",
       "    }\n",
       "\n",
       "    .dataframe tbody tr th {\n",
       "        vertical-align: top;\n",
       "    }\n",
       "\n",
       "    .dataframe thead th {\n",
       "        text-align: right;\n",
       "    }\n",
       "</style>\n",
       "<table border=\"1\" class=\"dataframe\">\n",
       "  <thead>\n",
       "    <tr style=\"text-align: right;\">\n",
       "      <th></th>\n",
       "      <th>movieId</th>\n",
       "      <th>title</th>\n",
       "    </tr>\n",
       "  </thead>\n",
       "  <tbody>\n",
       "    <tr>\n",
       "      <th>100</th>\n",
       "      <td>110</td>\n",
       "      <td>Braveheart (1995)</td>\n",
       "    </tr>\n",
       "    <tr>\n",
       "      <th>101</th>\n",
       "      <td>111</td>\n",
       "      <td>Taxi Driver (1976)</td>\n",
       "    </tr>\n",
       "    <tr>\n",
       "      <th>102</th>\n",
       "      <td>112</td>\n",
       "      <td>Rumble in the Bronx (Hont faan kui) (1995)</td>\n",
       "    </tr>\n",
       "    <tr>\n",
       "      <th>103</th>\n",
       "      <td>113</td>\n",
       "      <td>Before and After (1996)</td>\n",
       "    </tr>\n",
       "    <tr>\n",
       "      <th>104</th>\n",
       "      <td>114</td>\n",
       "      <td>Margaret's Museum (1995)</td>\n",
       "    </tr>\n",
       "  </tbody>\n",
       "</table>\n",
       "</div>"
      ],
      "text/plain": [
       "     movieId                                       title\n",
       "100      110                           Braveheart (1995)\n",
       "101      111                          Taxi Driver (1976)\n",
       "102      112  Rumble in the Bronx (Hont faan kui) (1995)\n",
       "103      113                     Before and After (1996)\n",
       "104      114                    Margaret's Museum (1995)"
      ]
     },
     "execution_count": 19,
     "metadata": {},
     "output_type": "execute_result"
    }
   ],
   "source": [
    "movies.iloc[100:105, :2]"
   ]
  },
  {
   "cell_type": "code",
   "execution_count": 20,
   "metadata": {},
   "outputs": [
    {
     "name": "stdout",
     "output_type": "stream",
     "text": [
      "http://abuls-mbp-5:4041\n"
     ]
    }
   ],
   "source": [
    "import sys, glob, os\n",
    "SPARK_HOME = \"/Users/abulbasar/Downloads/spark-2.3.1-bin-hadoop2.7\"\n",
    "sys.path.append(SPARK_HOME + \"/python\")\n",
    "sys.path.append(glob.glob(SPARK_HOME + \"/python/lib/py4j*.zip\")[0])\n"
   ]
  },
  {
   "cell_type": "code",
   "execution_count": null,
   "metadata": {},
   "outputs": [],
   "source": [
    "from pyspark.sql import SparkSession, functions as F\n",
    "spark = (SparkSession\n",
    "         .builder\n",
    "         .config(\"spark.master\", \"local[*]\")\n",
    "         .config(\"spark.driver.memory\", \"4G\")\n",
    "         .config(\"spark.sql.shuffle.partitions\", 16)\n",
    "         .getOrCreate())\n",
    "sc = spark.sparkContext\n",
    "print(sc.uiWebUrl)\n",
    "sql = spark.sql"
   ]
  },
  {
   "cell_type": "code",
   "execution_count": 38,
   "metadata": {},
   "outputs": [],
   "source": [
    "movies = (spark.read\n",
    "          .option(\"header\", True)\n",
    "          .option(\"inferSchema\", True)\n",
    "          .format(\"csv\")\n",
    "          .load(\"/data/movielens/movies.csv\"))\n",
    "ratings = (spark.read\n",
    "           .option(\"header\", True)\n",
    "           .option(\"inferSchema\", True)\n",
    "          .format(\"csv\")\n",
    "          .load(\"/data/movielens/ratings.csv\")\n",
    "           .withColumn(\"timestamp\", F.expr(\"from_unixtime(timestamp)\"))\n",
    "          )"
   ]
  },
  {
   "cell_type": "code",
   "execution_count": 39,
   "metadata": {},
   "outputs": [
    {
     "name": "stdout",
     "output_type": "stream",
     "text": [
      "+-------+--------------------+--------------------+\n",
      "|movieId|               title|              genres|\n",
      "+-------+--------------------+--------------------+\n",
      "|      1|    Toy Story (1995)|Adventure|Animati...|\n",
      "|      2|      Jumanji (1995)|Adventure|Childre...|\n",
      "|      3|Grumpier Old Men ...|      Comedy|Romance|\n",
      "|      4|Waiting to Exhale...|Comedy|Drama|Romance|\n",
      "|      5|Father of the Bri...|              Comedy|\n",
      "|      6|         Heat (1995)|Action|Crime|Thri...|\n",
      "|      7|      Sabrina (1995)|      Comedy|Romance|\n",
      "|      8| Tom and Huck (1995)|  Adventure|Children|\n",
      "|      9| Sudden Death (1995)|              Action|\n",
      "|     10|    GoldenEye (1995)|Action|Adventure|...|\n",
      "|     11|American Presiden...|Comedy|Drama|Romance|\n",
      "|     12|Dracula: Dead and...|       Comedy|Horror|\n",
      "|     13|        Balto (1995)|Adventure|Animati...|\n",
      "|     14|        Nixon (1995)|               Drama|\n",
      "|     15|Cutthroat Island ...|Action|Adventure|...|\n",
      "|     16|       Casino (1995)|         Crime|Drama|\n",
      "|     17|Sense and Sensibi...|       Drama|Romance|\n",
      "|     18|   Four Rooms (1995)|              Comedy|\n",
      "|     19|Ace Ventura: When...|              Comedy|\n",
      "|     20|  Money Train (1995)|Action|Comedy|Cri...|\n",
      "+-------+--------------------+--------------------+\n",
      "only showing top 20 rows\n",
      "\n"
     ]
    }
   ],
   "source": [
    "movies.show()"
   ]
  },
  {
   "cell_type": "code",
   "execution_count": 40,
   "metadata": {},
   "outputs": [
    {
     "name": "stdout",
     "output_type": "stream",
     "text": [
      "root\n",
      " |-- movieId: integer (nullable = true)\n",
      " |-- title: string (nullable = true)\n",
      " |-- genres: string (nullable = true)\n",
      "\n"
     ]
    }
   ],
   "source": [
    "movies.printSchema()"
   ]
  },
  {
   "cell_type": "code",
   "execution_count": 41,
   "metadata": {},
   "outputs": [
    {
     "name": "stdout",
     "output_type": "stream",
     "text": [
      "root\n",
      " |-- userId: integer (nullable = true)\n",
      " |-- movieId: integer (nullable = true)\n",
      " |-- rating: double (nullable = true)\n",
      " |-- timestamp: string (nullable = true)\n",
      "\n"
     ]
    }
   ],
   "source": [
    "ratings.printSchema()"
   ]
  },
  {
   "cell_type": "code",
   "execution_count": 42,
   "metadata": {},
   "outputs": [
    {
     "name": "stdout",
     "output_type": "stream",
     "text": [
      "+------+-------+------+-------------------+\n",
      "|userId|movieId|rating|          timestamp|\n",
      "+------+-------+------+-------------------+\n",
      "|     1|     31|   2.5|2009-12-14 08:22:24|\n",
      "|     1|   1029|   3.0|2009-12-14 08:22:59|\n",
      "|     1|   1061|   3.0|2009-12-14 08:23:02|\n",
      "|     1|   1129|   2.0|2009-12-14 08:23:05|\n",
      "|     1|   1172|   4.0|2009-12-14 08:23:25|\n",
      "|     1|   1263|   2.0|2009-12-14 08:22:31|\n",
      "|     1|   1287|   2.0|2009-12-14 08:23:07|\n",
      "|     1|   1293|   2.0|2009-12-14 08:22:28|\n",
      "|     1|   1339|   3.5|2009-12-14 08:22:05|\n",
      "|     1|   1343|   2.0|2009-12-14 08:22:11|\n",
      "|     1|   1371|   2.5|2009-12-14 08:22:15|\n",
      "|     1|   1405|   1.0|2009-12-14 08:23:23|\n",
      "|     1|   1953|   4.0|2009-12-14 08:23:11|\n",
      "|     1|   2105|   4.0|2009-12-14 08:22:19|\n",
      "|     1|   2150|   3.0|2009-12-14 08:23:14|\n",
      "|     1|   2193|   2.0|2009-12-14 08:23:18|\n",
      "|     1|   2294|   2.0|2009-12-14 08:21:48|\n",
      "|     1|   2455|   2.5|2009-12-14 08:21:53|\n",
      "|     1|   2968|   1.0|2009-12-14 08:23:20|\n",
      "|     1|   3671|   3.0|2009-12-14 08:21:57|\n",
      "+------+-------+------+-------------------+\n",
      "only showing top 20 rows\n",
      "\n"
     ]
    }
   ],
   "source": [
    "ratings.show()"
   ]
  },
  {
   "cell_type": "code",
   "execution_count": 22,
   "metadata": {},
   "outputs": [
    {
     "data": {
      "text/plain": [
       "pyspark.sql.dataframe.DataFrame"
      ]
     },
     "execution_count": 22,
     "metadata": {},
     "output_type": "execute_result"
    }
   ],
   "source": [
    "type(movies)"
   ]
  },
  {
   "cell_type": "code",
   "execution_count": 25,
   "metadata": {},
   "outputs": [],
   "source": [
    "import pyspark.sql.functions as F"
   ]
  },
  {
   "cell_type": "code",
   "execution_count": 53,
   "metadata": {
    "scrolled": false
   },
   "outputs": [
    {
     "name": "stdout",
     "output_type": "stream",
     "text": [
      "+-----------------+--------------------------------------+-------+\n",
      "|avg_rating       |title                                 |movieId|\n",
      "+-----------------+--------------------------------------+-------+\n",
      "|4.4875           |Godfather, The (1972)                 |858    |\n",
      "|4.487138263665595|Shawshank Redemption, The (1994)      |318    |\n",
      "|4.385185185185185|Godfather: Part II, The (1974)        |1221   |\n",
      "|4.370646766169155|Usual Suspects, The (1995)            |50     |\n",
      "|4.30327868852459 |Schindler's List (1993)               |527    |\n",
      "|4.256944444444445|One Flew Over the Cuckoo's Nest (1975)|1193   |\n",
      "|4.256696428571429|Fargo (1996)                          |608    |\n",
      "|4.256172839506172|Pulp Fiction (1994)                   |296    |\n",
      "|4.236363636363636|American Beauty (1999)                |2858   |\n",
      "|4.235537190082645|Dark Knight, The (2008)               |58559  |\n",
      "+-----------------+--------------------------------------+-------+\n",
      "\n"
     ]
    }
   ],
   "source": [
    "top10 = (ratings\n",
    " .groupBy(\"movieId\")\n",
    " .agg(F.avg(\"rating\").alias(\"avg_rating\")\n",
    "    , F.count(\"*\").alias(\"rating_count\")\n",
    "    )\n",
    " .filter(\"rating_count>100\")\n",
    " .join(movies, on = \"movieId\")\n",
    " .select(\"avg_rating\", \"title\", \"movieId\")\n",
    " .orderBy(F.desc(\"avg_rating\"))\n",
    " .limit(10)\n",
    ")\n",
    "\n",
    "top10.show(10, False)"
   ]
  },
  {
   "cell_type": "code",
   "execution_count": 57,
   "metadata": {},
   "outputs": [
    {
     "name": "stdout",
     "output_type": "stream",
     "text": [
      "+------+-------+------+-------------------+\n",
      "|userId|movieId|rating|          timestamp|\n",
      "+------+-------+------+-------------------+\n",
      "|     1|     31|   2.5|2009-12-14 08:22:24|\n",
      "|     1|   1029|   3.0|2009-12-14 08:22:59|\n",
      "|     1|   1061|   3.0|2009-12-14 08:23:02|\n",
      "|     1|   1129|   2.0|2009-12-14 08:23:05|\n",
      "|     1|   1172|   4.0|2009-12-14 08:23:25|\n",
      "|     1|   1263|   2.0|2009-12-14 08:22:31|\n",
      "|     1|   1287|   2.0|2009-12-14 08:23:07|\n",
      "|     1|   1293|   2.0|2009-12-14 08:22:28|\n",
      "|     1|   1339|   3.5|2009-12-14 08:22:05|\n",
      "|     1|   1343|   2.0|2009-12-14 08:22:11|\n",
      "|     1|   1371|   2.5|2009-12-14 08:22:15|\n",
      "|     1|   1405|   1.0|2009-12-14 08:23:23|\n",
      "|     1|   1953|   4.0|2009-12-14 08:23:11|\n",
      "|     1|   2105|   4.0|2009-12-14 08:22:19|\n",
      "|     1|   2150|   3.0|2009-12-14 08:23:14|\n",
      "|     1|   2193|   2.0|2009-12-14 08:23:18|\n",
      "|     1|   2294|   2.0|2009-12-14 08:21:48|\n",
      "|     1|   2455|   2.5|2009-12-14 08:21:53|\n",
      "|     1|   2968|   1.0|2009-12-14 08:23:20|\n",
      "|     1|   3671|   3.0|2009-12-14 08:21:57|\n",
      "+------+-------+------+-------------------+\n",
      "only showing top 20 rows\n",
      "\n"
     ]
    }
   ],
   "source": [
    "ratings.show()"
   ]
  },
  {
   "cell_type": "code",
   "execution_count": 55,
   "metadata": {},
   "outputs": [],
   "source": [
    "from pyspark.ml.recommendation import ALS"
   ]
  },
  {
   "cell_type": "code",
   "execution_count": 56,
   "metadata": {},
   "outputs": [],
   "source": [
    "als = ALS(rank = 10, maxIter=10, userCol=\"userId\", seed = 1, \n",
    "        , itemCol=\"movieId\", ratingCol=\"rating\" )"
   ]
  },
  {
   "cell_type": "code",
   "execution_count": 59,
   "metadata": {},
   "outputs": [],
   "source": [
    "df_train, df_test = ratings.randomSplit([0.7, 0.3], seed=1)"
   ]
  },
  {
   "cell_type": "code",
   "execution_count": 60,
   "metadata": {},
   "outputs": [
    {
     "data": {
      "text/plain": [
       "DataFrame[userId: int, movieId: int, rating: double, timestamp: string]"
      ]
     },
     "execution_count": 60,
     "metadata": {},
     "output_type": "execute_result"
    }
   ],
   "source": [
    "df_train.cache()"
   ]
  },
  {
   "cell_type": "code",
   "execution_count": 62,
   "metadata": {},
   "outputs": [],
   "source": [
    "als_model = als.fit(df_train)"
   ]
  },
  {
   "cell_type": "code",
   "execution_count": 63,
   "metadata": {},
   "outputs": [
    {
     "data": {
      "text/plain": [
       "DataFrame[id: int, features: array<float>]"
      ]
     },
     "execution_count": 63,
     "metadata": {},
     "output_type": "execute_result"
    }
   ],
   "source": [
    "als_model.itemFactors"
   ]
  },
  {
   "cell_type": "code",
   "execution_count": 64,
   "metadata": {},
   "outputs": [
    {
     "data": {
      "text/plain": [
       "8033"
      ]
     },
     "execution_count": 64,
     "metadata": {},
     "output_type": "execute_result"
    }
   ],
   "source": [
    "als_model.itemFactors.select(\"id\").distinct().count()"
   ]
  },
  {
   "cell_type": "code",
   "execution_count": 66,
   "metadata": {},
   "outputs": [
    {
     "name": "stdout",
     "output_type": "stream",
     "text": [
      "+-----------------------+\n",
      "|count(DISTINCT movieId)|\n",
      "+-----------------------+\n",
      "|                   8033|\n",
      "+-----------------------+\n",
      "\n"
     ]
    }
   ],
   "source": [
    "df_train.selectExpr(\"count(distinct movieId)\").show()"
   ]
  },
  {
   "cell_type": "code",
   "execution_count": 69,
   "metadata": {},
   "outputs": [],
   "source": [
    "df_test_pred = als_model.transform(df_test)"
   ]
  },
  {
   "cell_type": "code",
   "execution_count": 71,
   "metadata": {},
   "outputs": [
    {
     "name": "stdout",
     "output_type": "stream",
     "text": [
      "+------+-------+------+-------------------+\n",
      "|userId|movieId|rating|          timestamp|\n",
      "+------+-------+------+-------------------+\n",
      "|     1|   1172|   4.0|2009-12-14 08:23:25|\n",
      "|     1|   1371|   2.5|2009-12-14 08:22:15|\n",
      "|     1|   2294|   2.0|2009-12-14 08:21:48|\n",
      "|     1|   2968|   1.0|2009-12-14 08:23:20|\n",
      "|     2|     10|   4.0|1996-06-21 16:41:33|\n",
      "|     2|     50|   4.0|1996-06-21 16:43:06|\n",
      "|     2|    144|   3.0|1996-06-21 16:50:16|\n",
      "|     2|    165|   3.0|1996-06-21 16:40:41|\n",
      "|     2|    208|   3.0|1996-06-21 16:41:51|\n",
      "|     2|    223|   1.0|1996-06-21 16:45:49|\n",
      "|     2|    225|   3.0|1996-06-21 16:42:32|\n",
      "|     2|    235|   3.0|1996-06-21 16:44:24|\n",
      "|     2|    253|   4.0|1996-06-21 16:41:51|\n",
      "|     2|    261|   4.0|1996-06-21 16:44:41|\n",
      "|     2|    292|   3.0|1996-06-21 16:41:32|\n",
      "|     2|    317|   2.0|1996-06-21 16:42:31|\n",
      "|     2|    350|   4.0|1996-06-21 16:44:57|\n",
      "|     2|    367|   3.0|1996-06-21 16:43:39|\n",
      "|     2|    537|   4.0|1996-06-21 16:53:19|\n",
      "|     2|    589|   5.0|1996-06-21 16:44:57|\n",
      "+------+-------+------+-------------------+\n",
      "only showing top 20 rows\n",
      "\n"
     ]
    }
   ],
   "source": [
    "df_test.show()"
   ]
  },
  {
   "cell_type": "code",
   "execution_count": 70,
   "metadata": {},
   "outputs": [
    {
     "name": "stdout",
     "output_type": "stream",
     "text": [
      "+------+-------+------+-------------------+----------+\n",
      "|userId|movieId|rating|          timestamp|prediction|\n",
      "+------+-------+------+-------------------+----------+\n",
      "|   157|     12|   2.0|2010-12-06 06:46:04|  2.171139|\n",
      "|   564|     12|   1.0|2000-11-20 14:13:41|  4.076747|\n",
      "|    91|     12|   3.5|2015-11-29 21:48:07| 3.3061037|\n",
      "|   624|     12|   2.0|2002-04-23 17:39:13| 2.6224556|\n",
      "|   636|     18|   3.0|1997-02-06 16:39:24|  3.986588|\n",
      "|   616|     18|   4.0|1997-04-09 13:35:32| 2.7516918|\n",
      "|   571|     18|   5.0|2012-04-14 00:10:36| 3.7465937|\n",
      "|   135|     18|   4.0|1996-10-11 06:38:49|  3.416606|\n",
      "|   255|     18|   2.5|2009-03-14 03:12:02| 3.4502122|\n",
      "|   461|     18|   1.5|2004-08-08 15:41:27| 1.9044958|\n",
      "|   408|     18|   5.0|1999-07-28 04:26:50| 4.0670547|\n",
      "|   507|     18|   4.0|1997-04-27 03:27:19| 2.9539175|\n",
      "|   177|     18|   4.0|1998-10-03 07:46:34| 3.5733333|\n",
      "|    30|     18|   2.0|1999-12-15 22:42:51|  3.209936|\n",
      "|   655|     18|   4.0|2016-08-01 23:13:09|  3.227679|\n",
      "|   165|     70|   5.0|2005-03-22 13:58:09| 2.6038923|\n",
      "|   358|     70|   1.0|2000-05-05 19:21:53| 2.3141453|\n",
      "|    34|     70|   4.0|2000-11-09 10:33:51| 2.8991623|\n",
      "|   580|     70|   2.5|2006-12-05 09:49:33|  2.793402|\n",
      "|   647|     70|   3.0|2000-01-08 06:23:38| 2.7396846|\n",
      "+------+-------+------+-------------------+----------+\n",
      "only showing top 20 rows\n",
      "\n"
     ]
    }
   ],
   "source": [
    "df_test_pred.show()"
   ]
  },
  {
   "cell_type": "code",
   "execution_count": 73,
   "metadata": {},
   "outputs": [
    {
     "name": "stdout",
     "output_type": "stream",
     "text": [
      "+--------------------------------------------------------------------+\n",
      "|avg(POWER((CAST(prediction AS DOUBLE) - rating), CAST(2 AS DOUBLE)))|\n",
      "+--------------------------------------------------------------------+\n",
      "|                                                                 NaN|\n",
      "+--------------------------------------------------------------------+\n",
      "\n"
     ]
    }
   ],
   "source": [
    "df_test_pred.selectExpr(\"avg(pow(prediction - rating, 2))\").show()"
   ]
  },
  {
   "cell_type": "code",
   "execution_count": 74,
   "metadata": {},
   "outputs": [
    {
     "name": "stdout",
     "output_type": "stream",
     "text": [
      "+------+-------+------+-------------------+----------+\n",
      "|userId|movieId|rating|          timestamp|prediction|\n",
      "+------+-------+------+-------------------+----------+\n",
      "|   177|    600|   4.0|1998-10-03 07:47:05|       NaN|\n",
      "|   232|    961|   5.0|2000-04-07 13:20:25|       NaN|\n",
      "|   564|    980|   1.0|2000-11-22 02:09:03|       NaN|\n",
      "|   102|   1384|   4.0|2000-04-24 23:40:21|       NaN|\n",
      "|   165|   1447|   3.5|2005-03-23 07:53:25|       NaN|\n",
      "|   609|   1447|   1.0|2002-08-21 00:31:59|       NaN|\n",
      "|   285|   1447|   4.0|2000-08-06 11:47:34|       NaN|\n",
      "|   502|   1454|   3.0|1997-04-18 00:24:38|       NaN|\n",
      "|   581|   2191|   0.5|2009-12-02 09:24:33|       NaN|\n",
      "|   373|   2246|   2.0|1999-10-04 17:13:10|       NaN|\n",
      "|   547|   2260|   2.0|2001-02-05 00:41:26|       NaN|\n",
      "|   564|   2260|   2.0|2000-11-22 02:14:41|       NaN|\n",
      "|    33|   2507|   1.0|2002-09-23 13:04:23|       NaN|\n",
      "|   346|   2625|   4.0|2003-02-08 02:30:33|       NaN|\n",
      "|   195|   3122|   3.0|2000-12-25 18:54:21|       NaN|\n",
      "|   564|   3331|   4.0|2000-11-22 03:21:42|       NaN|\n",
      "|   165|   3437|   5.0|2005-03-24 02:33:44|       NaN|\n",
      "|   599|   3454|   4.0|2012-02-22 12:26:11|       NaN|\n",
      "|   529|   4194|   4.0|2013-05-30 04:36:23|       NaN|\n",
      "|   547|   4194|   3.0|2001-04-08 15:46:01|       NaN|\n",
      "+------+-------+------+-------------------+----------+\n",
      "only showing top 20 rows\n",
      "\n"
     ]
    }
   ],
   "source": [
    "df_test_pred.filter(\"isnan(prediction)\").show()"
   ]
  },
  {
   "cell_type": "code",
   "execution_count": 75,
   "metadata": {},
   "outputs": [
    {
     "name": "stdout",
     "output_type": "stream",
     "text": [
      "+------+-------+------+-------------------+\n",
      "|userId|movieId|rating|          timestamp|\n",
      "+------+-------+------+-------------------+\n",
      "|   177|      1|   5.0|1998-10-04 21:11:19|\n",
      "|   177|     22|   4.0|1998-10-03 07:43:01|\n",
      "|   177|     23|   3.0|1998-10-03 07:43:01|\n",
      "|   177|     32|   4.0|1998-10-03 07:30:00|\n",
      "|   177|     70|   4.0|1998-10-03 07:42:25|\n",
      "|   177|     89|   4.0|1998-10-03 07:46:34|\n",
      "|   177|    107|   3.0|1998-10-03 07:46:04|\n",
      "|   177|    111|   4.0|1998-10-03 07:41:50|\n",
      "|   177|    160|   2.0|1998-10-03 07:36:09|\n",
      "|   177|    161|   4.0|1998-10-03 07:43:01|\n",
      "|   177|    163|   4.0|1998-10-03 07:46:04|\n",
      "|   177|    164|   4.0|1998-10-03 07:46:04|\n",
      "|   177|    165|   5.0|1998-10-03 07:45:18|\n",
      "|   177|    170|   4.0|1998-10-03 07:47:05|\n",
      "|   177|    172|   4.0|1998-10-03 07:35:21|\n",
      "|   177|    173|   3.0|1998-10-03 07:30:56|\n",
      "|   177|    185|   4.0|1998-10-03 07:32:18|\n",
      "|   177|    196|   3.0|1998-10-03 07:30:56|\n",
      "|   177|    200|   4.0|1998-10-03 07:51:46|\n",
      "|   177|    223|   5.0|1998-10-04 21:20:15|\n",
      "+------+-------+------+-------------------+\n",
      "only showing top 20 rows\n",
      "\n"
     ]
    }
   ],
   "source": [
    "df_train.filter(\"userId = 177\").show()"
   ]
  },
  {
   "cell_type": "code",
   "execution_count": 76,
   "metadata": {},
   "outputs": [
    {
     "name": "stdout",
     "output_type": "stream",
     "text": [
      "+------+-------+------+---------+\n",
      "|userId|movieId|rating|timestamp|\n",
      "+------+-------+------+---------+\n",
      "+------+-------+------+---------+\n",
      "\n"
     ]
    }
   ],
   "source": [
    "df_train.filter(\"movieId = 600\").show()"
   ]
  },
  {
   "cell_type": "code",
   "execution_count": 77,
   "metadata": {},
   "outputs": [
    {
     "name": "stdout",
     "output_type": "stream",
     "text": [
      "+--------------------------------------------------------------------+\n",
      "|avg(POWER((CAST(prediction AS DOUBLE) - rating), CAST(2 AS DOUBLE)))|\n",
      "+--------------------------------------------------------------------+\n",
      "|                                                  0.8702474021627472|\n",
      "+--------------------------------------------------------------------+\n",
      "\n"
     ]
    }
   ],
   "source": [
    "df_test_pred.filter(\"not isnan(prediction)\")\\\n",
    ".selectExpr(\"avg(pow(prediction - rating, 2))\").show()"
   ]
  },
  {
   "cell_type": "code",
   "execution_count": 79,
   "metadata": {},
   "outputs": [
    {
     "name": "stdout",
     "output_type": "stream",
     "text": [
      "+--------------------------------------------------------------------+\n",
      "|avg(POWER((CAST(prediction AS DOUBLE) - rating), CAST(2 AS DOUBLE)))|\n",
      "+--------------------------------------------------------------------+\n",
      "|                                                  0.8673324594599199|\n",
      "+--------------------------------------------------------------------+\n",
      "\n"
     ]
    }
   ],
   "source": [
    "als = ALS(rank = 20, maxIter=10, userCol=\"userId\", seed = 1\n",
    "        , itemCol=\"movieId\", ratingCol=\"rating\" )\n",
    "als_model = als.fit(df_train)\n",
    "df_test_pred = als_model.transform(df_test)\n",
    "df_test_pred.filter(\"not isnan(prediction)\")\\\n",
    ".selectExpr(\"avg(pow(prediction - rating, 2))\").show()"
   ]
  },
  {
   "cell_type": "code",
   "execution_count": 82,
   "metadata": {},
   "outputs": [
    {
     "name": "stdout",
     "output_type": "stream",
     "text": [
      "+-----------------+\n",
      "|             rmse|\n",
      "+-----------------+\n",
      "|0.924946783799751|\n",
      "+-----------------+\n",
      "\n"
     ]
    }
   ],
   "source": [
    "als = ALS(rank = 50, maxIter=20, userCol=\"userId\", seed = 1\n",
    "        , itemCol=\"movieId\", ratingCol=\"rating\" )\n",
    "als_model = als.fit(df_train)\n",
    "df_test_pred = als_model.transform(df_test)\n",
    "df_test_pred.filter(\"not isnan(prediction)\")\\\n",
    ".selectExpr(\"sqrt(avg(pow(prediction - rating, 2))) rmse\").show()"
   ]
  },
  {
   "cell_type": "code",
   "execution_count": 85,
   "metadata": {},
   "outputs": [],
   "source": [
    "reco_10 = als_model\\\n",
    ".recommendForUserSubset(df_test.filter(\"userId = 100\"), 10)"
   ]
  },
  {
   "cell_type": "code",
   "execution_count": 84,
   "metadata": {},
   "outputs": [
    {
     "name": "stdout",
     "output_type": "stream",
     "text": [
      "+------+-------+------+-------------------+\n",
      "|userId|movieId|rating|          timestamp|\n",
      "+------+-------+------+-------------------+\n",
      "|   100|     52|   3.0|1997-01-25 17:37:36|\n",
      "|   100|     88|   2.0|1997-01-25 17:40:08|\n",
      "|   100|     95|   3.0|1997-01-25 17:36:17|\n",
      "|   100|    608|   4.0|1997-01-25 17:37:04|\n",
      "|   100|    648|   3.0|1997-01-25 17:36:17|\n",
      "|   100|    736|   3.0|1997-01-25 17:36:17|\n",
      "+------+-------+------+-------------------+\n",
      "\n"
     ]
    }
   ],
   "source": [
    "df_test.filter(\"userId = 100\").show()"
   ]
  },
  {
   "cell_type": "code",
   "execution_count": 94,
   "metadata": {},
   "outputs": [
    {
     "data": {
      "text/html": [
       "<div>\n",
       "<style scoped>\n",
       "    .dataframe tbody tr th:only-of-type {\n",
       "        vertical-align: middle;\n",
       "    }\n",
       "\n",
       "    .dataframe tbody tr th {\n",
       "        vertical-align: top;\n",
       "    }\n",
       "\n",
       "    .dataframe thead th {\n",
       "        text-align: right;\n",
       "    }\n",
       "</style>\n",
       "<table border=\"1\" class=\"dataframe\">\n",
       "  <thead>\n",
       "    <tr style=\"text-align: right;\">\n",
       "      <th></th>\n",
       "      <th>rating_reco</th>\n",
       "      <th>title</th>\n",
       "    </tr>\n",
       "  </thead>\n",
       "  <tbody>\n",
       "    <tr>\n",
       "      <th>0</th>\n",
       "      <td>4.604413</td>\n",
       "      <td>Goat, The (1921)</td>\n",
       "    </tr>\n",
       "    <tr>\n",
       "      <th>1</th>\n",
       "      <td>4.604413</td>\n",
       "      <td>Land of Silence and Darkness (Land des Schweig...</td>\n",
       "    </tr>\n",
       "    <tr>\n",
       "      <th>2</th>\n",
       "      <td>4.604413</td>\n",
       "      <td>Cops (1922)</td>\n",
       "    </tr>\n",
       "    <tr>\n",
       "      <th>3</th>\n",
       "      <td>4.604413</td>\n",
       "      <td>Play House, The (1921)</td>\n",
       "    </tr>\n",
       "    <tr>\n",
       "      <th>4</th>\n",
       "      <td>4.432186</td>\n",
       "      <td>Dog Day Afternoon (1975)</td>\n",
       "    </tr>\n",
       "    <tr>\n",
       "      <th>5</th>\n",
       "      <td>4.371039</td>\n",
       "      <td>The Jinx: The Life and Deaths of Robert Durst ...</td>\n",
       "    </tr>\n",
       "    <tr>\n",
       "      <th>6</th>\n",
       "      <td>4.334894</td>\n",
       "      <td>Tom Jones (1963)</td>\n",
       "    </tr>\n",
       "    <tr>\n",
       "      <th>7</th>\n",
       "      <td>4.325214</td>\n",
       "      <td>Prophet, A (Un Prophète) (2009)</td>\n",
       "    </tr>\n",
       "    <tr>\n",
       "      <th>8</th>\n",
       "      <td>4.314913</td>\n",
       "      <td>Hotel Rwanda (2004)</td>\n",
       "    </tr>\n",
       "    <tr>\n",
       "      <th>9</th>\n",
       "      <td>4.290957</td>\n",
       "      <td>Producers, The (1968)</td>\n",
       "    </tr>\n",
       "  </tbody>\n",
       "</table>\n",
       "</div>"
      ],
      "text/plain": [
       "   rating_reco                                              title\n",
       "0     4.604413                                   Goat, The (1921)\n",
       "1     4.604413  Land of Silence and Darkness (Land des Schweig...\n",
       "2     4.604413                                        Cops (1922)\n",
       "3     4.604413                             Play House, The (1921)\n",
       "4     4.432186                           Dog Day Afternoon (1975)\n",
       "5     4.371039  The Jinx: The Life and Deaths of Robert Durst ...\n",
       "6     4.334894                                   Tom Jones (1963)\n",
       "7     4.325214                    Prophet, A (Un Prophète) (2009)\n",
       "8     4.314913                                Hotel Rwanda (2004)\n",
       "9     4.290957                              Producers, The (1968)"
      ]
     },
     "execution_count": 94,
     "metadata": {},
     "output_type": "execute_result"
    }
   ],
   "source": [
    "(reco_10\n",
    ".withColumn(\"recommendation\", F.explode(\"recommendations\"))\n",
    " .withColumn(\"movieId\", F.expr(\"recommendation.movieId\"))\n",
    " .withColumn(\"rating_reco\", F.expr(\"recommendation.rating\"))\n",
    " .join(movies, on = \"movieId\")\n",
    " .select(\"rating_reco\", \"title\")\n",
    ").toPandas()"
   ]
  },
  {
   "cell_type": "code",
   "execution_count": null,
   "metadata": {},
   "outputs": [],
   "source": []
  }
 ],
 "metadata": {
  "kernelspec": {
   "display_name": "Python 3",
   "language": "python",
   "name": "python3"
  },
  "language_info": {
   "codemirror_mode": {
    "name": "ipython",
    "version": 3
   },
   "file_extension": ".py",
   "mimetype": "text/x-python",
   "name": "python",
   "nbconvert_exporter": "python",
   "pygments_lexer": "ipython3",
   "version": "3.6.6"
  }
 },
 "nbformat": 4,
 "nbformat_minor": 2
}
