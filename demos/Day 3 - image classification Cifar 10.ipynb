{
 "cells": [
  {
   "cell_type": "code",
   "execution_count": 1,
   "metadata": {},
   "outputs": [],
   "source": [
    "import pandas as pd"
   ]
  },
  {
   "cell_type": "code",
   "execution_count": 2,
   "metadata": {},
   "outputs": [],
   "source": [
    "class CifarLoader(object):\n",
    "    \"\"\"\n",
    "    Loads CIFAR10 dataset\n",
    "    \n",
    "    \"\"\"\n",
    "   \n",
    "    def load_data(self, files):\n",
    "        import pickle\n",
    "        import numpy as np\n",
    "        X = np.empty([0, 3072])\n",
    "        y = np.empty([0])\n",
    "        for path in files:\n",
    "            print(path)\n",
    "            with open(path, \"rb\") as f:\n",
    "                d = pickle.load(f, encoding='bytes')\n",
    "                X = np.vstack([X, d[b\"data\"]]).astype(\"uint8\")\n",
    "                y = np.hstack([y, d[b\"labels\"]]).astype(\"uint8\")\n",
    "        return X, y\n",
    "        \n",
    "    def __init__(self, data_path):\n",
    "        import os, pickle\n",
    "        \n",
    "        training_files = [os.path.join(data_path, \"data_batch_{0}\".format(i))  for i in range(1, 6)]\n",
    "        test_files = [os.path.join(data_path, \"test_batch\")]\n",
    "        labels_file = os.path.join(data_path, \"batches.meta\")\n",
    "\n",
    "        X_train, y_train = self.load_data(training_files)\n",
    "        X_test, y_test = self.load_data(test_files)\n",
    "        \n",
    "        self.X_train = X_train.reshape([-1, 3, 32, 32]).transpose([0, 2, 3, 1])/255\n",
    "        self.X_test = X_test.reshape([-1, 3, 32, 32]).transpose([0, 2, 3, 1])/255\n",
    "        self.y_train = y_train\n",
    "        self.y_test = y_test\n",
    "        \n",
    "        with open(labels_file, \"rb\") as f:\n",
    "            labels = pickle.load(f, encoding=\"bytes\")\n",
    "        labels = [s.decode(\"utf-8\")  for s in labels[b'label_names']]\n",
    "        \n",
    "        self.labels = labels\n",
    "    \n",
    "    def __repr__(self):\n",
    "        row_format =\"{:<15}\" * 2\n",
    "        lines = [\n",
    "            row_format.format(\"X_train\", str(self.X_train.shape)),\n",
    "            row_format.format(\"X_test\", str(self.X_test.shape)),\n",
    "            row_format.format(\"y_train\", str(self.y_train.shape)),\n",
    "            row_format.format(\"y_test\", str(self.y_test.shape)),\n",
    "            row_format.format(\"labels\", str(self.labels))\n",
    "        ]\n",
    "        return \"\\n\".join(lines)"
   ]
  },
  {
   "cell_type": "code",
   "execution_count": 3,
   "metadata": {},
   "outputs": [
    {
     "name": "stdout",
     "output_type": "stream",
     "text": [
      "/data/cifar-10-batches-py/data_batch_1\n",
      "/data/cifar-10-batches-py/data_batch_2\n",
      "/data/cifar-10-batches-py/data_batch_3\n",
      "/data/cifar-10-batches-py/data_batch_4\n",
      "/data/cifar-10-batches-py/data_batch_5\n",
      "/data/cifar-10-batches-py/test_batch\n"
     ]
    }
   ],
   "source": [
    "cifar = CifarLoader(\"/data/cifar-10-batches-py/\")"
   ]
  },
  {
   "cell_type": "code",
   "execution_count": null,
   "metadata": {},
   "outputs": [],
   "source": [
    "cifar"
   ]
  }
 ],
 "metadata": {
  "kernelspec": {
   "display_name": "Python 3",
   "language": "python",
   "name": "python3"
  },
  "language_info": {
   "codemirror_mode": {
    "name": "ipython",
    "version": 3
   },
   "file_extension": ".py",
   "mimetype": "text/x-python",
   "name": "python",
   "nbconvert_exporter": "python",
   "pygments_lexer": "ipython3",
   "version": "3.6.6"
  }
 },
 "nbformat": 4,
 "nbformat_minor": 2
}
