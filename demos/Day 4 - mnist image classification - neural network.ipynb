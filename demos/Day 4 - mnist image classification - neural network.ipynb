{
 "cells": [
  {
   "cell_type": "code",
   "execution_count": 1,
   "metadata": {},
   "outputs": [
    {
     "name": "stderr",
     "output_type": "stream",
     "text": [
      "/Users/abulbasar/anaconda3/lib/python3.6/site-packages/h5py/__init__.py:36: FutureWarning: Conversion of the second argument of issubdtype from `float` to `np.floating` is deprecated. In future, it will be treated as `np.float64 == np.dtype(float).type`.\n",
      "  from ._conv import register_converters as _register_converters\n"
     ]
    }
   ],
   "source": [
    "import pandas as pd\n",
    "import numpy as np\n",
    "import matplotlib.pyplot as plt\n",
    "\n",
    "import tensorflow as tf\n",
    "\n",
    "%matplotlib inline"
   ]
  },
  {
   "cell_type": "code",
   "execution_count": 2,
   "metadata": {},
   "outputs": [],
   "source": [
    "df_train = pd.read_csv(\"/data/MNIST/mnist_train.csv\", header=None)\n",
    "df_test = pd.read_csv(\"/data/MNIST/mnist_test.csv\", header=None)"
   ]
  },
  {
   "cell_type": "code",
   "execution_count": 3,
   "metadata": {},
   "outputs": [
    {
     "data": {
      "text/plain": [
       "((60000, 785), (10000, 785))"
      ]
     },
     "execution_count": 3,
     "metadata": {},
     "output_type": "execute_result"
    }
   ],
   "source": [
    "df_train.shape, df_test.shape"
   ]
  },
  {
   "cell_type": "code",
   "execution_count": 4,
   "metadata": {},
   "outputs": [
    {
     "data": {
      "text/plain": [
       "784"
      ]
     },
     "execution_count": 4,
     "metadata": {},
     "output_type": "execute_result"
    }
   ],
   "source": [
    "28 * 28"
   ]
  },
  {
   "cell_type": "code",
   "execution_count": 5,
   "metadata": {},
   "outputs": [
    {
     "data": {
      "text/plain": [
       "(numpy.ndarray, (60000, 785))"
      ]
     },
     "execution_count": 5,
     "metadata": {},
     "output_type": "execute_result"
    }
   ],
   "source": [
    "type(df_train.values), df_train.values.shape"
   ]
  },
  {
   "cell_type": "code",
   "execution_count": 7,
   "metadata": {},
   "outputs": [],
   "source": [
    "X_train = df_train.values[:, 1:] / 255 # min_max scaler\n",
    "y_train = df_train.values[:, 0]\n",
    "\n",
    "X_test = df_test.values[:, 1:] /255\n",
    "y_test = df_test.values[:, 0]"
   ]
  },
  {
   "cell_type": "code",
   "execution_count": 18,
   "metadata": {},
   "outputs": [
    {
     "data": {
      "text/plain": [
       "7.0"
      ]
     },
     "execution_count": 18,
     "metadata": {},
     "output_type": "execute_result"
    }
   ],
   "source": [
    "x1 = tf.constant(3.0)\n",
    "x2 = tf.constant(4.0)\n",
    "y = x1 + x2\n",
    "x1, x2, y\n",
    "\n",
    "with tf.Session() as sess:\n",
    "    y_ = sess.run(y)\n",
    "y_"
   ]
  },
  {
   "cell_type": "code",
   "execution_count": 22,
   "metadata": {
    "scrolled": false
   },
   "outputs": [
    {
     "name": "stdout",
     "output_type": "stream",
     "text": [
      "x1 Tensor(\"Placeholder_6:0\", shape=(), dtype=float32)\n",
      "x2 Tensor(\"Placeholder_7:0\", shape=(), dtype=float32)\n"
     ]
    },
    {
     "data": {
      "text/plain": [
       "13.5"
      ]
     },
     "execution_count": 22,
     "metadata": {},
     "output_type": "execute_result"
    }
   ],
   "source": [
    "x1 = tf.placeholder(dtype=tf.float32, shape=())\n",
    "x2 = tf.placeholder(dtype=tf.float32, shape=())\n",
    "y = x1 + x2\n",
    "x1, x2, y\n",
    "\n",
    "print(\"x1\", x1)\n",
    "print(\"x2\", x2)\n",
    "\n",
    "\n",
    "with tf.Session() as sess:\n",
    "    y_ = sess.run(y, feed_dict={x1: 4.5, x2: 9.0})\n",
    "y_"
   ]
  },
  {
   "cell_type": "code",
   "execution_count": 50,
   "metadata": {},
   "outputs": [
    {
     "name": "stdout",
     "output_type": "stream",
     "text": [
      "x1 Tensor(\"Placeholder_36:0\", shape=(3, 5), dtype=float32)\n",
      "x2 Tensor(\"Placeholder_37:0\", shape=(1, 3), dtype=float32)\n"
     ]
    },
    {
     "data": {
      "text/plain": [
       "array([[1.2017155, 8.085756 , 8.611088 , 1.8214232, 2.8426394]],\n",
       "      dtype=float32)"
      ]
     },
     "execution_count": 50,
     "metadata": {},
     "output_type": "execute_result"
    }
   ],
   "source": [
    "x1 = tf.placeholder(dtype=tf.float32, shape=(3, 5))\n",
    "x2 = tf.placeholder(dtype=tf.float32, shape=(1, 3))\n",
    "y = tf.matmul(x2, x1)\n",
    "x1, x2, y\n",
    "\n",
    "print(\"x1\", x1)\n",
    "print(\"x2\", x2)\n",
    "\n",
    "with tf.Session() as sess:\n",
    "    #a = np.array([4.0, 5.0, 9.0])\n",
    "    b = np.array([[9.0, 1.0, 0.0]])\n",
    "    values = {x1: a, x2: b}\n",
    "    y_ = sess.run(y, feed_dict=values)\n",
    "y_\n",
    "\n"
   ]
  },
  {
   "cell_type": "code",
   "execution_count": 48,
   "metadata": {},
   "outputs": [
    {
     "data": {
      "text/plain": [
       "(array([[0.13250416, 0.8097111 , 0.94832341, 0.18094663, 0.27355216],\n",
       "        [0.00917814, 0.79835685, 0.07617629, 0.19290364, 0.38067005],\n",
       "        [0.01696401, 0.04651614, 0.6001835 , 0.64205049, 0.10578734]]),\n",
       " array([[9., 1., 0.]]))"
      ]
     },
     "execution_count": 48,
     "metadata": {},
     "output_type": "execute_result"
    }
   ],
   "source": [
    "a = np.random.random((3, 5))\n",
    "a, b"
   ]
  },
  {
   "cell_type": "code",
   "execution_count": 49,
   "metadata": {},
   "outputs": [
    {
     "data": {
      "text/plain": [
       "array([[1.20171556, 8.08575673, 8.61108702, 1.82142327, 2.84263946]])"
      ]
     },
     "execution_count": 49,
     "metadata": {},
     "output_type": "execute_result"
    }
   ],
   "source": [
    "b.dot(a)"
   ]
  },
  {
   "cell_type": "markdown",
   "metadata": {},
   "source": [
    "\n",
    "Adavantages \n",
    " - parallel \n",
    " - runs on GPU for faster computation\n",
    " - has GAD optmizer for efficiently calculate the neural networks \n",
    " - has its own optimizers ..my focus will be on the architecture .. help find optimized solutuon (back propagation)\n",
    " - Portable ... build in python and deploy on java eco system\n"
   ]
  },
  {
   "cell_type": "code",
   "execution_count": 91,
   "metadata": {
    "scrolled": false
   },
   "outputs": [
    {
     "name": "stdout",
     "output_type": "stream",
     "text": [
      "X Tensor(\"Placeholder_78:0\", shape=(?, 784), dtype=float32)\n",
      "y Tensor(\"Placeholder_79:0\", shape=(?,), dtype=int32)\n",
      "y_oh Tensor(\"one_hot_7:0\", shape=(?, 10), dtype=float32)\n",
      "W <tf.Variable 'Variable_35:0' shape=(784, 10) dtype=float32_ref> b <tf.Variable 'Variable_36:0' shape=(10,) dtype=float32_ref>\n",
      "Z Tensor(\"add_28:0\", shape=(?, 10), dtype=float32)\n",
      "y_pred Tensor(\"ArgMax_14:0\", shape=(?,), dtype=int32)\n",
      "match Tensor(\"Equal_13:0\", shape=(?,), dtype=bool)\n",
      "accuracy Tensor(\"Mean_16:0\", shape=(), dtype=float32)\n",
      "Cross entropy loss Tensor(\"softmax_cross_entropy_with_logits_7/Reshape_2:0\", shape=(?,), dtype=float32)\n",
      "Cost (J):  Tensor(\"Mean_17:0\", shape=(), dtype=float32)\n",
      "0 accuracy_ 0.123066664\n",
      "1 accuracy_ 0.13385\n",
      "2 accuracy_ 0.14776666\n",
      "3 accuracy_ 0.16578333\n",
      "4 accuracy_ 0.18658334\n",
      "5 accuracy_ 0.2091\n",
      "6 accuracy_ 0.23156667\n",
      "7 accuracy_ 0.25586668\n",
      "8 accuracy_ 0.27838334\n",
      "9 accuracy_ 0.3025\n",
      "10 accuracy_ 0.3244\n",
      "11 accuracy_ 0.34581667\n",
      "12 accuracy_ 0.36738333\n",
      "13 accuracy_ 0.3882\n"
     ]
    },
    {
     "ename": "KeyboardInterrupt",
     "evalue": "",
     "output_type": "error",
     "traceback": [
      "\u001b[0;31m---------------------------------------------------------------------------\u001b[0m",
      "\u001b[0;31mKeyboardInterrupt\u001b[0m                         Traceback (most recent call last)",
      "\u001b[0;32m<ipython-input-91-439d046ab9ee>\u001b[0m in \u001b[0;36m<module>\u001b[0;34m()\u001b[0m\n\u001b[1;32m     40\u001b[0m     \u001b[0mscores\u001b[0m \u001b[0;34m=\u001b[0m \u001b[0;34m[\u001b[0m\u001b[0;34m]\u001b[0m\u001b[0;34m\u001b[0m\u001b[0m\n\u001b[1;32m     41\u001b[0m     \u001b[0;32mfor\u001b[0m \u001b[0mi\u001b[0m \u001b[0;32min\u001b[0m \u001b[0mrange\u001b[0m\u001b[0;34m(\u001b[0m\u001b[0;36m100\u001b[0m\u001b[0;34m)\u001b[0m\u001b[0;34m:\u001b[0m \u001b[0;31m# Each iteration uses the whole training set\u001b[0m\u001b[0;34m\u001b[0m\u001b[0m\n\u001b[0;32m---> 42\u001b[0;31m         \u001b[0maccuracy_\u001b[0m\u001b[0;34m,\u001b[0m \u001b[0mcost_\u001b[0m\u001b[0;34m,\u001b[0m \u001b[0m_\u001b[0m \u001b[0;34m=\u001b[0m \u001b[0msess\u001b[0m\u001b[0;34m.\u001b[0m\u001b[0mrun\u001b[0m\u001b[0;34m(\u001b[0m\u001b[0;34m[\u001b[0m\u001b[0maccuracy\u001b[0m\u001b[0;34m,\u001b[0m \u001b[0mcost\u001b[0m\u001b[0;34m,\u001b[0m \u001b[0moptimizer\u001b[0m\u001b[0;34m]\u001b[0m\u001b[0;34m,\u001b[0m \u001b[0mfeed_dict\u001b[0m\u001b[0;34m=\u001b[0m\u001b[0mvalues\u001b[0m\u001b[0;34m)\u001b[0m\u001b[0;34m\u001b[0m\u001b[0m\n\u001b[0m\u001b[1;32m     43\u001b[0m         \u001b[0mprint\u001b[0m\u001b[0;34m(\u001b[0m\u001b[0mi\u001b[0m\u001b[0;34m,\u001b[0m \u001b[0;34m\"accuracy_\"\u001b[0m\u001b[0;34m,\u001b[0m \u001b[0maccuracy_\u001b[0m\u001b[0;34m)\u001b[0m\u001b[0;34m\u001b[0m\u001b[0m\n\u001b[1;32m     44\u001b[0m         \u001b[0mscores\u001b[0m\u001b[0;34m.\u001b[0m\u001b[0mappend\u001b[0m\u001b[0;34m(\u001b[0m\u001b[0;34m{\u001b[0m\u001b[0;34m\"cost\"\u001b[0m\u001b[0;34m:\u001b[0m \u001b[0mcost_\u001b[0m\u001b[0;34m,\u001b[0m \u001b[0;34m\"accuracy\"\u001b[0m\u001b[0;34m:\u001b[0m \u001b[0maccuracy_\u001b[0m\u001b[0;34m}\u001b[0m\u001b[0;34m)\u001b[0m\u001b[0;34m\u001b[0m\u001b[0m\n",
      "\u001b[0;32m~/anaconda3/lib/python3.6/site-packages/tensorflow/python/client/session.py\u001b[0m in \u001b[0;36mrun\u001b[0;34m(self, fetches, feed_dict, options, run_metadata)\u001b[0m\n\u001b[1;32m    898\u001b[0m     \u001b[0;32mtry\u001b[0m\u001b[0;34m:\u001b[0m\u001b[0;34m\u001b[0m\u001b[0m\n\u001b[1;32m    899\u001b[0m       result = self._run(None, fetches, feed_dict, options_ptr,\n\u001b[0;32m--> 900\u001b[0;31m                          run_metadata_ptr)\n\u001b[0m\u001b[1;32m    901\u001b[0m       \u001b[0;32mif\u001b[0m \u001b[0mrun_metadata\u001b[0m\u001b[0;34m:\u001b[0m\u001b[0;34m\u001b[0m\u001b[0m\n\u001b[1;32m    902\u001b[0m         \u001b[0mproto_data\u001b[0m \u001b[0;34m=\u001b[0m \u001b[0mtf_session\u001b[0m\u001b[0;34m.\u001b[0m\u001b[0mTF_GetBuffer\u001b[0m\u001b[0;34m(\u001b[0m\u001b[0mrun_metadata_ptr\u001b[0m\u001b[0;34m)\u001b[0m\u001b[0;34m\u001b[0m\u001b[0m\n",
      "\u001b[0;32m~/anaconda3/lib/python3.6/site-packages/tensorflow/python/client/session.py\u001b[0m in \u001b[0;36m_run\u001b[0;34m(self, handle, fetches, feed_dict, options, run_metadata)\u001b[0m\n\u001b[1;32m   1133\u001b[0m     \u001b[0;32mif\u001b[0m \u001b[0mfinal_fetches\u001b[0m \u001b[0;32mor\u001b[0m \u001b[0mfinal_targets\u001b[0m \u001b[0;32mor\u001b[0m \u001b[0;34m(\u001b[0m\u001b[0mhandle\u001b[0m \u001b[0;32mand\u001b[0m \u001b[0mfeed_dict_tensor\u001b[0m\u001b[0;34m)\u001b[0m\u001b[0;34m:\u001b[0m\u001b[0;34m\u001b[0m\u001b[0m\n\u001b[1;32m   1134\u001b[0m       results = self._do_run(handle, final_targets, final_fetches,\n\u001b[0;32m-> 1135\u001b[0;31m                              feed_dict_tensor, options, run_metadata)\n\u001b[0m\u001b[1;32m   1136\u001b[0m     \u001b[0;32melse\u001b[0m\u001b[0;34m:\u001b[0m\u001b[0;34m\u001b[0m\u001b[0m\n\u001b[1;32m   1137\u001b[0m       \u001b[0mresults\u001b[0m \u001b[0;34m=\u001b[0m \u001b[0;34m[\u001b[0m\u001b[0;34m]\u001b[0m\u001b[0;34m\u001b[0m\u001b[0m\n",
      "\u001b[0;32m~/anaconda3/lib/python3.6/site-packages/tensorflow/python/client/session.py\u001b[0m in \u001b[0;36m_do_run\u001b[0;34m(self, handle, target_list, fetch_list, feed_dict, options, run_metadata)\u001b[0m\n\u001b[1;32m   1314\u001b[0m     \u001b[0;32mif\u001b[0m \u001b[0mhandle\u001b[0m \u001b[0;32mis\u001b[0m \u001b[0;32mNone\u001b[0m\u001b[0;34m:\u001b[0m\u001b[0;34m\u001b[0m\u001b[0m\n\u001b[1;32m   1315\u001b[0m       return self._do_call(_run_fn, feeds, fetches, targets, options,\n\u001b[0;32m-> 1316\u001b[0;31m                            run_metadata)\n\u001b[0m\u001b[1;32m   1317\u001b[0m     \u001b[0;32melse\u001b[0m\u001b[0;34m:\u001b[0m\u001b[0;34m\u001b[0m\u001b[0m\n\u001b[1;32m   1318\u001b[0m       \u001b[0;32mreturn\u001b[0m \u001b[0mself\u001b[0m\u001b[0;34m.\u001b[0m\u001b[0m_do_call\u001b[0m\u001b[0;34m(\u001b[0m\u001b[0m_prun_fn\u001b[0m\u001b[0;34m,\u001b[0m \u001b[0mhandle\u001b[0m\u001b[0;34m,\u001b[0m \u001b[0mfeeds\u001b[0m\u001b[0;34m,\u001b[0m \u001b[0mfetches\u001b[0m\u001b[0;34m)\u001b[0m\u001b[0;34m\u001b[0m\u001b[0m\n",
      "\u001b[0;32m~/anaconda3/lib/python3.6/site-packages/tensorflow/python/client/session.py\u001b[0m in \u001b[0;36m_do_call\u001b[0;34m(self, fn, *args)\u001b[0m\n\u001b[1;32m   1320\u001b[0m   \u001b[0;32mdef\u001b[0m \u001b[0m_do_call\u001b[0m\u001b[0;34m(\u001b[0m\u001b[0mself\u001b[0m\u001b[0;34m,\u001b[0m \u001b[0mfn\u001b[0m\u001b[0;34m,\u001b[0m \u001b[0;34m*\u001b[0m\u001b[0margs\u001b[0m\u001b[0;34m)\u001b[0m\u001b[0;34m:\u001b[0m\u001b[0;34m\u001b[0m\u001b[0m\n\u001b[1;32m   1321\u001b[0m     \u001b[0;32mtry\u001b[0m\u001b[0;34m:\u001b[0m\u001b[0;34m\u001b[0m\u001b[0m\n\u001b[0;32m-> 1322\u001b[0;31m       \u001b[0;32mreturn\u001b[0m \u001b[0mfn\u001b[0m\u001b[0;34m(\u001b[0m\u001b[0;34m*\u001b[0m\u001b[0margs\u001b[0m\u001b[0;34m)\u001b[0m\u001b[0;34m\u001b[0m\u001b[0m\n\u001b[0m\u001b[1;32m   1323\u001b[0m     \u001b[0;32mexcept\u001b[0m \u001b[0merrors\u001b[0m\u001b[0;34m.\u001b[0m\u001b[0mOpError\u001b[0m \u001b[0;32mas\u001b[0m \u001b[0me\u001b[0m\u001b[0;34m:\u001b[0m\u001b[0;34m\u001b[0m\u001b[0m\n\u001b[1;32m   1324\u001b[0m       \u001b[0mmessage\u001b[0m \u001b[0;34m=\u001b[0m \u001b[0mcompat\u001b[0m\u001b[0;34m.\u001b[0m\u001b[0mas_text\u001b[0m\u001b[0;34m(\u001b[0m\u001b[0me\u001b[0m\u001b[0;34m.\u001b[0m\u001b[0mmessage\u001b[0m\u001b[0;34m)\u001b[0m\u001b[0;34m\u001b[0m\u001b[0m\n",
      "\u001b[0;32m~/anaconda3/lib/python3.6/site-packages/tensorflow/python/client/session.py\u001b[0m in \u001b[0;36m_run_fn\u001b[0;34m(feed_dict, fetch_list, target_list, options, run_metadata)\u001b[0m\n\u001b[1;32m   1305\u001b[0m       \u001b[0mself\u001b[0m\u001b[0;34m.\u001b[0m\u001b[0m_extend_graph\u001b[0m\u001b[0;34m(\u001b[0m\u001b[0;34m)\u001b[0m\u001b[0;34m\u001b[0m\u001b[0m\n\u001b[1;32m   1306\u001b[0m       return self._call_tf_sessionrun(\n\u001b[0;32m-> 1307\u001b[0;31m           options, feed_dict, fetch_list, target_list, run_metadata)\n\u001b[0m\u001b[1;32m   1308\u001b[0m \u001b[0;34m\u001b[0m\u001b[0m\n\u001b[1;32m   1309\u001b[0m     \u001b[0;32mdef\u001b[0m \u001b[0m_prun_fn\u001b[0m\u001b[0;34m(\u001b[0m\u001b[0mhandle\u001b[0m\u001b[0;34m,\u001b[0m \u001b[0mfeed_dict\u001b[0m\u001b[0;34m,\u001b[0m \u001b[0mfetch_list\u001b[0m\u001b[0;34m)\u001b[0m\u001b[0;34m:\u001b[0m\u001b[0;34m\u001b[0m\u001b[0m\n",
      "\u001b[0;32m~/anaconda3/lib/python3.6/site-packages/tensorflow/python/client/session.py\u001b[0m in \u001b[0;36m_call_tf_sessionrun\u001b[0;34m(self, options, feed_dict, fetch_list, target_list, run_metadata)\u001b[0m\n\u001b[1;32m   1407\u001b[0m       return tf_session.TF_SessionRun_wrapper(\n\u001b[1;32m   1408\u001b[0m           \u001b[0mself\u001b[0m\u001b[0;34m.\u001b[0m\u001b[0m_session\u001b[0m\u001b[0;34m,\u001b[0m \u001b[0moptions\u001b[0m\u001b[0;34m,\u001b[0m \u001b[0mfeed_dict\u001b[0m\u001b[0;34m,\u001b[0m \u001b[0mfetch_list\u001b[0m\u001b[0;34m,\u001b[0m \u001b[0mtarget_list\u001b[0m\u001b[0;34m,\u001b[0m\u001b[0;34m\u001b[0m\u001b[0m\n\u001b[0;32m-> 1409\u001b[0;31m           run_metadata)\n\u001b[0m\u001b[1;32m   1410\u001b[0m     \u001b[0;32melse\u001b[0m\u001b[0;34m:\u001b[0m\u001b[0;34m\u001b[0m\u001b[0m\n\u001b[1;32m   1411\u001b[0m       \u001b[0;32mwith\u001b[0m \u001b[0merrors\u001b[0m\u001b[0;34m.\u001b[0m\u001b[0mraise_exception_on_not_ok_status\u001b[0m\u001b[0;34m(\u001b[0m\u001b[0;34m)\u001b[0m \u001b[0;32mas\u001b[0m \u001b[0mstatus\u001b[0m\u001b[0;34m:\u001b[0m\u001b[0;34m\u001b[0m\u001b[0m\n",
      "\u001b[0;31mKeyboardInterrupt\u001b[0m: "
     ]
    }
   ],
   "source": [
    "X = tf.placeholder(\"float32\", (None, 784))\n",
    "y = tf.placeholder(\"int32\", (None,))\n",
    "print(\"X\", X)\n",
    "print(\"y\", y)\n",
    "\n",
    "\n",
    "y_oh = tf.one_hot(y, depth= 10)\n",
    "print(\"y_oh\", y_oh)\n",
    "\n",
    "W = tf.Variable(tf.truncated_normal(shape = (784, 10), stddev=0.1, seed = 1))\n",
    "b = tf.Variable(tf.zeros(shape=(10, )))\n",
    "print(\"W\", W, \"b\", b)\n",
    "\n",
    "Z = tf.matmul(X, W) + b # Z: net input function, logits\n",
    "print(\"Z\", Z)\n",
    "\n",
    "y_pred = tf.argmax(Z, axis=1, output_type=\"int32\")\n",
    "print(\"y_pred\", y_pred)\n",
    "\n",
    "match = tf.equal(y, y_pred)\n",
    "print(\"match\", match)\n",
    "\n",
    "accuracy = tf.reduce_mean(tf.cast(match, \"float32\"))\n",
    "print(\"accuracy\", accuracy)\n",
    "\n",
    "loss = tf.nn.softmax_cross_entropy_with_logits_v2(labels=y_oh, logits = Z)\n",
    "\n",
    "print(\"Cross entropy loss\", loss)\n",
    "\n",
    "cost = tf.reduce_mean(loss)\n",
    "print(\"Cost (J): \", cost)\n",
    "\n",
    "optimizer = tf.train.AdamOptimizer(learning_rate = 0.001).minimize(cost)\n",
    "\n",
    "\n",
    "with tf.Session() as sess:\n",
    "    sess.run(tf.global_variables_initializer())\n",
    "    values = {X: X_train, y: y_train}\n",
    "    \n",
    "    scores = []\n",
    "    for i in range(100): # Each iteration uses the whole training set\n",
    "        accuracy_, cost_, _ = sess.run([accuracy, cost, optimizer], feed_dict=values)\n",
    "        print(i, \"accuracy_\", accuracy_)\n",
    "        scores.append({\"cost\": cost_, \"accuracy\": accuracy_})"
   ]
  },
  {
   "cell_type": "code",
   "execution_count": 72,
   "metadata": {},
   "outputs": [
    {
     "data": {
      "text/plain": [
       "<matplotlib.axes._subplots.AxesSubplot at 0xb2c1d0b38>"
      ]
     },
     "execution_count": 72,
     "metadata": {},
     "output_type": "execute_result"
    },
    {
     "data": {
      "image/png": "[encoded data removed]",
      "text/plain": [
       "<Figure size 432x288 with 1 Axes>"
      ]
     },
     "metadata": {},
     "output_type": "display_data"
    }
   ],
   "source": [
    "pd.DataFrame(scores).plot()"
   ]
  },
  {
   "cell_type": "code",
   "execution_count": 97,
   "metadata": {},
   "outputs": [
    {
     "name": "stdout",
     "output_type": "stream",
     "text": [
      "X Tensor(\"Placeholder_86:0\", shape=(?, 784), dtype=float32)\n",
      "y Tensor(\"Placeholder_87:0\", shape=(?,), dtype=int32)\n",
      "y_oh Tensor(\"one_hot_11:0\", shape=(?, 10), dtype=float32)\n",
      "W <tf.Variable 'Variable_43:0' shape=(784, 10) dtype=float32_ref> b <tf.Variable 'Variable_44:0' shape=(10,) dtype=float32_ref>\n",
      "Z Tensor(\"add_32:0\", shape=(?, 10), dtype=float32)\n",
      "y_pred Tensor(\"ArgMax_18:0\", shape=(?,), dtype=int32)\n",
      "match Tensor(\"Equal_17:0\", shape=(?,), dtype=bool)\n",
      "accuracy Tensor(\"Mean_24:0\", shape=(), dtype=float32)\n",
      "Cross entropy loss Tensor(\"softmax_cross_entropy_with_logits_11/Reshape_2:0\", shape=(?,), dtype=float32)\n",
      "Cost (J):  Tensor(\"Mean_25:0\", shape=(), dtype=float32)\n",
      "epoch 0 accuracy_ 0.84375\n",
      "epoch 1 accuracy_ 0.96875\n",
      "epoch 2 accuracy_ 0.9375\n",
      "epoch 3 accuracy_ 0.96875\n",
      "epoch 4 accuracy_ 0.9375\n",
      "epoch 5 accuracy_ 0.9375\n",
      "epoch 6 accuracy_ 0.96875\n",
      "epoch 7 accuracy_ 1.0\n",
      "epoch 8 accuracy_ 1.0\n",
      "epoch 9 accuracy_ 0.875\n",
      "Test accuracy [0.9275]\n"
     ]
    }
   ],
   "source": [
    "X = tf.placeholder(\"float32\", (None, 784))\n",
    "y = tf.placeholder(\"int32\", (None,))\n",
    "print(\"X\", X)\n",
    "print(\"y\", y)\n",
    "\n",
    "\n",
    "y_oh = tf.one_hot(y, depth= 10)\n",
    "print(\"y_oh\", y_oh)\n",
    "\n",
    "W = tf.Variable(tf.truncated_normal(shape = (784, 10), stddev=0.1, seed = 1))\n",
    "b = tf.Variable(tf.zeros(shape=(10, )))\n",
    "print(\"W\", W, \"b\", b)\n",
    "\n",
    "Z = tf.matmul(X, W) + b # Z: net input function, logits\n",
    "print(\"Z\", Z)\n",
    "\n",
    "y_pred = tf.argmax(Z, axis=1, output_type=\"int32\")\n",
    "print(\"y_pred\", y_pred)\n",
    "\n",
    "match = tf.equal(y, y_pred)\n",
    "print(\"match\", match)\n",
    "\n",
    "accuracy = tf.reduce_mean(tf.cast(match, \"float32\"))\n",
    "print(\"accuracy\", accuracy)\n",
    "\n",
    "loss = tf.nn.softmax_cross_entropy_with_logits_v2(labels=y_oh, logits = Z)\n",
    "\n",
    "print(\"Cross entropy loss\", loss)\n",
    "\n",
    "cost = tf.reduce_mean(loss)\n",
    "print(\"Cost (J): \", cost)\n",
    "\n",
    "optimizer = tf.train.AdamOptimizer(learning_rate = 0.001).minimize(cost)\n",
    "\n",
    "\n",
    "with tf.Session() as sess:\n",
    "    sess.run(tf.global_variables_initializer())\n",
    "    values = {X: X_train, y: y_train}\n",
    "    \n",
    "    scores = []\n",
    "    for i in range(10): # one epoch = one full pass over the training data\n",
    "        \n",
    "        indices = np.arange(len(X_train))\n",
    "        np.random.shuffle(indices)\n",
    "        num_batches = math.ceil(len(X_train)/batch_size)\n",
    "        for j in range(num_batches):\n",
    "            start = j*batch_size\n",
    "            batch = indices[start: start + batch_size]\n",
    "            X_batch, y_batch = X_train[batch], y_train[batch]\n",
    "            values = {X: X_batch, y: y_batch}\n",
    "            accuracy_, cost_, _ = sess.run([accuracy, cost, optimizer], feed_dict=values)\n",
    "            scores.append({\"cost\": cost_, \"accuracy\": accuracy_})\n",
    "            \n",
    "        print(\"epoch\", i, \"accuracy_\", accuracy_)\n",
    "    print(\"Test accuracy\", sess.run([accuracy], feed_dict={X: X_test, y: y_test}))"
   ]
  },
  {
   "cell_type": "code",
   "execution_count": 95,
   "metadata": {},
   "outputs": [
    {
     "data": {
      "text/plain": [
       "<matplotlib.axes._subplots.AxesSubplot at 0xb2dde4c88>"
      ]
     },
     "execution_count": 95,
     "metadata": {},
     "output_type": "execute_result"
    },
    {
     "data": {
      "image/png": "[encoded data removed]",
      "text/plain": [
       "<Figure size 432x288 with 1 Axes>"
      ]
     },
     "metadata": {},
     "output_type": "display_data"
    }
   ],
   "source": [
    "pd.DataFrame(scores).plot()"
   ]
  },
  {
   "cell_type": "code",
   "execution_count": 86,
   "metadata": {},
   "outputs": [
    {
     "data": {
      "text/plain": [
       "array([59390,  5689, 12736, ...,  5596, 43090, 44280])"
      ]
     },
     "execution_count": 86,
     "metadata": {},
     "output_type": "execute_result"
    }
   ],
   "source": [
    "indices = np.arange(len(X_train))\n",
    "np.random.shuffle(indices)\n",
    "indices"
   ]
  },
  {
   "cell_type": "code",
   "execution_count": 90,
   "metadata": {},
   "outputs": [
    {
     "data": {
      "text/plain": [
       "(32, 784)"
      ]
     },
     "execution_count": 90,
     "metadata": {},
     "output_type": "execute_result"
    }
   ],
   "source": [
    "batch = indices[:32]\n",
    "X_train[batch].shape"
   ]
  },
  {
   "cell_type": "code",
   "execution_count": 84,
   "metadata": {},
   "outputs": [],
   "source": [
    "import math"
   ]
  },
  {
   "cell_type": "code",
   "execution_count": 96,
   "metadata": {},
   "outputs": [
    {
     "data": {
      "text/plain": [
       "938"
      ]
     },
     "execution_count": 96,
     "metadata": {},
     "output_type": "execute_result"
    }
   ],
   "source": [
    "num_batches"
   ]
  },
  {
   "cell_type": "code",
   "execution_count": 99,
   "metadata": {},
   "outputs": [
    {
     "name": "stdout",
     "output_type": "stream",
     "text": [
      "X Tensor(\"Placeholder_90:0\", shape=(?, 784), dtype=float32)\n",
      "y Tensor(\"Placeholder_91:0\", shape=(?,), dtype=int32)\n",
      "y_oh Tensor(\"one_hot_13:0\", shape=(?, 10), dtype=float32)\n",
      "W1 <tf.Variable 'Variable_49:0' shape=(784, 400) dtype=float32_ref> b1 <tf.Variable 'Variable_50:0' shape=(400,) dtype=float32_ref>\n",
      "W2 <tf.Variable 'Variable_51:0' shape=(400, 10) dtype=float32_ref> b2 <tf.Variable 'Variable_52:0' shape=(10,) dtype=float32_ref>\n",
      "Z Tensor(\"add_36:0\", shape=(?, 10), dtype=float32)\n",
      "y_pred Tensor(\"ArgMax_20:0\", shape=(?,), dtype=int32)\n",
      "match Tensor(\"Equal_19:0\", shape=(?,), dtype=bool)\n",
      "accuracy Tensor(\"Mean_28:0\", shape=(), dtype=float32)\n",
      "Cross entropy loss Tensor(\"softmax_cross_entropy_with_logits_13/Reshape_2:0\", shape=(?,), dtype=float32)\n",
      "Cost (J):  Tensor(\"Mean_29:0\", shape=(), dtype=float32)\n",
      "epoch 0 accuracy_ 0.96875\n",
      "epoch 1 accuracy_ 1.0\n",
      "epoch 2 accuracy_ 1.0\n",
      "epoch 3 accuracy_ 1.0\n",
      "epoch 4 accuracy_ 1.0\n",
      "epoch 5 accuracy_ 1.0\n",
      "epoch 6 accuracy_ 1.0\n",
      "epoch 7 accuracy_ 1.0\n",
      "epoch 8 accuracy_ 1.0\n",
      "epoch 9 accuracy_ 1.0\n",
      "Test accuracy [0.9822]\n"
     ]
    }
   ],
   "source": [
    "X = tf.placeholder(\"float32\", (None, 784))\n",
    "y = tf.placeholder(\"int32\", (None,))\n",
    "print(\"X\", X)\n",
    "print(\"y\", y)\n",
    "\n",
    "\n",
    "y_oh = tf.one_hot(y, depth= 10)\n",
    "print(\"y_oh\", y_oh)\n",
    "\n",
    "W1 = tf.Variable(tf.truncated_normal(shape = (784, 400), stddev=0.1, seed = 1))\n",
    "b1 = tf.Variable(tf.zeros(shape=(400, )))\n",
    "print(\"W1\", W1, \"b1\", b1)\n",
    "\n",
    "\n",
    "Z1 = tf.matmul(X, W1) + b1 # Z: net input function, logits\n",
    "A1 = tf.nn.relu(Z1)\n",
    "\n",
    "W2 = tf.Variable(tf.truncated_normal(shape = (400, 10), stddev=0.1, seed = 1))\n",
    "b2 = tf.Variable(tf.zeros(shape=(10, )))\n",
    "print(\"W2\", W2, \"b2\", b2)\n",
    "\n",
    "Z = tf.matmul(A1, W2) + b2 # Z: net input function, logits\n",
    "print(\"Z\", Z)\n",
    "\n",
    "y_pred = tf.argmax(Z, axis=1, output_type=\"int32\")\n",
    "print(\"y_pred\", y_pred)\n",
    "\n",
    "match = tf.equal(y, y_pred)\n",
    "print(\"match\", match)\n",
    "\n",
    "accuracy = tf.reduce_mean(tf.cast(match, \"float32\"))\n",
    "print(\"accuracy\", accuracy)\n",
    "\n",
    "loss = tf.nn.softmax_cross_entropy_with_logits_v2(labels=y_oh, logits = Z)\n",
    "\n",
    "print(\"Cross entropy loss\", loss)\n",
    "\n",
    "cost = tf.reduce_mean(loss)\n",
    "print(\"Cost (J): \", cost)\n",
    "\n",
    "optimizer = tf.train.AdamOptimizer(learning_rate = 0.001).minimize(cost)\n",
    "\n",
    "\n",
    "with tf.Session() as sess:\n",
    "    sess.run(tf.global_variables_initializer())\n",
    "    values = {X: X_train, y: y_train}\n",
    "    \n",
    "    scores = []\n",
    "    for i in range(10): # one epoch = one full pass over the training data\n",
    "        \n",
    "        indices = np.arange(len(X_train))\n",
    "        np.random.shuffle(indices)\n",
    "        num_batches = math.ceil(len(X_train)/batch_size)\n",
    "        for j in range(num_batches):\n",
    "            start = j*batch_size\n",
    "            batch = indices[start: start + batch_size]\n",
    "            X_batch, y_batch = X_train[batch], y_train[batch]\n",
    "            values = {X: X_batch, y: y_batch}\n",
    "            accuracy_, cost_, _ = sess.run([accuracy, cost, optimizer], feed_dict=values)\n",
    "            scores.append({\"cost\": cost_, \"accuracy\": accuracy_})\n",
    "            \n",
    "        print(\"epoch\", i, \"accuracy_\", accuracy_)\n",
    "    print(\"Test accuracy\", sess.run([accuracy], feed_dict={X: X_test, y: y_test}))"
   ]
  },
  {
   "cell_type": "code",
   "execution_count": 100,
   "metadata": {},
   "outputs": [
    {
     "data": {
      "text/plain": [
       "<matplotlib.axes._subplots.AxesSubplot at 0xb2e457518>"
      ]
     },
     "execution_count": 100,
     "metadata": {},
     "output_type": "execute_result"
    },
    {
     "data": {
      "image/png": "[encoded data removed]",
      "text/plain": [
       "<Figure size 432x288 with 1 Axes>"
      ]
     },
     "metadata": {},
     "output_type": "display_data"
    }
   ],
   "source": [
    "pd.DataFrame(scores).plot()"
   ]
  },
  {
   "cell_type": "code",
   "execution_count": 110,
   "metadata": {},
   "outputs": [
    {
     "data": {
      "text/plain": [
       "array([5, 0, 4, ..., 5, 6, 8])"
      ]
     },
     "execution_count": 110,
     "metadata": {},
     "output_type": "execute_result"
    }
   ],
   "source": [
    "y_train"
   ]
  },
  {
   "cell_type": "code",
   "execution_count": 115,
   "metadata": {},
   "outputs": [
    {
     "data": {
      "text/html": [
       "<div>\n",
       "<style scoped>\n",
       "    .dataframe tbody tr th:only-of-type {\n",
       "        vertical-align: middle;\n",
       "    }\n",
       "\n",
       "    .dataframe tbody tr th {\n",
       "        vertical-align: top;\n",
       "    }\n",
       "\n",
       "    .dataframe thead th {\n",
       "        text-align: right;\n",
       "    }\n",
       "</style>\n",
       "<table border=\"1\" class=\"dataframe\">\n",
       "  <thead>\n",
       "    <tr style=\"text-align: right;\">\n",
       "      <th></th>\n",
       "      <th>0</th>\n",
       "      <th>1</th>\n",
       "      <th>2</th>\n",
       "      <th>3</th>\n",
       "      <th>4</th>\n",
       "      <th>5</th>\n",
       "      <th>6</th>\n",
       "      <th>7</th>\n",
       "      <th>8</th>\n",
       "      <th>9</th>\n",
       "    </tr>\n",
       "  </thead>\n",
       "  <tbody>\n",
       "    <tr>\n",
       "      <th>0</th>\n",
       "      <td>0.0</td>\n",
       "      <td>0.0</td>\n",
       "      <td>0.0</td>\n",
       "      <td>0.0</td>\n",
       "      <td>0.0</td>\n",
       "      <td>1.0</td>\n",
       "      <td>0.0</td>\n",
       "      <td>0.0</td>\n",
       "      <td>0.0</td>\n",
       "      <td>0.0</td>\n",
       "    </tr>\n",
       "    <tr>\n",
       "      <th>1</th>\n",
       "      <td>1.0</td>\n",
       "      <td>0.0</td>\n",
       "      <td>0.0</td>\n",
       "      <td>0.0</td>\n",
       "      <td>0.0</td>\n",
       "      <td>0.0</td>\n",
       "      <td>0.0</td>\n",
       "      <td>0.0</td>\n",
       "      <td>0.0</td>\n",
       "      <td>0.0</td>\n",
       "    </tr>\n",
       "    <tr>\n",
       "      <th>2</th>\n",
       "      <td>0.0</td>\n",
       "      <td>0.0</td>\n",
       "      <td>0.0</td>\n",
       "      <td>0.0</td>\n",
       "      <td>1.0</td>\n",
       "      <td>0.0</td>\n",
       "      <td>0.0</td>\n",
       "      <td>0.0</td>\n",
       "      <td>0.0</td>\n",
       "      <td>0.0</td>\n",
       "    </tr>\n",
       "    <tr>\n",
       "      <th>3</th>\n",
       "      <td>0.0</td>\n",
       "      <td>1.0</td>\n",
       "      <td>0.0</td>\n",
       "      <td>0.0</td>\n",
       "      <td>0.0</td>\n",
       "      <td>0.0</td>\n",
       "      <td>0.0</td>\n",
       "      <td>0.0</td>\n",
       "      <td>0.0</td>\n",
       "      <td>0.0</td>\n",
       "    </tr>\n",
       "    <tr>\n",
       "      <th>4</th>\n",
       "      <td>0.0</td>\n",
       "      <td>0.0</td>\n",
       "      <td>0.0</td>\n",
       "      <td>0.0</td>\n",
       "      <td>0.0</td>\n",
       "      <td>0.0</td>\n",
       "      <td>0.0</td>\n",
       "      <td>0.0</td>\n",
       "      <td>0.0</td>\n",
       "      <td>1.0</td>\n",
       "    </tr>\n",
       "  </tbody>\n",
       "</table>\n",
       "</div>"
      ],
      "text/plain": [
       "     0    1    2    3    4    5    6    7    8    9\n",
       "0  0.0  0.0  0.0  0.0  0.0  1.0  0.0  0.0  0.0  0.0\n",
       "1  1.0  0.0  0.0  0.0  0.0  0.0  0.0  0.0  0.0  0.0\n",
       "2  0.0  0.0  0.0  0.0  1.0  0.0  0.0  0.0  0.0  0.0\n",
       "3  0.0  1.0  0.0  0.0  0.0  0.0  0.0  0.0  0.0  0.0\n",
       "4  0.0  0.0  0.0  0.0  0.0  0.0  0.0  0.0  0.0  1.0"
      ]
     },
     "execution_count": 115,
     "metadata": {},
     "output_type": "execute_result"
    }
   ],
   "source": [
    "Y_train = keras.utils.to_categorical(y_train)\n",
    "Y_test = keras.utils.to_categorical(y_test)\n",
    "pd.DataFrame(Y_train).head()"
   ]
  },
  {
   "cell_type": "code",
   "execution_count": 122,
   "metadata": {},
   "outputs": [],
   "source": [
    "import keras\n",
    "from keras.layers import Dense, InputLayer"
   ]
  },
  {
   "cell_type": "code",
   "execution_count": 116,
   "metadata": {},
   "outputs": [
    {
     "name": "stdout",
     "output_type": "stream",
     "text": [
      "_________________________________________________________________\n",
      "Layer (type)                 Output Shape              Param #   \n",
      "=================================================================\n",
      "dense_4 (Dense)              (None, 10)                7850      \n",
      "=================================================================\n",
      "Total params: 7,850\n",
      "Trainable params: 7,850\n",
      "Non-trainable params: 0\n",
      "_________________________________________________________________\n",
      "Epoch 1/4\n",
      "60000/60000 [==============================] - 2s 41us/step - loss: 0.6621 - acc: 0.8331\n",
      "Epoch 2/4\n",
      "60000/60000 [==============================] - 2s 39us/step - loss: 0.3605 - acc: 0.9029\n",
      "Epoch 3/4\n",
      "60000/60000 [==============================] - 2s 35us/step - loss: 0.3187 - acc: 0.9121\n",
      "Epoch 4/4\n",
      "60000/60000 [==============================] - 2s 35us/step - loss: 0.2990 - acc: 0.9166\n"
     ]
    },
    {
     "data": {
      "text/plain": [
       "<keras.callbacks.History at 0xb3a8dcf60>"
      ]
     },
     "execution_count": 116,
     "metadata": {},
     "output_type": "execute_result"
    }
   ],
   "source": [
    "model = keras.Sequential()\n",
    "model.add(Dense(10, activation=\"softmax\", input_shape = (784,)))\n",
    "model.summary()\n",
    "\n",
    "model.compile(loss=keras.losses.categorical_crossentropy\n",
    "              , metrics=[\"accuracy\"]\n",
    "              , optimizer=\"adam\")\n",
    "\n",
    "model.fit(X_train, Y_train, epochs=4, batch_size=128, verbose=1)"
   ]
  },
  {
   "cell_type": "code",
   "execution_count": 117,
   "metadata": {},
   "outputs": [
    {
     "name": "stdout",
     "output_type": "stream",
     "text": [
      "10000/10000 [==============================] - 0s 40us/step\n"
     ]
    },
    {
     "data": {
      "text/plain": [
       "[0.2846998196721077, 0.9198]"
      ]
     },
     "execution_count": 117,
     "metadata": {},
     "output_type": "execute_result"
    }
   ],
   "source": [
    "model.evaluate(X_test, Y_test)"
   ]
  },
  {
   "cell_type": "code",
   "execution_count": 136,
   "metadata": {},
   "outputs": [
    {
     "name": "stdout",
     "output_type": "stream",
     "text": [
      "_________________________________________________________________\n",
      "Layer (type)                 Output Shape              Param #   \n",
      "=================================================================\n",
      "input_3 (InputLayer)         (None, 784)               0         \n",
      "_________________________________________________________________\n",
      "dense_17 (Dense)             (None, 400)               314000    \n",
      "_________________________________________________________________\n",
      "dense_18 (Dense)             (None, 100)               40100     \n",
      "_________________________________________________________________\n",
      "dense_19 (Dense)             (None, 100)               10100     \n",
      "_________________________________________________________________\n",
      "dense_20 (Dense)             (None, 100)               10100     \n",
      "_________________________________________________________________\n",
      "dense_21 (Dense)             (None, 100)               10100     \n",
      "_________________________________________________________________\n",
      "dense_22 (Dense)             (None, 10)                1010      \n",
      "=================================================================\n",
      "Total params: 385,410\n",
      "Trainable params: 385,410\n",
      "Non-trainable params: 0\n",
      "_________________________________________________________________\n",
      "Train on 60000 samples, validate on 10000 samples\n",
      "Epoch 1/4\n",
      "60000/60000 [==============================] - 7s 118us/step - loss: 0.2748 - acc: 0.9175 - val_loss: 0.1238 - val_acc: 0.9623\n",
      "Epoch 2/4\n",
      "60000/60000 [==============================] - 7s 120us/step - loss: 0.1038 - acc: 0.9682 - val_loss: 0.0849 - val_acc: 0.9740\n",
      "Epoch 3/4\n",
      "60000/60000 [==============================] - 6s 100us/step - loss: 0.0677 - acc: 0.9787 - val_loss: 0.0916 - val_acc: 0.9711\n",
      "Epoch 4/4\n",
      "60000/60000 [==============================] - 8s 128us/step - loss: 0.0518 - acc: 0.9833 - val_loss: 0.0717 - val_acc: 0.9784\n"
     ]
    },
    {
     "data": {
      "text/plain": [
       "<keras.callbacks.History at 0xb752830f0>"
      ]
     },
     "execution_count": 136,
     "metadata": {},
     "output_type": "execute_result"
    }
   ],
   "source": [
    "from time import time\n",
    "tensord_board = keras.callbacks.TensorBoard(log_dir=\"/tmp/tf/%d\" % time())\n",
    "\n",
    "model = keras.Sequential()\n",
    "model.add(InputLayer(input_shape = (784,)))\n",
    "model.add(Dense(400, activation=\"relu\"))\n",
    "model.add(Dense(100, activation=\"relu\")) # Dense \n",
    "model.add(Dense(100, activation=\"relu\")) # Dense \n",
    "model.add(Dense(100, activation=\"relu\")) # Dense \n",
    "model.add(Dense(100, activation=\"relu\")) # Dense \n",
    "model.add(Dense(10, activation=\"softmax\"))\n",
    "\n",
    "model.summary()\n",
    "\n",
    "model.compile(loss=keras.losses.categorical_crossentropy\n",
    "              , metrics=[\"accuracy\"]\n",
    "              , optimizer=\"adam\")\n",
    "\n",
    "model.fit(X_train\n",
    "          , Y_train\n",
    "          , validation_data=(X_test, Y_test)\n",
    "          , epochs=4\n",
    "          , batch_size=128, verbose=1\n",
    "          , callbacks = [tensord_board]\n",
    "         )"
   ]
  },
  {
   "cell_type": "code",
   "execution_count": 121,
   "metadata": {},
   "outputs": [
    {
     "name": "stdout",
     "output_type": "stream",
     "text": [
      "10000/10000 [==============================] - 1s 72us/step\n"
     ]
    },
    {
     "data": {
      "text/plain": [
       "[0.17090169300734998, 0.9505]"
      ]
     },
     "execution_count": 121,
     "metadata": {},
     "output_type": "execute_result"
    }
   ],
   "source": [
    "model.evaluate(X_test, Y_test)"
   ]
  },
  {
   "cell_type": "code",
   "execution_count": 134,
   "metadata": {
    "scrolled": false
   },
   "outputs": [
    {
     "name": "stdout",
     "output_type": "stream",
     "text": [
      "X Tensor(\"Placeholder_108:0\", shape=(?, 784), dtype=float32)\n",
      "y Tensor(\"Placeholder_109:0\", shape=(?,), dtype=int32)\n",
      "y_oh Tensor(\"one_hot_22:0\", shape=(?, 10), dtype=float32)\n",
      "W1 <tf.Variable 'Variable_101:0' shape=(784, 400) dtype=float32_ref> b1 <tf.Variable 'Variable_102:0' shape=(400,) dtype=float32_ref>\n",
      "W2 <tf.Variable 'Variable_103:0' shape=(400, 100) dtype=float32_ref> b2 <tf.Variable 'Variable_104:0' shape=(100,) dtype=float32_ref>\n",
      "W3 <tf.Variable 'Variable_105:0' shape=(100, 10) dtype=float32_ref> b3 <tf.Variable 'Variable_106:0' shape=(10,) dtype=float32_ref>\n",
      "y_pred Tensor(\"ArgMax_29:0\", shape=(?,), dtype=int32)\n",
      "match Tensor(\"Equal_28:0\", shape=(?,), dtype=bool)\n",
      "accuracy Tensor(\"Mean_46:0\", shape=(), dtype=float32)\n",
      "Cross entropy loss Tensor(\"softmax_cross_entropy_with_logits_22/Reshape_2:0\", shape=(?,), dtype=float32)\n",
      "Cost (J):  Tensor(\"Mean_47:0\", shape=(), dtype=float32)\n",
      "epoch 0 accuracy_ 1.0000                                                                                                                              \n",
      "epoch 1 accuracy_ 0.96875                                                                                                                             \n",
      "epoch 2 accuracy_ 0.96875                                                                                                                             \n",
      "Test accuracy [0.9764]\n"
     ]
    }
   ],
   "source": [
    "X = tf.placeholder(\"float32\", (None, 784))\n",
    "y = tf.placeholder(\"int32\", (None,))\n",
    "print(\"X\", X)\n",
    "print(\"y\", y)\n",
    "\n",
    "\n",
    "y_oh = tf.one_hot(y, depth= 10)\n",
    "print(\"y_oh\", y_oh)\n",
    "\n",
    "W1 = tf.Variable(tf.truncated_normal(shape = (784, 400), stddev=0.1, seed = 1))\n",
    "b1 = tf.Variable(tf.zeros(shape=(400, )))\n",
    "print(\"W1\", W1, \"b1\", b1)\n",
    "\n",
    "Z1 = tf.matmul(X, W1) + b1 # Z: net input function, logits\n",
    "A1 = tf.nn.relu(Z1)\n",
    "\n",
    "\n",
    "W2 = tf.Variable(tf.truncated_normal(shape = (400, 100), stddev=0.1, seed = 1))\n",
    "b2 = tf.Variable(tf.zeros(shape=(100, )))\n",
    "print(\"W2\", W2, \"b2\", b2)\n",
    "\n",
    "Z2 = tf.matmul(A1, W2) + b2 \n",
    "A2 = tf.nn.relu(Z2)\n",
    "\n",
    "\n",
    "W3 = tf.Variable(tf.truncated_normal(shape = (100, 10), stddev=0.1, seed = 1))\n",
    "b3 = tf.Variable(tf.zeros(shape=(10, )))\n",
    "print(\"W3\", W3, \"b3\", b3)\n",
    "\n",
    "Z3 = tf.matmul(A2, W3) + b3 \n",
    "A3 = tf.nn.relu(Z3)\n",
    "\n",
    "Z = Z3\n",
    "\n",
    "y_pred = tf.argmax(Z, axis=1, output_type=\"int32\")\n",
    "print(\"y_pred\", y_pred)\n",
    "\n",
    "match = tf.equal(y, y_pred)\n",
    "print(\"match\", match)\n",
    "\n",
    "accuracy = tf.reduce_mean(tf.cast(match, \"float32\"))\n",
    "print(\"accuracy\", accuracy)\n",
    "\n",
    "loss = tf.nn.softmax_cross_entropy_with_logits_v2(labels=y_oh, logits = Z)\n",
    "\n",
    "print(\"Cross entropy loss\", loss)\n",
    "\n",
    "cost = tf.reduce_mean(loss)\n",
    "print(\"Cost (J): \", cost)\n",
    "\n",
    "optimizer = tf.train.AdamOptimizer(learning_rate = 0.001).minimize(cost)\n",
    "\n",
    "\n",
    "with tf.Session() as sess:\n",
    "    sess.run(tf.global_variables_initializer())\n",
    "    values = {X: X_train, y: y_train}\n",
    "    \n",
    "    scores = []\n",
    "    for i in range(3): # one epoch = one full pass over the training data\n",
    "        \n",
    "        indices = np.arange(len(X_train))\n",
    "        np.random.shuffle(indices)\n",
    "        num_batches = math.ceil(len(X_train)/batch_size)\n",
    "        for j in range(num_batches):\n",
    "            start = j*batch_size\n",
    "            batch = indices[start: start + batch_size]\n",
    "            X_batch, y_batch = X_train[batch], y_train[batch]\n",
    "            values = {X: X_batch, y: y_batch}\n",
    "            accuracy_, cost_, _ = sess.run([accuracy, cost, optimizer], feed_dict=values)\n",
    "            scores.append({\"cost\": cost_, \"accuracy\": accuracy_})\n",
    "            output = \"%3d training acc: %0.4f\" %(i, accuracy_) \n",
    "            print(output.ljust(150), end=\"\\r\")\n",
    "\n",
    "        print(\"epoch\", i, \"accuracy_\", accuracy_)\n",
    "    print(\"Test accuracy\", sess.run([accuracy], feed_dict={X: X_test, y: y_test}))"
   ]
  },
  {
   "cell_type": "code",
   "execution_count": 138,
   "metadata": {},
   "outputs": [],
   "source": [
    "from keras.layers import Conv2D, MaxPooling2D, Dropout, Flatten"
   ]
  },
  {
   "cell_type": "code",
   "execution_count": 140,
   "metadata": {},
   "outputs": [
    {
     "data": {
      "text/plain": [
       "((60000, 28, 28, 1), (10000, 28, 28, 1))"
      ]
     },
     "execution_count": 140,
     "metadata": {},
     "output_type": "execute_result"
    }
   ],
   "source": [
    "X_train_2d = X_train.reshape((-1, 28, 28, 1))\n",
    "X_test_2d = X_test.reshape((-1, 28, 28, 1))\n",
    "X_train_2d.shape, X_test_2d.shape"
   ]
  },
  {
   "cell_type": "code",
   "execution_count": 141,
   "metadata": {},
   "outputs": [
    {
     "name": "stdout",
     "output_type": "stream",
     "text": [
      "_________________________________________________________________\n",
      "Layer (type)                 Output Shape              Param #   \n",
      "=================================================================\n",
      "input_4 (InputLayer)         (None, 28, 28, 1)         0         \n",
      "_________________________________________________________________\n",
      "conv2d_1 (Conv2D)            (None, 26, 26, 32)        320       \n",
      "_________________________________________________________________\n",
      "max_pooling2d_1 (MaxPooling2 (None, 13, 13, 32)        0         \n",
      "_________________________________________________________________\n",
      "conv2d_2 (Conv2D)            (None, 9, 9, 64)          51264     \n",
      "_________________________________________________________________\n",
      "max_pooling2d_2 (MaxPooling2 (None, 4, 4, 64)          0         \n",
      "_________________________________________________________________\n",
      "flatten_1 (Flatten)          (None, 1024)              0         \n",
      "_________________________________________________________________\n",
      "dense_23 (Dense)             (None, 400)               410000    \n",
      "_________________________________________________________________\n",
      "dense_24 (Dense)             (None, 100)               40100     \n",
      "_________________________________________________________________\n",
      "dense_25 (Dense)             (None, 10)                1010      \n",
      "=================================================================\n",
      "Total params: 502,694\n",
      "Trainable params: 502,694\n",
      "Non-trainable params: 0\n",
      "_________________________________________________________________\n",
      "Train on 60000 samples, validate on 10000 samples\n",
      "Epoch 1/4\n",
      "60000/60000 [==============================] - 72s 1ms/step - loss: 0.1783 - acc: 0.9457 - val_loss: 0.0416 - val_acc: 0.9853\n",
      "Epoch 2/4\n",
      "60000/60000 [==============================] - 72s 1ms/step - loss: 0.0464 - acc: 0.9862 - val_loss: 0.0306 - val_acc: 0.9900\n",
      "Epoch 3/4\n",
      "60000/60000 [==============================] - 67s 1ms/step - loss: 0.0321 - acc: 0.9901 - val_loss: 0.0325 - val_acc: 0.9888\n",
      "Epoch 4/4\n",
      "60000/60000 [==============================] - 65s 1ms/step - loss: 0.0236 - acc: 0.9927 - val_loss: 0.0311 - val_acc: 0.9904\n"
     ]
    },
    {
     "data": {
      "text/plain": [
       "<keras.callbacks.History at 0xb43c357f0>"
      ]
     },
     "execution_count": 141,
     "metadata": {},
     "output_type": "execute_result"
    }
   ],
   "source": [
    "from time import time\n",
    "tensord_board = keras.callbacks.TensorBoard(log_dir=\"/tmp/tf/%d\" % time())\n",
    "\n",
    "model = keras.Sequential()\n",
    "model.add(InputLayer(input_shape = (28, 28, 1)))\n",
    "model.add(Conv2D(32, (3, 3), activation=\"relu\"))\n",
    "model.add(MaxPooling2D((2, 2)))\n",
    "model.add(Conv2D(64, (5, 5), activation=\"relu\"))\n",
    "model.add(MaxPooling2D((2, 2)))\n",
    "model.add(Flatten())\n",
    "model.add(Dense(400, activation=\"relu\"))\n",
    "model.add(Dense(100, activation=\"relu\")) \n",
    "model.add(Dense(10, activation=\"softmax\"))\n",
    "\n",
    "model.summary()\n",
    "\n",
    "model.compile(loss=keras.losses.categorical_crossentropy\n",
    "              , metrics=[\"accuracy\"]\n",
    "              , optimizer=\"adam\")\n",
    "\n",
    "model.fit(X_train_2d\n",
    "          , Y_train\n",
    "          , validation_data=(X_test_2d, Y_test)\n",
    "          , epochs=4\n",
    "          , batch_size=128, verbose=1\n",
    "          , callbacks = [tensord_board]\n",
    "         )"
   ]
  },
  {
   "cell_type": "code",
   "execution_count": null,
   "metadata": {},
   "outputs": [],
   "source": []
  }
 ],
 "metadata": {
  "kernelspec": {
   "display_name": "Python 3",
   "language": "python",
   "name": "python3"
  },
  "language_info": {
   "codemirror_mode": {
    "name": "ipython",
    "version": 3
   },
   "file_extension": ".py",
   "mimetype": "text/x-python",
   "name": "python",
   "nbconvert_exporter": "python",
   "pygments_lexer": "ipython3",
   "version": "3.6.6"
  }
 },
 "nbformat": 4,
 "nbformat_minor": 2
}
