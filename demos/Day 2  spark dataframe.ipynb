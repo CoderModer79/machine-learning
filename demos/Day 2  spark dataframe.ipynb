{
 "cells": [
  {
   "cell_type": "code",
   "execution_count": 1,
   "metadata": {},
   "outputs": [
    {
     "name": "stdout",
     "output_type": "stream",
     "text": [
      "http://192.168.121.51:4040\n"
     ]
    }
   ],
   "source": [
    "import sys, glob, os\n",
    "SPARK_HOME=\"/Users/abasar/Downloads/spark-2.3.2-bin-hadoop2.7\"\n",
    "sys.path.append(SPARK_HOME + \"/python\")\n",
    "sys.path.append(glob.glob(SPARK_HOME + \"/python/lib/py4j*.zip\")[0])\n",
    "from pyspark.sql import SparkSession\n",
    "\n",
    "# Create spark session\n",
    "spark = SparkSession.builder.enableHiveSupport().getOrCreate()\n",
    "sc = spark.sparkContext\n",
    "sql = spark.sql\n",
    "print(sc.uiWebUrl)"
   ]
  },
  {
   "cell_type": "code",
   "execution_count": 41,
   "metadata": {},
   "outputs": [],
   "source": [
    "stocks = spark.read.format(\"csv\")\\\n",
    ".options(header = True, inferSchema = True, sep = \",\")\\\n",
    ".load(\"/data/stocks.small.csv\")"
   ]
  },
  {
   "cell_type": "code",
   "execution_count": 38,
   "metadata": {},
   "outputs": [
    {
     "data": {
      "text/plain": [
       "pyspark.sql.dataframe.DataFrame"
      ]
     },
     "execution_count": 38,
     "metadata": {},
     "output_type": "execute_result"
    }
   ],
   "source": [
    "type(stocks)"
   ]
  },
  {
   "cell_type": "code",
   "execution_count": 39,
   "metadata": {},
   "outputs": [
    {
     "name": "stdout",
     "output_type": "stream",
     "text": [
      "+-------------------+---------+----------+----------+----------+---------+---------+------+\n",
      "|               date|     open|      high|       low|     close|   volume| adjclose|symbol|\n",
      "+-------------------+---------+----------+----------+----------+---------+---------+------+\n",
      "|2000-07-18 00:00:00| 144.8125|144.828125|  141.4375|     143.0|5.06836E7|50.155473|  INTC|\n",
      "|2000-07-20 00:00:00| 32.93751|  34.25001|   32.8125|     33.75|3288300.0| 8.789734|   BEN|\n",
      "|2000-07-24 00:00:00|    64.25| 67.312477| 64.187523|     64.75| 948800.0| 7.689567|   APH|\n",
      "|2000-07-26 00:00:00|   21.875|    22.125|   20.9375|   20.9375|1464300.0| 15.61832|   SHW|\n",
      "|2000-07-26 00:00:00|     42.0| 42.312481|    41.625|    41.875|1397600.0| 9.402721|   STJ|\n",
      "|2000-07-31 00:00:00|33.937519| 33.999986|     33.75| 33.875011| 273400.0| 5.063753|   GGP|\n",
      "|2000-08-07 00:00:00|41.375038|      43.0| 40.812481| 42.812481|2.43376E7| 4.869542|  SBUX|\n",
      "|2000-08-09 00:00:00|55.562481|    55.625|      54.5|      55.0| 387600.0|10.495977|   EQT|\n",
      "|2000-08-10 00:00:00|     49.0|    52.625|     48.75|    52.125|1511600.0|22.539051|   BCR|\n",
      "|2000-08-15 00:00:00| 35.68749|  35.68749|    34.875|    34.875|1246500.0| 9.082726|   BEN|\n",
      "|2000-08-23 00:00:00|   41.125|    41.375| 40.187519|     40.25|1.96864E7| 4.203095|   NKE|\n",
      "|2000-09-12 00:00:00|     38.0|      38.0|   36.9375|   37.6875|1431700.0|32.285666|   IPG|\n",
      "|2000-09-13 00:00:00|  56.4375|   57.6875|   56.4375|    57.125|4194400.0| 15.66107|   EXC|\n",
      "|2000-09-22 00:00:00|    42.75|      43.0|   42.5625|    42.875| 155100.0|20.370235|   BXP|\n",
      "|2000-10-02 00:00:00|   176.25|176.312485|155.187515|156.999985|4101900.0|52.333328|  BIIB|\n",
      "|2000-10-04 00:00:00|44.375001| 46.500001| 44.375001| 45.374998|6005600.0|24.935551|    DD|\n",
      "|2000-10-05 00:00:00|    31.25| 31.562481| 30.562481|     30.75|1419200.0| 4.943182|   NUE|\n",
      "|2000-10-23 00:00:00|20.812481|      22.0| 20.687519| 21.812481|2096400.0|  5.26093|   ALK|\n",
      "|2000-10-25 00:00:00| 20.81256|  20.81256| 19.812479|  20.00004| 559200.0| 1.571407|   COG|\n",
      "|2000-10-31 00:00:00|67.625011| 68.625037| 67.312507| 68.062534|1148400.0| 8.058698|   ETN|\n",
      "+-------------------+---------+----------+----------+----------+---------+---------+------+\n",
      "only showing top 20 rows\n",
      "\n"
     ]
    }
   ],
   "source": [
    "stocks.show()"
   ]
  },
  {
   "cell_type": "code",
   "execution_count": 12,
   "metadata": {},
   "outputs": [
    {
     "name": "stdout",
     "output_type": "stream",
     "text": [
      "root\n",
      " |-- date: timestamp (nullable = true)\n",
      " |-- open: double (nullable = true)\n",
      " |-- high: double (nullable = true)\n",
      " |-- low: double (nullable = true)\n",
      " |-- close: double (nullable = true)\n",
      " |-- volume: double (nullable = true)\n",
      " |-- adjclose: double (nullable = true)\n",
      " |-- symbol: string (nullable = true)\n",
      "\n"
     ]
    }
   ],
   "source": [
    "stocks.printSchema()"
   ]
  },
  {
   "cell_type": "code",
   "execution_count": 13,
   "metadata": {},
   "outputs": [],
   "source": [
    "from pyspark.sql import functions as F"
   ]
  },
  {
   "cell_type": "code",
   "execution_count": 16,
   "metadata": {},
   "outputs": [
    {
     "name": "stdout",
     "output_type": "stream",
     "text": [
      "+------+------------------+\n",
      "|symbol|        avg_volume|\n",
      "+------+------------------+\n",
      "|     K|         1819700.0|\n",
      "|  ALXN|         1463200.0|\n",
      "|   GIS| 5997066.666666667|\n",
      "|   LEN|         4413150.0|\n",
      "|  SPGI|         1899100.0|\n",
      "|   AIV|          861200.0|\n",
      "|   PPG|         1646537.5|\n",
      "|   MMM|         1826750.0|\n",
      "|    RF|        1.023575E7|\n",
      "|   PKI|1071766.6666666667|\n",
      "|   AXP| 7597666.666666667|\n",
      "|   WEC|          650600.0|\n",
      "|    CI|         2258075.0|\n",
      "|   IRM|         1202800.0|\n",
      "|   PFG|1820766.6666666667|\n",
      "|   SNA|          309300.0|\n",
      "|    PM|         3035900.0|\n",
      "|   OXY|         2683850.0|\n",
      "|    EA|         4029900.0|\n",
      "|   BLK|          428300.0|\n",
      "+------+------------------+\n",
      "only showing top 20 rows\n",
      "\n"
     ]
    }
   ],
   "source": [
    "stocks.groupBy(\"symbol\").agg(F.avg(\"volume\").alias(\"avg_volume\")).show()"
   ]
  },
  {
   "cell_type": "code",
   "execution_count": 17,
   "metadata": {},
   "outputs": [
    {
     "name": "stdout",
     "output_type": "stream",
     "text": [
      "+--------+---------+-----------+\n",
      "|database|tableName|isTemporary|\n",
      "+--------+---------+-----------+\n",
      "+--------+---------+-----------+\n",
      "\n"
     ]
    }
   ],
   "source": [
    "spark.sql(\"show tables\").show()"
   ]
  },
  {
   "cell_type": "code",
   "execution_count": 18,
   "metadata": {},
   "outputs": [],
   "source": [
    "stocks.createOrReplaceTempView(\"stocks\")"
   ]
  },
  {
   "cell_type": "code",
   "execution_count": 19,
   "metadata": {},
   "outputs": [
    {
     "name": "stdout",
     "output_type": "stream",
     "text": [
      "+--------+---------+-----------+\n",
      "|database|tableName|isTemporary|\n",
      "+--------+---------+-----------+\n",
      "|        |   stocks|       true|\n",
      "+--------+---------+-----------+\n",
      "\n"
     ]
    }
   ],
   "source": [
    "spark.sql(\"show tables\").show()"
   ]
  },
  {
   "cell_type": "code",
   "execution_count": 21,
   "metadata": {},
   "outputs": [
    {
     "name": "stdout",
     "output_type": "stream",
     "text": [
      "+------+------------------+\n",
      "|symbol|        avg_volume|\n",
      "+------+------------------+\n",
      "|     K|         1819700.0|\n",
      "|  ALXN|         1463200.0|\n",
      "|   GIS| 5997066.666666667|\n",
      "|   LEN|         4413150.0|\n",
      "|  SPGI|         1899100.0|\n",
      "|   AIV|          861200.0|\n",
      "|   PPG|         1646537.5|\n",
      "|   MMM|         1826750.0|\n",
      "|    RF|        1.023575E7|\n",
      "|   PKI|1071766.6666666667|\n",
      "|   AXP| 7597666.666666667|\n",
      "|   WEC|          650600.0|\n",
      "|    CI|         2258075.0|\n",
      "|   IRM|         1202800.0|\n",
      "|   PFG|1820766.6666666667|\n",
      "|   SNA|          309300.0|\n",
      "|    PM|         3035900.0|\n",
      "|   OXY|         2683850.0|\n",
      "|    EA|         4029900.0|\n",
      "|   BLK|          428300.0|\n",
      "+------+------------------+\n",
      "only showing top 20 rows\n",
      "\n"
     ]
    }
   ],
   "source": [
    "spark.sql(\"select symbol, avg(volume) avg_volume from stocks group by symbol\").show()"
   ]
  },
  {
   "cell_type": "code",
   "execution_count": 30,
   "metadata": {},
   "outputs": [
    {
     "data": {
      "text/plain": [
       "[(1, 'Monday', 3), (2, 'Tue', 6)]"
      ]
     },
     "execution_count": 30,
     "metadata": {},
     "output_type": "execute_result"
    }
   ],
   "source": [
    "rdd = sc.parallelize([(1, \"Monday\", 3), (2, \"Tue\", 6)])\n",
    "rdd.collect()             "
   ]
  },
  {
   "cell_type": "code",
   "execution_count": 31,
   "metadata": {},
   "outputs": [],
   "source": [
    "from pyspark.sql import Row"
   ]
  },
  {
   "cell_type": "code",
   "execution_count": 33,
   "metadata": {
    "scrolled": false
   },
   "outputs": [
    {
     "data": {
      "text/plain": [
       "[Row(k=1, v1='Monday', v2=3), Row(k=2, v1='Tue', v2=6)]"
      ]
     },
     "execution_count": 33,
     "metadata": {},
     "output_type": "execute_result"
    }
   ],
   "source": [
    "rdd_row = rdd.map(lambda r: Row(k = r[0], v1 = r[1], v2 = r[2]))\n",
    "rdd_row.collect()"
   ]
  },
  {
   "cell_type": "code",
   "execution_count": 36,
   "metadata": {},
   "outputs": [
    {
     "name": "stdout",
     "output_type": "stream",
     "text": [
      "+---+------+---+\n",
      "|  k|    v1| v2|\n",
      "+---+------+---+\n",
      "|  1|Monday|  3|\n",
      "|  2|   Tue|  6|\n",
      "+---+------+---+\n",
      "\n"
     ]
    }
   ],
   "source": [
    "spark.createDataFrame(rdd_row).show()"
   ]
  },
  {
   "cell_type": "code",
   "execution_count": 42,
   "metadata": {},
   "outputs": [
    {
     "data": {
      "text/plain": [
       "1"
      ]
     },
     "execution_count": 42,
     "metadata": {},
     "output_type": "execute_result"
    }
   ],
   "source": [
    "stocks.rdd.getNumPartitions()"
   ]
  },
  {
   "cell_type": "code",
   "execution_count": null,
   "metadata": {},
   "outputs": [],
   "source": []
  }
 ],
 "metadata": {
  "kernelspec": {
   "display_name": "Python 3",
   "language": "python",
   "name": "python3"
  },
  "language_info": {
   "codemirror_mode": {
    "name": "ipython",
    "version": 3
   },
   "file_extension": ".py",
   "mimetype": "text/x-python",
   "name": "python",
   "nbconvert_exporter": "python",
   "pygments_lexer": "ipython3",
   "version": "3.6.6"
  }
 },
 "nbformat": 4,
 "nbformat_minor": 2
}
