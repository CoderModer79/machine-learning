{
 "cells": [
  {
   "cell_type": "code",
   "execution_count": 3,
   "metadata": {},
   "outputs": [],
   "source": [
    "import pandas as pd\n",
    "import numpy as np\n",
    "from sklearn import *"
   ]
  },
  {
   "cell_type": "code",
   "execution_count": 4,
   "metadata": {},
   "outputs": [],
   "source": [
    "df = pd.read_csv(\"/data/creditcard-fraud.csv\")"
   ]
  },
  {
   "cell_type": "code",
   "execution_count": 5,
   "metadata": {},
   "outputs": [
    {
     "data": {
      "text/html": [
       "<div>\n",
       "<style scoped>\n",
       "    .dataframe tbody tr th:only-of-type {\n",
       "        vertical-align: middle;\n",
       "    }\n",
       "\n",
       "    .dataframe tbody tr th {\n",
       "        vertical-align: top;\n",
       "    }\n",
       "\n",
       "    .dataframe thead th {\n",
       "        text-align: right;\n",
       "    }\n",
       "</style>\n",
       "<table border=\"1\" class=\"dataframe\">\n",
       "  <thead>\n",
       "    <tr style=\"text-align: right;\">\n",
       "      <th></th>\n",
       "      <th>Time</th>\n",
       "      <th>V1</th>\n",
       "      <th>V2</th>\n",
       "      <th>V3</th>\n",
       "      <th>V4</th>\n",
       "      <th>V5</th>\n",
       "      <th>V6</th>\n",
       "      <th>V7</th>\n",
       "      <th>V8</th>\n",
       "      <th>V9</th>\n",
       "      <th>...</th>\n",
       "      <th>V21</th>\n",
       "      <th>V22</th>\n",
       "      <th>V23</th>\n",
       "      <th>V24</th>\n",
       "      <th>V25</th>\n",
       "      <th>V26</th>\n",
       "      <th>V27</th>\n",
       "      <th>V28</th>\n",
       "      <th>Amount</th>\n",
       "      <th>Class</th>\n",
       "    </tr>\n",
       "  </thead>\n",
       "  <tbody>\n",
       "    <tr>\n",
       "      <th>0</th>\n",
       "      <td>0.0</td>\n",
       "      <td>-1.359807</td>\n",
       "      <td>-0.072781</td>\n",
       "      <td>2.536347</td>\n",
       "      <td>1.378155</td>\n",
       "      <td>-0.338321</td>\n",
       "      <td>0.462388</td>\n",
       "      <td>0.239599</td>\n",
       "      <td>0.098698</td>\n",
       "      <td>0.363787</td>\n",
       "      <td>...</td>\n",
       "      <td>-0.018307</td>\n",
       "      <td>0.277838</td>\n",
       "      <td>-0.110474</td>\n",
       "      <td>0.066928</td>\n",
       "      <td>0.128539</td>\n",
       "      <td>-0.189115</td>\n",
       "      <td>0.133558</td>\n",
       "      <td>-0.021053</td>\n",
       "      <td>149.62</td>\n",
       "      <td>0</td>\n",
       "    </tr>\n",
       "    <tr>\n",
       "      <th>1</th>\n",
       "      <td>0.0</td>\n",
       "      <td>1.191857</td>\n",
       "      <td>0.266151</td>\n",
       "      <td>0.166480</td>\n",
       "      <td>0.448154</td>\n",
       "      <td>0.060018</td>\n",
       "      <td>-0.082361</td>\n",
       "      <td>-0.078803</td>\n",
       "      <td>0.085102</td>\n",
       "      <td>-0.255425</td>\n",
       "      <td>...</td>\n",
       "      <td>-0.225775</td>\n",
       "      <td>-0.638672</td>\n",
       "      <td>0.101288</td>\n",
       "      <td>-0.339846</td>\n",
       "      <td>0.167170</td>\n",
       "      <td>0.125895</td>\n",
       "      <td>-0.008983</td>\n",
       "      <td>0.014724</td>\n",
       "      <td>2.69</td>\n",
       "      <td>0</td>\n",
       "    </tr>\n",
       "    <tr>\n",
       "      <th>2</th>\n",
       "      <td>1.0</td>\n",
       "      <td>-1.358354</td>\n",
       "      <td>-1.340163</td>\n",
       "      <td>1.773209</td>\n",
       "      <td>0.379780</td>\n",
       "      <td>-0.503198</td>\n",
       "      <td>1.800499</td>\n",
       "      <td>0.791461</td>\n",
       "      <td>0.247676</td>\n",
       "      <td>-1.514654</td>\n",
       "      <td>...</td>\n",
       "      <td>0.247998</td>\n",
       "      <td>0.771679</td>\n",
       "      <td>0.909412</td>\n",
       "      <td>-0.689281</td>\n",
       "      <td>-0.327642</td>\n",
       "      <td>-0.139097</td>\n",
       "      <td>-0.055353</td>\n",
       "      <td>-0.059752</td>\n",
       "      <td>378.66</td>\n",
       "      <td>0</td>\n",
       "    </tr>\n",
       "    <tr>\n",
       "      <th>3</th>\n",
       "      <td>1.0</td>\n",
       "      <td>-0.966272</td>\n",
       "      <td>-0.185226</td>\n",
       "      <td>1.792993</td>\n",
       "      <td>-0.863291</td>\n",
       "      <td>-0.010309</td>\n",
       "      <td>1.247203</td>\n",
       "      <td>0.237609</td>\n",
       "      <td>0.377436</td>\n",
       "      <td>-1.387024</td>\n",
       "      <td>...</td>\n",
       "      <td>-0.108300</td>\n",
       "      <td>0.005274</td>\n",
       "      <td>-0.190321</td>\n",
       "      <td>-1.175575</td>\n",
       "      <td>0.647376</td>\n",
       "      <td>-0.221929</td>\n",
       "      <td>0.062723</td>\n",
       "      <td>0.061458</td>\n",
       "      <td>123.50</td>\n",
       "      <td>0</td>\n",
       "    </tr>\n",
       "    <tr>\n",
       "      <th>4</th>\n",
       "      <td>2.0</td>\n",
       "      <td>-1.158233</td>\n",
       "      <td>0.877737</td>\n",
       "      <td>1.548718</td>\n",
       "      <td>0.403034</td>\n",
       "      <td>-0.407193</td>\n",
       "      <td>0.095921</td>\n",
       "      <td>0.592941</td>\n",
       "      <td>-0.270533</td>\n",
       "      <td>0.817739</td>\n",
       "      <td>...</td>\n",
       "      <td>-0.009431</td>\n",
       "      <td>0.798278</td>\n",
       "      <td>-0.137458</td>\n",
       "      <td>0.141267</td>\n",
       "      <td>-0.206010</td>\n",
       "      <td>0.502292</td>\n",
       "      <td>0.219422</td>\n",
       "      <td>0.215153</td>\n",
       "      <td>69.99</td>\n",
       "      <td>0</td>\n",
       "    </tr>\n",
       "  </tbody>\n",
       "</table>\n",
       "<p>5 rows × 31 columns</p>\n",
       "</div>"
      ],
      "text/plain": [
       "   Time        V1        V2        V3        V4        V5        V6        V7  \\\n",
       "0   0.0 -1.359807 -0.072781  2.536347  1.378155 -0.338321  0.462388  0.239599   \n",
       "1   0.0  1.191857  0.266151  0.166480  0.448154  0.060018 -0.082361 -0.078803   \n",
       "2   1.0 -1.358354 -1.340163  1.773209  0.379780 -0.503198  1.800499  0.791461   \n",
       "3   1.0 -0.966272 -0.185226  1.792993 -0.863291 -0.010309  1.247203  0.237609   \n",
       "4   2.0 -1.158233  0.877737  1.548718  0.403034 -0.407193  0.095921  0.592941   \n",
       "\n",
       "         V8        V9  ...         V21       V22       V23       V24  \\\n",
       "0  0.098698  0.363787  ...   -0.018307  0.277838 -0.110474  0.066928   \n",
       "1  0.085102 -0.255425  ...   -0.225775 -0.638672  0.101288 -0.339846   \n",
       "2  0.247676 -1.514654  ...    0.247998  0.771679  0.909412 -0.689281   \n",
       "3  0.377436 -1.387024  ...   -0.108300  0.005274 -0.190321 -1.175575   \n",
       "4 -0.270533  0.817739  ...   -0.009431  0.798278 -0.137458  0.141267   \n",
       "\n",
       "        V25       V26       V27       V28  Amount  Class  \n",
       "0  0.128539 -0.189115  0.133558 -0.021053  149.62      0  \n",
       "1  0.167170  0.125895 -0.008983  0.014724    2.69      0  \n",
       "2 -0.327642 -0.139097 -0.055353 -0.059752  378.66      0  \n",
       "3  0.647376 -0.221929  0.062723  0.061458  123.50      0  \n",
       "4 -0.206010  0.502292  0.219422  0.215153   69.99      0  \n",
       "\n",
       "[5 rows x 31 columns]"
      ]
     },
     "execution_count": 5,
     "metadata": {},
     "output_type": "execute_result"
    }
   ],
   "source": [
    "df.head()"
   ]
  },
  {
   "cell_type": "code",
   "execution_count": 6,
   "metadata": {},
   "outputs": [
    {
     "data": {
      "text/plain": [
       "0    284315\n",
       "1       492\n",
       "Name: Class, dtype: int64"
      ]
     },
     "execution_count": 6,
     "metadata": {},
     "output_type": "execute_result"
    }
   ],
   "source": [
    "df.Class.value_counts()"
   ]
  },
  {
   "cell_type": "code",
   "execution_count": 7,
   "metadata": {},
   "outputs": [
    {
     "data": {
      "text/plain": [
       "0    0.998273\n",
       "1    0.001727\n",
       "Name: Class, dtype: float64"
      ]
     },
     "execution_count": 7,
     "metadata": {},
     "output_type": "execute_result"
    }
   ],
   "source": [
    "df.Class.value_counts()/len(df)"
   ]
  },
  {
   "cell_type": "code",
   "execution_count": 9,
   "metadata": {},
   "outputs": [],
   "source": [
    "label = \"Class\"\n",
    "X = df.loc[:, \"V1\":\"V28\"]\n",
    "y = preprocessing.LabelEncoder().fit_transform(df[label])\n",
    "\n",
    "X_dummy = pd.get_dummies(X, drop_first=True) # OneHot Encoding\n",
    "\n",
    "\n",
    "\n",
    "#X: features, y: label\n",
    "X_train, X_test, y_train, y_test = model_selection.train_test_split(X_dummy,\n",
    "                                         y, test_size = 0.3, random_state = 1546)\n",
    "\n",
    "\n",
    "pipe = pipeline.Pipeline([\n",
    "    (\"poly\", preprocessing.PolynomialFeatures(degree=1, include_bias=False)),\n",
    "    (\"scaler\", preprocessing.StandardScaler()),\n",
    "    (\"est\", linear_model.LogisticRegression())\n",
    "])\n",
    "\n",
    "pipe.fit(X_train, y_train)\n",
    "y_train_pred = pipe.predict(X_train)\n",
    "y_test_pred = pipe.predict(X_test)"
   ]
  },
  {
   "cell_type": "code",
   "execution_count": 10,
   "metadata": {},
   "outputs": [
    {
     "data": {
      "text/plain": [
       "array([[85271,    17],\n",
       "       [   58,    97]])"
      ]
     },
     "execution_count": 10,
     "metadata": {},
     "output_type": "execute_result"
    }
   ],
   "source": [
    "metrics.confusion_matrix(y_test, y_test_pred)"
   ]
  },
  {
   "cell_type": "code",
   "execution_count": 13,
   "metadata": {},
   "outputs": [],
   "source": [
    "from mlxtend.plotting import plot_confusion_matrix\n",
    "import numpy as np"
   ]
  },
  {
   "cell_type": "code",
   "execution_count": 11,
   "metadata": {},
   "outputs": [
    {
     "data": {
      "text/plain": [
       "0.9991222218320986"
      ]
     },
     "execution_count": 11,
     "metadata": {},
     "output_type": "execute_result"
    }
   ],
   "source": [
    "metrics.accuracy_score(y_test, y_test_pred)"
   ]
  },
  {
   "cell_type": "code",
   "execution_count": 21,
   "metadata": {},
   "outputs": [],
   "source": [
    "y_train_prob = pipe.predict_proba(X_train)[:, 1]\n",
    "y_test_prob = pipe.predict_proba(X_test)[:, 1]"
   ]
  },
  {
   "cell_type": "code",
   "execution_count": 20,
   "metadata": {},
   "outputs": [
    {
     "data": {
      "text/plain": [
       "array([7.53381695e-01, 3.07186305e-01, 3.67042094e-01, 4.11219762e-01,\n",
       "       6.59606079e-01, 1.91106168e-01, 4.05360782e-01, 2.27557293e-01,\n",
       "       6.36441497e-01, 7.59878133e-01, 4.47644615e-01, 1.45550444e-01,\n",
       "       7.18390593e-01, 1.66916718e-01, 7.75532457e-03, 4.08757306e-01,\n",
       "       1.32182503e-01, 9.77756801e-01, 1.94717312e-01, 2.49977699e-02,\n",
       "       8.85621344e-02, 2.87590324e-01, 7.49765233e-03, 1.32290183e-01,\n",
       "       2.78362678e-01, 8.91314115e-01, 5.07309786e-02, 3.76965283e-01,\n",
       "       1.54899833e-01, 3.72780052e-01, 7.54565364e-01, 1.61531324e-01,\n",
       "       3.15762663e-01, 3.89274402e-02, 3.15029902e-01, 4.56995558e-01,\n",
       "       1.75190455e-01, 4.02210776e-01, 9.47031620e-01, 9.50887100e-01,\n",
       "       9.80420370e-02, 2.50865920e-01, 7.95326865e-01, 1.89540060e-01,\n",
       "       5.63452461e-01, 6.64697941e-01, 5.25013267e-01, 1.19390367e-01,\n",
       "       3.09770402e-01, 5.87017348e-01, 8.42556149e-01, 6.38732171e-01,\n",
       "       7.66962936e-01, 1.19369205e-01, 4.09872698e-01, 4.87363587e-02,\n",
       "       1.38571178e-02, 1.64633759e-02, 5.11231864e-01, 2.01843677e-01,\n",
       "       2.25574603e-01, 2.55095533e-01, 6.43636062e-03, 1.80706842e-01,\n",
       "       5.26900578e-01, 1.26595959e-01, 1.55037043e-01, 4.87162696e-01,\n",
       "       6.25438481e-02, 3.11632389e-01, 1.08070240e-02, 2.70759620e-01,\n",
       "       2.09077638e-02, 3.55637813e-02, 2.74345000e-01, 8.95207858e-02,\n",
       "       1.99010314e-01, 1.39211631e-01, 5.73786622e-01, 7.51523430e-01,\n",
       "       6.01192129e-01, 5.35132656e-02, 7.04614918e-02, 8.25189985e-01,\n",
       "       3.09566227e-01, 2.52804121e-01, 6.58644996e-02, 1.30227189e-01,\n",
       "       4.80308678e-01, 2.26410740e-02, 1.01370326e-02, 1.79641458e-02,\n",
       "       1.93893641e-02, 4.36315057e-02, 9.48998840e-02, 3.09146087e-01,\n",
       "       5.33700682e-02, 1.34316629e-01, 7.06983357e-02, 4.41918012e-01,\n",
       "       6.22580078e-01, 3.17083085e-01, 2.47172736e-01, 6.23474292e-01,\n",
       "       4.28788806e-01, 3.44295307e-01, 5.75820190e-02, 3.64502508e-02,\n",
       "       2.95333482e-01, 9.37551788e-02, 2.80373461e-01, 5.04017132e-01,\n",
       "       5.41257313e-02, 7.78687188e-01, 8.09866737e-01, 7.63410594e-01,\n",
       "       3.08957354e-01, 3.88637315e-03, 1.07816690e-02, 4.96202835e-02,\n",
       "       9.46792213e-02, 1.80148359e-01, 6.82810933e-01, 1.26878153e-01,\n",
       "       1.43450223e-01, 2.27178363e-02, 5.84617808e-01, 1.31548594e-01,\n",
       "       8.20777139e-01, 4.24792617e-01, 1.06609255e-02, 5.25850459e-01,\n",
       "       7.60362569e-01, 3.35675658e-02, 5.37102797e-02, 1.60820085e-01,\n",
       "       1.79318988e-01, 1.41268786e-01, 8.12343040e-02, 5.26728309e-01,\n",
       "       4.32075380e-02, 4.49122259e-01, 2.65831961e-02, 6.35966130e-01,\n",
       "       2.29346502e-01, 9.51907700e-01, 4.58275175e-01, 5.44921573e-02,\n",
       "       8.82150443e-02, 5.01749155e-03, 4.79010266e-02, 6.10161000e-02,\n",
       "       5.46271311e-01, 1.05587660e-02, 9.63037828e-01, 5.07940455e-01,\n",
       "       1.66873287e-01, 2.25028488e-01, 6.09918820e-01, 8.55212559e-01,\n",
       "       8.21753057e-01, 7.38538314e-01, 3.48972866e-01, 7.10784111e-01,\n",
       "       4.02762507e-01, 7.94611737e-01, 5.18806565e-01, 8.61734725e-01,\n",
       "       4.95271698e-01, 1.08838679e-02, 3.03694839e-01, 1.11244760e-01,\n",
       "       4.93329452e-01, 2.33421470e-01, 3.27899396e-02, 6.27635339e-02,\n",
       "       2.11761080e-01, 1.82423383e-01, 4.74838271e-02, 3.40491474e-01,\n",
       "       4.53502352e-01, 1.42181662e-01, 5.69417594e-02, 9.78859061e-01,\n",
       "       2.22563247e-01, 2.21023108e-01, 7.54565929e-01, 3.30168485e-02,\n",
       "       5.49834401e-01, 8.05065721e-02, 3.20921658e-01, 1.88333955e-01,\n",
       "       2.00314945e-01, 3.10944303e-01, 1.04893379e-01, 2.76182557e-01,\n",
       "       5.82198276e-01, 8.65481233e-02, 4.89159953e-01, 6.24273470e-02,\n",
       "       3.39770721e-01, 4.51142438e-02, 4.84642776e-01, 5.20155816e-01,\n",
       "       1.31660186e-01, 6.48803208e-01, 1.93661379e-01, 7.72279860e-01,\n",
       "       2.37631752e-02, 5.84867343e-03, 1.80418161e-02, 3.77751841e-01,\n",
       "       3.33176639e-01, 2.78558648e-01, 3.06964032e-01, 1.58649585e-01,\n",
       "       3.18367717e-02, 9.69625855e-02, 3.44438777e-01, 1.07932056e-01,\n",
       "       5.09335974e-01, 7.94639937e-01, 6.16823439e-02, 3.60986414e-04,\n",
       "       7.07044376e-01, 5.79745063e-01, 8.58352614e-01, 6.28419743e-02,\n",
       "       4.88430511e-02, 4.18082783e-03, 4.36183723e-01, 1.92995212e-01,\n",
       "       4.55931412e-03, 1.44785418e-01, 5.79517110e-01, 5.53295515e-01,\n",
       "       8.34570745e-01, 8.49914863e-01, 3.98966292e-01, 6.19372806e-01,\n",
       "       9.71576336e-02, 2.05035488e-01, 2.56186028e-01, 2.17040924e-01,\n",
       "       3.35874214e-01, 5.59485152e-02, 1.05259668e-01, 1.79052190e-01,\n",
       "       8.25608693e-01, 2.86573501e-02, 1.02184041e-01, 2.90283389e-01,\n",
       "       1.97913854e-01, 8.43085357e-02, 8.69269385e-02, 2.70212997e-01,\n",
       "       7.34931034e-01, 5.90076810e-02, 3.89109467e-01, 2.12600133e-01,\n",
       "       1.13898780e-01, 9.25551274e-02, 2.50234850e-02, 1.25396020e-01,\n",
       "       1.24708616e-01, 1.05023777e-01, 4.46180831e-02, 9.10994431e-01,\n",
       "       2.62405037e-01, 2.80570169e-01, 1.31195138e-01, 4.61517746e-01,\n",
       "       1.56807059e-01, 9.48395566e-02, 1.06126544e-01, 2.28198410e-01,\n",
       "       2.92345598e-01, 5.99578024e-02, 7.47756524e-01, 4.26621705e-01,\n",
       "       2.33226214e-01, 3.42467002e-01, 1.69761693e-01, 8.65070200e-01,\n",
       "       9.78030190e-01, 1.19001463e-01, 3.82298049e-01, 9.41808001e-02,\n",
       "       1.68015970e-01, 1.14226700e-01, 5.83205181e-01, 1.69206279e-01,\n",
       "       2.60986505e-01, 2.12145500e-01, 7.26929084e-01, 4.97174252e-01,\n",
       "       7.37700269e-01, 1.65095481e-01, 6.37309320e-01, 7.85093249e-01])"
      ]
     },
     "execution_count": 20,
     "metadata": {},
     "output_type": "execute_result"
    }
   ],
   "source": [
    "y_test_prob[:, 1]"
   ]
  },
  {
   "cell_type": "code",
   "execution_count": 22,
   "metadata": {},
   "outputs": [
    {
     "data": {
      "text/plain": [
       "array([[184,  35],\n",
       "       [ 39,  42]])"
      ]
     },
     "execution_count": 22,
     "metadata": {},
     "output_type": "execute_result"
    }
   ],
   "source": [
    "y_test_pred = np.where(y_test_prob>0.5, 1, 0)\n",
    "metrics.confusion_matrix(y_test, y_test_pred)"
   ]
  },
  {
   "cell_type": "code",
   "execution_count": 23,
   "metadata": {},
   "outputs": [
    {
     "data": {
      "text/plain": [
       "array([[146,  73],\n",
       "       [ 25,  56]])"
      ]
     },
     "execution_count": 23,
     "metadata": {},
     "output_type": "execute_result"
    }
   ],
   "source": [
    "y_test_pred = np.where(y_test_prob>0.3, 1, 0)\n",
    "metrics.confusion_matrix(y_test, y_test_pred)"
   ]
  },
  {
   "cell_type": "code",
   "execution_count": 24,
   "metadata": {},
   "outputs": [
    {
     "data": {
      "text/plain": [
       "array([[211,   8],\n",
       "       [ 68,  13]])"
      ]
     },
     "execution_count": 24,
     "metadata": {},
     "output_type": "execute_result"
    }
   ],
   "source": [
    "y_test_pred = np.where(y_test_prob>0.8, 1, 0)\n",
    "metrics.confusion_matrix(y_test, y_test_pred)"
   ]
  },
  {
   "cell_type": "code",
   "execution_count": 25,
   "metadata": {},
   "outputs": [],
   "source": [
    "fpr, tpr, thresholds = metrics.roc_curve(y_test, y_test_prob)"
   ]
  },
  {
   "cell_type": "code",
   "execution_count": 26,
   "metadata": {},
   "outputs": [],
   "source": [
    "import matplotlib.pyplot as plt"
   ]
  },
  {
   "cell_type": "code",
   "execution_count": 29,
   "metadata": {},
   "outputs": [
    {
     "data": {
      "text/plain": [
       "Text(0,0.5,'TPR')"
      ]
     },
     "execution_count": 29,
     "metadata": {},
     "output_type": "execute_result"
    },
    {
     "data": {
      "image/png": "[encoded data removed]",
      "text/plain": [
       "<Figure size 432x288 with 1 Axes>"
      ]
     },
     "metadata": {
      "needs_background": "light"
     },
     "output_type": "display_data"
    }
   ],
   "source": [
    "plt.plot(fpr, tpr)\n",
    "plt.xlabel(\"FPR\")\n",
    "plt.ylabel(\"TPR\")"
   ]
  },
  {
   "cell_type": "code",
   "execution_count": 28,
   "metadata": {},
   "outputs": [
    {
     "data": {
      "text/plain": [
       "0.7454196967134562"
      ]
     },
     "execution_count": 28,
     "metadata": {},
     "output_type": "execute_result"
    }
   ],
   "source": [
    "metrics.auc(fpr, tpr)"
   ]
  },
  {
   "cell_type": "code",
   "execution_count": null,
   "metadata": {},
   "outputs": [],
   "source": []
  }
 ],
 "metadata": {
  "kernelspec": {
   "display_name": "Python 3",
   "language": "python",
   "name": "python3"
  },
  "language_info": {
   "codemirror_mode": {
    "name": "ipython",
    "version": 3
   },
   "file_extension": ".py",
   "mimetype": "text/x-python",
   "name": "python",
   "nbconvert_exporter": "python",
   "pygments_lexer": "ipython3",
   "version": "3.6.6"
  }
 },
 "nbformat": 4,
 "nbformat_minor": 2
}
