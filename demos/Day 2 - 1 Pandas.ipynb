{
 "cells": [
  {
   "cell_type": "markdown",
   "metadata": {},
   "source": [
    "# Exercise - Find top 10 movies \n",
    "\n",
    "Use movielens dataset from this location - https://github.com/abulbasar/data/tree/master/movielens\n",
    "    \n",
    "    \n",
    "1. Load movies.csv as movies dataframe\n",
    "2. Load ratings.csv as ratings dataframe\n",
    "3. Find the number of rows and columsn for movies and ratings\n",
    "4. Is there any missing values in movies and ratings\n",
    "5. Find all the movies which contains \"god\" in the title \n",
    "6. Find how many ratings movie - \"Godfather\" has received. (Exact may be slightly different)\n",
    "7. Find avg rating and rating count for each movie Id\n",
    "8"
   ]
  }
 ],
 "metadata": {
  "kernelspec": {
   "display_name": "Python 3",
   "language": "python",
   "name": "python3"
  },
  "language_info": {
   "codemirror_mode": {
    "name": "ipython",
    "version": 3
   },
   "file_extension": ".py",
   "mimetype": "text/x-python",
   "name": "python",
   "nbconvert_exporter": "python",
   "pygments_lexer": "ipython3",
   "version": "3.6.6"
  }
 },
 "nbformat": 4,
 "nbformat_minor": 2
}
