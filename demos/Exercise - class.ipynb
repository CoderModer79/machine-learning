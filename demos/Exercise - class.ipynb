{
 "cells": [
  {
   "cell_type": "code",
   "execution_count": 44,
   "metadata": {},
   "outputs": [
    {
     "data": {
      "text/plain": [
       "[{\"name\": \"Ozyejckmo\", \"age\": 27},\n",
       " {\"name\": \"Byp\", \"age\": 67},\n",
       " {\"name\": \"Yjv\", \"age\": 21},\n",
       " {\"name\": \"Mjlr\", \"age\": 57},\n",
       " {\"name\": \"Lbr\", \"age\": 52},\n",
       " {\"name\": \"Uyerkaua\", \"age\": 18},\n",
       " {\"name\": \"Afwbpf\", \"age\": 24},\n",
       " {\"name\": \"Pauexlvai\", \"age\": 43},\n",
       " {\"name\": \"Tcycta\", \"age\": 28},\n",
       " {\"name\": \"Bwyqid\", \"age\": 43}]"
      ]
     },
     "execution_count": 44,
     "metadata": {},
     "output_type": "execute_result"
    }
   ],
   "source": [
    "import json \n",
    "import random\n",
    "import string\n",
    "\n",
    "class Person:\n",
    "    def __init__(self, name, age):\n",
    "        self.name = name\n",
    "        self.age = age\n",
    "    def __repr__(self):\n",
    "        return json.dumps(self.__dict__)\n",
    "    \n",
    "    @staticmethod\n",
    "    def random_name():\n",
    "        name = \"\"\n",
    "        name_length = random.randint(3, 10)\n",
    "        for _ in range(name_length):\n",
    "            i = random.randint(0, 26)\n",
    "            name = name + string.ascii_letters[i]\n",
    "        return string.capwords(name)\n",
    "    \n",
    "    @staticmethod\n",
    "    def random_age(start = 18, end = 70):\n",
    "        return random.randint(start, end)\n",
    "            \n",
    "    @staticmethod\n",
    "    def generate_random_records(count):\n",
    "        records = []\n",
    "        for _ in range(count):\n",
    "            name = Person.random_name()\n",
    "            age = Person.random_age()\n",
    "            record = Person(name, age)\n",
    "            records.append(record)\n",
    "        return records\n",
    "\n",
    "Person.generate_random_records(10)"
   ]
  },
  {
   "cell_type": "code",
   "execution_count": 18,
   "metadata": {},
   "outputs": [],
   "source": []
  },
  {
   "cell_type": "code",
   "execution_count": 39,
   "metadata": {},
   "outputs": [
    {
     "data": {
      "text/plain": [
       "'Btjumuv'"
      ]
     },
     "execution_count": 39,
     "metadata": {},
     "output_type": "execute_result"
    }
   ],
   "source": []
  },
  {
   "cell_type": "code",
   "execution_count": 20,
   "metadata": {},
   "outputs": [
    {
     "data": {
      "text/plain": [
       "'abcdefghijklmnopqrstuvwxyz'"
      ]
     },
     "execution_count": 20,
     "metadata": {},
     "output_type": "execute_result"
    }
   ],
   "source": [
    "string.ascii_lowercase"
   ]
  },
  {
   "cell_type": "code",
   "execution_count": 22,
   "metadata": {},
   "outputs": [
    {
     "data": {
      "text/plain": [
       "[0, 1, 2, 3]"
      ]
     },
     "execution_count": 22,
     "metadata": {},
     "output_type": "execute_result"
    }
   ],
   "source": [
    "list(range(4))"
   ]
  },
  {
   "cell_type": "code",
   "execution_count": null,
   "metadata": {},
   "outputs": [],
   "source": []
  }
 ],
 "metadata": {
  "kernelspec": {
   "display_name": "Python 3",
   "language": "python",
   "name": "python3"
  },
  "language_info": {
   "codemirror_mode": {
    "name": "ipython",
    "version": 3
   },
   "file_extension": ".py",
   "mimetype": "text/x-python",
   "name": "python",
   "nbconvert_exporter": "python",
   "pygments_lexer": "ipython3",
   "version": "3.6.6"
  }
 },
 "nbformat": 4,
 "nbformat_minor": 2
}
