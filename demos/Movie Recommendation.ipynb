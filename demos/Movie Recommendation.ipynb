{
 "cells": [
  {
   "cell_type": "markdown",
   "metadata": {},
   "source": [
    "Create spark session"
   ]
  },
  {
   "cell_type": "code",
   "execution_count": 1,
   "metadata": {},
   "outputs": [
    {
     "name": "stdout",
     "output_type": "stream",
     "text": [
      "http://abuls-mbp-5:4040\n"
     ]
    }
   ],
   "source": [
    "import sys, glob, os\n",
    "SPARK_HOME = \"/Users/abulbasar/Downloads/spark-2.3.1-bin-hadoop2.7\"\n",
    "sys.path.append(SPARK_HOME + \"/python\")\n",
    "sys.path.append(glob.glob(SPARK_HOME + \"/python/lib/py4j*.zip\")[0])\n",
    "from pyspark.sql import SparkSession, functions as F\n",
    "spark = (SparkSession\n",
    "         .builder\n",
    "         .config(\"spark.master\", \"local[*]\")\n",
    "         .config(\"spark.driver.memory\", \"4G\")\n",
    "         .config(\"spark.sql.shuffle.partitions\", 16)\n",
    "         .getOrCreate())\n",
    "sc = spark.sparkContext\n",
    "print(sc.uiWebUrl)\n",
    "sql = spark.sql"
   ]
  },
  {
   "cell_type": "markdown",
   "metadata": {},
   "source": [
    "Create utility function to load data into a spark dataframe"
   ]
  },
  {
   "cell_type": "code",
   "execution_count": 2,
   "metadata": {},
   "outputs": [],
   "source": [
    "import re\n",
    "import pandas as pd\n",
    "\n",
    "import matplotlib.pyplot as plt\n",
    "\n",
    "%matplotlib inline \n",
    "\n",
    "base_dir = \"/data/movielens/\"\n",
    "\n",
    "def cache_df(df, name):\n",
    "    df.createOrReplaceTempView(name)\n",
    "    spark.catalog.cacheTable(name)\n",
    "    \n",
    "def load(file):\n",
    "    name = re.sub(\"[^A-Za-z0-9]\", \"_\", file[:-4])\n",
    "    df = spark.read.option(\"header\", True).option(\"inferSchema\", True).csv(base_dir + file)\n",
    "    cache_df(df, name)\n",
    "    df.alias(name)\n",
    "    return df"
   ]
  },
  {
   "cell_type": "markdown",
   "metadata": {},
   "source": [
    "Load data"
   ]
  },
  {
   "cell_type": "code",
   "execution_count": 80,
   "metadata": {},
   "outputs": [
    {
     "name": "stdout",
     "output_type": "stream",
     "text": [
      "+--------+---------+-----------+\n",
      "|database|tableName|isTemporary|\n",
      "+--------+---------+-----------+\n",
      "|        | df_train|       true|\n",
      "|        |   movies|       true|\n",
      "|        |  ratings|       true|\n",
      "+--------+---------+-----------+\n",
      "\n"
     ]
    }
   ],
   "source": [
    "movies = load(\"movies.csv\")\n",
    "ratings = load(\"ratings.csv\")\n",
    "\n",
    "sql(\"show tables\").show()"
   ]
  },
  {
   "cell_type": "markdown",
   "metadata": {},
   "source": [
    "Take a look at movies dataset. It shows by default first 20 records."
   ]
  },
  {
   "cell_type": "code",
   "execution_count": 4,
   "metadata": {},
   "outputs": [
    {
     "name": "stdout",
     "output_type": "stream",
     "text": [
      "+-------+--------------------+--------------------+\n",
      "|movieId|               title|              genres|\n",
      "+-------+--------------------+--------------------+\n",
      "|      1|    Toy Story (1995)|Adventure|Animati...|\n",
      "|      2|      Jumanji (1995)|Adventure|Childre...|\n",
      "|      3|Grumpier Old Men ...|      Comedy|Romance|\n",
      "|      4|Waiting to Exhale...|Comedy|Drama|Romance|\n",
      "|      5|Father of the Bri...|              Comedy|\n",
      "|      6|         Heat (1995)|Action|Crime|Thri...|\n",
      "|      7|      Sabrina (1995)|      Comedy|Romance|\n",
      "|      8| Tom and Huck (1995)|  Adventure|Children|\n",
      "|      9| Sudden Death (1995)|              Action|\n",
      "|     10|    GoldenEye (1995)|Action|Adventure|...|\n",
      "|     11|American Presiden...|Comedy|Drama|Romance|\n",
      "|     12|Dracula: Dead and...|       Comedy|Horror|\n",
      "|     13|        Balto (1995)|Adventure|Animati...|\n",
      "|     14|        Nixon (1995)|               Drama|\n",
      "|     15|Cutthroat Island ...|Action|Adventure|...|\n",
      "|     16|       Casino (1995)|         Crime|Drama|\n",
      "|     17|Sense and Sensibi...|       Drama|Romance|\n",
      "|     18|   Four Rooms (1995)|              Comedy|\n",
      "|     19|Ace Ventura: When...|              Comedy|\n",
      "|     20|  Money Train (1995)|Action|Comedy|Cri...|\n",
      "+-------+--------------------+--------------------+\n",
      "only showing top 20 rows\n",
      "\n"
     ]
    }
   ],
   "source": [
    "movies.show()"
   ]
  },
  {
   "cell_type": "markdown",
   "metadata": {},
   "source": [
    "View the ratings data."
   ]
  },
  {
   "cell_type": "code",
   "execution_count": 5,
   "metadata": {},
   "outputs": [
    {
     "name": "stdout",
     "output_type": "stream",
     "text": [
      "+------+-------+------+----------+\n",
      "|userId|movieId|rating| timestamp|\n",
      "+------+-------+------+----------+\n",
      "|     1|     31|   2.5|1260759144|\n",
      "|     1|   1029|   3.0|1260759179|\n",
      "|     1|   1061|   3.0|1260759182|\n",
      "|     1|   1129|   2.0|1260759185|\n",
      "|     1|   1172|   4.0|1260759205|\n",
      "|     1|   1263|   2.0|1260759151|\n",
      "|     1|   1287|   2.0|1260759187|\n",
      "|     1|   1293|   2.0|1260759148|\n",
      "|     1|   1339|   3.5|1260759125|\n",
      "|     1|   1343|   2.0|1260759131|\n",
      "|     1|   1371|   2.5|1260759135|\n",
      "|     1|   1405|   1.0|1260759203|\n",
      "|     1|   1953|   4.0|1260759191|\n",
      "|     1|   2105|   4.0|1260759139|\n",
      "|     1|   2150|   3.0|1260759194|\n",
      "|     1|   2193|   2.0|1260759198|\n",
      "|     1|   2294|   2.0|1260759108|\n",
      "|     1|   2455|   2.5|1260759113|\n",
      "|     1|   2968|   1.0|1260759200|\n",
      "|     1|   3671|   3.0|1260759117|\n",
      "+------+-------+------+----------+\n",
      "only showing top 20 rows\n",
      "\n"
     ]
    }
   ],
   "source": [
    "ratings.show()"
   ]
  },
  {
   "cell_type": "markdown",
   "metadata": {},
   "source": [
    "How many rating levels are there? Find count by each rating level"
   ]
  },
  {
   "cell_type": "code",
   "execution_count": 75,
   "metadata": {},
   "outputs": [
    {
     "data": {
      "text/html": [
       "<div>\n",
       "<style scoped>\n",
       "    .dataframe tbody tr th:only-of-type {\n",
       "        vertical-align: middle;\n",
       "    }\n",
       "\n",
       "    .dataframe tbody tr th {\n",
       "        vertical-align: top;\n",
       "    }\n",
       "\n",
       "    .dataframe thead th {\n",
       "        text-align: right;\n",
       "    }\n",
       "</style>\n",
       "<table border=\"1\" class=\"dataframe\">\n",
       "  <thead>\n",
       "    <tr style=\"text-align: right;\">\n",
       "      <th></th>\n",
       "      <th>rating</th>\n",
       "      <th>count</th>\n",
       "    </tr>\n",
       "  </thead>\n",
       "  <tbody>\n",
       "    <tr>\n",
       "      <th>4</th>\n",
       "      <td>0.5</td>\n",
       "      <td>1101</td>\n",
       "    </tr>\n",
       "    <tr>\n",
       "      <th>1</th>\n",
       "      <td>1.0</td>\n",
       "      <td>3326</td>\n",
       "    </tr>\n",
       "    <tr>\n",
       "      <th>2</th>\n",
       "      <td>1.5</td>\n",
       "      <td>1687</td>\n",
       "    </tr>\n",
       "    <tr>\n",
       "      <th>9</th>\n",
       "      <td>2.0</td>\n",
       "      <td>7271</td>\n",
       "    </tr>\n",
       "    <tr>\n",
       "      <th>0</th>\n",
       "      <td>2.5</td>\n",
       "      <td>4449</td>\n",
       "    </tr>\n",
       "    <tr>\n",
       "      <th>8</th>\n",
       "      <td>3.0</td>\n",
       "      <td>20064</td>\n",
       "    </tr>\n",
       "    <tr>\n",
       "      <th>6</th>\n",
       "      <td>3.5</td>\n",
       "      <td>10538</td>\n",
       "    </tr>\n",
       "    <tr>\n",
       "      <th>5</th>\n",
       "      <td>4.0</td>\n",
       "      <td>28750</td>\n",
       "    </tr>\n",
       "    <tr>\n",
       "      <th>7</th>\n",
       "      <td>4.5</td>\n",
       "      <td>7723</td>\n",
       "    </tr>\n",
       "    <tr>\n",
       "      <th>3</th>\n",
       "      <td>5.0</td>\n",
       "      <td>15095</td>\n",
       "    </tr>\n",
       "  </tbody>\n",
       "</table>\n",
       "</div>"
      ],
      "text/plain": [
       "   rating  count\n",
       "4     0.5   1101\n",
       "1     1.0   3326\n",
       "2     1.5   1687\n",
       "9     2.0   7271\n",
       "0     2.5   4449\n",
       "8     3.0  20064\n",
       "6     3.5  10538\n",
       "5     4.0  28750\n",
       "7     4.5   7723\n",
       "3     5.0  15095"
      ]
     },
     "execution_count": 75,
     "metadata": {},
     "output_type": "execute_result"
    }
   ],
   "source": [
    "ratings.groupBy(\"rating\").count().toPandas().sort_values(\"rating\")"
   ]
  },
  {
   "cell_type": "markdown",
   "metadata": {},
   "source": [
    "Change the fraction rating values to intger to reduce the number of rating."
   ]
  },
  {
   "cell_type": "code",
   "execution_count": 77,
   "metadata": {},
   "outputs": [
    {
     "data": {
      "text/html": [
       "<div>\n",
       "<style scoped>\n",
       "    .dataframe tbody tr th:only-of-type {\n",
       "        vertical-align: middle;\n",
       "    }\n",
       "\n",
       "    .dataframe tbody tr th {\n",
       "        vertical-align: top;\n",
       "    }\n",
       "\n",
       "    .dataframe thead th {\n",
       "        text-align: right;\n",
       "    }\n",
       "</style>\n",
       "<table border=\"1\" class=\"dataframe\">\n",
       "  <thead>\n",
       "    <tr style=\"text-align: right;\">\n",
       "      <th></th>\n",
       "      <th>rating</th>\n",
       "      <th>count</th>\n",
       "    </tr>\n",
       "  </thead>\n",
       "  <tbody>\n",
       "    <tr>\n",
       "      <th>5</th>\n",
       "      <td>0</td>\n",
       "      <td>1101</td>\n",
       "    </tr>\n",
       "    <tr>\n",
       "      <th>2</th>\n",
       "      <td>1</td>\n",
       "      <td>5013</td>\n",
       "    </tr>\n",
       "    <tr>\n",
       "      <th>3</th>\n",
       "      <td>2</td>\n",
       "      <td>11720</td>\n",
       "    </tr>\n",
       "    <tr>\n",
       "      <th>1</th>\n",
       "      <td>3</td>\n",
       "      <td>30602</td>\n",
       "    </tr>\n",
       "    <tr>\n",
       "      <th>4</th>\n",
       "      <td>4</td>\n",
       "      <td>36473</td>\n",
       "    </tr>\n",
       "    <tr>\n",
       "      <th>0</th>\n",
       "      <td>5</td>\n",
       "      <td>15095</td>\n",
       "    </tr>\n",
       "  </tbody>\n",
       "</table>\n",
       "</div>"
      ],
      "text/plain": [
       "   rating  count\n",
       "5       0   1101\n",
       "2       1   5013\n",
       "3       2  11720\n",
       "1       3  30602\n",
       "4       4  36473\n",
       "0       5  15095"
      ]
     },
     "execution_count": 77,
     "metadata": {},
     "output_type": "execute_result"
    }
   ],
   "source": [
    "ratings = ratings.withColumn(\"rating\", F.expr(\"cast(rating as int)\"))\n",
    "ratings.groupBy(\"rating\").count().toPandas().sort_values(\"rating\")"
   ]
  },
  {
   "cell_type": "markdown",
   "metadata": {},
   "source": [
    "Find the distribution of rating by plotting histogram."
   ]
  },
  {
   "cell_type": "code",
   "execution_count": 78,
   "metadata": {},
   "outputs": [
    {
     "data": {
      "text/plain": [
       "<matplotlib.axes._subplots.AxesSubplot at 0x61dadc400>"
      ]
     },
     "execution_count": 78,
     "metadata": {},
     "output_type": "execute_result"
    },
    {
     "data": {
      "image/png": "[encoded data removed]",
      "text/plain": [
       "<matplotlib.figure.Figure at 0x61dad8240>"
      ]
     },
     "metadata": {},
     "output_type": "display_data"
    }
   ],
   "source": [
    "ratings.groupBy(\"userId\").agg(F.avg(\"rating\").alias(\"avg_rating\")).toPandas().avg_rating.plot.hist(bins = 50)"
   ]
  },
  {
   "cell_type": "markdown",
   "metadata": {},
   "source": [
    "How the average rating have changed over years."
   ]
  },
  {
   "cell_type": "code",
   "execution_count": 7,
   "metadata": {
    "scrolled": false
   },
   "outputs": [
    {
     "data": {
      "text/plain": [
       "Text(0,0.5,'Avg Rating')"
      ]
     },
     "execution_count": 7,
     "metadata": {},
     "output_type": "execute_result"
    },
    {
     "data": {
      "image/png": "[encoded data removed]",
      "text/plain": [
       "<matplotlib.figure.Figure at 0x11c3229b0>"
      ]
     },
     "metadata": {},
     "output_type": "display_data"
    }
   ],
   "source": [
    "avg_rating_by_year = (ratings\n",
    " .withColumn(\"year\", F.expr(\"year(from_unixtime(timestamp))\"))\n",
    " .groupBy(\"year\")\n",
    " .agg(F.avg(\"rating\").alias(\"avg_rating\"))\n",
    ").toPandas()\n",
    "\n",
    "avg_rating_by_year = avg_rating_by_year.sort_values(\"year\")\n",
    "avg_rating_by_year.index = avg_rating_by_year.year\n",
    "\n",
    "avg_rating_by_year.avg_rating.plot()\n",
    "\n",
    "plt.ylabel(\"Avg Rating\")"
   ]
  },
  {
   "cell_type": "markdown",
   "metadata": {},
   "source": [
    "Find number of unique users."
   ]
  },
  {
   "cell_type": "code",
   "execution_count": 8,
   "metadata": {},
   "outputs": [
    {
     "data": {
      "text/plain": [
       "Row(count(DISTINCT userId)=671)"
      ]
     },
     "execution_count": 8,
     "metadata": {},
     "output_type": "execute_result"
    }
   ],
   "source": [
    "ratings.selectExpr(\"count(distinct userId)\").first()"
   ]
  },
  {
   "cell_type": "markdown",
   "metadata": {},
   "source": [
    "Find number of unique movieIds."
   ]
  },
  {
   "cell_type": "code",
   "execution_count": 81,
   "metadata": {},
   "outputs": [
    {
     "data": {
      "text/plain": [
       "Row(count(DISTINCT movieId)=9066)"
      ]
     },
     "execution_count": 81,
     "metadata": {},
     "output_type": "execute_result"
    }
   ],
   "source": [
    "ratings.selectExpr(\"count(distinct movieId)\").first()"
   ]
  },
  {
   "cell_type": "markdown",
   "metadata": {},
   "source": [
    "Does all the movie id mentioned in rating present in the movies table as well? Expected count from the statement below should be 0, if all values are present. "
   ]
  },
  {
   "cell_type": "code",
   "execution_count": 10,
   "metadata": {},
   "outputs": [
    {
     "name": "stdout",
     "output_type": "stream",
     "text": [
      "+-------+------+------+---------+\n",
      "|movieId|userId|rating|timestamp|\n",
      "+-------+------+------+---------+\n",
      "+-------+------+------+---------+\n",
      "\n"
     ]
    }
   ],
   "source": [
    "ratings.join(movies, on = [\"movieId\"], how = \"leftanti\").show()"
   ]
  },
  {
   "cell_type": "markdown",
   "metadata": {},
   "source": [
    "What is distribution of the number of rating by each movie"
   ]
  },
  {
   "cell_type": "code",
   "execution_count": 11,
   "metadata": {},
   "outputs": [
    {
     "name": "stdout",
     "output_type": "stream",
     "text": [
      "+-------+------------------+\n",
      "|summary|             count|\n",
      "+-------+------------------+\n",
      "|  count|              9066|\n",
      "|   mean|11.030664019413193|\n",
      "| stddev|24.050799967665892|\n",
      "|    min|                 1|\n",
      "|    max|               341|\n",
      "+-------+------------------+\n",
      "\n"
     ]
    }
   ],
   "source": [
    "ratings.groupBy(\"movieId\").count().select(\"count\").describe().show()"
   ]
  },
  {
   "cell_type": "markdown",
   "metadata": {},
   "source": [
    "Find the average rating by each user and rating count."
   ]
  },
  {
   "cell_type": "code",
   "execution_count": 12,
   "metadata": {},
   "outputs": [
    {
     "name": "stdout",
     "output_type": "stream",
     "text": [
      "+------+-----+------------------+\n",
      "|userId|count|        avg_rating|\n",
      "+------+-----+------------------+\n",
      "|    12|   61|2.7540983606557377|\n",
      "|    18|   51| 3.235294117647059|\n",
      "|    38|  111| 4.292792792792793|\n",
      "|    67|  103|3.7572815533980584|\n",
      "|    70|   83| 4.204819277108434|\n",
      "|    93|  159|  3.79874213836478|\n",
      "|   161|   90| 3.588888888888889|\n",
      "|   186|   42|3.7976190476190474|\n",
      "|   190|   60|               4.0|\n",
      "|   218|   42| 3.892857142857143|\n",
      "|   225|   28| 4.107142857142857|\n",
      "|   257|  103|3.6067961165048543|\n",
      "|   261|   50|              3.63|\n",
      "|   263|  114| 3.254385964912281|\n",
      "|   273|   92| 4.309782608695652|\n",
      "|   275|  202| 4.452970297029703|\n",
      "|   280|   22| 4.318181818181818|\n",
      "|   295|  236| 3.944915254237288|\n",
      "|   300|   44| 4.056818181818182|\n",
      "|   317|   22|               3.5|\n",
      "+------+-----+------------------+\n",
      "only showing top 20 rows\n",
      "\n"
     ]
    }
   ],
   "source": [
    "avg_rating = ratings.groupBy(\"userId\").agg(F.count(\"*\").alias(\"count\"), F.avg(\"rating\").alias(\"avg_rating\"))\n",
    "avg_rating.show()"
   ]
  },
  {
   "cell_type": "markdown",
   "metadata": {},
   "source": [
    "Which movies are more consistent rating from users. We can take standard deviation as measure of consistency. "
   ]
  },
  {
   "cell_type": "code",
   "execution_count": 87,
   "metadata": {},
   "outputs": [
    {
     "name": "stdout",
     "output_type": "stream",
     "text": [
      "+-------+-----------+------------------+-----+\n",
      "|movieId|avg(rating)|               std|count|\n",
      "+-------+-----------+------------------+-----+\n",
      "|   2483|       2.75| 3.181980515339464|    2|\n",
      "|  27178|       2.75| 3.181980515339464|    2|\n",
      "|   6219|       2.75| 3.181980515339464|    2|\n",
      "|   5179|        3.0|2.8284271247461903|    2|\n",
      "|   3718|        3.0|2.8284271247461903|    2|\n",
      "|   3892|        3.0|2.8284271247461903|    2|\n",
      "|   4404|        3.0|2.8284271247461903|    2|\n",
      "|  91104|        2.5|2.8284271247461903|    2|\n",
      "|  66246|        2.5|2.8284271247461903|    2|\n",
      "|   4562|        3.0|2.8284271247461903|    2|\n",
      "|   4630|        3.0|2.8284271247461903|    2|\n",
      "|   2824|        3.0|2.8284271247461903|    2|\n",
      "| 135436|        3.0|2.8284271247461903|    2|\n",
      "|   3490|        3.0|2.8284271247461903|    2|\n",
      "|  98122|       2.25|2.4748737341529163|    2|\n",
      "|   4768|       2.75|2.4748737341529163|    2|\n",
      "|   7577|       2.25|2.4748737341529163|    2|\n",
      "|  31364|       2.25|2.4748737341529163|    2|\n",
      "|  87522|       2.75|2.4748737341529163|    2|\n",
      "|   8574|       2.25|2.4748737341529163|    2|\n",
      "+-------+-----------+------------------+-----+\n",
      "only showing top 20 rows\n",
      "\n"
     ]
    }
   ],
   "source": [
    "(ratings.groupBy(\"movieId\").agg(F.avg(\"rating\")\n",
    "                               , F.stddev(\"rating\").alias(\"std\")\n",
    "                               , F.count(\"*\").alias(\"count\"))\n",
    " .filter(\"not isnan(std)\")\n",
    " .orderBy(F.desc(\"std\"))).show()"
   ]
  },
  {
   "cell_type": "markdown",
   "metadata": {},
   "source": [
    "Devide the dataset into training and test"
   ]
  },
  {
   "cell_type": "code",
   "execution_count": 13,
   "metadata": {},
   "outputs": [],
   "source": [
    "df_train, df_test = (ratings.randomSplit([0.7, 0.3], seed = 1))\n",
    "cache_df(df_train, \"df_train\")"
   ]
  },
  {
   "cell_type": "markdown",
   "metadata": {},
   "source": [
    "Apply matrix factorization using ALS (alternate least square) from mllib"
   ]
  },
  {
   "cell_type": "code",
   "execution_count": 14,
   "metadata": {},
   "outputs": [],
   "source": [
    "from pyspark.ml.recommendation import ALS"
   ]
  },
  {
   "cell_type": "code",
   "execution_count": 15,
   "metadata": {},
   "outputs": [],
   "source": [
    "als = ALS(rank=10, maxIter=5, seed=0, userCol= \"userId\", itemCol= \"movieId\", ratingCol=\"rating\")\n",
    "als_model = als.fit(df_train)"
   ]
  },
  {
   "cell_type": "markdown",
   "metadata": {},
   "source": [
    "View the iterm factors. These factors are found by ALS model. These represent latent properties of the each movie. Rank or the dimension is 10 as we specied in the ALS model."
   ]
  },
  {
   "cell_type": "code",
   "execution_count": 16,
   "metadata": {},
   "outputs": [
    {
     "data": {
      "text/html": [
       "<div>\n",
       "<style scoped>\n",
       "    .dataframe tbody tr th:only-of-type {\n",
       "        vertical-align: middle;\n",
       "    }\n",
       "\n",
       "    .dataframe tbody tr th {\n",
       "        vertical-align: top;\n",
       "    }\n",
       "\n",
       "    .dataframe thead th {\n",
       "        text-align: right;\n",
       "    }\n",
       "</style>\n",
       "<table border=\"1\" class=\"dataframe\">\n",
       "  <thead>\n",
       "    <tr style=\"text-align: right;\">\n",
       "      <th></th>\n",
       "      <th>id</th>\n",
       "      <th>features</th>\n",
       "    </tr>\n",
       "  </thead>\n",
       "  <tbody>\n",
       "    <tr>\n",
       "      <th>0</th>\n",
       "      <td>10</td>\n",
       "      <td>[-0.6567551493644714, 0.17023585736751556, 0.1...</td>\n",
       "    </tr>\n",
       "    <tr>\n",
       "      <th>1</th>\n",
       "      <td>20</td>\n",
       "      <td>[-0.4997054636478424, 0.7629446983337402, 0.35...</td>\n",
       "    </tr>\n",
       "    <tr>\n",
       "      <th>2</th>\n",
       "      <td>30</td>\n",
       "      <td>[-1.2382067441940308, 0.31346645951271057, -0....</td>\n",
       "    </tr>\n",
       "    <tr>\n",
       "      <th>3</th>\n",
       "      <td>40</td>\n",
       "      <td>[-0.5878310203552246, -0.03554472327232361, -0...</td>\n",
       "    </tr>\n",
       "    <tr>\n",
       "      <th>4</th>\n",
       "      <td>50</td>\n",
       "      <td>[-0.9105768203735352, -0.29635462164878845, -0...</td>\n",
       "    </tr>\n",
       "    <tr>\n",
       "      <th>5</th>\n",
       "      <td>60</td>\n",
       "      <td>[-0.7227060198783875, 0.15587139129638672, 0.1...</td>\n",
       "    </tr>\n",
       "    <tr>\n",
       "      <th>6</th>\n",
       "      <td>70</td>\n",
       "      <td>[-0.7075935006141663, -0.5955221056938171, -0....</td>\n",
       "    </tr>\n",
       "    <tr>\n",
       "      <th>7</th>\n",
       "      <td>80</td>\n",
       "      <td>[-1.216125249862671, -0.710476279258728, -0.97...</td>\n",
       "    </tr>\n",
       "    <tr>\n",
       "      <th>8</th>\n",
       "      <td>100</td>\n",
       "      <td>[-1.0151256322860718, 0.1099018082022667, 0.49...</td>\n",
       "    </tr>\n",
       "    <tr>\n",
       "      <th>9</th>\n",
       "      <td>110</td>\n",
       "      <td>[-0.5864070653915405, -0.11984661221504211, -0...</td>\n",
       "    </tr>\n",
       "  </tbody>\n",
       "</table>\n",
       "</div>"
      ],
      "text/plain": [
       "    id                                           features\n",
       "0   10  [-0.6567551493644714, 0.17023585736751556, 0.1...\n",
       "1   20  [-0.4997054636478424, 0.7629446983337402, 0.35...\n",
       "2   30  [-1.2382067441940308, 0.31346645951271057, -0....\n",
       "3   40  [-0.5878310203552246, -0.03554472327232361, -0...\n",
       "4   50  [-0.9105768203735352, -0.29635462164878845, -0...\n",
       "5   60  [-0.7227060198783875, 0.15587139129638672, 0.1...\n",
       "6   70  [-0.7075935006141663, -0.5955221056938171, -0....\n",
       "7   80  [-1.216125249862671, -0.710476279258728, -0.97...\n",
       "8  100  [-1.0151256322860718, 0.1099018082022667, 0.49...\n",
       "9  110  [-0.5864070653915405, -0.11984661221504211, -0..."
      ]
     },
     "execution_count": 16,
     "metadata": {},
     "output_type": "execute_result"
    }
   ],
   "source": [
    "als_model.itemFactors.limit(10).toPandas()"
   ]
  },
  {
   "cell_type": "markdown",
   "metadata": {},
   "source": [
    "Find all the movies by userId = 100. It is just example user."
   ]
  },
  {
   "cell_type": "code",
   "execution_count": 17,
   "metadata": {},
   "outputs": [
    {
     "name": "stdout",
     "output_type": "stream",
     "text": [
      "+-------+------+------+---------+--------------------+--------------------+\n",
      "|movieId|userId|rating|timestamp|               title|              genres|\n",
      "+-------+------+------+---------+--------------------+--------------------+\n",
      "|     32|   100|   5.0|854193977|Twelve Monkeys (a...|Mystery|Sci-Fi|Th...|\n",
      "|   1073|   100|   5.0|854194056|Willy Wonka & the...|Children|Comedy|F...|\n",
      "|      3|   100|   4.0|854194024|Grumpier Old Men ...|      Comedy|Romance|\n",
      "|    608|   100|   4.0|854194024|        Fargo (1996)|Comedy|Crime|Dram...|\n",
      "|    745|   100|   4.0|854194208|Wallace & Gromit:...|Animation|Childre...|\n",
      "|    802|   100|   4.0|854194111|   Phenomenon (1996)|       Drama|Romance|\n",
      "|   1356|   100|   4.0|854194086|Star Trek: First ...|Action|Adventure|...|\n",
      "|     25|   100|   4.0|854193977|Leaving Las Vegas...|       Drama|Romance|\n",
      "|      1|   100|   4.0|854193977|    Toy Story (1995)|Adventure|Animati...|\n",
      "|      6|   100|   3.0|854194023|         Heat (1995)|Action|Crime|Thri...|\n",
      "|      7|   100|   3.0|854194024|      Sabrina (1995)|      Comedy|Romance|\n",
      "|     52|   100|   3.0|854194056|Mighty Aphrodite ...|Comedy|Drama|Romance|\n",
      "|    135|   100|   3.0|854194086|Down Periscope (1...|              Comedy|\n",
      "|    708|   100|   3.0|854194056|Truth About Cats ...|      Comedy|Romance|\n",
      "|     62|   100|   3.0|854193977|Mr. Holland's Opu...|               Drama|\n",
      "|     86|   100|   3.0|854194208| White Squall (1996)|Action|Adventure|...|\n",
      "|    141|   100|   3.0|854193977|Birdcage, The (1996)|              Comedy|\n",
      "|    648|   100|   3.0|854193977|Mission: Impossib...|Action|Adventure|...|\n",
      "|    733|   100|   3.0|854194024|    Rock, The (1996)|Action|Adventure|...|\n",
      "|     95|   100|   3.0|854193977| Broken Arrow (1996)|Action|Adventure|...|\n",
      "+-------+------+------+---------+--------------------+--------------------+\n",
      "only showing top 20 rows\n",
      "\n"
     ]
    }
   ],
   "source": [
    "ratings.filter(\"userId = 100\").join(movies, on = \"movieId\").orderBy(F.desc(\"rating\")).show()"
   ]
  },
  {
   "cell_type": "markdown",
   "metadata": {},
   "source": [
    "We see movieId = 32 has been one the top rated movie for user = 100. Find out movies similar to this movie = 32. For similarity consine similarity has been used on the iterm vectors. "
   ]
  },
  {
   "cell_type": "code",
   "execution_count": 18,
   "metadata": {
    "scrolled": false
   },
   "outputs": [
    {
     "name": "stdout",
     "output_type": "stream",
     "text": [
      "+-------+----------------------------------------------+--------------------+\n",
      "|movieId|title                                         |similarity          |\n",
      "+-------+----------------------------------------------+--------------------+\n",
      "|32     |Twelve Monkeys (a.k.a. 12 Monkeys) (1995)     |0.0                 |\n",
      "|46322  |Jet Li's Fearless (Huo Yuan Jia) (2006)       |0.0062189570119211  |\n",
      "|98124  |Batman: The Dark Knight Returns, Part 1 (2012)|0.010647798173433975|\n",
      "|6093   |Last Unicorn, The (1982)                      |0.013341269621749863|\n",
      "|8879   |Murder on the Orient Express (1974)           |0.013668733196542382|\n",
      "|47999  |Jesus Camp (2006)                             |0.014516203536842132|\n",
      "|6807   |Monty Python's The Meaning of Life (1983)     |0.015039268043464116|\n",
      "|5655   |Fan, The (1981)                               |0.016229203198995457|\n",
      "|5682   |Grey Zone, The (2001)                         |0.016229203198995457|\n",
      "|33437  |Unleashed (Danny the Dog) (2005)              |0.016229203198995457|\n",
      "+-------+----------------------------------------------+--------------------+\n",
      "only showing top 10 rows\n",
      "\n"
     ]
    }
   ],
   "source": [
    "from pyspark.sql.types import DoubleType\n",
    "import numpy as np\n",
    "import scipy\n",
    "import scipy.spatial\n",
    "\n",
    "def distance(v1, v2):\n",
    "    v1 = np.array(v1)\n",
    "    v2 = np.array(v2)\n",
    "    return float(scipy.spatial.distance.cosine(v1, v2))\n",
    "\n",
    "spark.udf.register(\"distance\", distance, DoubleType())\n",
    "\n",
    "(als_model\n",
    " .itemFactors\n",
    " .filter(F.col(\"id\") == 32)\n",
    " .alias(\"t1\")\n",
    " .crossJoin(als_model.itemFactors.alias(\"t2\"))\n",
    " .withColumn(\"similarity\", F.expr(\"distance(t1.features, t2.features)\")) \n",
    " .join(movies, F.col(\"t2.id\") == F.col(\"movieId\"))\n",
    " .orderBy(F.asc(\"similarity\"))\n",
    " .select(\"movieId\", \"title\", \"similarity\")\n",
    ").show(10, False)"
   ]
  },
  {
   "cell_type": "markdown",
   "metadata": {},
   "source": [
    "Similarly we can see the user factors representing the latent propeties of the user."
   ]
  },
  {
   "cell_type": "code",
   "execution_count": 19,
   "metadata": {},
   "outputs": [
    {
     "data": {
      "text/html": [
       "<div>\n",
       "<style scoped>\n",
       "    .dataframe tbody tr th:only-of-type {\n",
       "        vertical-align: middle;\n",
       "    }\n",
       "\n",
       "    .dataframe tbody tr th {\n",
       "        vertical-align: top;\n",
       "    }\n",
       "\n",
       "    .dataframe thead th {\n",
       "        text-align: right;\n",
       "    }\n",
       "</style>\n",
       "<table border=\"1\" class=\"dataframe\">\n",
       "  <thead>\n",
       "    <tr style=\"text-align: right;\">\n",
       "      <th></th>\n",
       "      <th>id</th>\n",
       "      <th>features</th>\n",
       "    </tr>\n",
       "  </thead>\n",
       "  <tbody>\n",
       "    <tr>\n",
       "      <th>0</th>\n",
       "      <td>10</td>\n",
       "      <td>[-0.27453291416168213, 0.4721890389919281, 0.0...</td>\n",
       "    </tr>\n",
       "    <tr>\n",
       "      <th>1</th>\n",
       "      <td>20</td>\n",
       "      <td>[-1.0165343284606934, 0.01221226342022419, 0.1...</td>\n",
       "    </tr>\n",
       "    <tr>\n",
       "      <th>2</th>\n",
       "      <td>30</td>\n",
       "      <td>[-0.4337976276874542, 0.39221954345703125, -0....</td>\n",
       "    </tr>\n",
       "    <tr>\n",
       "      <th>3</th>\n",
       "      <td>40</td>\n",
       "      <td>[-0.2449049949645996, -0.39294686913490295, 0....</td>\n",
       "    </tr>\n",
       "    <tr>\n",
       "      <th>4</th>\n",
       "      <td>50</td>\n",
       "      <td>[-0.5823224186897278, 0.30906781554222107, 0.1...</td>\n",
       "    </tr>\n",
       "    <tr>\n",
       "      <th>5</th>\n",
       "      <td>60</td>\n",
       "      <td>[-0.4005112946033478, -0.3106009364128113, -0....</td>\n",
       "    </tr>\n",
       "    <tr>\n",
       "      <th>6</th>\n",
       "      <td>70</td>\n",
       "      <td>[-0.8395317792892456, 0.15928272902965546, 0.3...</td>\n",
       "    </tr>\n",
       "    <tr>\n",
       "      <th>7</th>\n",
       "      <td>80</td>\n",
       "      <td>[-0.728884756565094, -0.5794251561164856, -0.0...</td>\n",
       "    </tr>\n",
       "    <tr>\n",
       "      <th>8</th>\n",
       "      <td>90</td>\n",
       "      <td>[-0.4736209511756897, -0.100474514067173, 0.21...</td>\n",
       "    </tr>\n",
       "    <tr>\n",
       "      <th>9</th>\n",
       "      <td>100</td>\n",
       "      <td>[-0.5826367139816284, 0.10884485393762589, -0....</td>\n",
       "    </tr>\n",
       "  </tbody>\n",
       "</table>\n",
       "</div>"
      ],
      "text/plain": [
       "    id                                           features\n",
       "0   10  [-0.27453291416168213, 0.4721890389919281, 0.0...\n",
       "1   20  [-1.0165343284606934, 0.01221226342022419, 0.1...\n",
       "2   30  [-0.4337976276874542, 0.39221954345703125, -0....\n",
       "3   40  [-0.2449049949645996, -0.39294686913490295, 0....\n",
       "4   50  [-0.5823224186897278, 0.30906781554222107, 0.1...\n",
       "5   60  [-0.4005112946033478, -0.3106009364128113, -0....\n",
       "6   70  [-0.8395317792892456, 0.15928272902965546, 0.3...\n",
       "7   80  [-0.728884756565094, -0.5794251561164856, -0.0...\n",
       "8   90  [-0.4736209511756897, -0.100474514067173, 0.21...\n",
       "9  100  [-0.5826367139816284, 0.10884485393762589, -0...."
      ]
     },
     "execution_count": 19,
     "metadata": {},
     "output_type": "execute_result"
    }
   ],
   "source": [
    "als_model.userFactors.limit(10).toPandas()"
   ]
  },
  {
   "cell_type": "markdown",
   "metadata": {},
   "source": [
    "Predict the rating for each movie and user combination in the df_test dataset."
   ]
  },
  {
   "cell_type": "code",
   "execution_count": 20,
   "metadata": {},
   "outputs": [
    {
     "name": "stdout",
     "output_type": "stream",
     "text": [
      "+------+-------+------+----------+----------+\n",
      "|userId|movieId|rating| timestamp|prediction|\n",
      "+------+-------+------+----------+----------+\n",
      "|   157|     12|   2.0|1291598164| 2.3615606|\n",
      "|   564|     12|   1.0| 974709821|  2.962479|\n",
      "|    91|     12|   3.5|1448813887| 3.7231722|\n",
      "|   624|     12|   2.0|1019563753| 2.1231043|\n",
      "|   636|     18|   3.0| 855227364| 3.6876078|\n",
      "|   616|     18|   4.0| 860573132| 3.3237486|\n",
      "|   571|     18|   5.0|1334342436|  2.984219|\n",
      "|   135|     18|   4.0| 844996129| 2.9966164|\n",
      "|   255|     18|   2.5|1236980522| 2.6255386|\n",
      "|   461|     18|   1.5|1091959887| 2.8265314|\n",
      "|   408|     18|   5.0| 933116210|  2.465368|\n",
      "|   507|     18|   4.0| 862091839| 3.7877188|\n",
      "|   177|     18|   4.0| 907380994| 4.0937204|\n",
      "|    30|     18|   2.0| 945277971| 3.4956696|\n",
      "|   655|     18|   4.0|1470073389| 3.5190122|\n",
      "|   165|     70|   5.0|1111480089|  2.729212|\n",
      "|   358|     70|   1.0| 957534713| 2.4271307|\n",
      "|    34|     70|   4.0| 973746231|  3.272626|\n",
      "|   580|     70|   2.5|1165292373|  2.613694|\n",
      "|   647|     70|   3.0| 947292818| 2.7549984|\n",
      "+------+-------+------+----------+----------+\n",
      "only showing top 20 rows\n",
      "\n"
     ]
    }
   ],
   "source": [
    "df_prediction = als_model.transform(df_test)\n",
    "df_prediction.show()"
   ]
  },
  {
   "cell_type": "markdown",
   "metadata": {},
   "source": [
    "Find predictions of rating for user 575 and compare it against the actual rating. "
   ]
  },
  {
   "cell_type": "code",
   "execution_count": 21,
   "metadata": {},
   "outputs": [
    {
     "name": "stdout",
     "output_type": "stream",
     "text": [
      "+------+-------+------+----------+----------+\n",
      "|userId|movieId|rating| timestamp|prediction|\n",
      "+------+-------+------+----------+----------+\n",
      "|   575|    613|   4.0|1012594056| 3.0562854|\n",
      "|   575|    912|   5.0|1012593307| 3.9839513|\n",
      "|   575|   1256|   5.0|1012595762| 3.5357132|\n",
      "|   575|   1479|   2.0|1012594286|  2.448181|\n",
      "|   575|   1943|   3.0|1012606205| 2.9540071|\n",
      "|   575|   2716|   5.0|1012593003| 3.3577695|\n",
      "|   575|   2728|   3.0|1012604429| 3.7834008|\n",
      "|   575|   2968|   5.0|1012597696|  3.311494|\n",
      "|   575|   3196|   4.0|1012604409| 4.0493655|\n",
      "|   575|   3516|   3.0|1018056630| 2.1874354|\n",
      "|   575|   5232|   4.0|1018058258|       NaN|\n",
      "|   575|    539|   3.0|1012593690|  3.086885|\n",
      "|   575|    913|   5.0|1012593062| 3.9459794|\n",
      "|   575|   1022|   4.0|1012594848| 3.2176213|\n",
      "|   575|   1597|   4.0|1012594028|   2.37563|\n",
      "|   575|   2099|   3.0|1012594848| 4.1476636|\n",
      "|   575|   3244|   4.0|1012596068| 3.0872905|\n",
      "|   575|   3421|   3.0|1012595812|  3.539041|\n",
      "|   575|   5034|   5.0|1012593616| 3.2249193|\n",
      "|   575|    848|   4.0|1012605150| 3.6229372|\n",
      "+------+-------+------+----------+----------+\n",
      "only showing top 20 rows\n",
      "\n"
     ]
    }
   ],
   "source": [
    "df_prediction.filter(\"userId = 575\").show()"
   ]
  },
  {
   "cell_type": "markdown",
   "metadata": {},
   "source": [
    "For for some movie prediction is nan. Those movies may not have any records in the df_train."
   ]
  },
  {
   "cell_type": "code",
   "execution_count": 92,
   "metadata": {},
   "outputs": [
    {
     "name": "stdout",
     "output_type": "stream",
     "text": [
      "+------+-------+------+----------+----------+\n",
      "|userId|movieId|rating| timestamp|prediction|\n",
      "+------+-------+------+----------+----------+\n",
      "|   311|     83|   3.0| 898008016|       NaN|\n",
      "|   514|     83|   3.0| 853893246|       NaN|\n",
      "|   383|     83|   3.0| 852809207|       NaN|\n",
      "|   564|    108|   4.0| 974713920|       NaN|\n",
      "|   555|    114|   3.0| 857379668|       NaN|\n",
      "|   452|    119|   3.0| 976423036|       NaN|\n",
      "|    86|    124|   3.0| 848161391|       NaN|\n",
      "|   665|    129|   3.0| 995232528|       NaN|\n",
      "|    41|    130|   4.5|1093889645|       NaN|\n",
      "|   575|    148|   4.0|1012605106|       NaN|\n",
      "|   564|    184|   5.0| 974715756|       NaN|\n",
      "|   254|    184|   4.0| 845158097|       NaN|\n",
      "|   439|    187|   2.0|1041115023|       NaN|\n",
      "|   393|    187|   3.5|1058472448|       NaN|\n",
      "|   312|    187|   3.0| 959930966|       NaN|\n",
      "|   564|    189|   4.0| 974838288|       NaN|\n",
      "|   182|    243|   4.0| 845745917|       NaN|\n",
      "|   647|    245|   3.0| 947292322|       NaN|\n",
      "|   516|    251|   3.0| 844687985|       NaN|\n",
      "|   330|    301|   5.0| 948574126|       NaN|\n",
      "+------+-------+------+----------+----------+\n",
      "only showing top 20 rows\n",
      "\n"
     ]
    }
   ],
   "source": [
    "df_prediction.filter(\"isnan(prediction)\").orderBy(\"movieId\").show()"
   ]
  },
  {
   "cell_type": "code",
   "execution_count": 22,
   "metadata": {},
   "outputs": [
    {
     "name": "stdout",
     "output_type": "stream",
     "text": [
      "+------+-------+------+----------+----------+\n",
      "|userId|movieId|rating| timestamp|prediction|\n",
      "+------+-------+------+----------+----------+\n",
      "|   575|    148|   4.0|1012605106|       NaN|\n",
      "+------+-------+------+----------+----------+\n",
      "\n"
     ]
    }
   ],
   "source": [
    "df_prediction.filter(\"movieId = 148\").show()"
   ]
  },
  {
   "cell_type": "code",
   "execution_count": 23,
   "metadata": {},
   "outputs": [
    {
     "name": "stdout",
     "output_type": "stream",
     "text": [
      "+------+-------+------+---------+\n",
      "|userId|movieId|rating|timestamp|\n",
      "+------+-------+------+---------+\n",
      "+------+-------+------+---------+\n",
      "\n"
     ]
    }
   ],
   "source": [
    "df_train.filter(\"movieId = 148\").show()"
   ]
  },
  {
   "cell_type": "code",
   "execution_count": 24,
   "metadata": {
    "scrolled": false
   },
   "outputs": [
    {
     "name": "stdout",
     "output_type": "stream",
     "text": [
      "+---+--------+\n",
      "| id|features|\n",
      "+---+--------+\n",
      "+---+--------+\n",
      "\n"
     ]
    }
   ],
   "source": [
    "als_model.itemFactors.filter(\"id = 148\").show()"
   ]
  },
  {
   "cell_type": "code",
   "execution_count": 25,
   "metadata": {},
   "outputs": [
    {
     "name": "stdout",
     "output_type": "stream",
     "text": [
      "+------+--------------------+\n",
      "|userId|     recommendations|\n",
      "+------+--------------------+\n",
      "|    70|[[3153, 6.02181],...|\n",
      "|   190|[[83411, 6.084129...|\n",
      "|   280|[[67504, 5.802005...|\n",
      "|   300|[[65037, 5.451367...|\n",
      "|   340|[[121231, 5.38031...|\n",
      "|   600|[[121231, 5.44495...|\n",
      "|   640|[[1948, 5.232915]...|\n",
      "|   660|[[8530, 5.3535943...|\n",
      "|   161|[[2924, 4.9626007...|\n",
      "|   261|[[7502, 5.934217]...|\n",
      "|   471|[[8530, 5.079349]...|\n",
      "|   581|[[6413, 4.8211713...|\n",
      "|   611|[[121231, 5.59576...|\n",
      "|   641|[[6413, 5.5095477...|\n",
      "|    12|[[4467, 5.0954275...|\n",
      "|   412|[[3414, 5.187823]...|\n",
      "|   452|[[83318, 4.957124...|\n",
      "|   612|[[5114, 4.624316]...|\n",
      "|   662|[[6413, 5.0597777...|\n",
      "|    93|[[83318, 5.213915...|\n",
      "+------+--------------------+\n",
      "only showing top 20 rows\n",
      "\n"
     ]
    }
   ],
   "source": [
    "recommendations_by_user = als_model.recommendForAllUsers(10)\n",
    "recommendations_by_user.show()"
   ]
  },
  {
   "cell_type": "code",
   "execution_count": 26,
   "metadata": {},
   "outputs": [],
   "source": [
    "# Most active users"
   ]
  },
  {
   "cell_type": "code",
   "execution_count": 27,
   "metadata": {},
   "outputs": [
    {
     "name": "stdout",
     "output_type": "stream",
     "text": [
      "+------+------------------+------------+------------------+\n",
      "|userId|        avg_rating|rating_count|        std_rating|\n",
      "+------+------------------+------------+------------------+\n",
      "|   547|3.3667921371810956|        2391|1.0735159642009127|\n",
      "|   564|3.5524625267665955|        1868|1.1718577106638184|\n",
      "|   624| 2.894236311239193|        1735|1.0271241705713352|\n",
      "|    15|2.6217647058823528|        1700|1.2590565864427354|\n",
      "|    73| 3.374223602484472|        1610|0.9452969120978967|\n",
      "|   452| 3.189179104477612|        1340|1.0167723747219453|\n",
      "|   468|2.9659178931061194|        1291|0.7650304687131316|\n",
      "|   380|3.3664158043273753|        1063|0.8985922471106201|\n",
      "|   311| 3.006378802747792|        1019|0.9165625850322938|\n",
      "|    30| 3.765084075173096|        1011|0.9259501236774199|\n",
      "|   294| 3.584477296726505|         947|0.6500461979532272|\n",
      "|   509| 3.366738894907909|         923|0.9376488365288455|\n",
      "|   580| 3.272776572668113|         922|0.8112581159527509|\n",
      "|   213|2.6604395604395603|         910|0.9393463917840866|\n",
      "|   212|3.1090182648401825|         876|0.8791806287400377|\n",
      "|   472|3.7873493975903614|         830|0.9831003668662563|\n",
      "|   388|3.6464646464646466|         792|1.0085037301452782|\n",
      "|    23|3.6329201101928374|         726|0.8443918108085486|\n",
      "|   457| 2.502805049088359|         713|0.9950681685062946|\n",
      "|   518| 3.572842998585573|         707|0.9936046100979975|\n",
      "+------+------------------+------------+------------------+\n",
      "only showing top 20 rows\n",
      "\n"
     ]
    }
   ],
   "source": [
    "rating_count_by_user = (ratings\n",
    " .groupBy(\"userId\")\n",
    " .agg(F.avg(\"rating\").alias(\"avg_rating\")\n",
    "      , F.count(\"*\").alias(\"rating_count\")\n",
    "      , F.stddev(\"rating\").alias(\"std_rating\")\n",
    "     )\n",
    " .orderBy(F.desc(\"rating_count\"))\n",
    ")\n",
    "\n",
    "rating_count_by_user.show()"
   ]
  },
  {
   "cell_type": "code",
   "execution_count": 28,
   "metadata": {},
   "outputs": [
    {
     "data": {
      "text/plain": [
       "Row(avg(std_rating)=0.9397575962390582)"
      ]
     },
     "execution_count": 28,
     "metadata": {},
     "output_type": "execute_result"
    }
   ],
   "source": [
    "rating_count_by_user.selectExpr(\"mean(std_rating)\").first()"
   ]
  },
  {
   "cell_type": "code",
   "execution_count": 29,
   "metadata": {},
   "outputs": [
    {
     "data": {
      "text/plain": [
       "<matplotlib.axes._subplots.AxesSubplot at 0x61d155668>"
      ]
     },
     "execution_count": 29,
     "metadata": {},
     "output_type": "execute_result"
    },
    {
     "data": {
      "image/png": "[encoded data removed]",
      "text/plain": [
       "<matplotlib.figure.Figure at 0x11cb7bcc0>"
      ]
     },
     "metadata": {},
     "output_type": "display_data"
    }
   ],
   "source": [
    "rating_count_by_user.select(\"rating_count\").toPandas()[\"rating_count\"].plot.hist(bins = 50)"
   ]
  },
  {
   "cell_type": "code",
   "execution_count": 30,
   "metadata": {},
   "outputs": [
    {
     "data": {
      "text/plain": [
       "Row(userId=547, recommendations=[Row(movieId=83411, rating=5.173189640045166), Row(movieId=67504, rating=5.173189640045166), Row(movieId=83318, rating=5.173189640045166), Row(movieId=83359, rating=5.173189640045166), Row(movieId=96075, rating=5.025032043457031), Row(movieId=8261, rating=5.025032043457031), Row(movieId=8123, rating=5.025032043457031), Row(movieId=26501, rating=5.025032043457031), Row(movieId=150856, rating=5.025032043457031), Row(movieId=101850, rating=5.025032043457031)])"
      ]
     },
     "execution_count": 30,
     "metadata": {},
     "output_type": "execute_result"
    }
   ],
   "source": [
    "recommendations_by_user.filter(\"id = 547\").first()"
   ]
  },
  {
   "cell_type": "code",
   "execution_count": 31,
   "metadata": {},
   "outputs": [
    {
     "name": "stdout",
     "output_type": "stream",
     "text": [
      "+-------+------+------------------+--------------------+--------------------+\n",
      "|movieId|userId|recommended_rating|               title|              genres|\n",
      "+-------+------+------------------+--------------------+--------------------+\n",
      "|   3153|    70|           6.02181|7th Voyage of Sin...|Action|Adventure|...|\n",
      "|  83411|    70|         6.0172696|         Cops (1922)|              Comedy|\n",
      "|  67504|    70|         6.0172696|Land of Silence a...|         Documentary|\n",
      "|  83318|    70|         6.0172696|    Goat, The (1921)|              Comedy|\n",
      "|  83359|    70|         6.0172696|Play House, The (...|              Comedy|\n",
      "|   8580|    70|         5.9748297|Into the Woods (1...|Adventure|Comedy|...|\n",
      "|   6375|    70|          5.880907|Gigantic (A Tale ...|         Documentary|\n",
      "|   2924|    70|         5.7831845|Drunken Master (J...|       Action|Comedy|\n",
      "|   2920|    70|           5.75577|Children of Parad...|       Drama|Romance|\n",
      "|   1564|    70|          5.725449|For Roseanna (Ros...|Comedy|Drama|Romance|\n",
      "|  83411|   190|          6.084129|         Cops (1922)|              Comedy|\n",
      "|  83318|   190|          6.084129|    Goat, The (1921)|              Comedy|\n",
      "|  67504|   190|          6.084129|Land of Silence a...|         Documentary|\n",
      "|  83359|   190|          6.084129|Play House, The (...|              Comedy|\n",
      "|   5114|   190|          5.531789|Bad and the Beaut...|               Drama|\n",
      "|   2920|   190|         5.5294647|Children of Parad...|       Drama|Romance|\n",
      "|  31547|   190|          5.475716|Lessons of Darkne...|     Documentary|War|\n",
      "|   7074|   190|          5.475716|Navigator, The (1...|              Comedy|\n",
      "|  26400|   190|          5.475716|Gates of Heaven (...|         Documentary|\n",
      "|  25764|   190|          5.475716|Cameraman, The (1...|Comedy|Drama|Romance|\n",
      "+-------+------+------------------+--------------------+--------------------+\n",
      "only showing top 20 rows\n",
      "\n"
     ]
    }
   ],
   "source": [
    "recommendations_by_user_enriched = (recommendations_by_user\n",
    ".withColumn(\"recommendation\", F.explode(\"recommendations\"))\n",
    ".withColumn(\"movieId\", F.expr(\"recommendation.movieId\"))\n",
    ".withColumn(\"recommended_rating\", F.expr(\"recommendation.rating\"))\n",
    ".drop(\"recommendations\")\n",
    ".drop(\"recommendation\")\n",
    ".join(movies, on = \"movieId\")\n",
    ")\n",
    "\n",
    "recommendations_by_user_enriched.show()"
   ]
  },
  {
   "cell_type": "code",
   "execution_count": 32,
   "metadata": {},
   "outputs": [
    {
     "name": "stdout",
     "output_type": "stream",
     "text": [
      "+-------+------+------------------+--------------------+-----------------+\n",
      "|movieId|userId|recommended_rating|               title|           genres|\n",
      "+-------+------+------------------+--------------------+-----------------+\n",
      "|  83411|   547|         5.1731896|         Cops (1922)|           Comedy|\n",
      "|  67504|   547|         5.1731896|Land of Silence a...|      Documentary|\n",
      "|  83318|   547|         5.1731896|    Goat, The (1921)|           Comedy|\n",
      "|  83359|   547|         5.1731896|Play House, The (...|           Comedy|\n",
      "|  96075|   547|          5.025032|  Bleak House (2005)|            Drama|\n",
      "|   8261|   547|          5.025032|3 Women (Three Wo...|            Drama|\n",
      "|   8123|   547|          5.025032|Sammy and Rosie G...|     Comedy|Drama|\n",
      "|  26501|   547|          5.025032|    Choose Me (1984)|   Comedy|Romance|\n",
      "| 150856|   547|          5.025032|Making a Murderer...|      Documentary|\n",
      "| 101850|   547|          5.025032|Death on the Stai...|Crime|Documentary|\n",
      "+-------+------+------------------+--------------------+-----------------+\n",
      "\n"
     ]
    }
   ],
   "source": [
    "recommendations_by_user_enriched.filter(\"userId = 547\").show()"
   ]
  },
  {
   "cell_type": "code",
   "execution_count": 33,
   "metadata": {},
   "outputs": [],
   "source": [
    "movies_ratings = ratings.join(movies, on = \"movieId\")"
   ]
  },
  {
   "cell_type": "code",
   "execution_count": 34,
   "metadata": {},
   "outputs": [
    {
     "name": "stdout",
     "output_type": "stream",
     "text": [
      "+-------+------+------+----------+--------------------+--------------------+\n",
      "|movieId|userId|rating| timestamp|               title|              genres|\n",
      "+-------+------+------+----------+--------------------+--------------------+\n",
      "|    903|   547|   5.0| 974777443|      Vertigo (1958)|Drama|Mystery|Rom...|\n",
      "|   1028|   547|   5.0| 974780614| Mary Poppins (1964)|Children|Comedy|F...|\n",
      "|    904|   547|   5.0| 974777410|  Rear Window (1954)|    Mystery|Thriller|\n",
      "|    902|   547|   5.0| 974810254|Breakfast at Tiff...|       Drama|Romance|\n",
      "|    908|   547|   5.0| 974777109|North by Northwes...|Action|Adventure|...|\n",
      "|    125|   547|   5.0|1370674374|Flirting With Dis...|              Comedy|\n",
      "|    909|   547|   5.0| 974780397|Apartment, The (1...|Comedy|Drama|Romance|\n",
      "|    194|   547|   5.0| 986695368|        Smoke (1995)|        Comedy|Drama|\n",
      "|    910|   547|   5.0| 974777443|Some Like It Hot ...|        Comedy|Crime|\n",
      "|     17|   547|   5.0| 974778941|Sense and Sensibi...|       Drama|Romance|\n",
      "|    912|   547|   5.0| 974781004|   Casablanca (1942)|       Drama|Romance|\n",
      "|    448|   547|   5.0| 981314419|     Fearless (1993)|               Drama|\n",
      "|    913|   547|   5.0| 974779724|Maltese Falcon, T...|   Film-Noir|Mystery|\n",
      "|    581|   547|   5.0| 974779641|Celluloid Closet,...|         Documentary|\n",
      "|    919|   547|   5.0| 974809870|Wizard of Oz, The...|Adventure|Childre...|\n",
      "|    594|   547|   5.0|1053172631|Snow White and th...|Animation|Childre...|\n",
      "|    920|   547|   5.0| 974810010|Gone with the Win...|   Drama|Romance|War|\n",
      "|    750|   547|   5.0| 974850245|Dr. Strangelove o...|          Comedy|War|\n",
      "|    922|   547|   5.0| 974777443|Sunset Blvd. (a.k...|Drama|Film-Noir|R...|\n",
      "|    899|   547|   5.0| 974777482|Singin' in the Ra...|Comedy|Musical|Ro...|\n",
      "+-------+------+------+----------+--------------------+--------------------+\n",
      "only showing top 20 rows\n",
      "\n"
     ]
    }
   ],
   "source": [
    "movies_ratings.filter(\"userId = 547\").orderBy(F.desc(\"rating\")).show()"
   ]
  },
  {
   "cell_type": "code",
   "execution_count": 35,
   "metadata": {},
   "outputs": [
    {
     "name": "stdout",
     "output_type": "stream",
     "text": [
      "+-------+------+------+----------+--------------------+--------------------+\n",
      "|movieId|userId|rating| timestamp|               title|              genres|\n",
      "+-------+------+------+----------+--------------------+--------------------+\n",
      "|      1|   547|   3.5|1053173138|    Toy Story (1995)|Adventure|Animati...|\n",
      "|      6|   547|   2.5|1149462857|         Heat (1995)|Action|Crime|Thri...|\n",
      "|      7|   547|   2.0|1021098817|      Sabrina (1995)|      Comedy|Romance|\n",
      "|     11|   547|   3.0|1418149949|American Presiden...|Comedy|Drama|Romance|\n",
      "|     14|   547|   3.5|1053171195|        Nixon (1995)|               Drama|\n",
      "|     16|   547|   4.0| 986694981|       Casino (1995)|         Crime|Drama|\n",
      "|     17|   547|   5.0| 974778941|Sense and Sensibi...|       Drama|Romance|\n",
      "|     21|   547|   4.0| 974809441|   Get Shorty (1995)|Comedy|Crime|Thri...|\n",
      "|     25|   547|   4.5|1053087861|Leaving Las Vegas...|       Drama|Romance|\n",
      "|     32|   547|   4.0| 981314489|Twelve Monkeys (a...|Mystery|Sci-Fi|Th...|\n",
      "|     34|   547|   4.0| 974780707|         Babe (1995)|      Children|Drama|\n",
      "|     36|   547|   4.0|1022958803|Dead Man Walking ...|         Crime|Drama|\n",
      "|     39|   547|   3.0| 974778610|     Clueless (1995)|      Comedy|Romance|\n",
      "|     45|   547|   4.0|1022959385|   To Die For (1995)|Comedy|Drama|Thri...|\n",
      "|     47|   547|   4.0| 978953596|Seven (a.k.a. Se7...|    Mystery|Thriller|\n",
      "|     50|   547|   4.0| 981314122|Usual Suspects, T...|Crime|Mystery|Thr...|\n",
      "|     57|   547|   4.0|1135940915|Home for the Holi...|               Drama|\n",
      "|     85|   547|   3.0| 974810752|Angels and Insect...|       Drama|Romance|\n",
      "|     94|   547|   3.5|1053172557|Beautiful Girls (...|Comedy|Drama|Romance|\n",
      "|    111|   547|   5.0| 974809870|  Taxi Driver (1976)|Crime|Drama|Thriller|\n",
      "+-------+------+------+----------+--------------------+--------------------+\n",
      "only showing top 20 rows\n",
      "\n"
     ]
    }
   ],
   "source": [
    "movies_ratings.filter(\"userId = 547\").show()"
   ]
  },
  {
   "cell_type": "code",
   "execution_count": 36,
   "metadata": {},
   "outputs": [
    {
     "name": "stdout",
     "output_type": "stream",
     "text": [
      "+-------+------+------------------+--------------------+-----------------+\n",
      "|movieId|userId|recommended_rating|               title|           genres|\n",
      "+-------+------+------------------+--------------------+-----------------+\n",
      "|  83411|   547|         5.1731896|         Cops (1922)|           Comedy|\n",
      "|  67504|   547|         5.1731896|Land of Silence a...|      Documentary|\n",
      "|  83318|   547|         5.1731896|    Goat, The (1921)|           Comedy|\n",
      "|  83359|   547|         5.1731896|Play House, The (...|           Comedy|\n",
      "|  96075|   547|          5.025032|  Bleak House (2005)|            Drama|\n",
      "|   8261|   547|          5.025032|3 Women (Three Wo...|            Drama|\n",
      "|   8123|   547|          5.025032|Sammy and Rosie G...|     Comedy|Drama|\n",
      "|  26501|   547|          5.025032|    Choose Me (1984)|   Comedy|Romance|\n",
      "| 150856|   547|          5.025032|Making a Murderer...|      Documentary|\n",
      "| 101850|   547|          5.025032|Death on the Stai...|Crime|Documentary|\n",
      "+-------+------+------------------+--------------------+-----------------+\n",
      "\n"
     ]
    }
   ],
   "source": [
    "recommendations_by_user_enriched.filter(\"userId = 547\").show()"
   ]
  },
  {
   "cell_type": "code",
   "execution_count": 37,
   "metadata": {},
   "outputs": [
    {
     "data": {
      "text/html": [
       "<div>\n",
       "<style scoped>\n",
       "    .dataframe tbody tr th:only-of-type {\n",
       "        vertical-align: middle;\n",
       "    }\n",
       "\n",
       "    .dataframe tbody tr th {\n",
       "        vertical-align: top;\n",
       "    }\n",
       "\n",
       "    .dataframe thead th {\n",
       "        text-align: right;\n",
       "    }\n",
       "</style>\n",
       "<table border=\"1\" class=\"dataframe\">\n",
       "  <thead>\n",
       "    <tr style=\"text-align: right;\">\n",
       "      <th></th>\n",
       "      <th>movieId</th>\n",
       "      <th>userId</th>\n",
       "      <th>rating</th>\n",
       "      <th>timestamp</th>\n",
       "      <th>title</th>\n",
       "      <th>genres</th>\n",
       "    </tr>\n",
       "  </thead>\n",
       "  <tbody>\n",
       "    <tr>\n",
       "      <th>0</th>\n",
       "      <td>928</td>\n",
       "      <td>547</td>\n",
       "      <td>5.0</td>\n",
       "      <td>974810654</td>\n",
       "      <td>Rebecca (1940)</td>\n",
       "      <td>Drama|Mystery|Romance|Thriller</td>\n",
       "    </tr>\n",
       "    <tr>\n",
       "      <th>1</th>\n",
       "      <td>3152</td>\n",
       "      <td>547</td>\n",
       "      <td>5.0</td>\n",
       "      <td>974809988</td>\n",
       "      <td>Last Picture Show, The (1971)</td>\n",
       "      <td>Drama</td>\n",
       "    </tr>\n",
       "    <tr>\n",
       "      <th>2</th>\n",
       "      <td>904</td>\n",
       "      <td>547</td>\n",
       "      <td>5.0</td>\n",
       "      <td>974777410</td>\n",
       "      <td>Rear Window (1954)</td>\n",
       "      <td>Mystery|Thriller</td>\n",
       "    </tr>\n",
       "    <tr>\n",
       "      <th>3</th>\n",
       "      <td>2612</td>\n",
       "      <td>547</td>\n",
       "      <td>5.0</td>\n",
       "      <td>974810080</td>\n",
       "      <td>Mildred Pierce (1945)</td>\n",
       "      <td>Drama|Film-Noir</td>\n",
       "    </tr>\n",
       "    <tr>\n",
       "      <th>4</th>\n",
       "      <td>448</td>\n",
       "      <td>547</td>\n",
       "      <td>5.0</td>\n",
       "      <td>981314419</td>\n",
       "      <td>Fearless (1993)</td>\n",
       "      <td>Drama</td>\n",
       "    </tr>\n",
       "    <tr>\n",
       "      <th>5</th>\n",
       "      <td>5017</td>\n",
       "      <td>547</td>\n",
       "      <td>5.0</td>\n",
       "      <td>1094983691</td>\n",
       "      <td>Big Heat, The (1953)</td>\n",
       "      <td>Drama|Film-Noir</td>\n",
       "    </tr>\n",
       "    <tr>\n",
       "      <th>6</th>\n",
       "      <td>7116</td>\n",
       "      <td>547</td>\n",
       "      <td>5.0</td>\n",
       "      <td>1071595779</td>\n",
       "      <td>Diabolique (Les diaboliques) (1955)</td>\n",
       "      <td>Horror|Mystery|Thriller</td>\n",
       "    </tr>\n",
       "    <tr>\n",
       "      <th>7</th>\n",
       "      <td>53887</td>\n",
       "      <td>547</td>\n",
       "      <td>5.0</td>\n",
       "      <td>1201361739</td>\n",
       "      <td>O Lucky Man! (1973)</td>\n",
       "      <td>Comedy|Drama|Fantasy|Musical</td>\n",
       "    </tr>\n",
       "    <tr>\n",
       "      <th>8</th>\n",
       "      <td>86487</td>\n",
       "      <td>547</td>\n",
       "      <td>5.0</td>\n",
       "      <td>1351010563</td>\n",
       "      <td>Mildred Pierce (2011)</td>\n",
       "      <td>Drama</td>\n",
       "    </tr>\n",
       "    <tr>\n",
       "      <th>9</th>\n",
       "      <td>2732</td>\n",
       "      <td>547</td>\n",
       "      <td>5.0</td>\n",
       "      <td>974809963</td>\n",
       "      <td>Jules and Jim (Jules et Jim) (1961)</td>\n",
       "      <td>Drama|Romance</td>\n",
       "    </tr>\n",
       "  </tbody>\n",
       "</table>\n",
       "</div>"
      ],
      "text/plain": [
       "   movieId  userId  rating   timestamp                                title  \\\n",
       "0      928     547     5.0   974810654                       Rebecca (1940)   \n",
       "1     3152     547     5.0   974809988        Last Picture Show, The (1971)   \n",
       "2      904     547     5.0   974777410                   Rear Window (1954)   \n",
       "3     2612     547     5.0   974810080                Mildred Pierce (1945)   \n",
       "4      448     547     5.0   981314419                      Fearless (1993)   \n",
       "5     5017     547     5.0  1094983691                 Big Heat, The (1953)   \n",
       "6     7116     547     5.0  1071595779  Diabolique (Les diaboliques) (1955)   \n",
       "7    53887     547     5.0  1201361739                  O Lucky Man! (1973)   \n",
       "8    86487     547     5.0  1351010563                Mildred Pierce (2011)   \n",
       "9     2732     547     5.0   974809963  Jules and Jim (Jules et Jim) (1961)   \n",
       "\n",
       "                           genres  \n",
       "0  Drama|Mystery|Romance|Thriller  \n",
       "1                           Drama  \n",
       "2                Mystery|Thriller  \n",
       "3                 Drama|Film-Noir  \n",
       "4                           Drama  \n",
       "5                 Drama|Film-Noir  \n",
       "6         Horror|Mystery|Thriller  \n",
       "7    Comedy|Drama|Fantasy|Musical  \n",
       "8                           Drama  \n",
       "9                   Drama|Romance  "
      ]
     },
     "execution_count": 37,
     "metadata": {},
     "output_type": "execute_result"
    }
   ],
   "source": [
    "(movies_ratings.filter(\"userId = 547\")\n",
    " .join(recommendations_by_user_enriched.filter(\"userId = 547\"), on = \"movieId\", how = \"leftanti\")\n",
    " .orderBy(F.desc(\"rating\"))\n",
    ").limit(10).toPandas()"
   ]
  },
  {
   "cell_type": "code",
   "execution_count": 38,
   "metadata": {},
   "outputs": [
    {
     "name": "stdout",
     "output_type": "stream",
     "text": [
      "+-------+------+------------------+--------------------+--------------------+\n",
      "|movieId|userId|recommended_rating|               title|              genres|\n",
      "+-------+------+------------------+--------------------+--------------------+\n",
      "|  67504|   547|         5.1731896|Land of Silence a...|         Documentary|\n",
      "|  83359|   547|         5.1731896|Play House, The (...|              Comedy|\n",
      "|  83318|   547|         5.1731896|    Goat, The (1921)|              Comedy|\n",
      "|  83411|   547|         5.1731896|         Cops (1922)|              Comedy|\n",
      "|   8609|   547|          4.655871|Our Hospitality (...|              Comedy|\n",
      "|  26400|   547|          4.655871|Gates of Heaven (...|         Documentary|\n",
      "|  25764|   547|          4.655871|Cameraman, The (1...|Comedy|Drama|Romance|\n",
      "|  72647|   547|          4.655871| Zorn's Lemma (1970)|               Drama|\n",
      "|  31547|   547|          4.655871|Lessons of Darkne...|     Documentary|War|\n",
      "|  80599|   547|          4.655871|Buster Keaton: A ...|         Documentary|\n",
      "|   7074|   547|          4.655871|Navigator, The (1...|              Comedy|\n",
      "|   6216|   547|          4.552959|Nowhere in Africa...|               Drama|\n",
      "|   6433|   547|         4.5073776|Man with the Movi...|         Documentary|\n",
      "|   3216|   547|         4.4911895|Vampyros Lesbos (...|Fantasy|Horror|Th...|\n",
      "|  92494|   547|         4.4911895|Dylan Moran: Mons...|  Comedy|Documentary|\n",
      "|  40412|   547|         4.4911895|Dead Man's Shoes ...|      Crime|Thriller|\n",
      "|   5914|   547|         4.4277573|Vernon, Florida (...|         Documentary|\n",
      "|  86504|   547|         4.4058313|Voices from the L...|         Documentary|\n",
      "|    850|   547|         4.3845778|Cyclo (Xich lo) (...|         Crime|Drama|\n",
      "|   1180|   547|         4.3772817| Hear My Song (1991)|              Comedy|\n",
      "+-------+------+------------------+--------------------+--------------------+\n",
      "only showing top 20 rows\n",
      "\n"
     ]
    }
   ],
   "source": [
    "def reco_for_user(userId): \n",
    "    return (als_model\n",
    "     .recommendForUserSubset(df_train.filter(F.col(\"userId\") == userId), 500)\n",
    "     .withColumn(\"recommendation\", F.explode(\"recommendations\"))\n",
    "     .withColumn(\"movieId\", F.expr(\"recommendation.movieId\"))\n",
    "     .withColumn(\"recommended_rating\", F.expr(\"recommendation.rating\"))\n",
    "     .drop(\"recommendations\")\n",
    "     .drop(\"recommendation\")\n",
    "     .join(ratings.filter(F.col(\"userId\") == userId), on = \"movieId\", how = \"leftanti\")\n",
    "     .join(movies, on = \"movieId\")\n",
    "     .orderBy(F.desc(\"recommended_rating\"))\n",
    "    )\n",
    "reco_for_user(547).show()"
   ]
  },
  {
   "cell_type": "code",
   "execution_count": 39,
   "metadata": {},
   "outputs": [
    {
     "name": "stdout",
     "output_type": "stream",
     "text": [
      "+------+----------+------------+-------------------+\n",
      "|userId|avg_rating|rating_count|         std_rating|\n",
      "+------+----------+------------+-------------------+\n",
      "|   331|      3.58|          25| 1.2389511693363868|\n",
      "|   375|      3.56|          25|  1.260952021291849|\n",
      "|   377|      3.36|          25| 0.8602325267042628|\n",
      "|   637|      4.14|          25| 0.8602325267042628|\n",
      "|    44|      3.36|          25| 0.8602325267042625|\n",
      "|   114|      4.08|          25| 1.0376254944182253|\n",
      "|   100|       3.4|          25| 0.7071067811865476|\n",
      "|   269|       3.4|          25| 1.0801234497346432|\n",
      "|   392|      3.04|          25|  1.107925990308017|\n",
      "|   446|      4.62|          25|0.38944404818493067|\n",
      "|   556|       4.4|          25| 0.7637626158259734|\n",
      "|   538|       3.6|          25| 1.0408329997330665|\n",
      "|   116|       3.9|          25| 1.3070322617798436|\n",
      "|   495|      4.08|          25| 0.7593857166596345|\n",
      "+------+----------+------------+-------------------+\n",
      "\n"
     ]
    }
   ],
   "source": [
    "rating_count_by_user.filter(\"rating_count = 25\").show()"
   ]
  },
  {
   "cell_type": "code",
   "execution_count": 40,
   "metadata": {},
   "outputs": [
    {
     "name": "stdout",
     "output_type": "stream",
     "text": [
      "+-------+------+------------------+--------------------+--------------------+\n",
      "|movieId|userId|recommended_rating|               title|              genres|\n",
      "+-------+------+------------------+--------------------+--------------------+\n",
      "|  83359|   100|         5.2522883|Play House, The (...|              Comedy|\n",
      "|  83318|   100|         5.2522883|    Goat, The (1921)|              Comedy|\n",
      "|  83411|   100|         5.2522883|         Cops (1922)|              Comedy|\n",
      "|  67504|   100|         5.2522883|Land of Silence a...|         Documentary|\n",
      "|   5114|   100|          5.080011|Bad and the Beaut...|               Drama|\n",
      "|   4518|   100|          4.990545|The Lair of the W...|       Comedy|Horror|\n",
      "|   2202|   100|           4.90312|     Lifeboat (1944)|           Drama|War|\n",
      "|   2920|   100|         4.7948914|Children of Parad...|       Drama|Romance|\n",
      "|    390|   100|          4.776206|Faster Pussycat! ...|  Action|Crime|Drama|\n",
      "|  47728|   100|         4.7395673|Green for Danger ...|       Crime|Mystery|\n",
      "|  25852|   100|         4.7395673|     Gaslight (1940)|    Mystery|Thriller|\n",
      "|   8121|   100|         4.7395673|Seducing Doctor L...|              Comedy|\n",
      "|   4612|   100|         4.7395673|Jesus of Montreal...|               Drama|\n",
      "|   2927|   100|         4.7395673|Brief Encounter (...|       Drama|Romance|\n",
      "|  80599|   100|         4.7270594|Buster Keaton: A ...|         Documentary|\n",
      "|  72647|   100|         4.7270594| Zorn's Lemma (1970)|               Drama|\n",
      "|  25764|   100|         4.7270594|Cameraman, The (1...|Comedy|Drama|Romance|\n",
      "|  26400|   100|         4.7270594|Gates of Heaven (...|         Documentary|\n",
      "|  31547|   100|         4.7270594|Lessons of Darkne...|     Documentary|War|\n",
      "|   7074|   100|         4.7270594|Navigator, The (1...|              Comedy|\n",
      "+-------+------+------------------+--------------------+--------------------+\n",
      "only showing top 20 rows\n",
      "\n"
     ]
    }
   ],
   "source": [
    "reco_for_user(100).show()"
   ]
  },
  {
   "cell_type": "code",
   "execution_count": 41,
   "metadata": {},
   "outputs": [
    {
     "name": "stdout",
     "output_type": "stream",
     "text": [
      "+------+-------+------+----------+----------+\n",
      "|userId|movieId|rating| timestamp|prediction|\n",
      "+------+-------+------+----------+----------+\n",
      "|   157|     12|   2.0|1291598164| 2.3615606|\n",
      "|   564|     12|   1.0| 974709821|  2.962479|\n",
      "|    91|     12|   3.5|1448813887| 3.7231722|\n",
      "|   624|     12|   2.0|1019563753| 2.1231043|\n",
      "|   636|     18|   3.0| 855227364| 3.6876078|\n",
      "|   616|     18|   4.0| 860573132| 3.3237486|\n",
      "|   571|     18|   5.0|1334342436|  2.984219|\n",
      "|   135|     18|   4.0| 844996129| 2.9966164|\n",
      "|   255|     18|   2.5|1236980522| 2.6255386|\n",
      "|   461|     18|   1.5|1091959887| 2.8265314|\n",
      "|   408|     18|   5.0| 933116210|  2.465368|\n",
      "|   507|     18|   4.0| 862091839| 3.7877188|\n",
      "|   177|     18|   4.0| 907380994| 4.0937204|\n",
      "|    30|     18|   2.0| 945277971| 3.4956696|\n",
      "|   655|     18|   4.0|1470073389| 3.5190122|\n",
      "|   165|     70|   5.0|1111480089|  2.729212|\n",
      "|   358|     70|   1.0| 957534713| 2.4271307|\n",
      "|    34|     70|   4.0| 973746231|  3.272626|\n",
      "|   580|     70|   2.5|1165292373|  2.613694|\n",
      "|   647|     70|   3.0| 947292818| 2.7549984|\n",
      "+------+-------+------+----------+----------+\n",
      "only showing top 20 rows\n",
      "\n"
     ]
    }
   ],
   "source": [
    "als_model.transform(df_test).show()"
   ]
  },
  {
   "cell_type": "code",
   "execution_count": 42,
   "metadata": {},
   "outputs": [],
   "source": [
    "# Evaluation \n",
    "\n",
    "### Root mean squared error"
   ]
  },
  {
   "cell_type": "code",
   "execution_count": 43,
   "metadata": {},
   "outputs": [
    {
     "name": "stdout",
     "output_type": "stream",
     "text": [
      "+------------------+\n",
      "|         test_rmse|\n",
      "+------------------+\n",
      "|0.9378743807231806|\n",
      "+------------------+\n",
      "\n"
     ]
    }
   ],
   "source": [
    "(als_model\n",
    ".transform(df_test)\n",
    ".filter(\"not isnan(prediction)\")\n",
    ".selectExpr(\"sqrt(avg(pow((rating - prediction), 2))) test_rmse\")\n",
    ").show()"
   ]
  },
  {
   "cell_type": "code",
   "execution_count": 44,
   "metadata": {},
   "outputs": [
    {
     "name": "stdout",
     "output_type": "stream",
     "text": [
      "+------------------+\n",
      "|        train_rmse|\n",
      "+------------------+\n",
      "|0.5795429076794827|\n",
      "+------------------+\n",
      "\n"
     ]
    }
   ],
   "source": [
    "(als_model\n",
    ".transform(df_train)\n",
    ".filter(\"not isnan(prediction)\")\n",
    ".selectExpr(\"sqrt(avg(pow((rating - prediction), 2))) train_rmse\")\n",
    ").show()"
   ]
  },
  {
   "cell_type": "code",
   "execution_count": 45,
   "metadata": {
    "scrolled": false
   },
   "outputs": [
    {
     "name": "stdout",
     "output_type": "stream",
     "text": [
      "+-------+--------------------+--------------------+----+---------+------+------+-------------------+\n",
      "|movieId|               title|              genres|year|    genre|userId|rating|          timestamp|\n",
      "+-------+--------------------+--------------------+----+---------+------+------+-------------------+\n",
      "|     31|Dangerous Minds (...|             [Drama]|1995|    Drama|     1|   2.5|2009-12-14 08:22:24|\n",
      "|   1029|        Dumbo (1941)|[Animation, Child...|1941|  Musical|     1|   3.0|2009-12-14 08:22:59|\n",
      "|   1029|        Dumbo (1941)|[Animation, Child...|1941|    Drama|     1|   3.0|2009-12-14 08:22:59|\n",
      "|   1029|        Dumbo (1941)|[Animation, Child...|1941| Children|     1|   3.0|2009-12-14 08:22:59|\n",
      "|   1029|        Dumbo (1941)|[Animation, Child...|1941|Animation|     1|   3.0|2009-12-14 08:22:59|\n",
      "|   1061|     Sleepers (1996)|          [Thriller]|1996| Thriller|     1|   3.0|2009-12-14 08:23:02|\n",
      "|   1129|Escape from New Y...|[Action, Adventur...|1981| Thriller|     1|   2.0|2009-12-14 08:23:05|\n",
      "|   1129|Escape from New Y...|[Action, Adventur...|1981|   Sci-Fi|     1|   2.0|2009-12-14 08:23:05|\n",
      "|   1129|Escape from New Y...|[Action, Adventur...|1981|Adventure|     1|   2.0|2009-12-14 08:23:05|\n",
      "|   1129|Escape from New Y...|[Action, Adventur...|1981|   Action|     1|   2.0|2009-12-14 08:23:05|\n",
      "|   1172|Cinema Paradiso (...|             [Drama]|1989|    Drama|     1|   4.0|2009-12-14 08:23:25|\n",
      "|   1263|Deer Hunter, The ...|        [Drama, War]|1978|      War|     1|   2.0|2009-12-14 08:22:31|\n",
      "|   1263|Deer Hunter, The ...|        [Drama, War]|1978|    Drama|     1|   2.0|2009-12-14 08:22:31|\n",
      "|   1287|      Ben-Hur (1959)|[Action, Adventur...|1959|    Drama|     1|   2.0|2009-12-14 08:23:07|\n",
      "|   1287|      Ben-Hur (1959)|[Action, Adventur...|1959|Adventure|     1|   2.0|2009-12-14 08:23:07|\n",
      "|   1287|      Ben-Hur (1959)|[Action, Adventur...|1959|   Action|     1|   2.0|2009-12-14 08:23:07|\n",
      "|   1293|       Gandhi (1982)|             [Drama]|1982|    Drama|     1|   2.0|2009-12-14 08:22:28|\n",
      "|   1339|Dracula (Bram Sto...|[Fantasy, Horror,...|1992| Thriller|     1|   3.5|2009-12-14 08:22:05|\n",
      "|   1339|Dracula (Bram Sto...|[Fantasy, Horror,...|1992|  Romance|     1|   3.5|2009-12-14 08:22:05|\n",
      "|   1339|Dracula (Bram Sto...|[Fantasy, Horror,...|1992|   Horror|     1|   3.5|2009-12-14 08:22:05|\n",
      "+-------+--------------------+--------------------+----+---------+------+------+-------------------+\n",
      "only showing top 20 rows\n",
      "\n"
     ]
    }
   ],
   "source": [
    "genre_rating = (movies\n",
    ".withColumn(\"year\", F.regexp_extract(\"title\", r\"(\\d+)\", 1))\n",
    ".withColumn(\"genres\", F.split(\"genres\", \"\\|\"))\n",
    ".withColumn(\"genre\", F.explode(\"genres\"))\n",
    ".join(ratings, on = \"movieId\")\n",
    ".withColumn(\"timestamp\", F.expr(\"from_unixtime(timestamp)\"))\n",
    ")\n",
    "\n",
    "genre_rating.show() "
   ]
  },
  {
   "cell_type": "markdown",
   "metadata": {},
   "source": [
    "Number of unique values of the genres"
   ]
  },
  {
   "cell_type": "code",
   "execution_count": 46,
   "metadata": {},
   "outputs": [
    {
     "data": {
      "text/plain": [
       "Row(count(DISTINCT genre)=20)"
      ]
     },
     "execution_count": 46,
     "metadata": {},
     "output_type": "execute_result"
    }
   ],
   "source": [
    "genre_rating.selectExpr(\"count(distinct genre)\").first()"
   ]
  },
  {
   "cell_type": "code",
   "execution_count": 47,
   "metadata": {},
   "outputs": [
    {
     "data": {
      "text/plain": [
       "<matplotlib.axes._subplots.AxesSubplot at 0x61d23b208>"
      ]
     },
     "execution_count": 47,
     "metadata": {},
     "output_type": "execute_result"
    },
    {
     "data": {
      "image/png": "[encoded data removed]",
      "text/plain": [
       "<matplotlib.figure.Figure at 0x61d23b9b0>"
      ]
     },
     "metadata": {},
     "output_type": "display_data"
    }
   ],
   "source": [
    "avg_rating_by_genre = genre_rating.groupBy(\"genre\").avg(\"rating\").toPandas()\n",
    "avg_rating_by_genre.index = avg_rating_by_genre[\"genre\"]\n",
    "avg_rating_by_genre[\"avg(rating)\"].plot.bar()"
   ]
  },
  {
   "cell_type": "code",
   "execution_count": 48,
   "metadata": {
    "scrolled": false
   },
   "outputs": [
    {
     "data": {
      "text/html": [
       "<div>\n",
       "<style scoped>\n",
       "    .dataframe tbody tr th:only-of-type {\n",
       "        vertical-align: middle;\n",
       "    }\n",
       "\n",
       "    .dataframe tbody tr th {\n",
       "        vertical-align: top;\n",
       "    }\n",
       "\n",
       "    .dataframe thead th {\n",
       "        text-align: right;\n",
       "    }\n",
       "</style>\n",
       "<table border=\"1\" class=\"dataframe\">\n",
       "  <thead>\n",
       "    <tr style=\"text-align: right;\">\n",
       "      <th></th>\n",
       "      <th>movieId</th>\n",
       "      <th>title</th>\n",
       "      <th>genres</th>\n",
       "      <th>year</th>\n",
       "      <th>genre</th>\n",
       "      <th>userId</th>\n",
       "      <th>rating</th>\n",
       "      <th>timestamp</th>\n",
       "      <th>rating_avg</th>\n",
       "      <th>rating_count</th>\n",
       "      <th>rating_std</th>\n",
       "      <th>unique_user_count</th>\n",
       "      <th>high_rating</th>\n",
       "    </tr>\n",
       "  </thead>\n",
       "  <tbody>\n",
       "    <tr>\n",
       "      <th>0</th>\n",
       "      <td>1339</td>\n",
       "      <td>Dracula (Bram Stoker's Dracula) (1992)</td>\n",
       "      <td>[Fantasy, Horror, Romance, Thriller]</td>\n",
       "      <td>1992</td>\n",
       "      <td>Horror</td>\n",
       "      <td>1</td>\n",
       "      <td>3.5</td>\n",
       "      <td>2009-12-14 08:22:05</td>\n",
       "      <td>3.315243</td>\n",
       "      <td>8.823206</td>\n",
       "      <td>1.111409</td>\n",
       "      <td>6.388561</td>\n",
       "      <td>7.796469</td>\n",
       "    </tr>\n",
       "    <tr>\n",
       "      <th>1</th>\n",
       "      <td>2455</td>\n",
       "      <td>Fly, The (1986)</td>\n",
       "      <td>[Drama, Horror, Sci-Fi, Thriller]</td>\n",
       "      <td>1986</td>\n",
       "      <td>Horror</td>\n",
       "      <td>1</td>\n",
       "      <td>2.5</td>\n",
       "      <td>2009-12-14 08:21:53</td>\n",
       "      <td>3.315243</td>\n",
       "      <td>8.823206</td>\n",
       "      <td>1.111409</td>\n",
       "      <td>6.388561</td>\n",
       "      <td>7.796469</td>\n",
       "    </tr>\n",
       "    <tr>\n",
       "      <th>2</th>\n",
       "      <td>253</td>\n",
       "      <td>Interview with the Vampire: The Vampire Chroni...</td>\n",
       "      <td>[Drama, Horror]</td>\n",
       "      <td>1994</td>\n",
       "      <td>Horror</td>\n",
       "      <td>2</td>\n",
       "      <td>4.0</td>\n",
       "      <td>1996-06-21 16:41:51</td>\n",
       "      <td>3.315243</td>\n",
       "      <td>8.823206</td>\n",
       "      <td>1.111409</td>\n",
       "      <td>6.388561</td>\n",
       "      <td>7.796469</td>\n",
       "    </tr>\n",
       "    <tr>\n",
       "      <th>3</th>\n",
       "      <td>273</td>\n",
       "      <td>Mary Shelley's Frankenstein (Frankenstein) (1994)</td>\n",
       "      <td>[Drama, Horror, Sci-Fi]</td>\n",
       "      <td>1994</td>\n",
       "      <td>Horror</td>\n",
       "      <td>2</td>\n",
       "      <td>4.0</td>\n",
       "      <td>1996-06-21 16:46:19</td>\n",
       "      <td>3.315243</td>\n",
       "      <td>8.823206</td>\n",
       "      <td>1.111409</td>\n",
       "      <td>6.388561</td>\n",
       "      <td>7.796469</td>\n",
       "    </tr>\n",
       "    <tr>\n",
       "      <th>4</th>\n",
       "      <td>382</td>\n",
       "      <td>Wolf (1994)</td>\n",
       "      <td>[Drama, Horror, Romance, Thriller]</td>\n",
       "      <td>1994</td>\n",
       "      <td>Horror</td>\n",
       "      <td>2</td>\n",
       "      <td>3.0</td>\n",
       "      <td>1996-06-21 16:52:45</td>\n",
       "      <td>3.315243</td>\n",
       "      <td>8.823206</td>\n",
       "      <td>1.111409</td>\n",
       "      <td>6.388561</td>\n",
       "      <td>7.796469</td>\n",
       "    </tr>\n",
       "    <tr>\n",
       "      <th>5</th>\n",
       "      <td>593</td>\n",
       "      <td>Silence of the Lambs, The (1991)</td>\n",
       "      <td>[Crime, Horror, Thriller]</td>\n",
       "      <td>1991</td>\n",
       "      <td>Horror</td>\n",
       "      <td>2</td>\n",
       "      <td>3.0</td>\n",
       "      <td>1996-06-21 16:41:51</td>\n",
       "      <td>3.315243</td>\n",
       "      <td>8.823206</td>\n",
       "      <td>1.111409</td>\n",
       "      <td>6.388561</td>\n",
       "      <td>7.796469</td>\n",
       "    </tr>\n",
       "    <tr>\n",
       "      <th>6</th>\n",
       "      <td>593</td>\n",
       "      <td>Silence of the Lambs, The (1991)</td>\n",
       "      <td>[Crime, Horror, Thriller]</td>\n",
       "      <td>1991</td>\n",
       "      <td>Horror</td>\n",
       "      <td>3</td>\n",
       "      <td>3.0</td>\n",
       "      <td>2011-03-01 01:07:20</td>\n",
       "      <td>3.315243</td>\n",
       "      <td>8.823206</td>\n",
       "      <td>1.111409</td>\n",
       "      <td>6.388561</td>\n",
       "      <td>7.796469</td>\n",
       "    </tr>\n",
       "    <tr>\n",
       "      <th>7</th>\n",
       "      <td>2513</td>\n",
       "      <td>Pet Sematary (1989)</td>\n",
       "      <td>[Horror]</td>\n",
       "      <td>1989</td>\n",
       "      <td>Horror</td>\n",
       "      <td>3</td>\n",
       "      <td>3.0</td>\n",
       "      <td>2011-02-28 08:26:29</td>\n",
       "      <td>3.315243</td>\n",
       "      <td>8.823206</td>\n",
       "      <td>1.111409</td>\n",
       "      <td>6.388561</td>\n",
       "      <td>7.796469</td>\n",
       "    </tr>\n",
       "    <tr>\n",
       "      <th>8</th>\n",
       "      <td>2762</td>\n",
       "      <td>Sixth Sense, The (1999)</td>\n",
       "      <td>[Drama, Horror, Mystery]</td>\n",
       "      <td>1999</td>\n",
       "      <td>Horror</td>\n",
       "      <td>3</td>\n",
       "      <td>3.5</td>\n",
       "      <td>2011-03-01 01:10:57</td>\n",
       "      <td>3.315243</td>\n",
       "      <td>8.823206</td>\n",
       "      <td>1.111409</td>\n",
       "      <td>6.388561</td>\n",
       "      <td>7.796469</td>\n",
       "    </tr>\n",
       "    <tr>\n",
       "      <th>9</th>\n",
       "      <td>2841</td>\n",
       "      <td>Stir of Echoes (1999)</td>\n",
       "      <td>[Horror, Mystery, Thriller]</td>\n",
       "      <td>1999</td>\n",
       "      <td>Horror</td>\n",
       "      <td>3</td>\n",
       "      <td>4.0</td>\n",
       "      <td>2011-02-28 08:25:33</td>\n",
       "      <td>3.315243</td>\n",
       "      <td>8.823206</td>\n",
       "      <td>1.111409</td>\n",
       "      <td>6.388561</td>\n",
       "      <td>7.796469</td>\n",
       "    </tr>\n",
       "  </tbody>\n",
       "</table>\n",
       "</div>"
      ],
      "text/plain": [
       "   movieId                                              title  \\\n",
       "0     1339             Dracula (Bram Stoker's Dracula) (1992)   \n",
       "1     2455                                    Fly, The (1986)   \n",
       "2      253  Interview with the Vampire: The Vampire Chroni...   \n",
       "3      273  Mary Shelley's Frankenstein (Frankenstein) (1994)   \n",
       "4      382                                        Wolf (1994)   \n",
       "5      593                   Silence of the Lambs, The (1991)   \n",
       "6      593                   Silence of the Lambs, The (1991)   \n",
       "7     2513                                Pet Sematary (1989)   \n",
       "8     2762                            Sixth Sense, The (1999)   \n",
       "9     2841                              Stir of Echoes (1999)   \n",
       "\n",
       "                                 genres  year   genre  userId  rating  \\\n",
       "0  [Fantasy, Horror, Romance, Thriller]  1992  Horror       1     3.5   \n",
       "1     [Drama, Horror, Sci-Fi, Thriller]  1986  Horror       1     2.5   \n",
       "2                       [Drama, Horror]  1994  Horror       2     4.0   \n",
       "3               [Drama, Horror, Sci-Fi]  1994  Horror       2     4.0   \n",
       "4    [Drama, Horror, Romance, Thriller]  1994  Horror       2     3.0   \n",
       "5             [Crime, Horror, Thriller]  1991  Horror       2     3.0   \n",
       "6             [Crime, Horror, Thriller]  1991  Horror       3     3.0   \n",
       "7                              [Horror]  1989  Horror       3     3.0   \n",
       "8              [Drama, Horror, Mystery]  1999  Horror       3     3.5   \n",
       "9           [Horror, Mystery, Thriller]  1999  Horror       3     4.0   \n",
       "\n",
       "             timestamp  rating_avg  rating_count  rating_std  \\\n",
       "0  2009-12-14 08:22:05    3.315243      8.823206    1.111409   \n",
       "1  2009-12-14 08:21:53    3.315243      8.823206    1.111409   \n",
       "2  1996-06-21 16:41:51    3.315243      8.823206    1.111409   \n",
       "3  1996-06-21 16:46:19    3.315243      8.823206    1.111409   \n",
       "4  1996-06-21 16:52:45    3.315243      8.823206    1.111409   \n",
       "5  1996-06-21 16:41:51    3.315243      8.823206    1.111409   \n",
       "6  2011-03-01 01:07:20    3.315243      8.823206    1.111409   \n",
       "7  2011-02-28 08:26:29    3.315243      8.823206    1.111409   \n",
       "8  2011-03-01 01:10:57    3.315243      8.823206    1.111409   \n",
       "9  2011-02-28 08:25:33    3.315243      8.823206    1.111409   \n",
       "\n",
       "   unique_user_count  high_rating  \n",
       "0           6.388561     7.796469  \n",
       "1           6.388561     7.796469  \n",
       "2           6.388561     7.796469  \n",
       "3           6.388561     7.796469  \n",
       "4           6.388561     7.796469  \n",
       "5           6.388561     7.796469  \n",
       "6           6.388561     7.796469  \n",
       "7           6.388561     7.796469  \n",
       "8           6.388561     7.796469  \n",
       "9           6.388561     7.796469  "
      ]
     },
     "execution_count": 48,
     "metadata": {},
     "output_type": "execute_result"
    }
   ],
   "source": [
    "movie_genre_stats = (genre_rating\n",
    " .withColumn(\"rating_avg\", F.expr(\"avg(rating) over (partition by genre)\"))\n",
    " .withColumn(\"rating_count\", F.expr(\"count(*) over (partition by genre)\"))\n",
    " .withColumn(\"rating_count\", F.log(\"rating_count\"))\n",
    " .withColumn(\"rating_std\", F.expr(\"stddev(rating) over (partition by genre)\"))\n",
    " .withColumn(\"unique_user_count_rank\", F.expr(\"dense_rank() over (partition by genre order by userId)\"))\n",
    " .withColumn(\"unique_user_count\", F.expr(\"max(unique_user_count_rank) over (partition by genre)\"))\n",
    " .withColumn(\"unique_user_count\", F.log(\"unique_user_count\"))\n",
    " .withColumn(\"high_rating\", F.expr(\"sum(if(rating = 4 or rating = 5, 1, 0)) over (partition by genre)\"))\n",
    " .withColumn(\"high_rating\", F.expr(\"log(high_rating)\"))\n",
    " .drop(\"unique_user_count_rank\")\n",
    ")\n",
    "movie_genre_stats.limit(10).toPandas()"
   ]
  },
  {
   "cell_type": "code",
   "execution_count": 49,
   "metadata": {},
   "outputs": [],
   "source": [
    "from pyspark.ml.feature import StringIndexer, IDF\n",
    "from pyspark.ml.pipeline import Pipeline"
   ]
  },
  {
   "cell_type": "code",
   "execution_count": 50,
   "metadata": {},
   "outputs": [
    {
     "data": {
      "text/html": [
       "<div>\n",
       "<style scoped>\n",
       "    .dataframe tbody tr th:only-of-type {\n",
       "        vertical-align: middle;\n",
       "    }\n",
       "\n",
       "    .dataframe tbody tr th {\n",
       "        vertical-align: top;\n",
       "    }\n",
       "\n",
       "    .dataframe thead th {\n",
       "        text-align: right;\n",
       "    }\n",
       "</style>\n",
       "<table border=\"1\" class=\"dataframe\">\n",
       "  <thead>\n",
       "    <tr style=\"text-align: right;\">\n",
       "      <th></th>\n",
       "      <th>movieId</th>\n",
       "      <th>title</th>\n",
       "      <th>genres</th>\n",
       "      <th>year</th>\n",
       "      <th>genre</th>\n",
       "      <th>userId</th>\n",
       "      <th>rating</th>\n",
       "      <th>timestamp</th>\n",
       "      <th>rating_avg</th>\n",
       "      <th>rating_count</th>\n",
       "      <th>rating_std</th>\n",
       "      <th>unique_user_count</th>\n",
       "      <th>high_rating</th>\n",
       "      <th>genre_index</th>\n",
       "    </tr>\n",
       "  </thead>\n",
       "  <tbody>\n",
       "    <tr>\n",
       "      <th>0</th>\n",
       "      <td>1339</td>\n",
       "      <td>Dracula (Bram Stoker's Dracula) (1992)</td>\n",
       "      <td>[Fantasy, Horror, Romance, Thriller]</td>\n",
       "      <td>1992</td>\n",
       "      <td>Horror</td>\n",
       "      <td>1</td>\n",
       "      <td>3.5</td>\n",
       "      <td>2009-12-14 08:22:05</td>\n",
       "      <td>3.315243</td>\n",
       "      <td>8.823206</td>\n",
       "      <td>1.111409</td>\n",
       "      <td>6.388561</td>\n",
       "      <td>7.796469</td>\n",
       "      <td>11.0</td>\n",
       "    </tr>\n",
       "    <tr>\n",
       "      <th>1</th>\n",
       "      <td>2455</td>\n",
       "      <td>Fly, The (1986)</td>\n",
       "      <td>[Drama, Horror, Sci-Fi, Thriller]</td>\n",
       "      <td>1986</td>\n",
       "      <td>Horror</td>\n",
       "      <td>1</td>\n",
       "      <td>2.5</td>\n",
       "      <td>2009-12-14 08:21:53</td>\n",
       "      <td>3.315243</td>\n",
       "      <td>8.823206</td>\n",
       "      <td>1.111409</td>\n",
       "      <td>6.388561</td>\n",
       "      <td>7.796469</td>\n",
       "      <td>11.0</td>\n",
       "    </tr>\n",
       "    <tr>\n",
       "      <th>2</th>\n",
       "      <td>253</td>\n",
       "      <td>Interview with the Vampire: The Vampire Chroni...</td>\n",
       "      <td>[Drama, Horror]</td>\n",
       "      <td>1994</td>\n",
       "      <td>Horror</td>\n",
       "      <td>2</td>\n",
       "      <td>4.0</td>\n",
       "      <td>1996-06-21 16:41:51</td>\n",
       "      <td>3.315243</td>\n",
       "      <td>8.823206</td>\n",
       "      <td>1.111409</td>\n",
       "      <td>6.388561</td>\n",
       "      <td>7.796469</td>\n",
       "      <td>11.0</td>\n",
       "    </tr>\n",
       "    <tr>\n",
       "      <th>3</th>\n",
       "      <td>273</td>\n",
       "      <td>Mary Shelley's Frankenstein (Frankenstein) (1994)</td>\n",
       "      <td>[Drama, Horror, Sci-Fi]</td>\n",
       "      <td>1994</td>\n",
       "      <td>Horror</td>\n",
       "      <td>2</td>\n",
       "      <td>4.0</td>\n",
       "      <td>1996-06-21 16:46:19</td>\n",
       "      <td>3.315243</td>\n",
       "      <td>8.823206</td>\n",
       "      <td>1.111409</td>\n",
       "      <td>6.388561</td>\n",
       "      <td>7.796469</td>\n",
       "      <td>11.0</td>\n",
       "    </tr>\n",
       "    <tr>\n",
       "      <th>4</th>\n",
       "      <td>382</td>\n",
       "      <td>Wolf (1994)</td>\n",
       "      <td>[Drama, Horror, Romance, Thriller]</td>\n",
       "      <td>1994</td>\n",
       "      <td>Horror</td>\n",
       "      <td>2</td>\n",
       "      <td>3.0</td>\n",
       "      <td>1996-06-21 16:52:45</td>\n",
       "      <td>3.315243</td>\n",
       "      <td>8.823206</td>\n",
       "      <td>1.111409</td>\n",
       "      <td>6.388561</td>\n",
       "      <td>7.796469</td>\n",
       "      <td>11.0</td>\n",
       "    </tr>\n",
       "  </tbody>\n",
       "</table>\n",
       "</div>"
      ],
      "text/plain": [
       "   movieId                                              title  \\\n",
       "0     1339             Dracula (Bram Stoker's Dracula) (1992)   \n",
       "1     2455                                    Fly, The (1986)   \n",
       "2      253  Interview with the Vampire: The Vampire Chroni...   \n",
       "3      273  Mary Shelley's Frankenstein (Frankenstein) (1994)   \n",
       "4      382                                        Wolf (1994)   \n",
       "\n",
       "                                 genres  year   genre  userId  rating  \\\n",
       "0  [Fantasy, Horror, Romance, Thriller]  1992  Horror       1     3.5   \n",
       "1     [Drama, Horror, Sci-Fi, Thriller]  1986  Horror       1     2.5   \n",
       "2                       [Drama, Horror]  1994  Horror       2     4.0   \n",
       "3               [Drama, Horror, Sci-Fi]  1994  Horror       2     4.0   \n",
       "4    [Drama, Horror, Romance, Thriller]  1994  Horror       2     3.0   \n",
       "\n",
       "             timestamp  rating_avg  rating_count  rating_std  \\\n",
       "0  2009-12-14 08:22:05    3.315243      8.823206    1.111409   \n",
       "1  2009-12-14 08:21:53    3.315243      8.823206    1.111409   \n",
       "2  1996-06-21 16:41:51    3.315243      8.823206    1.111409   \n",
       "3  1996-06-21 16:46:19    3.315243      8.823206    1.111409   \n",
       "4  1996-06-21 16:52:45    3.315243      8.823206    1.111409   \n",
       "\n",
       "   unique_user_count  high_rating  genre_index  \n",
       "0           6.388561     7.796469         11.0  \n",
       "1           6.388561     7.796469         11.0  \n",
       "2           6.388561     7.796469         11.0  \n",
       "3           6.388561     7.796469         11.0  \n",
       "4           6.388561     7.796469         11.0  "
      ]
     },
     "execution_count": 50,
     "metadata": {},
     "output_type": "execute_result"
    }
   ],
   "source": [
    "genre_indexer = StringIndexer(inputCol=\"genre\", outputCol=\"genre_index\")\n",
    "stats_by_genre_indexed = genre_indexer.fit(movie_genre_stats).transform(movie_genre_stats)\n",
    "stats_by_genre_indexed.limit(5).toPandas()"
   ]
  },
  {
   "cell_type": "code",
   "execution_count": 51,
   "metadata": {
    "scrolled": false
   },
   "outputs": [
    {
     "data": {
      "text/html": [
       "<div>\n",
       "<style scoped>\n",
       "    .dataframe tbody tr th:only-of-type {\n",
       "        vertical-align: middle;\n",
       "    }\n",
       "\n",
       "    .dataframe tbody tr th {\n",
       "        vertical-align: top;\n",
       "    }\n",
       "\n",
       "    .dataframe thead th {\n",
       "        text-align: right;\n",
       "    }\n",
       "</style>\n",
       "<table border=\"1\" class=\"dataframe\">\n",
       "  <thead>\n",
       "    <tr style=\"text-align: right;\">\n",
       "      <th></th>\n",
       "      <th>movieId</th>\n",
       "      <th>title</th>\n",
       "      <th>genres</th>\n",
       "      <th>year</th>\n",
       "      <th>genre</th>\n",
       "      <th>userId</th>\n",
       "      <th>rating</th>\n",
       "      <th>timestamp</th>\n",
       "      <th>rating_avg</th>\n",
       "      <th>rating_count</th>\n",
       "      <th>rating_std</th>\n",
       "      <th>unique_user_count</th>\n",
       "      <th>high_rating</th>\n",
       "      <th>genre_index</th>\n",
       "      <th>rating_count_by_genre</th>\n",
       "      <th>rating_avg_by_genre</th>\n",
       "      <th>rating_std_by_genre</th>\n",
       "      <th>unique_user_count_by_genre</th>\n",
       "      <th>high_rating_by_genre</th>\n",
       "    </tr>\n",
       "  </thead>\n",
       "  <tbody>\n",
       "    <tr>\n",
       "      <th>0</th>\n",
       "      <td>1339</td>\n",
       "      <td>Dracula (Bram Stoker's Dracula) (1992)</td>\n",
       "      <td>[Fantasy, Horror, Romance, Thriller]</td>\n",
       "      <td>1992</td>\n",
       "      <td>Horror</td>\n",
       "      <td>1</td>\n",
       "      <td>3.5</td>\n",
       "      <td>2009-12-14 08:22:05</td>\n",
       "      <td>3.315243</td>\n",
       "      <td>8.823206</td>\n",
       "      <td>1.111409</td>\n",
       "      <td>6.388561</td>\n",
       "      <td>7.796469</td>\n",
       "      <td>11.0</td>\n",
       "      <td>(11.0, 8.823206220552741)</td>\n",
       "      <td>(11.0, 3.3152430044182624)</td>\n",
       "      <td>(11.0, 1.1114087425402719)</td>\n",
       "      <td>(11.0, 6.38856140554563)</td>\n",
       "      <td>(11.0, 7.796469243086058)</td>\n",
       "    </tr>\n",
       "    <tr>\n",
       "      <th>1</th>\n",
       "      <td>2455</td>\n",
       "      <td>Fly, The (1986)</td>\n",
       "      <td>[Drama, Horror, Sci-Fi, Thriller]</td>\n",
       "      <td>1986</td>\n",
       "      <td>Horror</td>\n",
       "      <td>1</td>\n",
       "      <td>2.5</td>\n",
       "      <td>2009-12-14 08:21:53</td>\n",
       "      <td>3.315243</td>\n",
       "      <td>8.823206</td>\n",
       "      <td>1.111409</td>\n",
       "      <td>6.388561</td>\n",
       "      <td>7.796469</td>\n",
       "      <td>11.0</td>\n",
       "      <td>(11.0, 8.823206220552741)</td>\n",
       "      <td>(11.0, 3.3152430044182624)</td>\n",
       "      <td>(11.0, 1.1114087425402719)</td>\n",
       "      <td>(11.0, 6.38856140554563)</td>\n",
       "      <td>(11.0, 7.796469243086058)</td>\n",
       "    </tr>\n",
       "    <tr>\n",
       "      <th>2</th>\n",
       "      <td>253</td>\n",
       "      <td>Interview with the Vampire: The Vampire Chroni...</td>\n",
       "      <td>[Drama, Horror]</td>\n",
       "      <td>1994</td>\n",
       "      <td>Horror</td>\n",
       "      <td>2</td>\n",
       "      <td>4.0</td>\n",
       "      <td>1996-06-21 16:41:51</td>\n",
       "      <td>3.315243</td>\n",
       "      <td>8.823206</td>\n",
       "      <td>1.111409</td>\n",
       "      <td>6.388561</td>\n",
       "      <td>7.796469</td>\n",
       "      <td>11.0</td>\n",
       "      <td>(11.0, 8.823206220552741)</td>\n",
       "      <td>(11.0, 3.3152430044182624)</td>\n",
       "      <td>(11.0, 1.1114087425402719)</td>\n",
       "      <td>(11.0, 6.38856140554563)</td>\n",
       "      <td>(11.0, 7.796469243086058)</td>\n",
       "    </tr>\n",
       "    <tr>\n",
       "      <th>3</th>\n",
       "      <td>273</td>\n",
       "      <td>Mary Shelley's Frankenstein (Frankenstein) (1994)</td>\n",
       "      <td>[Drama, Horror, Sci-Fi]</td>\n",
       "      <td>1994</td>\n",
       "      <td>Horror</td>\n",
       "      <td>2</td>\n",
       "      <td>4.0</td>\n",
       "      <td>1996-06-21 16:46:19</td>\n",
       "      <td>3.315243</td>\n",
       "      <td>8.823206</td>\n",
       "      <td>1.111409</td>\n",
       "      <td>6.388561</td>\n",
       "      <td>7.796469</td>\n",
       "      <td>11.0</td>\n",
       "      <td>(11.0, 8.823206220552741)</td>\n",
       "      <td>(11.0, 3.3152430044182624)</td>\n",
       "      <td>(11.0, 1.1114087425402719)</td>\n",
       "      <td>(11.0, 6.38856140554563)</td>\n",
       "      <td>(11.0, 7.796469243086058)</td>\n",
       "    </tr>\n",
       "    <tr>\n",
       "      <th>4</th>\n",
       "      <td>382</td>\n",
       "      <td>Wolf (1994)</td>\n",
       "      <td>[Drama, Horror, Romance, Thriller]</td>\n",
       "      <td>1994</td>\n",
       "      <td>Horror</td>\n",
       "      <td>2</td>\n",
       "      <td>3.0</td>\n",
       "      <td>1996-06-21 16:52:45</td>\n",
       "      <td>3.315243</td>\n",
       "      <td>8.823206</td>\n",
       "      <td>1.111409</td>\n",
       "      <td>6.388561</td>\n",
       "      <td>7.796469</td>\n",
       "      <td>11.0</td>\n",
       "      <td>(11.0, 8.823206220552741)</td>\n",
       "      <td>(11.0, 3.3152430044182624)</td>\n",
       "      <td>(11.0, 1.1114087425402719)</td>\n",
       "      <td>(11.0, 6.38856140554563)</td>\n",
       "      <td>(11.0, 7.796469243086058)</td>\n",
       "    </tr>\n",
       "  </tbody>\n",
       "</table>\n",
       "</div>"
      ],
      "text/plain": [
       "   movieId                                              title  \\\n",
       "0     1339             Dracula (Bram Stoker's Dracula) (1992)   \n",
       "1     2455                                    Fly, The (1986)   \n",
       "2      253  Interview with the Vampire: The Vampire Chroni...   \n",
       "3      273  Mary Shelley's Frankenstein (Frankenstein) (1994)   \n",
       "4      382                                        Wolf (1994)   \n",
       "\n",
       "                                 genres  year   genre  userId  rating  \\\n",
       "0  [Fantasy, Horror, Romance, Thriller]  1992  Horror       1     3.5   \n",
       "1     [Drama, Horror, Sci-Fi, Thriller]  1986  Horror       1     2.5   \n",
       "2                       [Drama, Horror]  1994  Horror       2     4.0   \n",
       "3               [Drama, Horror, Sci-Fi]  1994  Horror       2     4.0   \n",
       "4    [Drama, Horror, Romance, Thriller]  1994  Horror       2     3.0   \n",
       "\n",
       "             timestamp  rating_avg  rating_count  rating_std  \\\n",
       "0  2009-12-14 08:22:05    3.315243      8.823206    1.111409   \n",
       "1  2009-12-14 08:21:53    3.315243      8.823206    1.111409   \n",
       "2  1996-06-21 16:41:51    3.315243      8.823206    1.111409   \n",
       "3  1996-06-21 16:46:19    3.315243      8.823206    1.111409   \n",
       "4  1996-06-21 16:52:45    3.315243      8.823206    1.111409   \n",
       "\n",
       "   unique_user_count  high_rating  genre_index      rating_count_by_genre  \\\n",
       "0           6.388561     7.796469         11.0  (11.0, 8.823206220552741)   \n",
       "1           6.388561     7.796469         11.0  (11.0, 8.823206220552741)   \n",
       "2           6.388561     7.796469         11.0  (11.0, 8.823206220552741)   \n",
       "3           6.388561     7.796469         11.0  (11.0, 8.823206220552741)   \n",
       "4           6.388561     7.796469         11.0  (11.0, 8.823206220552741)   \n",
       "\n",
       "          rating_avg_by_genre         rating_std_by_genre  \\\n",
       "0  (11.0, 3.3152430044182624)  (11.0, 1.1114087425402719)   \n",
       "1  (11.0, 3.3152430044182624)  (11.0, 1.1114087425402719)   \n",
       "2  (11.0, 3.3152430044182624)  (11.0, 1.1114087425402719)   \n",
       "3  (11.0, 3.3152430044182624)  (11.0, 1.1114087425402719)   \n",
       "4  (11.0, 3.3152430044182624)  (11.0, 1.1114087425402719)   \n",
       "\n",
       "  unique_user_count_by_genre       high_rating_by_genre  \n",
       "0   (11.0, 6.38856140554563)  (11.0, 7.796469243086058)  \n",
       "1   (11.0, 6.38856140554563)  (11.0, 7.796469243086058)  \n",
       "2   (11.0, 6.38856140554563)  (11.0, 7.796469243086058)  \n",
       "3   (11.0, 6.38856140554563)  (11.0, 7.796469243086058)  \n",
       "4   (11.0, 6.38856140554563)  (11.0, 7.796469243086058)  "
      ]
     },
     "execution_count": 51,
     "metadata": {},
     "output_type": "execute_result"
    }
   ],
   "source": [
    "stats_by_genre_structed = (stats_by_genre_indexed\n",
    "    .withColumn(\"rating_count_by_genre\", F.struct(\"genre_index\", F.col(\"rating_count\").alias(\"value\")))\n",
    "    .withColumn(\"rating_avg_by_genre\", F.struct(\"genre_index\", F.col(\"rating_avg\").alias(\"value\")))\n",
    "    .withColumn(\"rating_std_by_genre\", F.struct(\"genre_index\", F.col(\"rating_std\").alias(\"value\")))\n",
    "    .withColumn(\"unique_user_count_by_genre\", F.struct(\"genre_index\", F.col(\"unique_user_count\").alias(\"value\")))\n",
    "    .withColumn(\"high_rating_by_genre\", F.struct(\"genre_index\", F.col(\"high_rating\").alias(\"value\")))\n",
    "    )\n",
    "stats_by_genre_structed.limit(5).toPandas()"
   ]
  },
  {
   "cell_type": "code",
   "execution_count": 52,
   "metadata": {
    "scrolled": true
   },
   "outputs": [
    {
     "data": {
      "text/html": [
       "<div>\n",
       "<style scoped>\n",
       "    .dataframe tbody tr th:only-of-type {\n",
       "        vertical-align: middle;\n",
       "    }\n",
       "\n",
       "    .dataframe tbody tr th {\n",
       "        vertical-align: top;\n",
       "    }\n",
       "\n",
       "    .dataframe thead th {\n",
       "        text-align: right;\n",
       "    }\n",
       "</style>\n",
       "<table border=\"1\" class=\"dataframe\">\n",
       "  <thead>\n",
       "    <tr style=\"text-align: right;\">\n",
       "      <th></th>\n",
       "      <th>userId</th>\n",
       "      <th>rating_count_by_genre</th>\n",
       "      <th>rating_avg_by_genre</th>\n",
       "      <th>rating_std_by_genre</th>\n",
       "      <th>unique_user_count_by_genre</th>\n",
       "      <th>high_rating_by_genre</th>\n",
       "    </tr>\n",
       "  </thead>\n",
       "  <tbody>\n",
       "    <tr>\n",
       "      <th>0</th>\n",
       "      <td>12</td>\n",
       "      <td>[(10.0, 8.939187601475613), (2.0, 10.205664071...</td>\n",
       "      <td>[(11.0, 3.3152430044182624), (3.0, 3.518502377...</td>\n",
       "      <td>[(7.0, 1.0827948797862486), (16.0, 0.997528167...</td>\n",
       "      <td>[(17.0, 5.552959584921617), (1.0, 6.5072777123...</td>\n",
       "      <td>[(5.0, 9.067854723679428), (1.0, 9.64872432684...</td>\n",
       "    </tr>\n",
       "    <tr>\n",
       "      <th>1</th>\n",
       "      <td>18</td>\n",
       "      <td>[(10.0, 8.939187601475613), (2.0, 10.205664071...</td>\n",
       "      <td>[(11.0, 3.3152430044182624), (3.0, 3.518502377...</td>\n",
       "      <td>[(7.0, 1.0827948797862486), (6.0, 1.0269080753...</td>\n",
       "      <td>[(2.0, 6.508769136971682), (3.0, 6.50578406012...</td>\n",
       "      <td>[(5.0, 9.067854723679428), (1.0, 9.64872432684...</td>\n",
       "    </tr>\n",
       "    <tr>\n",
       "      <th>2</th>\n",
       "      <td>38</td>\n",
       "      <td>[(10.0, 8.939187601475613), (2.0, 10.205664071...</td>\n",
       "      <td>[(11.0, 3.3152430044182624), (3.0, 3.518502377...</td>\n",
       "      <td>[(7.0, 1.0827948797862486), (16.0, 0.997528167...</td>\n",
       "      <td>[(17.0, 5.552959584921617), (1.0, 6.5072777123...</td>\n",
       "      <td>[(5.0, 9.067854723679428), (1.0, 9.64872432684...</td>\n",
       "    </tr>\n",
       "    <tr>\n",
       "      <th>3</th>\n",
       "      <td>67</td>\n",
       "      <td>[(10.0, 8.939187601475613), (2.0, 10.205664071...</td>\n",
       "      <td>[(11.0, 3.3152430044182624), (3.0, 3.518502377...</td>\n",
       "      <td>[(7.0, 1.0827948797862486), (16.0, 0.997528167...</td>\n",
       "      <td>[(1.0, 6.507277712385012), (4.0, 6.50727771238...</td>\n",
       "      <td>[(5.0, 9.067854723679428), (1.0, 9.64872432684...</td>\n",
       "    </tr>\n",
       "    <tr>\n",
       "      <th>4</th>\n",
       "      <td>70</td>\n",
       "      <td>[(10.0, 8.939187601475613), (2.0, 10.205664071...</td>\n",
       "      <td>[(11.0, 3.3152430044182624), (3.0, 3.518502377...</td>\n",
       "      <td>[(7.0, 1.0827948797862486), (12.0, 1.009962234...</td>\n",
       "      <td>[(1.0, 6.507277712385012), (4.0, 6.50727771238...</td>\n",
       "      <td>[(5.0, 9.067854723679428), (1.0, 9.64872432684...</td>\n",
       "    </tr>\n",
       "  </tbody>\n",
       "</table>\n",
       "</div>"
      ],
      "text/plain": [
       "   userId                              rating_count_by_genre  \\\n",
       "0      12  [(10.0, 8.939187601475613), (2.0, 10.205664071...   \n",
       "1      18  [(10.0, 8.939187601475613), (2.0, 10.205664071...   \n",
       "2      38  [(10.0, 8.939187601475613), (2.0, 10.205664071...   \n",
       "3      67  [(10.0, 8.939187601475613), (2.0, 10.205664071...   \n",
       "4      70  [(10.0, 8.939187601475613), (2.0, 10.205664071...   \n",
       "\n",
       "                                 rating_avg_by_genre  \\\n",
       "0  [(11.0, 3.3152430044182624), (3.0, 3.518502377...   \n",
       "1  [(11.0, 3.3152430044182624), (3.0, 3.518502377...   \n",
       "2  [(11.0, 3.3152430044182624), (3.0, 3.518502377...   \n",
       "3  [(11.0, 3.3152430044182624), (3.0, 3.518502377...   \n",
       "4  [(11.0, 3.3152430044182624), (3.0, 3.518502377...   \n",
       "\n",
       "                                 rating_std_by_genre  \\\n",
       "0  [(7.0, 1.0827948797862486), (16.0, 0.997528167...   \n",
       "1  [(7.0, 1.0827948797862486), (6.0, 1.0269080753...   \n",
       "2  [(7.0, 1.0827948797862486), (16.0, 0.997528167...   \n",
       "3  [(7.0, 1.0827948797862486), (16.0, 0.997528167...   \n",
       "4  [(7.0, 1.0827948797862486), (12.0, 1.009962234...   \n",
       "\n",
       "                          unique_user_count_by_genre  \\\n",
       "0  [(17.0, 5.552959584921617), (1.0, 6.5072777123...   \n",
       "1  [(2.0, 6.508769136971682), (3.0, 6.50578406012...   \n",
       "2  [(17.0, 5.552959584921617), (1.0, 6.5072777123...   \n",
       "3  [(1.0, 6.507277712385012), (4.0, 6.50727771238...   \n",
       "4  [(1.0, 6.507277712385012), (4.0, 6.50727771238...   \n",
       "\n",
       "                                high_rating_by_genre  \n",
       "0  [(5.0, 9.067854723679428), (1.0, 9.64872432684...  \n",
       "1  [(5.0, 9.067854723679428), (1.0, 9.64872432684...  \n",
       "2  [(5.0, 9.067854723679428), (1.0, 9.64872432684...  \n",
       "3  [(5.0, 9.067854723679428), (1.0, 9.64872432684...  \n",
       "4  [(5.0, 9.067854723679428), (1.0, 9.64872432684...  "
      ]
     },
     "execution_count": 52,
     "metadata": {},
     "output_type": "execute_result"
    }
   ],
   "source": [
    "stats_by_genre_grouped_by_user = (stats_by_genre_structed\n",
    "                                   .groupBy(\"userId\")\n",
    "                                   .agg(\n",
    "                                     F.collect_set(\"rating_count_by_genre\").alias(\"rating_count_by_genre\")\n",
    "                                   , F.collect_set(\"rating_avg_by_genre\").alias(\"rating_avg_by_genre\")\n",
    "                                   , F.collect_set(\"rating_std_by_genre\").alias(\"rating_std_by_genre\")\n",
    "                                   , F.collect_set(\"unique_user_count_by_genre\").alias(\"unique_user_count_by_genre\")\n",
    "                                   , F.collect_set(\"high_rating_by_genre\").alias(\"high_rating_by_genre\")\n",
    "                                  ))\n",
    "\n",
    "stats_by_genre_grouped_by_user.limit(5).toPandas()"
   ]
  },
  {
   "cell_type": "code",
   "execution_count": 53,
   "metadata": {},
   "outputs": [
    {
     "name": "stdout",
     "output_type": "stream",
     "text": [
      "root\n",
      " |-- userId: integer (nullable = true)\n",
      " |-- rating_count_by_genre: array (nullable = true)\n",
      " |    |-- element: struct (containsNull = true)\n",
      " |    |    |-- genre_index: double (nullable = false)\n",
      " |    |    |-- value: double (nullable = true)\n",
      " |-- rating_avg_by_genre: array (nullable = true)\n",
      " |    |-- element: struct (containsNull = true)\n",
      " |    |    |-- genre_index: double (nullable = false)\n",
      " |    |    |-- value: double (nullable = true)\n",
      " |-- rating_std_by_genre: array (nullable = true)\n",
      " |    |-- element: struct (containsNull = true)\n",
      " |    |    |-- genre_index: double (nullable = false)\n",
      " |    |    |-- value: double (nullable = true)\n",
      " |-- unique_user_count_by_genre: array (nullable = true)\n",
      " |    |-- element: struct (containsNull = true)\n",
      " |    |    |-- genre_index: double (nullable = false)\n",
      " |    |    |-- value: double (nullable = true)\n",
      " |-- high_rating_by_genre: array (nullable = true)\n",
      " |    |-- element: struct (containsNull = true)\n",
      " |    |    |-- genre_index: double (nullable = false)\n",
      " |    |    |-- value: double (nullable = true)\n",
      "\n"
     ]
    }
   ],
   "source": [
    "stats_by_genre_grouped_by_user.printSchema()"
   ]
  },
  {
   "cell_type": "code",
   "execution_count": 54,
   "metadata": {},
   "outputs": [
    {
     "data": {
      "text/plain": [
       "<function __main__.to_vector(array_of_structs, size=20)>"
      ]
     },
     "execution_count": 54,
     "metadata": {},
     "output_type": "execute_result"
    }
   ],
   "source": [
    "from pyspark.ml.linalg import SparseVector, VectorUDT\n",
    "\n",
    "def to_vector(array_of_structs, size = 20):\n",
    "    if array_of_structs is not None:\n",
    "        array_of_structs = sorted(array_of_structs, key = lambda t: t.genre_index)\n",
    "        indices = [s.genre_index for s in array_of_structs]\n",
    "        values = [s.value for s in array_of_structs]\n",
    "        return SparseVector(size, indices, values)\n",
    "    return SparseVector(size, [], [])\n",
    "\n",
    "spark.udf.register(\"to_vector\", to_vector, VectorUDT())"
   ]
  },
  {
   "cell_type": "code",
   "execution_count": 55,
   "metadata": {},
   "outputs": [
    {
     "data": {
      "text/plain": [
       "['userId',\n",
       " 'rating_count_by_genre',\n",
       " 'rating_avg_by_genre',\n",
       " 'rating_std_by_genre',\n",
       " 'unique_user_count_by_genre',\n",
       " 'high_rating_by_genre']"
      ]
     },
     "execution_count": 55,
     "metadata": {},
     "output_type": "execute_result"
    }
   ],
   "source": [
    "stats_by_genre_grouped_by_user.columns"
   ]
  },
  {
   "cell_type": "code",
   "execution_count": 58,
   "metadata": {},
   "outputs": [
    {
     "name": "stdout",
     "output_type": "stream",
     "text": [
      "root\n",
      " |-- userId: integer (nullable = true)\n",
      " |-- rating_count_by_genre: array (nullable = true)\n",
      " |    |-- element: struct (containsNull = true)\n",
      " |    |    |-- genre_index: double (nullable = false)\n",
      " |    |    |-- value: double (nullable = true)\n",
      " |-- rating_avg_by_genre: array (nullable = true)\n",
      " |    |-- element: struct (containsNull = true)\n",
      " |    |    |-- genre_index: double (nullable = false)\n",
      " |    |    |-- value: double (nullable = true)\n",
      " |-- rating_std_by_genre: array (nullable = true)\n",
      " |    |-- element: struct (containsNull = true)\n",
      " |    |    |-- genre_index: double (nullable = false)\n",
      " |    |    |-- value: double (nullable = true)\n",
      " |-- unique_user_count_by_genre: array (nullable = true)\n",
      " |    |-- element: struct (containsNull = true)\n",
      " |    |    |-- genre_index: double (nullable = false)\n",
      " |    |    |-- value: double (nullable = true)\n",
      " |-- high_rating_by_genre: array (nullable = true)\n",
      " |    |-- element: struct (containsNull = true)\n",
      " |    |    |-- genre_index: double (nullable = false)\n",
      " |    |    |-- value: double (nullable = true)\n",
      " |-- rating_count_by_genre_vec: vector (nullable = true)\n",
      " |-- rating_avg_by_genre_vec: vector (nullable = true)\n",
      " |-- rating_std_by_genre_vec: vector (nullable = true)\n",
      " |-- unique_user_count_by_genre_vec: vector (nullable = true)\n",
      " |-- high_rating_by_genre_vec: vector (nullable = true)\n",
      "\n"
     ]
    }
   ],
   "source": [
    "stats_by_genre_grouped_by_user_vec = (stats_by_genre_grouped_by_user\n",
    "            .withColumn(\"rating_count_by_genre_vec\", F.expr(\"to_vector(rating_count_by_genre)\"))\n",
    "            .withColumn(\"rating_avg_by_genre_vec\", F.expr(\"to_vector(rating_avg_by_genre)\"))\n",
    "            .withColumn(\"rating_std_by_genre_vec\", F.expr(\"to_vector(rating_std_by_genre)\"))\n",
    "            .withColumn(\"unique_user_count_by_genre_vec\", F.expr(\"to_vector(unique_user_count_by_genre)\"))\n",
    "            .withColumn(\"high_rating_by_genre_vec\", F.expr(\"to_vector(high_rating_by_genre)\"))\n",
    ")\n",
    "stats_by_genre_grouped_by_user_vec.printSchema()"
   ]
  },
  {
   "cell_type": "code",
   "execution_count": 59,
   "metadata": {},
   "outputs": [],
   "source": [
    "from pyspark.ml.feature import IDF\n",
    "from pyspark.ml.pipeline import Pipeline"
   ]
  },
  {
   "cell_type": "code",
   "execution_count": 60,
   "metadata": {},
   "outputs": [
    {
     "data": {
      "text/plain": [
       "20"
      ]
     },
     "execution_count": 60,
     "metadata": {},
     "output_type": "execute_result"
    }
   ],
   "source": [
    "genres_count = genre_rating.selectExpr(\"count(distinct genre) count\").first()[\"count\"]\n",
    "genres_count"
   ]
  },
  {
   "cell_type": "code",
   "execution_count": 64,
   "metadata": {
    "scrolled": false
   },
   "outputs": [],
   "source": [
    "pipe = Pipeline(stages = [\n",
    "    IDF(inputCol=\"rating_count_by_genre_vec\", outputCol=\"rating_count_by_genre_idf\"),\n",
    "    IDF(inputCol=\"rating_avg_by_genre_vec\", outputCol=\"rating_avg_by_genre_idf\"),\n",
    "    IDF(inputCol= \"rating_std_by_genre_vec\", outputCol=\"rating_std_by_genre_idf\"),\n",
    "    IDF(inputCol=\"unique_user_count_by_genre_vec\", outputCol=\"unique_user_by_genre_idf\"),\n",
    "    IDF(inputCol=\"high_rating_by_genre_vec\", outputCol=\"high_rating_by_genre_idf\")\n",
    "])\n",
    "\n",
    "user_profile_idf = pipe.fit(stats_by_genre_grouped_by_user_vec).transform(stats_by_genre_grouped_by_user_vec)"
   ]
  },
  {
   "cell_type": "code",
   "execution_count": 65,
   "metadata": {
    "scrolled": false
   },
   "outputs": [
    {
     "name": "stdout",
     "output_type": "stream",
     "text": [
      "root\n",
      " |-- userId: integer (nullable = true)\n",
      " |-- rating_count_by_genre: array (nullable = true)\n",
      " |    |-- element: struct (containsNull = true)\n",
      " |    |    |-- genre_index: double (nullable = false)\n",
      " |    |    |-- value: double (nullable = true)\n",
      " |-- rating_avg_by_genre: array (nullable = true)\n",
      " |    |-- element: struct (containsNull = true)\n",
      " |    |    |-- genre_index: double (nullable = false)\n",
      " |    |    |-- value: double (nullable = true)\n",
      " |-- rating_std_by_genre: array (nullable = true)\n",
      " |    |-- element: struct (containsNull = true)\n",
      " |    |    |-- genre_index: double (nullable = false)\n",
      " |    |    |-- value: double (nullable = true)\n",
      " |-- unique_user_count_by_genre: array (nullable = true)\n",
      " |    |-- element: struct (containsNull = true)\n",
      " |    |    |-- genre_index: double (nullable = false)\n",
      " |    |    |-- value: double (nullable = true)\n",
      " |-- high_rating_by_genre: array (nullable = true)\n",
      " |    |-- element: struct (containsNull = true)\n",
      " |    |    |-- genre_index: double (nullable = false)\n",
      " |    |    |-- value: double (nullable = true)\n",
      " |-- rating_count_by_genre_vec: vector (nullable = true)\n",
      " |-- rating_avg_by_genre_vec: vector (nullable = true)\n",
      " |-- rating_std_by_genre_vec: vector (nullable = true)\n",
      " |-- unique_user_count_by_genre_vec: vector (nullable = true)\n",
      " |-- high_rating_by_genre_vec: vector (nullable = true)\n",
      " |-- rating_count_by_genre_idf: vector (nullable = true)\n",
      " |-- rating_avg_by_genre_idf: vector (nullable = true)\n",
      " |-- rating_std_by_genre_idf: vector (nullable = true)\n",
      " |-- unique_user_by_genre_idf: vector (nullable = true)\n",
      " |-- high_rating_by_genre_idf: vector (nullable = true)\n",
      "\n"
     ]
    }
   ],
   "source": [
    "user_profile_idf.printSchema()"
   ]
  },
  {
   "cell_type": "code",
   "execution_count": 66,
   "metadata": {},
   "outputs": [
    {
     "name": "stdout",
     "output_type": "stream",
     "text": [
      "root\n",
      " |-- userId: integer (nullable = true)\n",
      " |-- movieId: integer (nullable = true)\n",
      " |-- rating: integer (nullable = true)\n",
      " |-- timestamp: integer (nullable = true)\n",
      " |-- title: string (nullable = true)\n",
      " |-- genres: string (nullable = true)\n",
      " |-- rating_count_by_genre: array (nullable = true)\n",
      " |    |-- element: struct (containsNull = true)\n",
      " |    |    |-- genre_index: double (nullable = false)\n",
      " |    |    |-- value: double (nullable = true)\n",
      " |-- rating_avg_by_genre: array (nullable = true)\n",
      " |    |-- element: struct (containsNull = true)\n",
      " |    |    |-- genre_index: double (nullable = false)\n",
      " |    |    |-- value: double (nullable = true)\n",
      " |-- rating_std_by_genre: array (nullable = true)\n",
      " |    |-- element: struct (containsNull = true)\n",
      " |    |    |-- genre_index: double (nullable = false)\n",
      " |    |    |-- value: double (nullable = true)\n",
      " |-- unique_user_count_by_genre: array (nullable = true)\n",
      " |    |-- element: struct (containsNull = true)\n",
      " |    |    |-- genre_index: double (nullable = false)\n",
      " |    |    |-- value: double (nullable = true)\n",
      " |-- high_rating_by_genre: array (nullable = true)\n",
      " |    |-- element: struct (containsNull = true)\n",
      " |    |    |-- genre_index: double (nullable = false)\n",
      " |    |    |-- value: double (nullable = true)\n",
      " |-- rating_count_by_genre_vec: vector (nullable = true)\n",
      " |-- rating_avg_by_genre_vec: vector (nullable = true)\n",
      " |-- rating_std_by_genre_vec: vector (nullable = true)\n",
      " |-- unique_user_count_by_genre_vec: vector (nullable = true)\n",
      " |-- high_rating_by_genre_vec: vector (nullable = true)\n",
      " |-- rating_count_by_genre_idf: vector (nullable = true)\n",
      " |-- rating_avg_by_genre_idf: vector (nullable = true)\n",
      " |-- rating_std_by_genre_idf: vector (nullable = true)\n",
      " |-- unique_user_by_genre_idf: vector (nullable = true)\n",
      " |-- high_rating_by_genre_idf: vector (nullable = true)\n",
      "\n"
     ]
    }
   ],
   "source": [
    "enriched = (ratings\n",
    "            .join(movies, on = \"movieId\")\n",
    "            .join(user_profile_idf, on = \"userId\")\n",
    "            .withColumn(\"rating\", F.expr(\"cast(rating * 2 as int)\"))\n",
    "#            .withColumn(\"year\", F.regexp_extract(\"title\", r\"\\d+\", 1))\n",
    "#            .withColumn(\"age\", F.expr(\"year(from_unixtime(timestamp)) - year\"))\n",
    "           )\n",
    "enriched.printSchema()"
   ]
  },
  {
   "cell_type": "code",
   "execution_count": 67,
   "metadata": {},
   "outputs": [],
   "source": [
    "from pyspark.ml.feature import VectorAssembler"
   ]
  },
  {
   "cell_type": "code",
   "execution_count": 68,
   "metadata": {},
   "outputs": [],
   "source": [
    "vector_assembler = VectorAssembler(outputCol=\"features\", inputCols=[\n",
    "                                        'rating_count_by_genre_idf',\n",
    "                                        'rating_avg_by_genre_idf',\n",
    "                                        'rating_std_by_genre_idf',\n",
    "                                        'unique_user_by_genre_idf',\n",
    "                                        'high_rating_by_genre_idf'])\n",
    "enriched_vec = vector_assembler.transform(enriched)"
   ]
  },
  {
   "cell_type": "code",
   "execution_count": 69,
   "metadata": {},
   "outputs": [],
   "source": [
    "df_train, df_test = enriched_vec.randomSplit([0.7, 0.3], 1)\n",
    "cache_df(df_train, \"df_train\")"
   ]
  },
  {
   "cell_type": "code",
   "execution_count": 70,
   "metadata": {},
   "outputs": [
    {
     "name": "stdout",
     "output_type": "stream",
     "text": [
      "root\n",
      " |-- userId: integer (nullable = true)\n",
      " |-- movieId: integer (nullable = true)\n",
      " |-- rating: integer (nullable = true)\n",
      " |-- timestamp: integer (nullable = true)\n",
      " |-- title: string (nullable = true)\n",
      " |-- genres: string (nullable = true)\n",
      " |-- rating_count_by_genre: array (nullable = true)\n",
      " |    |-- element: struct (containsNull = true)\n",
      " |    |    |-- genre_index: double (nullable = false)\n",
      " |    |    |-- value: double (nullable = true)\n",
      " |-- rating_avg_by_genre: array (nullable = true)\n",
      " |    |-- element: struct (containsNull = true)\n",
      " |    |    |-- genre_index: double (nullable = false)\n",
      " |    |    |-- value: double (nullable = true)\n",
      " |-- rating_std_by_genre: array (nullable = true)\n",
      " |    |-- element: struct (containsNull = true)\n",
      " |    |    |-- genre_index: double (nullable = false)\n",
      " |    |    |-- value: double (nullable = true)\n",
      " |-- unique_user_count_by_genre: array (nullable = true)\n",
      " |    |-- element: struct (containsNull = true)\n",
      " |    |    |-- genre_index: double (nullable = false)\n",
      " |    |    |-- value: double (nullable = true)\n",
      " |-- high_rating_by_genre: array (nullable = true)\n",
      " |    |-- element: struct (containsNull = true)\n",
      " |    |    |-- genre_index: double (nullable = false)\n",
      " |    |    |-- value: double (nullable = true)\n",
      " |-- rating_count_by_genre_vec: vector (nullable = true)\n",
      " |-- rating_avg_by_genre_vec: vector (nullable = true)\n",
      " |-- rating_std_by_genre_vec: vector (nullable = true)\n",
      " |-- unique_user_count_by_genre_vec: vector (nullable = true)\n",
      " |-- high_rating_by_genre_vec: vector (nullable = true)\n",
      " |-- rating_count_by_genre_idf: vector (nullable = true)\n",
      " |-- rating_avg_by_genre_idf: vector (nullable = true)\n",
      " |-- rating_std_by_genre_idf: vector (nullable = true)\n",
      " |-- unique_user_by_genre_idf: vector (nullable = true)\n",
      " |-- high_rating_by_genre_idf: vector (nullable = true)\n",
      " |-- features: vector (nullable = true)\n",
      "\n"
     ]
    }
   ],
   "source": [
    "df_train.printSchema()"
   ]
  },
  {
   "cell_type": "code",
   "execution_count": 71,
   "metadata": {},
   "outputs": [],
   "source": [
    "from pyspark.ml.classification import LogisticRegression\n",
    "from pyspark.ml.evaluation import MulticlassClassificationEvaluator"
   ]
  },
  {
   "cell_type": "code",
   "execution_count": 72,
   "metadata": {},
   "outputs": [
    {
     "name": "stdout",
     "output_type": "stream",
     "text": [
      "Test accuracy = 0.286947 \n"
     ]
    }
   ],
   "source": [
    "lr = LogisticRegression(family=\"multinomial\", maxIter=10, regParam=0.3\n",
    "                    , elasticNetParam=0.8, featuresCol=\"features\", labelCol=\"rating\")\n",
    "\n",
    "lr_model= lr.fit(df_train)\n",
    "                \n",
    "predictions = lr_model.transform(df_test)\n",
    "\n",
    "evaluator = MulticlassClassificationEvaluator(\n",
    "      labelCol=\"rating\"\n",
    "    , predictionCol=\"prediction\"\n",
    "    , metricName=\"accuracy\")\n",
    "accuracy = evaluator.evaluate(predictions)\n",
    "print(\"Test accuracy = %g \" % (accuracy))"
   ]
  },
  {
   "cell_type": "code",
   "execution_count": null,
   "metadata": {},
   "outputs": [],
   "source": [
    "df_train.select(\"rating\").distinct().collect()"
   ]
  },
  {
   "cell_type": "code",
   "execution_count": null,
   "metadata": {},
   "outputs": [],
   "source": []
  }
 ],
 "metadata": {
  "kernelspec": {
   "display_name": "Python 3",
   "language": "python",
   "name": "python3"
  },
  "language_info": {
   "codemirror_mode": {
    "name": "ipython",
    "version": 3
   },
   "file_extension": ".py",
   "mimetype": "text/x-python",
   "name": "python",
   "nbconvert_exporter": "python",
   "pygments_lexer": "ipython3",
   "version": "3.6.6"
  }
 },
 "nbformat": 4,
 "nbformat_minor": 2
}
