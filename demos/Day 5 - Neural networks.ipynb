{
 "cells": [
  {
   "cell_type": "code",
   "execution_count": 26,
   "metadata": {},
   "outputs": [],
   "source": [
    "import tensorflow as tf\n",
    "import pandas as pd\n",
    "\n",
    "import matplotlib.pyplot as plt\n",
    "\n",
    "%matplotlib inline"
   ]
  },
  {
   "cell_type": "code",
   "execution_count": 2,
   "metadata": {},
   "outputs": [],
   "source": [
    "df_train = pd.read_csv(\"/data/MNIST/mnist_train.csv\", header=None)\n",
    "df_test = pd.read_csv(\"/data/MNIST/mnist_test.csv\", header=None)"
   ]
  },
  {
   "cell_type": "code",
   "execution_count": 3,
   "metadata": {},
   "outputs": [],
   "source": [
    "X_train = df_train.iloc[:, 1:]/255\n",
    "X_test = df_test.iloc[:, 1:]/255"
   ]
  },
  {
   "cell_type": "code",
   "execution_count": 19,
   "metadata": {},
   "outputs": [],
   "source": [
    "y_train = df_train.iloc[:, 0]\n",
    "y_test = df_test.iloc[:, 0]"
   ]
  },
  {
   "cell_type": "code",
   "execution_count": 21,
   "metadata": {},
   "outputs": [
    {
     "name": "stdout",
     "output_type": "stream",
     "text": [
      "X Tensor(\"Placeholder_21:0\", shape=(?, 784), dtype=float32)\n",
      "y Tensor(\"Placeholder_22:0\", shape=(?,), dtype=int32)\n",
      "y_oh Tensor(\"one_hot_7:0\", shape=(?, 10), dtype=float32)\n",
      "W <tf.Variable 'Variable_17:0' shape=(784, 10) dtype=float32_ref>\n",
      "b <tf.Variable 'Variable_18:0' shape=(10,) dtype=float32_ref>\n",
      "accuracy Tensor(\"Mean_11:0\", shape=(), dtype=float32)\n",
      "2.5090196 0.1212\n",
      "2.4376307 0.13176666\n",
      "2.3710034 0.14588334\n",
      "2.309056 0.16183333\n",
      "2.2515507 0.18135\n",
      "2.1981397 0.20221667\n",
      "2.1483963 0.2262\n",
      "2.101838 0.25216666\n",
      "2.0579772 0.27825\n",
      "2.0163572 0.3039\n",
      "1.9765637 0.32898334\n",
      "1.9382565 0.35231668\n",
      "1.9011668 0.37343332\n",
      "1.8650928 0.39428332\n",
      "1.829893 0.41541666\n",
      "1.7954789 0.43515\n",
      "1.7618035 0.45371667\n",
      "1.7288499 0.47305\n",
      "1.6966175 0.49085\n",
      "1.6651175 0.5074\n",
      "1.6343714 0.52423334\n",
      "1.604393 0.53896666\n",
      "1.5751991 0.55401665\n",
      "1.5467963 0.56773335\n",
      "1.5191932 0.58085\n",
      "1.4923879 0.59363335\n",
      "1.4663724 0.6052833\n",
      "1.4411396 0.61675\n",
      "1.4166769 0.62775\n",
      "1.392963 0.63673335\n",
      "1.3699872 0.64571667\n",
      "1.3477308 0.65461665\n",
      "1.3261704 0.6634167\n",
      "1.3052903 0.67115\n",
      "1.2850679 0.67831665\n",
      "1.2654839 0.6848\n",
      "1.246517 0.6905\n",
      "1.2281456 0.6967\n",
      "1.2103516 0.70323336\n",
      "1.1931107 0.70835\n",
      "1.1764036 0.71346664\n",
      "1.1602124 0.7187667\n",
      "1.1445161 0.72328335\n",
      "1.1292976 0.72793335\n",
      "1.1145401 0.7320833\n",
      "1.1002288 0.7360167\n",
      "1.0863459 0.7399333\n",
      "1.0728799 0.74338335\n",
      "1.0598143 0.7461\n",
      "1.0471363 0.74916667\n",
      "1.0348337 0.7522\n",
      "1.0228939 0.7553333\n",
      "1.0113035 0.75818336\n",
      "1.0000494 0.7611667\n",
      "0.98912 0.76388335\n",
      "0.97850215 0.7661\n",
      "0.9681843 0.76875\n",
      "0.95815533 0.7713\n",
      "0.948403 0.77356666\n",
      "0.93891704 0.77578336\n",
      "0.9296865 0.77778333\n",
      "0.9207018 0.77973336\n",
      "0.91195405 0.7819\n",
      "0.90343416 0.7841833\n",
      "0.89513385 0.78646666\n",
      "0.8870449 0.7883667\n",
      "0.87916094 0.7905833\n",
      "0.8714745 0.7923167\n",
      "0.8639776 0.79425\n",
      "0.856666 0.7959167\n",
      "0.84952915 0.7977167\n",
      "0.8425639 0.79936665\n",
      "0.8357647 0.80115\n",
      "0.82912546 0.80263335\n",
      "0.82263815 0.80395\n",
      "0.8163 0.8054\n",
      "0.8101061 0.80721664\n",
      "0.80405116 0.80841666\n",
      "0.79812914 0.81005\n",
      "0.79233736 0.81126666\n",
      "0.7866707 0.8125\n",
      "0.7811258 0.81346667\n",
      "0.7756988 0.8147333\n",
      "0.7703855 0.816\n",
      "0.76518166 0.8172167\n",
      "0.7600855 0.81841666\n",
      "0.7550928 0.8193\n",
      "0.7502009 0.8200833\n",
      "0.7454066 0.82095\n",
      "0.74070626 0.8221\n",
      "0.7360975 0.82313335\n",
      "0.7315784 0.8239667\n",
      "0.72714543 0.82515\n",
      "0.7227965 0.82601666\n",
      "0.71852916 0.8268167\n",
      "0.7143405 0.8276\n",
      "0.71023 0.8282667\n",
      "0.7061937 0.8290333\n",
      "0.70223075 0.82991666\n",
      "0.6983381 0.8307667\n"
     ]
    }
   ],
   "source": [
    "X = tf.placeholder(tf.float32, shape = (None, 784))\n",
    "y = tf.placeholder(\"int32\", shape=(None,))\n",
    "\n",
    "y_oh = tf.one_hot(y, depth=10) # depth = number of classes\n",
    "\n",
    "W = tf.Variable(tf.truncated_normal((784, 10), stddev=0.1))\n",
    "b = tf.Variable(tf.zeros((10,)))\n",
    "print(\"X\", X)\n",
    "print(\"y\", y)\n",
    "print(\"y_oh\", y_oh)\n",
    "print(\"W\", W)\n",
    "print(\"b\", b)\n",
    "\n",
    "logits = tf.matmul(X, W) + b\n",
    "\n",
    "y_pred = tf.argmax(logits, axis=1, output_type=tf.int32)\n",
    "\n",
    "loss = tf.nn.softmax_cross_entropy_with_logits_v2(labels=y_oh\n",
    "                                    , logits=logits)\n",
    "\n",
    "cost = tf.reduce_mean(loss)\n",
    "\n",
    "accuracy = tf.reduce_mean(tf.cast(tf.equal(y_pred, y), tf.float32))\n",
    "print(\"accuracy\", accuracy)\n",
    "\n",
    "optimizer = tf.train.AdamOptimizer(learning_rate = 1e-3).minimize(cost)\n",
    "\n",
    "max_iterations = 100\n",
    "\n",
    "with tf.Session() as sess:\n",
    "    sess.run(tf.global_variables_initializer())\n",
    "    values = {X: X_train, y: y_train}\n",
    "    scores = []\n",
    "    for i in range(max_iterations):\n",
    "        cost_, optimizer_, accuracy_ = sess.run([cost, \n",
    "                        optimizer, accuracy], feed_dict=values)\n",
    "        print(cost_, accuracy_)\n",
    "        scores.append(cost_)"
   ]
  },
  {
   "cell_type": "code",
   "execution_count": 6,
   "metadata": {},
   "outputs": [
    {
     "data": {
      "text/plain": [
       "tuple"
      ]
     },
     "execution_count": 6,
     "metadata": {},
     "output_type": "execute_result"
    }
   ],
   "source": [
    "a = (None,)\n",
    "type(a)"
   ]
  },
  {
   "cell_type": "code",
   "execution_count": 27,
   "metadata": {},
   "outputs": [
    {
     "data": {
      "text/plain": [
       "Text(0,0.5,'Cost')"
      ]
     },
     "execution_count": 27,
     "metadata": {},
     "output_type": "execute_result"
    },
    {
     "data": {
      "image/png": "[encoded data removed]",
      "text/plain": [
       "<matplotlib.figure.Figure at 0xb29aeda90>"
      ]
     },
     "metadata": {},
     "output_type": "display_data"
    }
   ],
   "source": [
    "pd.Series(scores).plot()\n",
    "plt.xlabel(\"Iteration\")\n",
    "plt.ylabel(\"Cost\")"
   ]
  },
  {
   "cell_type": "code",
   "execution_count": 28,
   "metadata": {},
   "outputs": [
    {
     "name": "stderr",
     "output_type": "stream",
     "text": [
      "Using TensorFlow backend.\n"
     ]
    }
   ],
   "source": [
    "import keras"
   ]
  },
  {
   "cell_type": "code",
   "execution_count": null,
   "metadata": {},
   "outputs": [
    {
     "name": "stdout",
     "output_type": "stream",
     "text": [
      "Train on 60000 samples, validate on 10000 samples\n",
      "Epoch 1/10\n",
      "60000/60000 [==============================] - 17s 279us/step - loss: 0.2092 - acc: 0.9387 - val_loss: 0.1050 - val_acc: 0.9669\n",
      "Epoch 2/10\n",
      "60000/60000 [==============================] - 16s 266us/step - loss: 0.0843 - acc: 0.9738 - val_loss: 0.0894 - val_acc: 0.9714\n",
      "Epoch 3/10\n",
      "60000/60000 [==============================] - 16s 271us/step - loss: 0.0567 - acc: 0.9829 - val_loss: 0.0662 - val_acc: 0.9785\n",
      "Epoch 4/10\n",
      "60000/60000 [==============================] - 16s 272us/step - loss: 0.0397 - acc: 0.9870 - val_loss: 0.0689 - val_acc: 0.9786\n",
      "Epoch 5/10\n",
      "60000/60000 [==============================] - 16s 264us/step - loss: 0.0286 - acc: 0.9910 - val_loss: 0.0840 - val_acc: 0.9741\n",
      "Epoch 6/10\n",
      "60000/60000 [==============================] - 15s 255us/step - loss: 0.0229 - acc: 0.9922 - val_loss: 0.0676 - val_acc: 0.9812\n",
      "Epoch 7/10\n",
      "60000/60000 [==============================] - 16s 268us/step - loss: 0.0199 - acc: 0.9936 - val_loss: 0.0782 - val_acc: 0.9780\n",
      "Epoch 8/10\n",
      "60000/60000 [==============================] - 16s 267us/step - loss: 0.0141 - acc: 0.9954 - val_loss: 0.0834 - val_acc: 0.9789\n",
      "Epoch 9/10\n",
      "60000/60000 [==============================] - 16s 260us/step - loss: 0.0131 - acc: 0.9955 - val_loss: 0.0788 - val_acc: 0.9809\n",
      "Epoch 10/10\n",
      "40800/60000 [===================>..........] - ETA: 5s - loss: 0.0097 - acc: 0.9970"
     ]
    }
   ],
   "source": [
    "model = keras.Sequential()\n",
    "model.add(keras.layers.InputLayer((784,), dtype=\"float32\"))\n",
    "model.add(keras.layers.Dense(400, activation=\"relu\"))\n",
    "model.add(keras.layers.Dense(10, activation=\"softmax\"))\n",
    "\n",
    "model.compile(\"adam\", metrics=[\"accuracy\"]\n",
    "    , loss=keras.losses.categorical_crossentropy)\n",
    "model.summary()\n",
    "model.fit(X_train, keras.utils.to_categorical(y_train)\n",
    "          , epochs=10\n",
    "          , validation_data= (X_test, keras.utils.to_categorical(y_test))\n",
    "         )\n",
    "\n"
   ]
  },
  {
   "cell_type": "code",
   "execution_count": null,
   "metadata": {},
   "outputs": [],
   "source": []
  }
 ],
 "metadata": {
  "kernelspec": {
   "display_name": "Python 3",
   "language": "python",
   "name": "python3"
  },
  "language_info": {
   "codemirror_mode": {
    "name": "ipython",
    "version": 3
   },
   "file_extension": ".py",
   "mimetype": "text/x-python",
   "name": "python",
   "nbconvert_exporter": "python",
   "pygments_lexer": "ipython3",
   "version": "3.6.6"
  }
 },
 "nbformat": 4,
 "nbformat_minor": 2
}
