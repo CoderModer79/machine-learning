{
 "cells": [
  {
   "cell_type": "code",
   "execution_count": 53,
   "metadata": {},
   "outputs": [],
   "source": [
    "import pandas as pd\n",
    "import matplotlib.pyplot as plt \n",
    "%matplotlib inline\n",
    "\n",
    "plt.rcParams[\"figure.figsize\"] = (12, 6)\n"
   ]
  },
  {
   "cell_type": "code",
   "execution_count": 4,
   "metadata": {},
   "outputs": [
    {
     "data": {
      "text/html": [
       "<div>\n",
       "<style scoped>\n",
       "    .dataframe tbody tr th:only-of-type {\n",
       "        vertical-align: middle;\n",
       "    }\n",
       "\n",
       "    .dataframe tbody tr th {\n",
       "        vertical-align: top;\n",
       "    }\n",
       "\n",
       "    .dataframe thead th {\n",
       "        text-align: right;\n",
       "    }\n",
       "</style>\n",
       "<table border=\"1\" class=\"dataframe\">\n",
       "  <thead>\n",
       "    <tr style=\"text-align: right;\">\n",
       "      <th></th>\n",
       "      <th>date</th>\n",
       "      <th>open</th>\n",
       "      <th>high</th>\n",
       "      <th>low</th>\n",
       "      <th>close</th>\n",
       "      <th>volume</th>\n",
       "      <th>adjclose</th>\n",
       "      <th>symbol</th>\n",
       "    </tr>\n",
       "  </thead>\n",
       "  <tbody>\n",
       "    <tr>\n",
       "      <th>0</th>\n",
       "      <td>2014-01-02</td>\n",
       "      <td>46.680000</td>\n",
       "      <td>46.700001</td>\n",
       "      <td>45.900002</td>\n",
       "      <td>45.970001</td>\n",
       "      <td>3436800.0</td>\n",
       "      <td>42.940300</td>\n",
       "      <td>XLNX</td>\n",
       "    </tr>\n",
       "    <tr>\n",
       "      <th>1</th>\n",
       "      <td>2014-01-02</td>\n",
       "      <td>42.349998</td>\n",
       "      <td>42.419998</td>\n",
       "      <td>41.700001</td>\n",
       "      <td>41.720001</td>\n",
       "      <td>2915300.0</td>\n",
       "      <td>38.346626</td>\n",
       "      <td>ES</td>\n",
       "    </tr>\n",
       "    <tr>\n",
       "      <th>2</th>\n",
       "      <td>2014-01-02</td>\n",
       "      <td>27.070004</td>\n",
       "      <td>27.220003</td>\n",
       "      <td>26.449998</td>\n",
       "      <td>26.620007</td>\n",
       "      <td>7426600.0</td>\n",
       "      <td>24.554356</td>\n",
       "      <td>CHK</td>\n",
       "    </tr>\n",
       "    <tr>\n",
       "      <th>3</th>\n",
       "      <td>2014-01-02</td>\n",
       "      <td>32.840002</td>\n",
       "      <td>32.910000</td>\n",
       "      <td>32.110000</td>\n",
       "      <td>32.290002</td>\n",
       "      <td>5713000.0</td>\n",
       "      <td>11.750928</td>\n",
       "      <td>NI</td>\n",
       "    </tr>\n",
       "    <tr>\n",
       "      <th>4</th>\n",
       "      <td>2014-01-02</td>\n",
       "      <td>109.279999</td>\n",
       "      <td>109.669998</td>\n",
       "      <td>108.139999</td>\n",
       "      <td>108.550003</td>\n",
       "      <td>252500.0</td>\n",
       "      <td>104.603161</td>\n",
       "      <td>SNA</td>\n",
       "    </tr>\n",
       "  </tbody>\n",
       "</table>\n",
       "</div>"
      ],
      "text/plain": [
       "         date        open        high         low       close     volume  \\\n",
       "0  2014-01-02   46.680000   46.700001   45.900002   45.970001  3436800.0   \n",
       "1  2014-01-02   42.349998   42.419998   41.700001   41.720001  2915300.0   \n",
       "2  2014-01-02   27.070004   27.220003   26.449998   26.620007  7426600.0   \n",
       "3  2014-01-02   32.840002   32.910000   32.110000   32.290002  5713000.0   \n",
       "4  2014-01-02  109.279999  109.669998  108.139999  108.550003   252500.0   \n",
       "\n",
       "     adjclose symbol  \n",
       "0   42.940300   XLNX  \n",
       "1   38.346626     ES  \n",
       "2   24.554356    CHK  \n",
       "3   11.750928     NI  \n",
       "4  104.603161    SNA  "
      ]
     },
     "execution_count": 4,
     "metadata": {},
     "output_type": "execute_result"
    }
   ],
   "source": [
    "df = pd.read_csv(\"/Users/abulbasar/Downloads/stocks.csv\")\n",
    "df.head()"
   ]
  },
  {
   "cell_type": "code",
   "execution_count": 5,
   "metadata": {},
   "outputs": [
    {
     "data": {
      "text/plain": [
       "RangeIndex(start=0, stop=326455, step=1)"
      ]
     },
     "execution_count": 5,
     "metadata": {},
     "output_type": "execute_result"
    }
   ],
   "source": [
    "df.index"
   ]
  },
  {
   "cell_type": "code",
   "execution_count": 10,
   "metadata": {},
   "outputs": [
    {
     "data": {
      "text/plain": [
       "(Timestamp('2014-01-02 00:00:00'),\n",
       " Timestamp('2014-01-02 00:00:00'),\n",
       " Timestamp('2014-01-02 00:00:00'))"
      ]
     },
     "execution_count": 10,
     "metadata": {},
     "output_type": "execute_result"
    }
   ],
   "source": [
    "# Date time parsing\n",
    "pd.to_datetime(\"2014-01-02\"), pd.to_datetime(\"01/02/2014\"), pd.to_datetime(\"Jan 2, 2014\", )"
   ]
  },
  {
   "cell_type": "code",
   "execution_count": 19,
   "metadata": {},
   "outputs": [],
   "source": [
    "df.index = pd.to_datetime(df.date)\n",
    "df = df.sort_index()"
   ]
  },
  {
   "cell_type": "code",
   "execution_count": 12,
   "metadata": {},
   "outputs": [
    {
     "data": {
      "text/html": [
       "<div>\n",
       "<style scoped>\n",
       "    .dataframe tbody tr th:only-of-type {\n",
       "        vertical-align: middle;\n",
       "    }\n",
       "\n",
       "    .dataframe tbody tr th {\n",
       "        vertical-align: top;\n",
       "    }\n",
       "\n",
       "    .dataframe thead th {\n",
       "        text-align: right;\n",
       "    }\n",
       "</style>\n",
       "<table border=\"1\" class=\"dataframe\">\n",
       "  <thead>\n",
       "    <tr style=\"text-align: right;\">\n",
       "      <th></th>\n",
       "      <th>date</th>\n",
       "      <th>open</th>\n",
       "      <th>high</th>\n",
       "      <th>low</th>\n",
       "      <th>close</th>\n",
       "      <th>volume</th>\n",
       "      <th>adjclose</th>\n",
       "      <th>symbol</th>\n",
       "    </tr>\n",
       "    <tr>\n",
       "      <th>date</th>\n",
       "      <th></th>\n",
       "      <th></th>\n",
       "      <th></th>\n",
       "      <th></th>\n",
       "      <th></th>\n",
       "      <th></th>\n",
       "      <th></th>\n",
       "      <th></th>\n",
       "    </tr>\n",
       "  </thead>\n",
       "  <tbody>\n",
       "    <tr>\n",
       "      <th>2014-01-02</th>\n",
       "      <td>2014-01-02</td>\n",
       "      <td>46.680000</td>\n",
       "      <td>46.700001</td>\n",
       "      <td>45.900002</td>\n",
       "      <td>45.970001</td>\n",
       "      <td>3436800.0</td>\n",
       "      <td>42.940300</td>\n",
       "      <td>XLNX</td>\n",
       "    </tr>\n",
       "    <tr>\n",
       "      <th>2014-01-02</th>\n",
       "      <td>2014-01-02</td>\n",
       "      <td>42.349998</td>\n",
       "      <td>42.419998</td>\n",
       "      <td>41.700001</td>\n",
       "      <td>41.720001</td>\n",
       "      <td>2915300.0</td>\n",
       "      <td>38.346626</td>\n",
       "      <td>ES</td>\n",
       "    </tr>\n",
       "    <tr>\n",
       "      <th>2014-01-02</th>\n",
       "      <td>2014-01-02</td>\n",
       "      <td>27.070004</td>\n",
       "      <td>27.220003</td>\n",
       "      <td>26.449998</td>\n",
       "      <td>26.620007</td>\n",
       "      <td>7426600.0</td>\n",
       "      <td>24.554356</td>\n",
       "      <td>CHK</td>\n",
       "    </tr>\n",
       "    <tr>\n",
       "      <th>2014-01-02</th>\n",
       "      <td>2014-01-02</td>\n",
       "      <td>32.840002</td>\n",
       "      <td>32.910000</td>\n",
       "      <td>32.110000</td>\n",
       "      <td>32.290002</td>\n",
       "      <td>5713000.0</td>\n",
       "      <td>11.750928</td>\n",
       "      <td>NI</td>\n",
       "    </tr>\n",
       "    <tr>\n",
       "      <th>2014-01-02</th>\n",
       "      <td>2014-01-02</td>\n",
       "      <td>109.279999</td>\n",
       "      <td>109.669998</td>\n",
       "      <td>108.139999</td>\n",
       "      <td>108.550003</td>\n",
       "      <td>252500.0</td>\n",
       "      <td>104.603161</td>\n",
       "      <td>SNA</td>\n",
       "    </tr>\n",
       "  </tbody>\n",
       "</table>\n",
       "</div>"
      ],
      "text/plain": [
       "                  date        open        high         low       close  \\\n",
       "date                                                                     \n",
       "2014-01-02  2014-01-02   46.680000   46.700001   45.900002   45.970001   \n",
       "2014-01-02  2014-01-02   42.349998   42.419998   41.700001   41.720001   \n",
       "2014-01-02  2014-01-02   27.070004   27.220003   26.449998   26.620007   \n",
       "2014-01-02  2014-01-02   32.840002   32.910000   32.110000   32.290002   \n",
       "2014-01-02  2014-01-02  109.279999  109.669998  108.139999  108.550003   \n",
       "\n",
       "               volume    adjclose symbol  \n",
       "date                                      \n",
       "2014-01-02  3436800.0   42.940300   XLNX  \n",
       "2014-01-02  2915300.0   38.346626     ES  \n",
       "2014-01-02  7426600.0   24.554356    CHK  \n",
       "2014-01-02  5713000.0   11.750928     NI  \n",
       "2014-01-02   252500.0  104.603161    SNA  "
      ]
     },
     "execution_count": 12,
     "metadata": {},
     "output_type": "execute_result"
    }
   ],
   "source": [
    "df.head()"
   ]
  },
  {
   "cell_type": "code",
   "execution_count": 13,
   "metadata": {},
   "outputs": [
    {
     "data": {
      "text/plain": [
       "DatetimeIndex(['2014-01-02', '2014-01-02', '2014-01-02', '2014-01-02',\n",
       "               '2014-01-02', '2014-01-02', '2014-01-02', '2014-01-02',\n",
       "               '2014-01-02', '2014-01-02',\n",
       "               ...\n",
       "               '2016-08-15', '2016-08-15', '2016-08-15', '2016-08-15',\n",
       "               '2016-08-15', '2016-08-15', '2016-08-15', '2016-08-15',\n",
       "               '2016-08-15', '2016-08-15'],\n",
       "              dtype='datetime64[ns]', name='date', length=326455, freq=None)"
      ]
     },
     "execution_count": 13,
     "metadata": {},
     "output_type": "execute_result"
    }
   ],
   "source": [
    "df.index"
   ]
  },
  {
   "cell_type": "code",
   "execution_count": 14,
   "metadata": {},
   "outputs": [
    {
     "data": {
      "text/plain": [
       "array(['XLNX', 'ES', 'CHK', 'NI', 'SNA', 'LYB', 'WU', 'FOXA', 'WYNN', 'R',\n",
       "       'ROST', 'PG', 'TYC', 'XL', 'F', 'CVX', 'DAL', 'DPS', 'PPL', 'TRV',\n",
       "       'A', 'LNT', 'AZO', 'UTX', 'RRC', 'INTC', 'GRMN', 'IR', 'AYI',\n",
       "       'DRI', 'AES', 'CHRW', 'UHS', 'QCOM', 'AEE', 'ALB', 'GPS', 'LLY',\n",
       "       'NFX', 'AAL', 'JEC', 'GT', 'AJG', 'GGP', 'PHM', 'ANTM', 'LKQ',\n",
       "       'ALLE', 'FBHS', 'WBA', 'CAG', 'TXN', 'XRAY', 'AAPL', 'URBN',\n",
       "       'ENDP', 'AIV', 'CERN', 'REGN', 'GLW', 'PRU', 'ILMN', 'PX', 'RHT',\n",
       "       'DLR', 'FB', 'DE', 'LEG', 'BBT', 'SRCL', 'UAL', 'MAS', 'LEN',\n",
       "       'ALXN', 'COL', 'YHOO', 'PNR', 'KO', 'CMCSA', 'DVA', 'NWS', 'DIS',\n",
       "       'EL', 'HAL', 'GE', 'MMC', 'CAH', 'COH', 'FL', 'HP', 'LNC', 'MHK',\n",
       "       'SCG', 'PCLN', 'IBM', 'UNH', 'WFM', 'ISRG', 'MRK', 'COP', 'PNW',\n",
       "       'PPG', 'SYK', 'MAC', 'KEY', 'EXPE', 'GOOGL', 'HPQ', 'LB', 'PGR',\n",
       "       'RTN', 'LMT', 'AON', 'SRE', 'RHI', 'TSN', 'EXR', 'CPB', 'BXP', 'K',\n",
       "       'SPG', 'PM', 'FIS', 'VFC', 'HBAN', 'GD', 'FLIR', 'MRO', 'PCG',\n",
       "       'RF', 'OI', 'LVLT', 'BSX', 'CTL', 'ATVI', 'AMZN', 'JBHT', 'FLR',\n",
       "       'XEL', 'MO', 'BLK', 'BMY', 'FISV', 'UDR', 'MMM', 'PFG', 'PBCT',\n",
       "       'ESRX', 'PDCO', 'WYN', 'CF', 'CMG', 'AMP', 'WEC', 'BAC', 'HOLX',\n",
       "       'CELG', 'KLAC', 'LUV', 'TSCO', 'CINF', 'XOM', 'BBBY', 'SCHW',\n",
       "       'MKC', 'MET', 'O', 'VIAB', 'PAYX', 'CRM', 'TEL', 'STT', 'JWN',\n",
       "       'ROK', 'AVB', 'ULTA', 'BAX', 'OXY', 'URI', 'BK', 'SPLS', 'COG',\n",
       "       'AKAM', 'RIG', 'AMG', 'EA', 'NSC', 'MOS', 'WY', 'ADP', 'MAT',\n",
       "       'XRX', 'MCD', 'PRGO', 'DTE', 'CMA', 'CLX', 'MUR', 'NDAQ', 'SWKS',\n",
       "       'AMGN', 'CSCO', 'BA', 'VTR', 'FAST', 'HST', 'VNO', 'CTXS', 'ED',\n",
       "       'AA', 'KMI', 'PLD', 'ZBH', 'L', 'FRT', 'HUM', 'AVGO', 'MON',\n",
       "       'VRTX', 'WAT', 'JNPR', 'RL', 'FE', 'ADI', 'AAP', 'ACN', 'AMT',\n",
       "       'PEG', 'SWN', 'CB', 'PEP', 'STZ', 'AME', 'NOC', 'XEC', 'AMAT',\n",
       "       'CL', 'CXO', 'WFC', 'AIZ', 'DO', 'C', 'V', 'FMC', 'AWK', 'AN',\n",
       "       'HRL', 'CBG', 'YUM', 'ORLY', 'WM', 'OKE', 'LLTC', 'HSY', 'DLTR',\n",
       "       'MCO', 'GS', 'EIX', 'AEP', 'MDLZ', 'EMR', 'PBI', 'ABC', 'PNC',\n",
       "       'VLO', 'EMN', 'SYMC', 'TSO', 'CCL', 'PKI', 'KMB', 'AXP', 'TGNA',\n",
       "       'ETR', 'RSG', 'MCK', 'AGN', 'OMC', 'EOG', 'TAP', 'TDC', 'VAR',\n",
       "       'MYL', 'SLB', 'EXC', 'GILD', 'MDT', 'PSA', 'NVDA', 'EMC', 'TRIP',\n",
       "       'KIM', 'HAR', 'GM', 'DISCA', 'MLM', 'NKE', 'FSLR', 'HOG', 'FOX',\n",
       "       'EXPD', 'NUE', 'HCN', 'DD', 'TDG', 'GOOG', 'D', 'HOT', 'ADBE',\n",
       "       'FTI', 'UNM', 'DGX', 'FDX', 'EQT', 'APA', 'TGT', 'IFF', 'AFL',\n",
       "       'ETN', 'MAR', 'IPG', 'STX', 'TWX', 'JPM', 'NWL', 'NTRS', 'VZ',\n",
       "       'IVZ', 'HES', 'CCI', 'GWW', 'TIF', 'ALL', 'IRM', 'AVY', 'RAI',\n",
       "       'KR', 'KSS', 'UA', 'LLL', 'SYY', 'CA', 'CNP', 'HCA', 'MSI', 'SHW',\n",
       "       'ADS', 'COST', 'DISCK', 'BWA', 'ETFC', 'COF', 'CTSH', 'FTR', 'WDC',\n",
       "       'LUK', 'ECL', 'SPGI', 'TROW', 'BEN', 'DVN', 'DUK', 'BDX', 'BHI',\n",
       "       'DLPH', 'TJX', 'GIS', 'BCR', 'EBAY', 'FCX', 'PVH', 'CMS', 'DOW',\n",
       "       'UPS', 'CNC', 'JNJ', 'DHR', 'ZION', 'BBY', 'ESS', 'NBL', 'EQIX',\n",
       "       'ABT', 'PFE', 'ROP', 'DG', 'TMO', 'ICE', 'RCL', 'TSS', 'CMI',\n",
       "       'ITW', 'HON', 'WMT', 'KSU', 'EW', 'WHR', 'KMX', 'NRG', 'UNP',\n",
       "       'KORS', 'SWK', 'SLG', 'LOW', 'LRCX', 'DFS', 'XYL', 'NTAP', 'MJN',\n",
       "       'CI', 'MSFT', 'FFIV', 'AET', 'INTU', 'DHI', 'CBS', 'GPC', 'MNST',\n",
       "       'STJ', 'MA', 'IP', 'APH', 'CHD', 'TXT', 'LH', 'MPC', 'HSIC', 'PXD',\n",
       "       'EFX', 'CSX', 'USB', 'DOV', 'MTB', 'ABBV', 'VRSN', 'HRB', 'NWSA',\n",
       "       'SBUX', 'SNI', 'PH', 'STI', 'NOV', 'SJM', 'APD', 'HCP', 'PSX',\n",
       "       'NEM', 'MS', 'BLL', 'JCI', 'M', 'ORCL', 'MU', 'VMC', 'PWR', 'AIG',\n",
       "       'SO', 'SIG', 'NFLX', 'CVS', 'LM', 'ADSK', 'FITB', 'HAS', 'PCAR',\n",
       "       'GPN', 'DNB', 'ALK', 'BIIB', 'NLSN', 'HRS', 'CAT', 'CME', 'ADM',\n",
       "       'HIG', 'T', 'HD', 'VRSK', 'APC', 'TMK', 'SEE', 'FLS', 'CTAS',\n",
       "       'WMB', 'MNK', 'HBI', 'MCHP', 'EQR', 'SE', 'NAVI', 'SYF', 'CFG',\n",
       "       'QRVO', 'WRK', 'UA.C', 'KHC', 'PYPL', 'HPE', 'CSRA', 'WLTW', 'NEE'],\n",
       "      dtype=object)"
      ]
     },
     "execution_count": 14,
     "metadata": {},
     "output_type": "execute_result"
    }
   ],
   "source": [
    "df.symbol.unique()"
   ]
  },
  {
   "cell_type": "code",
   "execution_count": 17,
   "metadata": {
    "scrolled": false
   },
   "outputs": [
    {
     "data": {
      "text/plain": [
       "date\n",
       "2014-01-02     74.819430\n",
       "2014-01-03     73.175958\n",
       "2014-01-06     73.574988\n",
       "2014-01-07     73.048809\n",
       "2014-01-08     73.511417\n",
       "2014-01-09     72.572670\n",
       "2014-01-10     72.088419\n",
       "2014-01-13     72.465814\n",
       "2014-01-14     73.907745\n",
       "2014-01-15     75.391604\n",
       "2014-01-16     74.970931\n",
       "2014-01-17     73.134023\n",
       "2014-01-21     74.270250\n",
       "2014-01-22     74.600299\n",
       "2014-01-23     75.231990\n",
       "2014-01-24     73.864459\n",
       "2014-01-27     74.463686\n",
       "2014-01-28     68.511996\n",
       "2014-01-29     67.734221\n",
       "2014-01-30     67.603012\n",
       "2014-01-31     67.713929\n",
       "2014-02-03     67.839727\n",
       "2014-02-04     68.821759\n",
       "2014-02-05     69.335766\n",
       "2014-02-06     69.739904\n",
       "2014-02-07     70.715562\n",
       "2014-02-10     71.982424\n",
       "2014-02-11     72.930866\n",
       "2014-02-12     72.925423\n",
       "2014-02-13     74.083422\n",
       "                 ...    \n",
       "2016-07-05     94.478190\n",
       "2016-07-06     95.015281\n",
       "2016-07-07     95.423076\n",
       "2016-07-08     96.159086\n",
       "2016-07-11     96.457473\n",
       "2016-07-12     96.895097\n",
       "2016-07-13     96.348065\n",
       "2016-07-14     98.257718\n",
       "2016-07-15     98.247770\n",
       "2016-07-18     99.292116\n",
       "2016-07-19     99.331901\n",
       "2016-07-20     99.421412\n",
       "2016-07-21     98.894269\n",
       "2016-07-22     98.128421\n",
       "2016-07-25     96.815526\n",
       "2016-07-26     96.149138\n",
       "2016-07-27    102.395300\n",
       "2016-07-28    103.777810\n",
       "2016-07-29    103.648513\n",
       "2016-08-01    105.478603\n",
       "2016-08-02    103.917063\n",
       "2016-08-03    105.220002\n",
       "2016-08-04    105.870003\n",
       "2016-08-05    107.480003\n",
       "2016-08-08    108.370003\n",
       "2016-08-09    108.809998\n",
       "2016-08-10    108.000000\n",
       "2016-08-11    107.930000\n",
       "2016-08-12    108.180000\n",
       "2016-08-15    109.480003\n",
       "Name: AAPL, Length: 660, dtype: float64"
      ]
     },
     "execution_count": 17,
     "metadata": {},
     "output_type": "execute_result"
    }
   ],
   "source": [
    "df.pivot(columns=\"symbol\", values = \"adjclose\").AAPL"
   ]
  },
  {
   "cell_type": "code",
   "execution_count": 22,
   "metadata": {},
   "outputs": [
    {
     "data": {
      "text/plain": [
       "date\n",
       "2014-01-02    74.819430\n",
       "2014-01-03    73.175958\n",
       "2014-01-06    73.574988\n",
       "2014-01-07    73.048809\n",
       "2014-01-08    73.511417\n",
       "2014-01-09    72.572670\n",
       "2014-01-10    72.088419\n",
       "2014-01-13    72.465814\n",
       "2014-01-14    73.907745\n",
       "2014-01-15    75.391604\n",
       "Name: adjclose, dtype: float64"
      ]
     },
     "execution_count": 22,
     "metadata": {},
     "output_type": "execute_result"
    }
   ],
   "source": [
    "aapl = df[df.symbol == \"AAPL\"][\"adjclose\"]\n",
    "aapl.head(10)"
   ]
  },
  {
   "cell_type": "code",
   "execution_count": 27,
   "metadata": {},
   "outputs": [
    {
     "data": {
      "text/plain": [
       "date\n",
       "2014-01-02    74.819430\n",
       "2014-01-03    73.175958\n",
       "2014-01-04    73.175958\n",
       "2014-01-05    73.175958\n",
       "2014-01-06    73.574988\n",
       "2014-01-07    73.048809\n",
       "2014-01-08    73.511417\n",
       "2014-01-09    72.572670\n",
       "2014-01-10    72.088419\n",
       "2014-01-11    72.088419\n",
       "Freq: D, Name: adjclose, dtype: float64"
      ]
     },
     "execution_count": 27,
     "metadata": {},
     "output_type": "execute_result"
    }
   ],
   "source": [
    "aapl.resample(\"D\").ffill().head(10)"
   ]
  },
  {
   "cell_type": "code",
   "execution_count": 28,
   "metadata": {},
   "outputs": [
    {
     "data": {
      "text/plain": [
       "date\n",
       "2014-01-02    74.819430\n",
       "2014-01-03    73.175958\n",
       "2014-01-04    73.308968\n",
       "2014-01-05    73.441978\n",
       "2014-01-06    73.574988\n",
       "2014-01-07    73.048809\n",
       "2014-01-08    73.511417\n",
       "2014-01-09    72.572670\n",
       "2014-01-10    72.088419\n",
       "2014-01-11    72.214217\n",
       "Freq: D, Name: adjclose, dtype: float64"
      ]
     },
     "execution_count": 28,
     "metadata": {},
     "output_type": "execute_result"
    }
   ],
   "source": [
    "aapl.resample(\"D\").interpolate().head(10)"
   ]
  },
  {
   "cell_type": "code",
   "execution_count": 30,
   "metadata": {},
   "outputs": [
    {
     "data": {
      "text/plain": [
       "(Timestamp('2014-01-02 00:00:00'), Timestamp('2016-08-15 00:00:00'))"
      ]
     },
     "execution_count": 30,
     "metadata": {},
     "output_type": "execute_result"
    }
   ],
   "source": [
    "aapl.index.min(), aapl.index.max()"
   ]
  },
  {
   "cell_type": "code",
   "execution_count": 36,
   "metadata": {},
   "outputs": [
    {
     "data": {
      "text/plain": [
       "date\n",
       "2014-01-02 00:00:00    74.81943\n",
       "2014-01-02 01:00:00    74.81943\n",
       "2014-01-02 02:00:00    74.81943\n",
       "2014-01-02 03:00:00    74.81943\n",
       "2014-01-02 04:00:00    74.81943\n",
       "2014-01-02 05:00:00    74.81943\n",
       "2014-01-02 06:00:00    74.81943\n",
       "2014-01-02 07:00:00    74.81943\n",
       "2014-01-02 08:00:00    74.81943\n",
       "2014-01-02 09:00:00    74.81943\n",
       "Freq: H, Name: adjclose, dtype: float64"
      ]
     },
     "execution_count": 36,
     "metadata": {},
     "output_type": "execute_result"
    }
   ],
   "source": [
    "aapl.resample(\"1H\").ffill().head(10)"
   ]
  },
  {
   "cell_type": "code",
   "execution_count": 37,
   "metadata": {},
   "outputs": [
    {
     "data": {
      "text/plain": [
       "date\n",
       "2014-01-02    74.819430\n",
       "2014-01-03    73.175958\n",
       "2014-01-06    73.574988\n",
       "2014-01-07    73.048809\n",
       "2014-01-08    73.511417\n",
       "2014-01-09    72.572670\n",
       "2014-01-10    72.088419\n",
       "2014-01-13    72.465814\n",
       "2014-01-14    73.907745\n",
       "2014-01-15    75.391604\n",
       "Name: adjclose, dtype: float64"
      ]
     },
     "execution_count": 37,
     "metadata": {},
     "output_type": "execute_result"
    }
   ],
   "source": [
    "aapl.head(10)"
   ]
  },
  {
   "cell_type": "code",
   "execution_count": 39,
   "metadata": {},
   "outputs": [],
   "source": [
    "aapl = aapl.resample(\"D\").ffill()"
   ]
  },
  {
   "cell_type": "code",
   "execution_count": 40,
   "metadata": {},
   "outputs": [
    {
     "data": {
      "text/plain": [
       "date\n",
       "2014-01-02          NaN\n",
       "2014-01-03    74.819430\n",
       "2014-01-04    73.175958\n",
       "2014-01-05    73.175958\n",
       "2014-01-06    73.175958\n",
       "2014-01-07    73.574988\n",
       "2014-01-08    73.048809\n",
       "2014-01-09    73.511417\n",
       "2014-01-10    72.572670\n",
       "2014-01-11    72.088419\n",
       "Freq: D, Name: adjclose, dtype: float64"
      ]
     },
     "execution_count": 40,
     "metadata": {},
     "output_type": "execute_result"
    }
   ],
   "source": [
    "aapl.shift(1).head(10)"
   ]
  },
  {
   "cell_type": "code",
   "execution_count": 46,
   "metadata": {},
   "outputs": [
    {
     "data": {
      "text/plain": [
       "date\n",
       "2014-01-02         NaN\n",
       "2014-01-03   -0.021966\n",
       "2014-01-04    0.000000\n",
       "2014-01-05    0.000000\n",
       "2014-01-06    0.005453\n",
       "2014-01-07   -0.007152\n",
       "2014-01-08    0.006333\n",
       "2014-01-09   -0.012770\n",
       "2014-01-10   -0.006673\n",
       "2014-01-11    0.000000\n",
       "Freq: D, Name: adjclose, dtype: float64"
      ]
     },
     "execution_count": 46,
     "metadata": {},
     "output_type": "execute_result"
    }
   ],
   "source": [
    "((aapl - aapl.shift())/aapl.shift()).head(10)"
   ]
  },
  {
   "cell_type": "code",
   "execution_count": 47,
   "metadata": {},
   "outputs": [
    {
     "data": {
      "text/plain": [
       "date\n",
       "2014-01-02         NaN\n",
       "2014-01-03   -0.021966\n",
       "2014-01-04    0.000000\n",
       "2014-01-05    0.000000\n",
       "2014-01-06    0.005453\n",
       "2014-01-07   -0.007152\n",
       "2014-01-08    0.006333\n",
       "2014-01-09   -0.012770\n",
       "2014-01-10   -0.006673\n",
       "2014-01-11    0.000000\n",
       "Freq: D, Name: adjclose, dtype: float64"
      ]
     },
     "execution_count": 47,
     "metadata": {},
     "output_type": "execute_result"
    }
   ],
   "source": [
    "aapl.pct_change().head(10)"
   ]
  },
  {
   "cell_type": "code",
   "execution_count": 55,
   "metadata": {},
   "outputs": [
    {
     "data": {
      "text/plain": [
       "<matplotlib.axes._subplots.AxesSubplot at 0x1159be470>"
      ]
     },
     "execution_count": 55,
     "metadata": {},
     "output_type": "execute_result"
    },
    {
     "data": {
      "image/png": "[encoded data removed]",
      "text/plain": [
       "<matplotlib.figure.Figure at 0x1159d75f8>"
      ]
     },
     "metadata": {},
     "output_type": "display_data"
    }
   ],
   "source": [
    "aapl.plot(label = \"Actual\")"
   ]
  },
  {
   "cell_type": "code",
   "execution_count": 62,
   "metadata": {},
   "outputs": [
    {
     "data": {
      "text/plain": [
       "<matplotlib.legend.Legend at 0x119fe4048>"
      ]
     },
     "execution_count": 62,
     "metadata": {},
     "output_type": "execute_result"
    },
    {
     "data": {
      "image/png": "[encoded data removed]",
      "text/plain": [
       "<matplotlib.figure.Figure at 0x119fdd2e8>"
      ]
     },
     "metadata": {},
     "output_type": "display_data"
    }
   ],
   "source": [
    "window = 50\n",
    "aapl[window:].plot(label = \"Actual\")\n",
    "aapl.rolling(window).mean()[window:].plot(label = \"Rolling mean, window: %d\" % window)\n",
    "plt.legend()"
   ]
  },
  {
   "cell_type": "code",
   "execution_count": 63,
   "metadata": {},
   "outputs": [
    {
     "data": {
      "text/plain": [
       "<matplotlib.legend.Legend at 0x11a1a9588>"
      ]
     },
     "execution_count": 63,
     "metadata": {},
     "output_type": "execute_result"
    },
    {
     "data": {
      "image/png": "[encoded data removed]",
      "text/plain": [
       "<matplotlib.figure.Figure at 0x11a1a2940>"
      ]
     },
     "metadata": {},
     "output_type": "display_data"
    }
   ],
   "source": [
    "window = 50\n",
    "aapl[window:].plot(label = \"Actual\")\n",
    "aapl.rolling(window).mean()[window:].plot(label = \"Rolling mean, window: %d\" % window)\n",
    "\n",
    "window = 100\n",
    "aapl.rolling(window).mean()[window:].plot(label = \"Rolling mean, window: %d\" % window)\n",
    "plt.legend()"
   ]
  },
  {
   "cell_type": "code",
   "execution_count": 79,
   "metadata": {},
   "outputs": [
    {
     "data": {
      "text/html": [
       "<div>\n",
       "<style scoped>\n",
       "    .dataframe tbody tr th:only-of-type {\n",
       "        vertical-align: middle;\n",
       "    }\n",
       "\n",
       "    .dataframe tbody tr th {\n",
       "        vertical-align: top;\n",
       "    }\n",
       "\n",
       "    .dataframe thead th {\n",
       "        text-align: right;\n",
       "    }\n",
       "</style>\n",
       "<table border=\"1\" class=\"dataframe\">\n",
       "  <thead>\n",
       "    <tr style=\"text-align: right;\">\n",
       "      <th></th>\n",
       "      <th>y</th>\n",
       "      <th>y_pred</th>\n",
       "    </tr>\n",
       "    <tr>\n",
       "      <th>date</th>\n",
       "      <th></th>\n",
       "      <th></th>\n",
       "    </tr>\n",
       "  </thead>\n",
       "  <tbody>\n",
       "    <tr>\n",
       "      <th>2014-01-05</th>\n",
       "      <td>73.175958</td>\n",
       "      <td>73.723782</td>\n",
       "    </tr>\n",
       "    <tr>\n",
       "      <th>2014-01-06</th>\n",
       "      <td>73.574988</td>\n",
       "      <td>73.175958</td>\n",
       "    </tr>\n",
       "    <tr>\n",
       "      <th>2014-01-07</th>\n",
       "      <td>73.048809</td>\n",
       "      <td>73.308968</td>\n",
       "    </tr>\n",
       "    <tr>\n",
       "      <th>2014-01-08</th>\n",
       "      <td>73.511417</td>\n",
       "      <td>73.266585</td>\n",
       "    </tr>\n",
       "    <tr>\n",
       "      <th>2014-01-09</th>\n",
       "      <td>72.572670</td>\n",
       "      <td>73.378405</td>\n",
       "    </tr>\n",
       "    <tr>\n",
       "      <th>2014-01-10</th>\n",
       "      <td>72.088419</td>\n",
       "      <td>73.044299</td>\n",
       "    </tr>\n",
       "    <tr>\n",
       "      <th>2014-01-11</th>\n",
       "      <td>72.088419</td>\n",
       "      <td>72.724169</td>\n",
       "    </tr>\n",
       "    <tr>\n",
       "      <th>2014-01-12</th>\n",
       "      <td>72.088419</td>\n",
       "      <td>72.249836</td>\n",
       "    </tr>\n",
       "    <tr>\n",
       "      <th>2014-01-13</th>\n",
       "      <td>72.465814</td>\n",
       "      <td>72.088419</td>\n",
       "    </tr>\n",
       "    <tr>\n",
       "      <th>2014-01-14</th>\n",
       "      <td>73.907745</td>\n",
       "      <td>72.214217</td>\n",
       "    </tr>\n",
       "  </tbody>\n",
       "</table>\n",
       "</div>"
      ],
      "text/plain": [
       "                    y     y_pred\n",
       "date                            \n",
       "2014-01-05  73.175958  73.723782\n",
       "2014-01-06  73.574988  73.175958\n",
       "2014-01-07  73.048809  73.308968\n",
       "2014-01-08  73.511417  73.266585\n",
       "2014-01-09  72.572670  73.378405\n",
       "2014-01-10  72.088419  73.044299\n",
       "2014-01-11  72.088419  72.724169\n",
       "2014-01-12  72.088419  72.249836\n",
       "2014-01-13  72.465814  72.088419\n",
       "2014-01-14  73.907745  72.214217"
      ]
     },
     "execution_count": 79,
     "metadata": {},
     "output_type": "execute_result"
    }
   ],
   "source": [
    "window = 3\n",
    "aapl_df = pd.DataFrame(aapl)\n",
    "aapl_df.columns = [\"y\"]\n",
    "aapl_df[\"y_pred\"] = aapl.rolling(window).mean().shift()\n",
    "aapl_df = aapl_df.dropna()\n",
    "aapl_df.head(10)"
   ]
  },
  {
   "cell_type": "code",
   "execution_count": 75,
   "metadata": {},
   "outputs": [
    {
     "data": {
      "text/plain": [
       "73.72378199999999"
      ]
     },
     "execution_count": 75,
     "metadata": {},
     "output_type": "execute_result"
    }
   ],
   "source": [
    "import numpy as np\n",
    "np.mean([74.819430, 73.175958, 73.175958])"
   ]
  },
  {
   "cell_type": "code",
   "execution_count": 76,
   "metadata": {},
   "outputs": [
    {
     "name": "stderr",
     "output_type": "stream",
     "text": [
      "/Users/abulbasar/anaconda3/lib/python3.6/site-packages/sklearn/cross_validation.py:41: DeprecationWarning: This module was deprecated in version 0.18 in favor of the model_selection module into which all the refactored classes and functions are moved. Also note that the interface of the new CV iterators are different from that of this module. This module will be removed in 0.20.\n",
      "  \"This module will be removed in 0.20.\", DeprecationWarning)\n",
      "/Users/abulbasar/anaconda3/lib/python3.6/site-packages/sklearn/grid_search.py:42: DeprecationWarning: This module was deprecated in version 0.18 in favor of the model_selection module into which all the refactored classes and functions are moved. This module will be removed in 0.20.\n",
      "  DeprecationWarning)\n",
      "/Users/abulbasar/anaconda3/lib/python3.6/site-packages/sklearn/learning_curve.py:22: DeprecationWarning: This module was deprecated in version 0.18 in favor of the model_selection module into which all the functions are moved. This module will be removed in 0.20\n",
      "  DeprecationWarning)\n"
     ]
    }
   ],
   "source": [
    "from sklearn import *"
   ]
  },
  {
   "cell_type": "code",
   "execution_count": 82,
   "metadata": {},
   "outputs": [
    {
     "data": {
      "text/plain": [
       "1.6562295425391393"
      ]
     },
     "execution_count": 82,
     "metadata": {},
     "output_type": "execute_result"
    }
   ],
   "source": [
    "rmse = np.sqrt(metrics.mean_squared_error(aapl_df.y, aapl_df.y_pred))\n",
    "rmse"
   ]
  },
  {
   "cell_type": "code",
   "execution_count": 83,
   "metadata": {},
   "outputs": [
    {
     "data": {
      "text/plain": [
       "0.9891229653631913"
      ]
     },
     "execution_count": 83,
     "metadata": {},
     "output_type": "execute_result"
    }
   ],
   "source": [
    "metrics.r2_score(aapl_df.y, aapl_df.y_pred)"
   ]
  },
  {
   "cell_type": "code",
   "execution_count": 110,
   "metadata": {},
   "outputs": [
    {
     "data": {
      "text/html": [
       "<div>\n",
       "<style scoped>\n",
       "    .dataframe tbody tr th:only-of-type {\n",
       "        vertical-align: middle;\n",
       "    }\n",
       "\n",
       "    .dataframe tbody tr th {\n",
       "        vertical-align: top;\n",
       "    }\n",
       "\n",
       "    .dataframe thead th {\n",
       "        text-align: right;\n",
       "    }\n",
       "</style>\n",
       "<table border=\"1\" class=\"dataframe\">\n",
       "  <thead>\n",
       "    <tr style=\"text-align: right;\">\n",
       "      <th></th>\n",
       "      <th>y</th>\n",
       "      <th>rolling_mean</th>\n",
       "      <th>rolling_std</th>\n",
       "      <th>rolling_median</th>\n",
       "      <th>pct_change</th>\n",
       "      <th>outlier</th>\n",
       "      <th>lag_03</th>\n",
       "      <th>lag_04</th>\n",
       "      <th>lag_05</th>\n",
       "      <th>lag_06</th>\n",
       "      <th>lag_07</th>\n",
       "      <th>lag_08</th>\n",
       "      <th>lag_09</th>\n",
       "      <th>lag_10</th>\n",
       "      <th>lag_11</th>\n",
       "      <th>lag_12</th>\n",
       "    </tr>\n",
       "    <tr>\n",
       "      <th>date</th>\n",
       "      <th></th>\n",
       "      <th></th>\n",
       "      <th></th>\n",
       "      <th></th>\n",
       "      <th></th>\n",
       "      <th></th>\n",
       "      <th></th>\n",
       "      <th></th>\n",
       "      <th></th>\n",
       "      <th></th>\n",
       "      <th></th>\n",
       "      <th></th>\n",
       "      <th></th>\n",
       "      <th></th>\n",
       "      <th></th>\n",
       "      <th></th>\n",
       "    </tr>\n",
       "  </thead>\n",
       "  <tbody>\n",
       "    <tr>\n",
       "      <th>2014-01-14</th>\n",
       "      <td>73.907745</td>\n",
       "      <td>72.214217</td>\n",
       "      <td>0.217889</td>\n",
       "      <td>72.088419</td>\n",
       "      <td>0.005235</td>\n",
       "      <td>normal</td>\n",
       "      <td>72.088419</td>\n",
       "      <td>72.088419</td>\n",
       "      <td>72.572670</td>\n",
       "      <td>73.511417</td>\n",
       "      <td>73.048809</td>\n",
       "      <td>73.574988</td>\n",
       "      <td>73.175958</td>\n",
       "      <td>73.175958</td>\n",
       "      <td>73.175958</td>\n",
       "      <td>74.819430</td>\n",
       "    </tr>\n",
       "    <tr>\n",
       "      <th>2014-01-15</th>\n",
       "      <td>75.391604</td>\n",
       "      <td>72.820659</td>\n",
       "      <td>0.960168</td>\n",
       "      <td>72.465814</td>\n",
       "      <td>0.019898</td>\n",
       "      <td>normal</td>\n",
       "      <td>72.088419</td>\n",
       "      <td>72.088419</td>\n",
       "      <td>72.088419</td>\n",
       "      <td>72.572670</td>\n",
       "      <td>73.511417</td>\n",
       "      <td>73.048809</td>\n",
       "      <td>73.574988</td>\n",
       "      <td>73.175958</td>\n",
       "      <td>73.175958</td>\n",
       "      <td>73.175958</td>\n",
       "    </tr>\n",
       "    <tr>\n",
       "      <th>2014-01-16</th>\n",
       "      <td>74.970931</td>\n",
       "      <td>73.921721</td>\n",
       "      <td>1.462945</td>\n",
       "      <td>73.907745</td>\n",
       "      <td>0.020077</td>\n",
       "      <td>normal</td>\n",
       "      <td>72.465814</td>\n",
       "      <td>72.088419</td>\n",
       "      <td>72.088419</td>\n",
       "      <td>72.088419</td>\n",
       "      <td>72.572670</td>\n",
       "      <td>73.511417</td>\n",
       "      <td>73.048809</td>\n",
       "      <td>73.574988</td>\n",
       "      <td>73.175958</td>\n",
       "      <td>73.175958</td>\n",
       "    </tr>\n",
       "    <tr>\n",
       "      <th>2014-01-17</th>\n",
       "      <td>73.134023</td>\n",
       "      <td>74.756760</td>\n",
       "      <td>0.764762</td>\n",
       "      <td>74.970931</td>\n",
       "      <td>-0.005580</td>\n",
       "      <td>normal</td>\n",
       "      <td>73.907745</td>\n",
       "      <td>72.465814</td>\n",
       "      <td>72.088419</td>\n",
       "      <td>72.088419</td>\n",
       "      <td>72.088419</td>\n",
       "      <td>72.572670</td>\n",
       "      <td>73.511417</td>\n",
       "      <td>73.048809</td>\n",
       "      <td>73.574988</td>\n",
       "      <td>73.175958</td>\n",
       "    </tr>\n",
       "    <tr>\n",
       "      <th>2014-01-18</th>\n",
       "      <td>73.134023</td>\n",
       "      <td>74.498853</td>\n",
       "      <td>1.200546</td>\n",
       "      <td>74.970931</td>\n",
       "      <td>-0.024502</td>\n",
       "      <td>normal</td>\n",
       "      <td>75.391604</td>\n",
       "      <td>73.907745</td>\n",
       "      <td>72.465814</td>\n",
       "      <td>72.088419</td>\n",
       "      <td>72.088419</td>\n",
       "      <td>72.088419</td>\n",
       "      <td>72.572670</td>\n",
       "      <td>73.511417</td>\n",
       "      <td>73.048809</td>\n",
       "      <td>73.574988</td>\n",
       "    </tr>\n",
       "    <tr>\n",
       "      <th>2014-01-19</th>\n",
       "      <td>73.134023</td>\n",
       "      <td>73.746326</td>\n",
       "      <td>1.060539</td>\n",
       "      <td>73.134023</td>\n",
       "      <td>0.000000</td>\n",
       "      <td>normal</td>\n",
       "      <td>74.970931</td>\n",
       "      <td>75.391604</td>\n",
       "      <td>73.907745</td>\n",
       "      <td>72.465814</td>\n",
       "      <td>72.088419</td>\n",
       "      <td>72.088419</td>\n",
       "      <td>72.088419</td>\n",
       "      <td>72.572670</td>\n",
       "      <td>73.511417</td>\n",
       "      <td>73.048809</td>\n",
       "    </tr>\n",
       "    <tr>\n",
       "      <th>2014-01-20</th>\n",
       "      <td>73.134023</td>\n",
       "      <td>73.134023</td>\n",
       "      <td>0.000000</td>\n",
       "      <td>73.134023</td>\n",
       "      <td>0.000000</td>\n",
       "      <td>normal</td>\n",
       "      <td>73.134023</td>\n",
       "      <td>74.970931</td>\n",
       "      <td>75.391604</td>\n",
       "      <td>73.907745</td>\n",
       "      <td>72.465814</td>\n",
       "      <td>72.088419</td>\n",
       "      <td>72.088419</td>\n",
       "      <td>72.088419</td>\n",
       "      <td>72.572670</td>\n",
       "      <td>73.511417</td>\n",
       "    </tr>\n",
       "    <tr>\n",
       "      <th>2014-01-21</th>\n",
       "      <td>74.270250</td>\n",
       "      <td>73.134023</td>\n",
       "      <td>0.000000</td>\n",
       "      <td>73.134023</td>\n",
       "      <td>0.000000</td>\n",
       "      <td>normal</td>\n",
       "      <td>73.134023</td>\n",
       "      <td>73.134023</td>\n",
       "      <td>74.970931</td>\n",
       "      <td>75.391604</td>\n",
       "      <td>73.907745</td>\n",
       "      <td>72.465814</td>\n",
       "      <td>72.088419</td>\n",
       "      <td>72.088419</td>\n",
       "      <td>72.088419</td>\n",
       "      <td>72.572670</td>\n",
       "    </tr>\n",
       "    <tr>\n",
       "      <th>2014-01-22</th>\n",
       "      <td>74.600299</td>\n",
       "      <td>73.512765</td>\n",
       "      <td>0.656001</td>\n",
       "      <td>73.134023</td>\n",
       "      <td>0.015536</td>\n",
       "      <td>normal</td>\n",
       "      <td>73.134023</td>\n",
       "      <td>73.134023</td>\n",
       "      <td>73.134023</td>\n",
       "      <td>74.970931</td>\n",
       "      <td>75.391604</td>\n",
       "      <td>73.907745</td>\n",
       "      <td>72.465814</td>\n",
       "      <td>72.088419</td>\n",
       "      <td>72.088419</td>\n",
       "      <td>72.088419</td>\n",
       "    </tr>\n",
       "    <tr>\n",
       "      <th>2014-01-23</th>\n",
       "      <td>75.231990</td>\n",
       "      <td>74.001524</td>\n",
       "      <td>0.769189</td>\n",
       "      <td>74.270250</td>\n",
       "      <td>0.004444</td>\n",
       "      <td>normal</td>\n",
       "      <td>73.134023</td>\n",
       "      <td>73.134023</td>\n",
       "      <td>73.134023</td>\n",
       "      <td>73.134023</td>\n",
       "      <td>74.970931</td>\n",
       "      <td>75.391604</td>\n",
       "      <td>73.907745</td>\n",
       "      <td>72.465814</td>\n",
       "      <td>72.088419</td>\n",
       "      <td>72.088419</td>\n",
       "    </tr>\n",
       "  </tbody>\n",
       "</table>\n",
       "</div>"
      ],
      "text/plain": [
       "                    y  rolling_mean  rolling_std  rolling_median  pct_change  \\\n",
       "date                                                                           \n",
       "2014-01-14  73.907745     72.214217     0.217889       72.088419    0.005235   \n",
       "2014-01-15  75.391604     72.820659     0.960168       72.465814    0.019898   \n",
       "2014-01-16  74.970931     73.921721     1.462945       73.907745    0.020077   \n",
       "2014-01-17  73.134023     74.756760     0.764762       74.970931   -0.005580   \n",
       "2014-01-18  73.134023     74.498853     1.200546       74.970931   -0.024502   \n",
       "2014-01-19  73.134023     73.746326     1.060539       73.134023    0.000000   \n",
       "2014-01-20  73.134023     73.134023     0.000000       73.134023    0.000000   \n",
       "2014-01-21  74.270250     73.134023     0.000000       73.134023    0.000000   \n",
       "2014-01-22  74.600299     73.512765     0.656001       73.134023    0.015536   \n",
       "2014-01-23  75.231990     74.001524     0.769189       74.270250    0.004444   \n",
       "\n",
       "           outlier     lag_03     lag_04     lag_05     lag_06     lag_07  \\\n",
       "date                                                                        \n",
       "2014-01-14  normal  72.088419  72.088419  72.572670  73.511417  73.048809   \n",
       "2014-01-15  normal  72.088419  72.088419  72.088419  72.572670  73.511417   \n",
       "2014-01-16  normal  72.465814  72.088419  72.088419  72.088419  72.572670   \n",
       "2014-01-17  normal  73.907745  72.465814  72.088419  72.088419  72.088419   \n",
       "2014-01-18  normal  75.391604  73.907745  72.465814  72.088419  72.088419   \n",
       "2014-01-19  normal  74.970931  75.391604  73.907745  72.465814  72.088419   \n",
       "2014-01-20  normal  73.134023  74.970931  75.391604  73.907745  72.465814   \n",
       "2014-01-21  normal  73.134023  73.134023  74.970931  75.391604  73.907745   \n",
       "2014-01-22  normal  73.134023  73.134023  73.134023  74.970931  75.391604   \n",
       "2014-01-23  normal  73.134023  73.134023  73.134023  73.134023  74.970931   \n",
       "\n",
       "               lag_08     lag_09     lag_10     lag_11     lag_12  \n",
       "date                                                               \n",
       "2014-01-14  73.574988  73.175958  73.175958  73.175958  74.819430  \n",
       "2014-01-15  73.048809  73.574988  73.175958  73.175958  73.175958  \n",
       "2014-01-16  73.511417  73.048809  73.574988  73.175958  73.175958  \n",
       "2014-01-17  72.572670  73.511417  73.048809  73.574988  73.175958  \n",
       "2014-01-18  72.088419  72.572670  73.511417  73.048809  73.574988  \n",
       "2014-01-19  72.088419  72.088419  72.572670  73.511417  73.048809  \n",
       "2014-01-20  72.088419  72.088419  72.088419  72.572670  73.511417  \n",
       "2014-01-21  72.465814  72.088419  72.088419  72.088419  72.572670  \n",
       "2014-01-22  73.907745  72.465814  72.088419  72.088419  72.088419  \n",
       "2014-01-23  75.391604  73.907745  72.465814  72.088419  72.088419  "
      ]
     },
     "execution_count": 110,
     "metadata": {},
     "output_type": "execute_result"
    }
   ],
   "source": [
    "window = 3\n",
    "max_lag = 10 \n",
    "aapl_df = pd.DataFrame(aapl)\n",
    "aapl_df.columns = [\"y\"]\n",
    "aapl_df[\"rolling_mean\"] = aapl.rolling(window).mean().shift()\n",
    "aapl_df[\"rolling_std\"] = aapl.rolling(window).std().shift()\n",
    "aapl_df[\"rolling_median\"] = aapl.rolling(window).median().shift()\n",
    "aapl_df[\"pct_change\"] = aapl.pct_change().shift()\n",
    "aapl_df[\"outlier\"] = pd.Series(np.where(aapl_df[\"pct_change\"] > 0.04, \n",
    "                                \"g1\", \"normal\"), aapl.index).shift()\n",
    "\n",
    "for lag in range(window, window + max_lag):\n",
    "    aapl_df[\"lag_%02d\" % lag] = aapl.shift(lag)\n",
    "\n",
    "aapl_df = aapl_df.dropna()\n",
    "aapl_df.head(10)"
   ]
  },
  {
   "cell_type": "code",
   "execution_count": 92,
   "metadata": {},
   "outputs": [
    {
     "data": {
      "text/plain": [
       "0.624425760679893"
      ]
     },
     "execution_count": 92,
     "metadata": {},
     "output_type": "execute_result"
    }
   ],
   "source": [
    "np.std([73.907745, 75.391604, 74.970931])"
   ]
  },
  {
   "cell_type": "code",
   "execution_count": 91,
   "metadata": {},
   "outputs": [
    {
     "data": {
      "text/plain": [
       "0.624425760679893"
      ]
     },
     "execution_count": 91,
     "metadata": {},
     "output_type": "execute_result"
    }
   ],
   "source": [
    "a = np.array([73.907745, 75.391604, 74.970931])\n",
    "np.sqrt(np.mean((a - a.mean()) ** 2))"
   ]
  },
  {
   "cell_type": "code",
   "execution_count": 93,
   "metadata": {},
   "outputs": [
    {
     "data": {
      "text/plain": [
       "0.7647622479574907"
      ]
     },
     "execution_count": 93,
     "metadata": {},
     "output_type": "execute_result"
    }
   ],
   "source": [
    "np.sqrt(np.sum((a - a.mean()) ** 2)/(len(a) - 1)) # Sample theory based std"
   ]
  },
  {
   "cell_type": "code",
   "execution_count": 111,
   "metadata": {},
   "outputs": [
    {
     "name": "stdout",
     "output_type": "stream",
     "text": [
      "training r2: 0.991973\n",
      "test r2: 0.940575\n",
      "training rmse: 1.623476\n",
      "test: rmse: 1.809030\n"
     ]
    }
   ],
   "source": [
    "X = pd.get_dummies(aapl_df.iloc[:, 1:], drop_first=True)\n",
    "y = aapl_df.y\n",
    "\n",
    "training_size = int(0.7 * len(X))\n",
    "X_train = X[:training_size]\n",
    "y_train = y[:training_size]\n",
    "\n",
    "X_test = X[training_size:]\n",
    "y_test = y[training_size:]\n",
    "\n",
    "\n",
    "est = pipeline.Pipeline([\n",
    "    (\"poly\", preprocessing.PolynomialFeatures(degree=1, include_bias=False)),\n",
    "    (\"scaler\", preprocessing.StandardScaler()),\n",
    "    (\"lr\", linear_model.SGDRegressor(penalty=\"elasticnet\", alpha=0.01\n",
    "                        , l1_ratio=0.1, tol=1e-6, random_state=1\n",
    "                        , eta0 = 0.001, max_iter=10000))\n",
    "])\n",
    "est.fit(X_train, y_train)\n",
    "\n",
    "y_train_pred = est.predict(X_train)\n",
    "y_test_pred = est.predict(X_test)\n",
    "\n",
    "print(\"training r2: %f\\ntest r2: %f\\ntraining rmse: %f\\ntest: rmse: %f\" %(\n",
    "    metrics.r2_score(y_train, y_train_pred),\n",
    "    metrics.r2_score(y_test, y_test_pred),\n",
    "    np.sqrt(metrics.mean_squared_error(y_train, y_train_pred)),\n",
    "    np.sqrt(metrics.mean_squared_error(y_test, y_test_pred))\n",
    "))"
   ]
  },
  {
   "cell_type": "code",
   "execution_count": 98,
   "metadata": {},
   "outputs": [
    {
     "data": {
      "text/html": [
       "<div>\n",
       "<style scoped>\n",
       "    .dataframe tbody tr th:only-of-type {\n",
       "        vertical-align: middle;\n",
       "    }\n",
       "\n",
       "    .dataframe tbody tr th {\n",
       "        vertical-align: top;\n",
       "    }\n",
       "\n",
       "    .dataframe thead th {\n",
       "        text-align: right;\n",
       "    }\n",
       "</style>\n",
       "<table border=\"1\" class=\"dataframe\">\n",
       "  <thead>\n",
       "    <tr style=\"text-align: right;\">\n",
       "      <th></th>\n",
       "      <th>rolling_mean</th>\n",
       "      <th>rolling_std</th>\n",
       "      <th>rolling_median</th>\n",
       "      <th>lag_03</th>\n",
       "      <th>lag_04</th>\n",
       "      <th>lag_05</th>\n",
       "      <th>lag_06</th>\n",
       "      <th>lag_07</th>\n",
       "      <th>lag_08</th>\n",
       "      <th>lag_09</th>\n",
       "      <th>lag_10</th>\n",
       "      <th>lag_11</th>\n",
       "      <th>lag_12</th>\n",
       "    </tr>\n",
       "    <tr>\n",
       "      <th>date</th>\n",
       "      <th></th>\n",
       "      <th></th>\n",
       "      <th></th>\n",
       "      <th></th>\n",
       "      <th></th>\n",
       "      <th></th>\n",
       "      <th></th>\n",
       "      <th></th>\n",
       "      <th></th>\n",
       "      <th></th>\n",
       "      <th></th>\n",
       "      <th></th>\n",
       "      <th></th>\n",
       "    </tr>\n",
       "  </thead>\n",
       "  <tbody>\n",
       "    <tr>\n",
       "      <th>2014-01-14</th>\n",
       "      <td>72.214217</td>\n",
       "      <td>0.217889</td>\n",
       "      <td>72.088419</td>\n",
       "      <td>72.088419</td>\n",
       "      <td>72.088419</td>\n",
       "      <td>72.572670</td>\n",
       "      <td>73.511417</td>\n",
       "      <td>73.048809</td>\n",
       "      <td>73.574988</td>\n",
       "      <td>73.175958</td>\n",
       "      <td>73.175958</td>\n",
       "      <td>73.175958</td>\n",
       "      <td>74.819430</td>\n",
       "    </tr>\n",
       "    <tr>\n",
       "      <th>2014-01-15</th>\n",
       "      <td>72.820659</td>\n",
       "      <td>0.960168</td>\n",
       "      <td>72.465814</td>\n",
       "      <td>72.088419</td>\n",
       "      <td>72.088419</td>\n",
       "      <td>72.088419</td>\n",
       "      <td>72.572670</td>\n",
       "      <td>73.511417</td>\n",
       "      <td>73.048809</td>\n",
       "      <td>73.574988</td>\n",
       "      <td>73.175958</td>\n",
       "      <td>73.175958</td>\n",
       "      <td>73.175958</td>\n",
       "    </tr>\n",
       "    <tr>\n",
       "      <th>2014-01-16</th>\n",
       "      <td>73.921721</td>\n",
       "      <td>1.462945</td>\n",
       "      <td>73.907745</td>\n",
       "      <td>72.465814</td>\n",
       "      <td>72.088419</td>\n",
       "      <td>72.088419</td>\n",
       "      <td>72.088419</td>\n",
       "      <td>72.572670</td>\n",
       "      <td>73.511417</td>\n",
       "      <td>73.048809</td>\n",
       "      <td>73.574988</td>\n",
       "      <td>73.175958</td>\n",
       "      <td>73.175958</td>\n",
       "    </tr>\n",
       "    <tr>\n",
       "      <th>2014-01-17</th>\n",
       "      <td>74.756760</td>\n",
       "      <td>0.764762</td>\n",
       "      <td>74.970931</td>\n",
       "      <td>73.907745</td>\n",
       "      <td>72.465814</td>\n",
       "      <td>72.088419</td>\n",
       "      <td>72.088419</td>\n",
       "      <td>72.088419</td>\n",
       "      <td>72.572670</td>\n",
       "      <td>73.511417</td>\n",
       "      <td>73.048809</td>\n",
       "      <td>73.574988</td>\n",
       "      <td>73.175958</td>\n",
       "    </tr>\n",
       "    <tr>\n",
       "      <th>2014-01-18</th>\n",
       "      <td>74.498853</td>\n",
       "      <td>1.200546</td>\n",
       "      <td>74.970931</td>\n",
       "      <td>75.391604</td>\n",
       "      <td>73.907745</td>\n",
       "      <td>72.465814</td>\n",
       "      <td>72.088419</td>\n",
       "      <td>72.088419</td>\n",
       "      <td>72.088419</td>\n",
       "      <td>72.572670</td>\n",
       "      <td>73.511417</td>\n",
       "      <td>73.048809</td>\n",
       "      <td>73.574988</td>\n",
       "    </tr>\n",
       "    <tr>\n",
       "      <th>2014-01-19</th>\n",
       "      <td>73.746326</td>\n",
       "      <td>1.060539</td>\n",
       "      <td>73.134023</td>\n",
       "      <td>74.970931</td>\n",
       "      <td>75.391604</td>\n",
       "      <td>73.907745</td>\n",
       "      <td>72.465814</td>\n",
       "      <td>72.088419</td>\n",
       "      <td>72.088419</td>\n",
       "      <td>72.088419</td>\n",
       "      <td>72.572670</td>\n",
       "      <td>73.511417</td>\n",
       "      <td>73.048809</td>\n",
       "    </tr>\n",
       "    <tr>\n",
       "      <th>2014-01-20</th>\n",
       "      <td>73.134023</td>\n",
       "      <td>0.000000</td>\n",
       "      <td>73.134023</td>\n",
       "      <td>73.134023</td>\n",
       "      <td>74.970931</td>\n",
       "      <td>75.391604</td>\n",
       "      <td>73.907745</td>\n",
       "      <td>72.465814</td>\n",
       "      <td>72.088419</td>\n",
       "      <td>72.088419</td>\n",
       "      <td>72.088419</td>\n",
       "      <td>72.572670</td>\n",
       "      <td>73.511417</td>\n",
       "    </tr>\n",
       "    <tr>\n",
       "      <th>2014-01-21</th>\n",
       "      <td>73.134023</td>\n",
       "      <td>0.000000</td>\n",
       "      <td>73.134023</td>\n",
       "      <td>73.134023</td>\n",
       "      <td>73.134023</td>\n",
       "      <td>74.970931</td>\n",
       "      <td>75.391604</td>\n",
       "      <td>73.907745</td>\n",
       "      <td>72.465814</td>\n",
       "      <td>72.088419</td>\n",
       "      <td>72.088419</td>\n",
       "      <td>72.088419</td>\n",
       "      <td>72.572670</td>\n",
       "    </tr>\n",
       "    <tr>\n",
       "      <th>2014-01-22</th>\n",
       "      <td>73.512765</td>\n",
       "      <td>0.656001</td>\n",
       "      <td>73.134023</td>\n",
       "      <td>73.134023</td>\n",
       "      <td>73.134023</td>\n",
       "      <td>73.134023</td>\n",
       "      <td>74.970931</td>\n",
       "      <td>75.391604</td>\n",
       "      <td>73.907745</td>\n",
       "      <td>72.465814</td>\n",
       "      <td>72.088419</td>\n",
       "      <td>72.088419</td>\n",
       "      <td>72.088419</td>\n",
       "    </tr>\n",
       "    <tr>\n",
       "      <th>2014-01-23</th>\n",
       "      <td>74.001524</td>\n",
       "      <td>0.769189</td>\n",
       "      <td>74.270250</td>\n",
       "      <td>73.134023</td>\n",
       "      <td>73.134023</td>\n",
       "      <td>73.134023</td>\n",
       "      <td>73.134023</td>\n",
       "      <td>74.970931</td>\n",
       "      <td>75.391604</td>\n",
       "      <td>73.907745</td>\n",
       "      <td>72.465814</td>\n",
       "      <td>72.088419</td>\n",
       "      <td>72.088419</td>\n",
       "    </tr>\n",
       "  </tbody>\n",
       "</table>\n",
       "</div>"
      ],
      "text/plain": [
       "            rolling_mean  rolling_std  rolling_median     lag_03     lag_04  \\\n",
       "date                                                                          \n",
       "2014-01-14     72.214217     0.217889       72.088419  72.088419  72.088419   \n",
       "2014-01-15     72.820659     0.960168       72.465814  72.088419  72.088419   \n",
       "2014-01-16     73.921721     1.462945       73.907745  72.465814  72.088419   \n",
       "2014-01-17     74.756760     0.764762       74.970931  73.907745  72.465814   \n",
       "2014-01-18     74.498853     1.200546       74.970931  75.391604  73.907745   \n",
       "2014-01-19     73.746326     1.060539       73.134023  74.970931  75.391604   \n",
       "2014-01-20     73.134023     0.000000       73.134023  73.134023  74.970931   \n",
       "2014-01-21     73.134023     0.000000       73.134023  73.134023  73.134023   \n",
       "2014-01-22     73.512765     0.656001       73.134023  73.134023  73.134023   \n",
       "2014-01-23     74.001524     0.769189       74.270250  73.134023  73.134023   \n",
       "\n",
       "               lag_05     lag_06     lag_07     lag_08     lag_09     lag_10  \\\n",
       "date                                                                           \n",
       "2014-01-14  72.572670  73.511417  73.048809  73.574988  73.175958  73.175958   \n",
       "2014-01-15  72.088419  72.572670  73.511417  73.048809  73.574988  73.175958   \n",
       "2014-01-16  72.088419  72.088419  72.572670  73.511417  73.048809  73.574988   \n",
       "2014-01-17  72.088419  72.088419  72.088419  72.572670  73.511417  73.048809   \n",
       "2014-01-18  72.465814  72.088419  72.088419  72.088419  72.572670  73.511417   \n",
       "2014-01-19  73.907745  72.465814  72.088419  72.088419  72.088419  72.572670   \n",
       "2014-01-20  75.391604  73.907745  72.465814  72.088419  72.088419  72.088419   \n",
       "2014-01-21  74.970931  75.391604  73.907745  72.465814  72.088419  72.088419   \n",
       "2014-01-22  73.134023  74.970931  75.391604  73.907745  72.465814  72.088419   \n",
       "2014-01-23  73.134023  73.134023  74.970931  75.391604  73.907745  72.465814   \n",
       "\n",
       "               lag_11     lag_12  \n",
       "date                              \n",
       "2014-01-14  73.175958  74.819430  \n",
       "2014-01-15  73.175958  73.175958  \n",
       "2014-01-16  73.175958  73.175958  \n",
       "2014-01-17  73.574988  73.175958  \n",
       "2014-01-18  73.048809  73.574988  \n",
       "2014-01-19  73.511417  73.048809  \n",
       "2014-01-20  72.572670  73.511417  \n",
       "2014-01-21  72.088419  72.572670  \n",
       "2014-01-22  72.088419  72.088419  \n",
       "2014-01-23  72.088419  72.088419  "
      ]
     },
     "execution_count": 98,
     "metadata": {},
     "output_type": "execute_result"
    }
   ],
   "source": [
    "X[:10]"
   ]
  },
  {
   "cell_type": "markdown",
   "metadata": {},
   "source": [
    "# Stationarity of Series"
   ]
  },
  {
   "cell_type": "code",
   "execution_count": 115,
   "metadata": {},
   "outputs": [
    {
     "data": {
      "text/plain": [
       "<matplotlib.axes._subplots.AxesSubplot at 0x1a1d8ecf60>"
      ]
     },
     "execution_count": 115,
     "metadata": {},
     "output_type": "execute_result"
    },
    {
     "data": {
      "image/png": "[encoded data removed]",
      "text/plain": [
       "<matplotlib.figure.Figure at 0x11a1b34e0>"
      ]
     },
     "metadata": {},
     "output_type": "display_data"
    }
   ],
   "source": [
    "window = 10\n",
    "aapl.rolling(window).mean().plot()\n",
    "aapl.rolling(window).std().plot()"
   ]
  },
  {
   "cell_type": "markdown",
   "metadata": {},
   "source": [
    "Data is not stationary becasue for stationary data, mean and std remains invariant of time. To find stationarity of the data, we use Dickey Fuller test"
   ]
  },
  {
   "cell_type": "code",
   "execution_count": 117,
   "metadata": {},
   "outputs": [],
   "source": [
    "from statsmodels.tsa.stattools import adfuller"
   ]
  },
  {
   "cell_type": "code",
   "execution_count": 120,
   "metadata": {},
   "outputs": [
    {
     "data": {
      "text/plain": [
       "0.378126804008173"
      ]
     },
     "execution_count": 120,
     "metadata": {},
     "output_type": "execute_result"
    }
   ],
   "source": [
    "pval = adfuller(aapl, maxlag= 100)[1]\n",
    "pval"
   ]
  },
  {
   "cell_type": "markdown",
   "metadata": {},
   "source": [
    "if pval < 0.05, then the series is stationary, otherwise it is not stationary"
   ]
  },
  {
   "cell_type": "code",
   "execution_count": 126,
   "metadata": {},
   "outputs": [
    {
     "name": "stdout",
     "output_type": "stream",
     "text": [
      "Dickey Fuller test, pval:  0.36859229968704055\n"
     ]
    },
    {
     "data": {
      "text/plain": [
       "<matplotlib.axes._subplots.AxesSubplot at 0x1013ee6a0>"
      ]
     },
     "execution_count": 126,
     "metadata": {},
     "output_type": "execute_result"
    },
    {
     "data": {
      "image/png": "[encoded data removed]",
      "text/plain": [
       "<matplotlib.figure.Figure at 0x1013eecc0>"
      ]
     },
     "metadata": {},
     "output_type": "display_data"
    }
   ],
   "source": [
    "# Log scaling\n",
    "aapl_log = np.log(aapl)\n",
    "pval = adfuller(aapl_log, maxlag= 100)[1]\n",
    "print(\"Dickey Fuller test, pval: \",pval)\n",
    "aapl_log.rolling(window).mean().plot()"
   ]
  },
  {
   "cell_type": "code",
   "execution_count": 131,
   "metadata": {},
   "outputs": [
    {
     "name": "stdout",
     "output_type": "stream",
     "text": [
      "Dickey Fuller test, pval:  0.0\n"
     ]
    },
    {
     "data": {
      "text/plain": [
       "<matplotlib.legend.Legend at 0x1125bcf28>"
      ]
     },
     "execution_count": 131,
     "metadata": {},
     "output_type": "execute_result"
    },
    {
     "data": {
      "image/png": "[encoded data removed]",
      "text/plain": [
       "<matplotlib.figure.Figure at 0x1c1f0ecc88>"
      ]
     },
     "metadata": {},
     "output_type": "display_data"
    }
   ],
   "source": [
    "# Differencing\n",
    "window = 1\n",
    "aapl_diff = aapl.diff(window)[window:]\n",
    "pval = adfuller(aapl_diff, maxlag= 100)[1]\n",
    "print(\"Dickey Fuller test, pval: \",pval)\n",
    "aapl_diff.rolling(window).mean().plot(label = \"Rolling mean\")\n",
    "aapl_diff.rolling(window).std().plot(label = \"Rolling std\")\n",
    "plt.legend()"
   ]
  },
  {
   "cell_type": "code",
   "execution_count": 128,
   "metadata": {},
   "outputs": [
    {
     "data": {
      "text/plain": [
       "date\n",
       "2014-01-02         NaN\n",
       "2014-01-03   -1.643472\n",
       "2014-01-04    0.000000\n",
       "2014-01-05    0.000000\n",
       "2014-01-06    0.399030\n",
       "2014-01-07   -0.526179\n",
       "2014-01-08    0.462608\n",
       "2014-01-09   -0.938747\n",
       "2014-01-10   -0.484251\n",
       "2014-01-11    0.000000\n",
       "2014-01-12    0.000000\n",
       "2014-01-13    0.377395\n",
       "2014-01-14    1.441931\n",
       "2014-01-15    1.483859\n",
       "2014-01-16   -0.420673\n",
       "2014-01-17   -1.836908\n",
       "2014-01-18    0.000000\n",
       "2014-01-19    0.000000\n",
       "2014-01-20    0.000000\n",
       "2014-01-21    1.136227\n",
       "2014-01-22    0.330049\n",
       "2014-01-23    0.631691\n",
       "2014-01-24   -1.367531\n",
       "2014-01-25    0.000000\n",
       "2014-01-26    0.000000\n",
       "2014-01-27    0.599227\n",
       "2014-01-28   -5.951690\n",
       "2014-01-29   -0.777775\n",
       "2014-01-30   -0.131209\n",
       "2014-01-31    0.110917\n",
       "                ...   \n",
       "2016-07-17    0.000000\n",
       "2016-07-18    1.044346\n",
       "2016-07-19    0.039785\n",
       "2016-07-20    0.089511\n",
       "2016-07-21   -0.527143\n",
       "2016-07-22   -0.765848\n",
       "2016-07-23    0.000000\n",
       "2016-07-24    0.000000\n",
       "2016-07-25   -1.312895\n",
       "2016-07-26   -0.666388\n",
       "2016-07-27    6.246162\n",
       "2016-07-28    1.382510\n",
       "2016-07-29   -0.129297\n",
       "2016-07-30    0.000000\n",
       "2016-07-31    0.000000\n",
       "2016-08-01    1.830090\n",
       "2016-08-02   -1.561540\n",
       "2016-08-03    1.302939\n",
       "2016-08-04    0.650001\n",
       "2016-08-05    1.610000\n",
       "2016-08-06    0.000000\n",
       "2016-08-07    0.000000\n",
       "2016-08-08    0.890000\n",
       "2016-08-09    0.439995\n",
       "2016-08-10   -0.809998\n",
       "2016-08-11   -0.070000\n",
       "2016-08-12    0.250000\n",
       "2016-08-13    0.000000\n",
       "2016-08-14    0.000000\n",
       "2016-08-15    1.300003\n",
       "Freq: D, Name: adjclose, Length: 957, dtype: float64"
      ]
     },
     "execution_count": 128,
     "metadata": {},
     "output_type": "execute_result"
    }
   ],
   "source": [
    "aapl_diff"
   ]
  },
  {
   "cell_type": "code",
   "execution_count": null,
   "metadata": {},
   "outputs": [],
   "source": []
  }
 ],
 "metadata": {
  "kernelspec": {
   "display_name": "Python 3",
   "language": "python",
   "name": "python3"
  },
  "language_info": {
   "codemirror_mode": {
    "name": "ipython",
    "version": 3
   },
   "file_extension": ".py",
   "mimetype": "text/x-python",
   "name": "python",
   "nbconvert_exporter": "python",
   "pygments_lexer": "ipython3",
   "version": "3.6.6"
  }
 },
 "nbformat": 4,
 "nbformat_minor": 2
}
