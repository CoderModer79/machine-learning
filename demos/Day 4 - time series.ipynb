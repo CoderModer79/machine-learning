{
 "cells": [
  {
   "cell_type": "code",
   "execution_count": 48,
   "metadata": {},
   "outputs": [],
   "source": [
    "import pandas as pd\n",
    "\n",
    "import numpy as np\n",
    "import matplotlib.pyplot as plt\n",
    "\n",
    "from sklearn import metrics\n",
    "\n",
    "%matplotlib inline\n"
   ]
  },
  {
   "cell_type": "code",
   "execution_count": 2,
   "metadata": {},
   "outputs": [],
   "source": [
    "df = pd.read_csv(\"https://raw.githubusercontent.com/abulbasar/data/master/airline-passengers.csv\")"
   ]
  },
  {
   "cell_type": "code",
   "execution_count": 3,
   "metadata": {},
   "outputs": [
    {
     "data": {
      "text/html": [
       "<div>\n",
       "<style scoped>\n",
       "    .dataframe tbody tr th:only-of-type {\n",
       "        vertical-align: middle;\n",
       "    }\n",
       "\n",
       "    .dataframe tbody tr th {\n",
       "        vertical-align: top;\n",
       "    }\n",
       "\n",
       "    .dataframe thead th {\n",
       "        text-align: right;\n",
       "    }\n",
       "</style>\n",
       "<table border=\"1\" class=\"dataframe\">\n",
       "  <thead>\n",
       "    <tr style=\"text-align: right;\">\n",
       "      <th></th>\n",
       "      <th>Date</th>\n",
       "      <th>Count</th>\n",
       "    </tr>\n",
       "  </thead>\n",
       "  <tbody>\n",
       "    <tr>\n",
       "      <th>0</th>\n",
       "      <td>1949-01</td>\n",
       "      <td>112</td>\n",
       "    </tr>\n",
       "    <tr>\n",
       "      <th>1</th>\n",
       "      <td>1949-02</td>\n",
       "      <td>118</td>\n",
       "    </tr>\n",
       "    <tr>\n",
       "      <th>2</th>\n",
       "      <td>1949-03</td>\n",
       "      <td>132</td>\n",
       "    </tr>\n",
       "    <tr>\n",
       "      <th>3</th>\n",
       "      <td>1949-04</td>\n",
       "      <td>129</td>\n",
       "    </tr>\n",
       "    <tr>\n",
       "      <th>4</th>\n",
       "      <td>1949-05</td>\n",
       "      <td>121</td>\n",
       "    </tr>\n",
       "  </tbody>\n",
       "</table>\n",
       "</div>"
      ],
      "text/plain": [
       "      Date  Count\n",
       "0  1949-01    112\n",
       "1  1949-02    118\n",
       "2  1949-03    132\n",
       "3  1949-04    129\n",
       "4  1949-05    121"
      ]
     },
     "execution_count": 3,
     "metadata": {},
     "output_type": "execute_result"
    }
   ],
   "source": [
    "df.head()"
   ]
  },
  {
   "cell_type": "code",
   "execution_count": 5,
   "metadata": {},
   "outputs": [],
   "source": [
    "df.index = pd.to_datetime(df.Date)"
   ]
  },
  {
   "cell_type": "code",
   "execution_count": 6,
   "metadata": {},
   "outputs": [
    {
     "data": {
      "text/html": [
       "<div>\n",
       "<style scoped>\n",
       "    .dataframe tbody tr th:only-of-type {\n",
       "        vertical-align: middle;\n",
       "    }\n",
       "\n",
       "    .dataframe tbody tr th {\n",
       "        vertical-align: top;\n",
       "    }\n",
       "\n",
       "    .dataframe thead th {\n",
       "        text-align: right;\n",
       "    }\n",
       "</style>\n",
       "<table border=\"1\" class=\"dataframe\">\n",
       "  <thead>\n",
       "    <tr style=\"text-align: right;\">\n",
       "      <th></th>\n",
       "      <th>Date</th>\n",
       "      <th>Count</th>\n",
       "    </tr>\n",
       "    <tr>\n",
       "      <th>Date</th>\n",
       "      <th></th>\n",
       "      <th></th>\n",
       "    </tr>\n",
       "  </thead>\n",
       "  <tbody>\n",
       "    <tr>\n",
       "      <th>1949-01-01</th>\n",
       "      <td>1949-01</td>\n",
       "      <td>112</td>\n",
       "    </tr>\n",
       "    <tr>\n",
       "      <th>1949-02-01</th>\n",
       "      <td>1949-02</td>\n",
       "      <td>118</td>\n",
       "    </tr>\n",
       "    <tr>\n",
       "      <th>1949-03-01</th>\n",
       "      <td>1949-03</td>\n",
       "      <td>132</td>\n",
       "    </tr>\n",
       "    <tr>\n",
       "      <th>1949-04-01</th>\n",
       "      <td>1949-04</td>\n",
       "      <td>129</td>\n",
       "    </tr>\n",
       "    <tr>\n",
       "      <th>1949-05-01</th>\n",
       "      <td>1949-05</td>\n",
       "      <td>121</td>\n",
       "    </tr>\n",
       "  </tbody>\n",
       "</table>\n",
       "</div>"
      ],
      "text/plain": [
       "               Date  Count\n",
       "Date                      \n",
       "1949-01-01  1949-01    112\n",
       "1949-02-01  1949-02    118\n",
       "1949-03-01  1949-03    132\n",
       "1949-04-01  1949-04    129\n",
       "1949-05-01  1949-05    121"
      ]
     },
     "execution_count": 6,
     "metadata": {},
     "output_type": "execute_result"
    }
   ],
   "source": [
    "df.head()"
   ]
  },
  {
   "cell_type": "code",
   "execution_count": 12,
   "metadata": {},
   "outputs": [],
   "source": [
    "airlines = df.drop(columns=[\"Date\"])"
   ]
  },
  {
   "cell_type": "code",
   "execution_count": 13,
   "metadata": {},
   "outputs": [
    {
     "data": {
      "text/html": [
       "<div>\n",
       "<style scoped>\n",
       "    .dataframe tbody tr th:only-of-type {\n",
       "        vertical-align: middle;\n",
       "    }\n",
       "\n",
       "    .dataframe tbody tr th {\n",
       "        vertical-align: top;\n",
       "    }\n",
       "\n",
       "    .dataframe thead th {\n",
       "        text-align: right;\n",
       "    }\n",
       "</style>\n",
       "<table border=\"1\" class=\"dataframe\">\n",
       "  <thead>\n",
       "    <tr style=\"text-align: right;\">\n",
       "      <th></th>\n",
       "      <th>Count</th>\n",
       "    </tr>\n",
       "    <tr>\n",
       "      <th>Date</th>\n",
       "      <th></th>\n",
       "    </tr>\n",
       "  </thead>\n",
       "  <tbody>\n",
       "    <tr>\n",
       "      <th>1949-01-01</th>\n",
       "      <td>112</td>\n",
       "    </tr>\n",
       "    <tr>\n",
       "      <th>1949-02-01</th>\n",
       "      <td>118</td>\n",
       "    </tr>\n",
       "    <tr>\n",
       "      <th>1949-03-01</th>\n",
       "      <td>132</td>\n",
       "    </tr>\n",
       "    <tr>\n",
       "      <th>1949-04-01</th>\n",
       "      <td>129</td>\n",
       "    </tr>\n",
       "    <tr>\n",
       "      <th>1949-05-01</th>\n",
       "      <td>121</td>\n",
       "    </tr>\n",
       "  </tbody>\n",
       "</table>\n",
       "</div>"
      ],
      "text/plain": [
       "            Count\n",
       "Date             \n",
       "1949-01-01    112\n",
       "1949-02-01    118\n",
       "1949-03-01    132\n",
       "1949-04-01    129\n",
       "1949-05-01    121"
      ]
     },
     "execution_count": 13,
     "metadata": {},
     "output_type": "execute_result"
    }
   ],
   "source": [
    "airlines.head()"
   ]
  },
  {
   "cell_type": "code",
   "execution_count": 14,
   "metadata": {},
   "outputs": [
    {
     "data": {
      "text/plain": [
       "<matplotlib.axes._subplots.AxesSubplot at 0x116773b00>"
      ]
     },
     "execution_count": 14,
     "metadata": {},
     "output_type": "execute_result"
    },
    {
     "data": {
      "image/png": "[encoded data removed]",
      "text/plain": [
       "<Figure size 432x288 with 1 Axes>"
      ]
     },
     "metadata": {},
     "output_type": "display_data"
    }
   ],
   "source": [
    "airlines.plot()"
   ]
  },
  {
   "cell_type": "code",
   "execution_count": 27,
   "metadata": {},
   "outputs": [
    {
     "data": {
      "text/html": [
       "<div>\n",
       "<style scoped>\n",
       "    .dataframe tbody tr th:only-of-type {\n",
       "        vertical-align: middle;\n",
       "    }\n",
       "\n",
       "    .dataframe tbody tr th {\n",
       "        vertical-align: top;\n",
       "    }\n",
       "\n",
       "    .dataframe thead th {\n",
       "        text-align: right;\n",
       "    }\n",
       "</style>\n",
       "<table border=\"1\" class=\"dataframe\">\n",
       "  <thead>\n",
       "    <tr style=\"text-align: right;\">\n",
       "      <th></th>\n",
       "      <th>open</th>\n",
       "      <th>high</th>\n",
       "      <th>low</th>\n",
       "      <th>close</th>\n",
       "      <th>volume</th>\n",
       "      <th>adjclose</th>\n",
       "      <th>symbol</th>\n",
       "    </tr>\n",
       "    <tr>\n",
       "      <th>date</th>\n",
       "      <th></th>\n",
       "      <th></th>\n",
       "      <th></th>\n",
       "      <th></th>\n",
       "      <th></th>\n",
       "      <th></th>\n",
       "      <th></th>\n",
       "    </tr>\n",
       "  </thead>\n",
       "  <tbody>\n",
       "    <tr>\n",
       "      <th>2000-07-17</th>\n",
       "      <td>95.437500</td>\n",
       "      <td>97.500000</td>\n",
       "      <td>92.750000</td>\n",
       "      <td>96.62500</td>\n",
       "      <td>3508100.0</td>\n",
       "      <td>74.269199</td>\n",
       "      <td>XLNX</td>\n",
       "    </tr>\n",
       "    <tr>\n",
       "      <th>2000-07-17</th>\n",
       "      <td>22.625000</td>\n",
       "      <td>22.750000</td>\n",
       "      <td>22.437500</td>\n",
       "      <td>22.56250</td>\n",
       "      <td>201600.0</td>\n",
       "      <td>13.486140</td>\n",
       "      <td>ES</td>\n",
       "    </tr>\n",
       "    <tr>\n",
       "      <th>2000-07-17</th>\n",
       "      <td>6.750002</td>\n",
       "      <td>6.937503</td>\n",
       "      <td>6.375000</td>\n",
       "      <td>6.50000</td>\n",
       "      <td>1235700.0</td>\n",
       "      <td>5.241649</td>\n",
       "      <td>CHK</td>\n",
       "    </tr>\n",
       "    <tr>\n",
       "      <th>2000-07-17</th>\n",
       "      <td>19.812501</td>\n",
       "      <td>20.187500</td>\n",
       "      <td>19.500001</td>\n",
       "      <td>20.18750</td>\n",
       "      <td>1434100.0</td>\n",
       "      <td>3.806147</td>\n",
       "      <td>NI</td>\n",
       "    </tr>\n",
       "    <tr>\n",
       "      <th>2000-07-17</th>\n",
       "      <td>30.500000</td>\n",
       "      <td>30.687500</td>\n",
       "      <td>30.000000</td>\n",
       "      <td>30.03125</td>\n",
       "      <td>254600.0</td>\n",
       "      <td>19.811830</td>\n",
       "      <td>SNA</td>\n",
       "    </tr>\n",
       "  </tbody>\n",
       "</table>\n",
       "</div>"
      ],
      "text/plain": [
       "                 open       high        low     close     volume   adjclose  \\\n",
       "date                                                                          \n",
       "2000-07-17  95.437500  97.500000  92.750000  96.62500  3508100.0  74.269199   \n",
       "2000-07-17  22.625000  22.750000  22.437500  22.56250   201600.0  13.486140   \n",
       "2000-07-17   6.750002   6.937503   6.375000   6.50000  1235700.0   5.241649   \n",
       "2000-07-17  19.812501  20.187500  19.500001  20.18750  1434100.0   3.806147   \n",
       "2000-07-17  30.500000  30.687500  30.000000  30.03125   254600.0  19.811830   \n",
       "\n",
       "           symbol  \n",
       "date               \n",
       "2000-07-17   XLNX  \n",
       "2000-07-17     ES  \n",
       "2000-07-17    CHK  \n",
       "2000-07-17     NI  \n",
       "2000-07-17    SNA  "
      ]
     },
     "execution_count": 27,
     "metadata": {},
     "output_type": "execute_result"
    }
   ],
   "source": [
    "stocks = pd.read_csv(\"/Data/stocks.csv\")\n",
    "stocks.index = pd.to_datetime(stocks.date)\n",
    "stocks.drop(columns=[\"date\"], inplace=True)\n",
    "stocks.head()"
   ]
  },
  {
   "cell_type": "code",
   "execution_count": 71,
   "metadata": {
    "scrolled": false
   },
   "outputs": [
    {
     "data": {
      "text/plain": [
       "<matplotlib.axes._subplots.AxesSubplot at 0x11b6680f0>"
      ]
     },
     "execution_count": 71,
     "metadata": {},
     "output_type": "execute_result"
    },
    {
     "data": {
      "image/png": "[encoded data removed]",
      "text/plain": [
       "<Figure size 432x288 with 1 Axes>"
      ]
     },
     "metadata": {},
     "output_type": "display_data"
    }
   ],
   "source": [
    "ge = stocks[stocks.symbol == \"GE\"].query(\"index > 2010\").adjclose\n",
    "ge.plot()"
   ]
  },
  {
   "cell_type": "code",
   "execution_count": 72,
   "metadata": {},
   "outputs": [
    {
     "data": {
      "text/plain": [
       "date\n",
       "2010-01-04    12.462550\n",
       "2010-01-05    12.527081\n",
       "2010-01-06    12.462550\n",
       "2010-01-07    13.107860\n",
       "2010-01-08    13.390183\n",
       "2010-01-11    13.519245\n",
       "2010-01-12    13.527312\n",
       "2010-01-13    13.575709\n",
       "2010-01-14    13.470847\n",
       "2010-01-15    13.261121\n",
       "Name: adjclose, dtype: float64"
      ]
     },
     "execution_count": 72,
     "metadata": {},
     "output_type": "execute_result"
    }
   ],
   "source": [
    "ge.head(10)"
   ]
  },
  {
   "cell_type": "code",
   "execution_count": 73,
   "metadata": {},
   "outputs": [
    {
     "data": {
      "text/plain": [
       "date\n",
       "2010-01-04    12.462550\n",
       "2010-01-05    12.527081\n",
       "2010-01-06    12.462550\n",
       "2010-01-07    13.107860\n",
       "2010-01-08    13.390183\n",
       "2010-01-09    13.390183\n",
       "2010-01-10    13.390183\n",
       "2010-01-11    13.519245\n",
       "2010-01-12    13.527312\n",
       "2010-01-13    13.575709\n",
       "Freq: D, Name: adjclose, dtype: float64"
      ]
     },
     "execution_count": 73,
     "metadata": {},
     "output_type": "execute_result"
    }
   ],
   "source": [
    "ge.resample(\"1D\").ffill().head(10)"
   ]
  },
  {
   "cell_type": "code",
   "execution_count": 74,
   "metadata": {},
   "outputs": [
    {
     "data": {
      "text/plain": [
       "date\n",
       "2010-01-04    12.462550\n",
       "2010-01-05    12.527081\n",
       "2010-01-06    12.462550\n",
       "2010-01-07    13.107860\n",
       "2010-01-08    13.390183\n",
       "2010-01-09    13.519245\n",
       "2010-01-10    13.519245\n",
       "2010-01-11    13.519245\n",
       "2010-01-12    13.527312\n",
       "2010-01-13    13.575709\n",
       "Freq: D, Name: adjclose, dtype: float64"
      ]
     },
     "execution_count": 74,
     "metadata": {},
     "output_type": "execute_result"
    }
   ],
   "source": [
    "ge.resample(\"1D\").bfill().head(10)"
   ]
  },
  {
   "cell_type": "code",
   "execution_count": 75,
   "metadata": {},
   "outputs": [
    {
     "data": {
      "text/plain": [
       "date\n",
       "2010-01-04    12.462550\n",
       "2010-01-05    12.527081\n",
       "2010-01-06    12.462550\n",
       "2010-01-07    13.107860\n",
       "2010-01-08    13.390183\n",
       "2010-01-09    13.433204\n",
       "2010-01-10    13.476224\n",
       "2010-01-11    13.519245\n",
       "2010-01-12    13.527312\n",
       "2010-01-13    13.575709\n",
       "Freq: D, Name: adjclose, dtype: float64"
      ]
     },
     "execution_count": 75,
     "metadata": {},
     "output_type": "execute_result"
    }
   ],
   "source": [
    "ge.resample(\"1D\").interpolate().head(10)"
   ]
  },
  {
   "cell_type": "code",
   "execution_count": 76,
   "metadata": {},
   "outputs": [],
   "source": [
    "ge = pd.DataFrame(ge)"
   ]
  },
  {
   "cell_type": "code",
   "execution_count": 77,
   "metadata": {},
   "outputs": [
    {
     "data": {
      "text/html": [
       "<div>\n",
       "<style scoped>\n",
       "    .dataframe tbody tr th:only-of-type {\n",
       "        vertical-align: middle;\n",
       "    }\n",
       "\n",
       "    .dataframe tbody tr th {\n",
       "        vertical-align: top;\n",
       "    }\n",
       "\n",
       "    .dataframe thead th {\n",
       "        text-align: right;\n",
       "    }\n",
       "</style>\n",
       "<table border=\"1\" class=\"dataframe\">\n",
       "  <thead>\n",
       "    <tr style=\"text-align: right;\">\n",
       "      <th></th>\n",
       "      <th>adjclose</th>\n",
       "      <th>rolling_mean</th>\n",
       "    </tr>\n",
       "    <tr>\n",
       "      <th>date</th>\n",
       "      <th></th>\n",
       "      <th></th>\n",
       "    </tr>\n",
       "  </thead>\n",
       "  <tbody>\n",
       "    <tr>\n",
       "      <th>2010-01-04</th>\n",
       "      <td>12.462550</td>\n",
       "      <td>NaN</td>\n",
       "    </tr>\n",
       "    <tr>\n",
       "      <th>2010-01-05</th>\n",
       "      <td>12.527081</td>\n",
       "      <td>NaN</td>\n",
       "    </tr>\n",
       "    <tr>\n",
       "      <th>2010-01-06</th>\n",
       "      <td>12.462550</td>\n",
       "      <td>12.484060</td>\n",
       "    </tr>\n",
       "    <tr>\n",
       "      <th>2010-01-07</th>\n",
       "      <td>13.107860</td>\n",
       "      <td>12.699164</td>\n",
       "    </tr>\n",
       "    <tr>\n",
       "      <th>2010-01-08</th>\n",
       "      <td>13.390183</td>\n",
       "      <td>12.986864</td>\n",
       "    </tr>\n",
       "    <tr>\n",
       "      <th>2010-01-11</th>\n",
       "      <td>13.519245</td>\n",
       "      <td>13.339096</td>\n",
       "    </tr>\n",
       "    <tr>\n",
       "      <th>2010-01-12</th>\n",
       "      <td>13.527312</td>\n",
       "      <td>13.478913</td>\n",
       "    </tr>\n",
       "    <tr>\n",
       "      <th>2010-01-13</th>\n",
       "      <td>13.575709</td>\n",
       "      <td>13.540755</td>\n",
       "    </tr>\n",
       "    <tr>\n",
       "      <th>2010-01-14</th>\n",
       "      <td>13.470847</td>\n",
       "      <td>13.524623</td>\n",
       "    </tr>\n",
       "    <tr>\n",
       "      <th>2010-01-15</th>\n",
       "      <td>13.261121</td>\n",
       "      <td>13.435892</td>\n",
       "    </tr>\n",
       "  </tbody>\n",
       "</table>\n",
       "</div>"
      ],
      "text/plain": [
       "             adjclose  rolling_mean\n",
       "date                               \n",
       "2010-01-04  12.462550           NaN\n",
       "2010-01-05  12.527081           NaN\n",
       "2010-01-06  12.462550     12.484060\n",
       "2010-01-07  13.107860     12.699164\n",
       "2010-01-08  13.390183     12.986864\n",
       "2010-01-11  13.519245     13.339096\n",
       "2010-01-12  13.527312     13.478913\n",
       "2010-01-13  13.575709     13.540755\n",
       "2010-01-14  13.470847     13.524623\n",
       "2010-01-15  13.261121     13.435892"
      ]
     },
     "execution_count": 77,
     "metadata": {},
     "output_type": "execute_result"
    }
   ],
   "source": [
    "ge[\"rolling_mean\"] = ge.rolling(3).mean()\n",
    "ge.head(10)"
   ]
  },
  {
   "cell_type": "code",
   "execution_count": 78,
   "metadata": {},
   "outputs": [
    {
     "data": {
      "text/plain": [
       "12.484060333333334"
      ]
     },
     "execution_count": 78,
     "metadata": {},
     "output_type": "execute_result"
    }
   ],
   "source": [
    "np.mean([12.462550,12.527081, 12.462550])"
   ]
  },
  {
   "cell_type": "code",
   "execution_count": 79,
   "metadata": {},
   "outputs": [
    {
     "data": {
      "text/html": [
       "<div>\n",
       "<style scoped>\n",
       "    .dataframe tbody tr th:only-of-type {\n",
       "        vertical-align: middle;\n",
       "    }\n",
       "\n",
       "    .dataframe tbody tr th {\n",
       "        vertical-align: top;\n",
       "    }\n",
       "\n",
       "    .dataframe thead th {\n",
       "        text-align: right;\n",
       "    }\n",
       "</style>\n",
       "<table border=\"1\" class=\"dataframe\">\n",
       "  <thead>\n",
       "    <tr style=\"text-align: right;\">\n",
       "      <th></th>\n",
       "      <th>adjclose</th>\n",
       "      <th>rolling_mean</th>\n",
       "    </tr>\n",
       "    <tr>\n",
       "      <th>date</th>\n",
       "      <th></th>\n",
       "      <th></th>\n",
       "    </tr>\n",
       "  </thead>\n",
       "  <tbody>\n",
       "    <tr>\n",
       "      <th>2010-01-04</th>\n",
       "      <td>12.462550</td>\n",
       "      <td>NaN</td>\n",
       "    </tr>\n",
       "    <tr>\n",
       "      <th>2010-01-05</th>\n",
       "      <td>12.527081</td>\n",
       "      <td>NaN</td>\n",
       "    </tr>\n",
       "    <tr>\n",
       "      <th>2010-01-06</th>\n",
       "      <td>12.462550</td>\n",
       "      <td>NaN</td>\n",
       "    </tr>\n",
       "    <tr>\n",
       "      <th>2010-01-07</th>\n",
       "      <td>13.107860</td>\n",
       "      <td>12.484060</td>\n",
       "    </tr>\n",
       "    <tr>\n",
       "      <th>2010-01-08</th>\n",
       "      <td>13.390183</td>\n",
       "      <td>12.699164</td>\n",
       "    </tr>\n",
       "    <tr>\n",
       "      <th>2010-01-11</th>\n",
       "      <td>13.519245</td>\n",
       "      <td>12.986864</td>\n",
       "    </tr>\n",
       "    <tr>\n",
       "      <th>2010-01-12</th>\n",
       "      <td>13.527312</td>\n",
       "      <td>13.339096</td>\n",
       "    </tr>\n",
       "    <tr>\n",
       "      <th>2010-01-13</th>\n",
       "      <td>13.575709</td>\n",
       "      <td>13.478913</td>\n",
       "    </tr>\n",
       "    <tr>\n",
       "      <th>2010-01-14</th>\n",
       "      <td>13.470847</td>\n",
       "      <td>13.540755</td>\n",
       "    </tr>\n",
       "    <tr>\n",
       "      <th>2010-01-15</th>\n",
       "      <td>13.261121</td>\n",
       "      <td>13.524623</td>\n",
       "    </tr>\n",
       "  </tbody>\n",
       "</table>\n",
       "</div>"
      ],
      "text/plain": [
       "             adjclose  rolling_mean\n",
       "date                               \n",
       "2010-01-04  12.462550           NaN\n",
       "2010-01-05  12.527081           NaN\n",
       "2010-01-06  12.462550           NaN\n",
       "2010-01-07  13.107860     12.484060\n",
       "2010-01-08  13.390183     12.699164\n",
       "2010-01-11  13.519245     12.986864\n",
       "2010-01-12  13.527312     13.339096\n",
       "2010-01-13  13.575709     13.478913\n",
       "2010-01-14  13.470847     13.540755\n",
       "2010-01-15  13.261121     13.524623"
      ]
     },
     "execution_count": 79,
     "metadata": {},
     "output_type": "execute_result"
    }
   ],
   "source": [
    "ge[\"rolling_mean\"] = ge.rolling(3).mean().shift(1)\n",
    "ge.head(10)"
   ]
  },
  {
   "cell_type": "code",
   "execution_count": 80,
   "metadata": {},
   "outputs": [
    {
     "data": {
      "text/plain": [
       "0.9961968604320676"
      ]
     },
     "execution_count": 80,
     "metadata": {},
     "output_type": "execute_result"
    }
   ],
   "source": [
    "ge1 = ge.dropna()\n",
    "metrics.r2_score(ge1.adjclose, ge1.rolling_mean)"
   ]
  },
  {
   "cell_type": "code",
   "execution_count": 81,
   "metadata": {},
   "outputs": [
    {
     "data": {
      "text/html": [
       "<div>\n",
       "<style scoped>\n",
       "    .dataframe tbody tr th:only-of-type {\n",
       "        vertical-align: middle;\n",
       "    }\n",
       "\n",
       "    .dataframe tbody tr th {\n",
       "        vertical-align: top;\n",
       "    }\n",
       "\n",
       "    .dataframe thead th {\n",
       "        text-align: right;\n",
       "    }\n",
       "</style>\n",
       "<table border=\"1\" class=\"dataframe\">\n",
       "  <thead>\n",
       "    <tr style=\"text-align: right;\">\n",
       "      <th></th>\n",
       "      <th>adjclose</th>\n",
       "      <th>rolling_mean</th>\n",
       "      <th>pct_change</th>\n",
       "      <th>pct_change_shift</th>\n",
       "    </tr>\n",
       "    <tr>\n",
       "      <th>date</th>\n",
       "      <th></th>\n",
       "      <th></th>\n",
       "      <th></th>\n",
       "      <th></th>\n",
       "    </tr>\n",
       "  </thead>\n",
       "  <tbody>\n",
       "    <tr>\n",
       "      <th>2010-01-04</th>\n",
       "      <td>12.462550</td>\n",
       "      <td>NaN</td>\n",
       "      <td>NaN</td>\n",
       "      <td>NaN</td>\n",
       "    </tr>\n",
       "    <tr>\n",
       "      <th>2010-01-05</th>\n",
       "      <td>12.527081</td>\n",
       "      <td>NaN</td>\n",
       "      <td>0.005178</td>\n",
       "      <td>NaN</td>\n",
       "    </tr>\n",
       "    <tr>\n",
       "      <th>2010-01-06</th>\n",
       "      <td>12.462550</td>\n",
       "      <td>NaN</td>\n",
       "      <td>-0.005151</td>\n",
       "      <td>0.005178</td>\n",
       "    </tr>\n",
       "    <tr>\n",
       "      <th>2010-01-07</th>\n",
       "      <td>13.107860</td>\n",
       "      <td>12.484060</td>\n",
       "      <td>0.051780</td>\n",
       "      <td>-0.005151</td>\n",
       "    </tr>\n",
       "    <tr>\n",
       "      <th>2010-01-08</th>\n",
       "      <td>13.390183</td>\n",
       "      <td>12.699164</td>\n",
       "      <td>0.021538</td>\n",
       "      <td>0.051780</td>\n",
       "    </tr>\n",
       "    <tr>\n",
       "      <th>2010-01-11</th>\n",
       "      <td>13.519245</td>\n",
       "      <td>12.986864</td>\n",
       "      <td>0.009639</td>\n",
       "      <td>0.021538</td>\n",
       "    </tr>\n",
       "    <tr>\n",
       "      <th>2010-01-12</th>\n",
       "      <td>13.527312</td>\n",
       "      <td>13.339096</td>\n",
       "      <td>0.000597</td>\n",
       "      <td>0.009639</td>\n",
       "    </tr>\n",
       "    <tr>\n",
       "      <th>2010-01-13</th>\n",
       "      <td>13.575709</td>\n",
       "      <td>13.478913</td>\n",
       "      <td>0.003578</td>\n",
       "      <td>0.000597</td>\n",
       "    </tr>\n",
       "    <tr>\n",
       "      <th>2010-01-14</th>\n",
       "      <td>13.470847</td>\n",
       "      <td>13.540755</td>\n",
       "      <td>-0.007724</td>\n",
       "      <td>0.003578</td>\n",
       "    </tr>\n",
       "    <tr>\n",
       "      <th>2010-01-15</th>\n",
       "      <td>13.261121</td>\n",
       "      <td>13.524623</td>\n",
       "      <td>-0.015569</td>\n",
       "      <td>-0.007724</td>\n",
       "    </tr>\n",
       "  </tbody>\n",
       "</table>\n",
       "</div>"
      ],
      "text/plain": [
       "             adjclose  rolling_mean  pct_change  pct_change_shift\n",
       "date                                                             \n",
       "2010-01-04  12.462550           NaN         NaN               NaN\n",
       "2010-01-05  12.527081           NaN    0.005178               NaN\n",
       "2010-01-06  12.462550           NaN   -0.005151          0.005178\n",
       "2010-01-07  13.107860     12.484060    0.051780         -0.005151\n",
       "2010-01-08  13.390183     12.699164    0.021538          0.051780\n",
       "2010-01-11  13.519245     12.986864    0.009639          0.021538\n",
       "2010-01-12  13.527312     13.339096    0.000597          0.009639\n",
       "2010-01-13  13.575709     13.478913    0.003578          0.000597\n",
       "2010-01-14  13.470847     13.540755   -0.007724          0.003578\n",
       "2010-01-15  13.261121     13.524623   -0.015569         -0.007724"
      ]
     },
     "execution_count": 81,
     "metadata": {},
     "output_type": "execute_result"
    }
   ],
   "source": [
    "ge[\"pct_change\"] = ge.adjclose.pct_change()\n",
    "ge[\"pct_change_shift\"] = ge.adjclose.pct_change().shift()\n",
    "ge.head(10)"
   ]
  },
  {
   "cell_type": "code",
   "execution_count": 82,
   "metadata": {},
   "outputs": [
    {
     "data": {
      "text/plain": [
       "0.005177993267830465"
      ]
     },
     "execution_count": 82,
     "metadata": {},
     "output_type": "execute_result"
    }
   ],
   "source": [
    "(12.527081 - 12.462550)/12.462550"
   ]
  },
  {
   "cell_type": "code",
   "execution_count": 84,
   "metadata": {},
   "outputs": [
    {
     "data": {
      "text/html": [
       "<div>\n",
       "<style scoped>\n",
       "    .dataframe tbody tr th:only-of-type {\n",
       "        vertical-align: middle;\n",
       "    }\n",
       "\n",
       "    .dataframe tbody tr th {\n",
       "        vertical-align: top;\n",
       "    }\n",
       "\n",
       "    .dataframe thead th {\n",
       "        text-align: right;\n",
       "    }\n",
       "</style>\n",
       "<table border=\"1\" class=\"dataframe\">\n",
       "  <thead>\n",
       "    <tr style=\"text-align: right;\">\n",
       "      <th></th>\n",
       "      <th>adjclose</th>\n",
       "      <th>rolling_mean</th>\n",
       "      <th>pct_change</th>\n",
       "      <th>pct_change_shift</th>\n",
       "      <th>diff1</th>\n",
       "    </tr>\n",
       "    <tr>\n",
       "      <th>date</th>\n",
       "      <th></th>\n",
       "      <th></th>\n",
       "      <th></th>\n",
       "      <th></th>\n",
       "      <th></th>\n",
       "    </tr>\n",
       "  </thead>\n",
       "  <tbody>\n",
       "    <tr>\n",
       "      <th>2010-01-04</th>\n",
       "      <td>12.462550</td>\n",
       "      <td>NaN</td>\n",
       "      <td>NaN</td>\n",
       "      <td>NaN</td>\n",
       "      <td>NaN</td>\n",
       "    </tr>\n",
       "    <tr>\n",
       "      <th>2010-01-05</th>\n",
       "      <td>12.527081</td>\n",
       "      <td>NaN</td>\n",
       "      <td>0.005178</td>\n",
       "      <td>NaN</td>\n",
       "      <td>0.064531</td>\n",
       "    </tr>\n",
       "    <tr>\n",
       "      <th>2010-01-06</th>\n",
       "      <td>12.462550</td>\n",
       "      <td>NaN</td>\n",
       "      <td>-0.005151</td>\n",
       "      <td>0.005178</td>\n",
       "      <td>-0.064531</td>\n",
       "    </tr>\n",
       "    <tr>\n",
       "      <th>2010-01-07</th>\n",
       "      <td>13.107860</td>\n",
       "      <td>12.484060</td>\n",
       "      <td>0.051780</td>\n",
       "      <td>-0.005151</td>\n",
       "      <td>0.645310</td>\n",
       "    </tr>\n",
       "    <tr>\n",
       "      <th>2010-01-08</th>\n",
       "      <td>13.390183</td>\n",
       "      <td>12.699164</td>\n",
       "      <td>0.021538</td>\n",
       "      <td>0.051780</td>\n",
       "      <td>0.282323</td>\n",
       "    </tr>\n",
       "  </tbody>\n",
       "</table>\n",
       "</div>"
      ],
      "text/plain": [
       "             adjclose  rolling_mean  pct_change  pct_change_shift     diff1\n",
       "date                                                                       \n",
       "2010-01-04  12.462550           NaN         NaN               NaN       NaN\n",
       "2010-01-05  12.527081           NaN    0.005178               NaN  0.064531\n",
       "2010-01-06  12.462550           NaN   -0.005151          0.005178 -0.064531\n",
       "2010-01-07  13.107860     12.484060    0.051780         -0.005151  0.645310\n",
       "2010-01-08  13.390183     12.699164    0.021538          0.051780  0.282323"
      ]
     },
     "execution_count": 84,
     "metadata": {},
     "output_type": "execute_result"
    }
   ],
   "source": [
    "ge[\"diff1\"] = ge.adjclose.diff(1)\n",
    "ge.head()"
   ]
  },
  {
   "cell_type": "code",
   "execution_count": 85,
   "metadata": {},
   "outputs": [
    {
     "data": {
      "text/plain": [
       "<matplotlib.axes._subplots.AxesSubplot at 0x11b6b8da0>"
      ]
     },
     "execution_count": 85,
     "metadata": {},
     "output_type": "execute_result"
    },
    {
     "data": {
      "image/png": "[encoded data removed]",
      "text/plain": [
       "<Figure size 432x288 with 1 Axes>"
      ]
     },
     "metadata": {},
     "output_type": "display_data"
    }
   ],
   "source": [
    "ge.diff1.plot()"
   ]
  },
  {
   "cell_type": "code",
   "execution_count": 86,
   "metadata": {},
   "outputs": [
    {
     "data": {
      "text/html": [
       "<div>\n",
       "<style scoped>\n",
       "    .dataframe tbody tr th:only-of-type {\n",
       "        vertical-align: middle;\n",
       "    }\n",
       "\n",
       "    .dataframe tbody tr th {\n",
       "        vertical-align: top;\n",
       "    }\n",
       "\n",
       "    .dataframe thead th {\n",
       "        text-align: right;\n",
       "    }\n",
       "</style>\n",
       "<table border=\"1\" class=\"dataframe\">\n",
       "  <thead>\n",
       "    <tr style=\"text-align: right;\">\n",
       "      <th></th>\n",
       "      <th>adjclose</th>\n",
       "      <th>rolling_mean</th>\n",
       "      <th>pct_change</th>\n",
       "      <th>pct_change_shift</th>\n",
       "      <th>diff1</th>\n",
       "      <th>e1</th>\n",
       "      <th>e2</th>\n",
       "      <th>e3</th>\n",
       "    </tr>\n",
       "    <tr>\n",
       "      <th>date</th>\n",
       "      <th></th>\n",
       "      <th></th>\n",
       "      <th></th>\n",
       "      <th></th>\n",
       "      <th></th>\n",
       "      <th></th>\n",
       "      <th></th>\n",
       "      <th></th>\n",
       "    </tr>\n",
       "  </thead>\n",
       "  <tbody>\n",
       "    <tr>\n",
       "      <th>2010-01-04</th>\n",
       "      <td>12.462550</td>\n",
       "      <td>NaN</td>\n",
       "      <td>NaN</td>\n",
       "      <td>NaN</td>\n",
       "      <td>NaN</td>\n",
       "      <td>NaN</td>\n",
       "      <td>NaN</td>\n",
       "      <td>NaN</td>\n",
       "    </tr>\n",
       "    <tr>\n",
       "      <th>2010-01-05</th>\n",
       "      <td>12.527081</td>\n",
       "      <td>NaN</td>\n",
       "      <td>0.005178</td>\n",
       "      <td>NaN</td>\n",
       "      <td>0.064531</td>\n",
       "      <td>NaN</td>\n",
       "      <td>NaN</td>\n",
       "      <td>NaN</td>\n",
       "    </tr>\n",
       "    <tr>\n",
       "      <th>2010-01-06</th>\n",
       "      <td>12.462550</td>\n",
       "      <td>NaN</td>\n",
       "      <td>-0.005151</td>\n",
       "      <td>0.005178</td>\n",
       "      <td>-0.064531</td>\n",
       "      <td>0.064531</td>\n",
       "      <td>NaN</td>\n",
       "      <td>NaN</td>\n",
       "    </tr>\n",
       "    <tr>\n",
       "      <th>2010-01-07</th>\n",
       "      <td>13.107860</td>\n",
       "      <td>12.484060</td>\n",
       "      <td>0.051780</td>\n",
       "      <td>-0.005151</td>\n",
       "      <td>0.645310</td>\n",
       "      <td>-0.064531</td>\n",
       "      <td>0.064531</td>\n",
       "      <td>NaN</td>\n",
       "    </tr>\n",
       "    <tr>\n",
       "      <th>2010-01-08</th>\n",
       "      <td>13.390183</td>\n",
       "      <td>12.699164</td>\n",
       "      <td>0.021538</td>\n",
       "      <td>0.051780</td>\n",
       "      <td>0.282323</td>\n",
       "      <td>0.645310</td>\n",
       "      <td>-0.064531</td>\n",
       "      <td>0.064531</td>\n",
       "    </tr>\n",
       "    <tr>\n",
       "      <th>2010-01-11</th>\n",
       "      <td>13.519245</td>\n",
       "      <td>12.986864</td>\n",
       "      <td>0.009639</td>\n",
       "      <td>0.021538</td>\n",
       "      <td>0.129062</td>\n",
       "      <td>0.282323</td>\n",
       "      <td>0.645310</td>\n",
       "      <td>-0.064531</td>\n",
       "    </tr>\n",
       "    <tr>\n",
       "      <th>2010-01-12</th>\n",
       "      <td>13.527312</td>\n",
       "      <td>13.339096</td>\n",
       "      <td>0.000597</td>\n",
       "      <td>0.009639</td>\n",
       "      <td>0.008067</td>\n",
       "      <td>0.129062</td>\n",
       "      <td>0.282323</td>\n",
       "      <td>0.645310</td>\n",
       "    </tr>\n",
       "    <tr>\n",
       "      <th>2010-01-13</th>\n",
       "      <td>13.575709</td>\n",
       "      <td>13.478913</td>\n",
       "      <td>0.003578</td>\n",
       "      <td>0.000597</td>\n",
       "      <td>0.048397</td>\n",
       "      <td>0.008067</td>\n",
       "      <td>0.129062</td>\n",
       "      <td>0.282323</td>\n",
       "    </tr>\n",
       "    <tr>\n",
       "      <th>2010-01-14</th>\n",
       "      <td>13.470847</td>\n",
       "      <td>13.540755</td>\n",
       "      <td>-0.007724</td>\n",
       "      <td>0.003578</td>\n",
       "      <td>-0.104862</td>\n",
       "      <td>0.048397</td>\n",
       "      <td>0.008067</td>\n",
       "      <td>0.129062</td>\n",
       "    </tr>\n",
       "    <tr>\n",
       "      <th>2010-01-15</th>\n",
       "      <td>13.261121</td>\n",
       "      <td>13.524623</td>\n",
       "      <td>-0.015569</td>\n",
       "      <td>-0.007724</td>\n",
       "      <td>-0.209726</td>\n",
       "      <td>-0.104862</td>\n",
       "      <td>0.048397</td>\n",
       "      <td>0.008067</td>\n",
       "    </tr>\n",
       "  </tbody>\n",
       "</table>\n",
       "</div>"
      ],
      "text/plain": [
       "             adjclose  rolling_mean  pct_change  pct_change_shift     diff1  \\\n",
       "date                                                                          \n",
       "2010-01-04  12.462550           NaN         NaN               NaN       NaN   \n",
       "2010-01-05  12.527081           NaN    0.005178               NaN  0.064531   \n",
       "2010-01-06  12.462550           NaN   -0.005151          0.005178 -0.064531   \n",
       "2010-01-07  13.107860     12.484060    0.051780         -0.005151  0.645310   \n",
       "2010-01-08  13.390183     12.699164    0.021538          0.051780  0.282323   \n",
       "2010-01-11  13.519245     12.986864    0.009639          0.021538  0.129062   \n",
       "2010-01-12  13.527312     13.339096    0.000597          0.009639  0.008067   \n",
       "2010-01-13  13.575709     13.478913    0.003578          0.000597  0.048397   \n",
       "2010-01-14  13.470847     13.540755   -0.007724          0.003578 -0.104862   \n",
       "2010-01-15  13.261121     13.524623   -0.015569         -0.007724 -0.209726   \n",
       "\n",
       "                  e1        e2        e3  \n",
       "date                                      \n",
       "2010-01-04       NaN       NaN       NaN  \n",
       "2010-01-05       NaN       NaN       NaN  \n",
       "2010-01-06  0.064531       NaN       NaN  \n",
       "2010-01-07 -0.064531  0.064531       NaN  \n",
       "2010-01-08  0.645310 -0.064531  0.064531  \n",
       "2010-01-11  0.282323  0.645310 -0.064531  \n",
       "2010-01-12  0.129062  0.282323  0.645310  \n",
       "2010-01-13  0.008067  0.129062  0.282323  \n",
       "2010-01-14  0.048397  0.008067  0.129062  \n",
       "2010-01-15 -0.104862  0.048397  0.008067  "
      ]
     },
     "execution_count": 86,
     "metadata": {},
     "output_type": "execute_result"
    }
   ],
   "source": [
    "ge[\"e1\"] = ge.adjclose.diff().shift(1)\n",
    "ge[\"e2\"] = ge.adjclose.diff().shift(2)\n",
    "ge[\"e3\"] = ge.adjclose.diff().shift(3)\n",
    "ge.head(10)"
   ]
  },
  {
   "cell_type": "code",
   "execution_count": null,
   "metadata": {},
   "outputs": [],
   "source": []
  }
 ],
 "metadata": {
  "kernelspec": {
   "display_name": "Python 3",
   "language": "python",
   "name": "python3"
  },
  "language_info": {
   "codemirror_mode": {
    "name": "ipython",
    "version": 3
   },
   "file_extension": ".py",
   "mimetype": "text/x-python",
   "name": "python",
   "nbconvert_exporter": "python",
   "pygments_lexer": "ipython3",
   "version": "3.6.6"
  }
 },
 "nbformat": 4,
 "nbformat_minor": 2
}
